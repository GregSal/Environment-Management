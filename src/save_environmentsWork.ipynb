{
 "cells": [
  {
   "cell_type": "code",
   "execution_count": null,
   "id": "43afd087",
   "metadata": {},
   "outputs": [],
   "source": [
    "from typing import Union, List\n",
    "\n",
    "import re\n",
    "import json\n",
    "import subprocess\n",
    "from pathlib import Path\n",
    "\n",
    "import pandas as pd\n",
    "import xlwings as xw\n"
   ]
  },
  {
   "cell_type": "code",
   "execution_count": 2,
   "id": "279aa8a8",
   "metadata": {},
   "outputs": [],
   "source": [
    "class ProjectException(Exception):\n",
    "    '''Base Exception for projects module.'''\n",
    "    pass\n",
    "\n",
    "\n",
    "class AnacondaException(ProjectException):\n",
    "    '''Errors related to `conda` calls.'''\n",
    "    pass\n"
   ]
  },
  {
   "cell_type": "markdown",
   "id": "30065565",
   "metadata": {},
   "source": [
    "## Utility Functions"
   ]
  },
  {
   "cell_type": "markdown",
   "id": "8f8ef1a2",
   "metadata": {},
   "source": [
    "### Console command processing"
   ]
  },
  {
   "cell_type": "code",
   "execution_count": 3,
   "id": "407b8e96",
   "metadata": {},
   "outputs": [],
   "source": [
    "def error_check(output: subprocess.CompletedProcess, error_type: Exception,\n",
    "                error_msg: str):\n",
    "    '''Check for errors in subprocess output.\n",
    "\n",
    "    if a `CalledProcessError` error occured raise the error, with the\n",
    "    error_msg text.\n",
    "    Args:\n",
    "        output (subprocess.CompletedProcess): subprocess output to be tested.\n",
    "        error_type (Exception): The type of exception to raise if an error\n",
    "            occurs.\n",
    "        error_msg (str): The Error message to include if required.\n",
    "    Raises:\n",
    "        error_type: If subprocess generated an error.\n",
    "    '''\n",
    "    try:\n",
    "        output.check_returncode()\n",
    "    except subprocess.CalledProcessError as err:\n",
    "        msg = '\\n'.join([error_msg, output.stderr.decode()])\n",
    "        raise AnacondaException(msg) from err\n"
   ]
  },
  {
   "cell_type": "code",
   "execution_count": null,
   "id": "ea556c17",
   "metadata": {},
   "outputs": [],
   "source": [
    "def console_command(cmd: Union[str, List[str]], error_type: Exception,\n",
    "                    error_msg: str) -> str:\n",
    "    '''Run a system console command.\n",
    "\n",
    "    Run the command. Check for errors and raise the appropriate error if\n",
    "    necessary.\n",
    "    If no error, return the output from the result of running the console\n",
    "    command.\n",
    "\n",
    "    Args:\n",
    "        cmd (str or list): The console command to execute.\n",
    "        error_type (Exception): The type of exception to raise if an error\n",
    "            occurs.\n",
    "        error_msg (str): The Error message to include if required.\n",
    "\n",
    "    Returns:\n",
    "        str: The log output from running the console command.\n",
    "    '''\n",
    "    if isinstance(cmd, str):\n",
    "        cmd_list = cmd.split(' ')\n",
    "    else:\n",
    "        cmd_list = cmd\n",
    "    output = subprocess.run(cmd_list, shell=True, capture_output=True)\n",
    "    # check for errors\n",
    "    error_check(output, error_type, error_msg)\n",
    "    cmd_log = output.stdout.decode()\n",
    "    return cmd_log\n"
   ]
  },
  {
   "cell_type": "code",
   "execution_count": 5,
   "id": "929e5718",
   "metadata": {},
   "outputs": [],
   "source": [
    "def save_env_specs(env_name: str, env_folder: Path):\n",
    "    '''Store *spec* and *.yml* for the environment.\n",
    "\n",
    "    Args:\n",
    "        new_env (str): Name of Conda environment.\n",
    "        env_folder (str): Path to the project's environment folder.\n",
    "    '''\n",
    "    env_dict = list_environments()\n",
    "    env_path = env_dict[env_name]\n",
    "\n",
    "    # Save spec file\n",
    "    spec_file = env_folder / f'{env_name}_specfile.txt'\n",
    "    save_spec_cmd = ['conda', 'list', '--explicit', '-p', env_path]\n",
    "    output = subprocess.run(save_spec_cmd, capture_output=True, shell=True)\n",
    "    error_check(output, AnacondaException,\n",
    "                f'Error saving {env_name} environment spec file.')\n",
    "    with open(spec_file, 'w') as f:\n",
    "        f.write(output.stdout.decode())\n",
    "\n",
    "    # Save full yml file\n",
    "    full_yml_file = env_folder / f'{env_name}_FULL.yml'\n",
    "    save_full_yml_cmd = ['conda', 'env', 'export', '-p', env_path, '--file', str(full_yml_file)]\n",
    "    output = subprocess.run(save_full_yml_cmd, capture_output=True, shell=True)\n",
    "    error_check(output, AnacondaException,\n",
    "                f'Error saving {env_name} full .yml file.')\n",
    "\n",
    "    # Save history json file\n",
    "    history_yml_file = env_folder / f'{env_name}.json'\n",
    "    save_yml_cmd = ['conda', 'env', 'export', '--from-history', '--json', '-p', env_path]\n",
    "    output = subprocess.run(save_yml_cmd, capture_output=True, shell=True)\n",
    "    error_check(output, AnacondaException,\n",
    "                f'Error saving {env_name} history .json to {str(history_yml_file)}.')\n",
    "    with open(history_yml_file, 'w') as f:\n",
    "        f.write(output.stdout.decode())\n"
   ]
  },
  {
   "cell_type": "code",
   "execution_count": 6,
   "id": "51c9b3f0",
   "metadata": {},
   "outputs": [],
   "source": [
    "def get_conda_config(conda_info_file: Path = None)->dict:\n",
    "    '''Get information about the current Conda environment.\n",
    "\n",
    "    If a file path is provided, save the json info to that file.\n",
    "\n",
    "    Args:\n",
    "        conda_info_file (Path, optional): The file path to save the json data\n",
    "            in. If None, do not save the data.  Defaults to None.\n",
    "\n",
    "    Returns:\n",
    "        dict: Conda environment parameters as nested dictionaries.\n",
    "    '''\n",
    "    conda_info_cmd = r'conda info --envs --json'\n",
    "    conda_info = console_command(conda_info_cmd, AnacondaException,\n",
    "                                 'Unable to get Anaconda info')\n",
    "\n",
    "    # If supplied, save the data to a .json file\n",
    "    if conda_info_file:\n",
    "        conda_info_file.write_text(conda_info)\n",
    "\n",
    "    # Convert the json data to a dictionary\n",
    "    conda_info_dict = json.loads(conda_info)\n",
    "    return conda_info_dict\n"
   ]
  },
  {
   "cell_type": "code",
   "execution_count": 7,
   "id": "605d4712",
   "metadata": {},
   "outputs": [],
   "source": [
    "def list_environments():\n",
    "    env_pattern = re.compile(\n",
    "        r'(?P<name>'  # Start of *name* group.\n",
    "        r'[a-z0-9_]'  # Name begins with letter, number or _.\n",
    "        r'.+?'        # All text until 2 or more spaces are encountered\n",
    "        r')'          # End of *name* group.\n",
    "        r'[ *]{2,}'   # 2 or more spaces or * in a row.\n",
    "        r'(?P<path>'  # Start of *path* group.\n",
    "        r'[A-Z]:'     # Drive letter, followed by a :.\n",
    "        r'[^\\r\\n]*'   # Remaining text before the end of the line.\n",
    "        r')',         # End of *path* group.\n",
    "        flags=re.IGNORECASE)\n",
    "\n",
    "    conda_envs = r'conda env list'\n",
    "    env_list = console_command(conda_envs, AnacondaException,\n",
    "                               'Unable to get Anaconda environments')\n",
    "    env_info = {name: path for name, path in env_pattern.findall(env_list)}\n",
    "    return env_info\n"
   ]
  },
  {
   "cell_type": "markdown",
   "id": "ec9e3d11",
   "metadata": {},
   "source": [
    "- Set the path to store the conda info in"
   ]
  },
  {
   "cell_type": "code",
   "execution_count": 8,
   "id": "9760211d",
   "metadata": {},
   "outputs": [],
   "source": [
    "env_storage_path = Path(r'C:\\temp\\envs')\n"
   ]
  },
  {
   "cell_type": "code",
   "execution_count": 9,
   "id": "afe2147d-b308-4535-be14-55489297dd10",
   "metadata": {},
   "outputs": [],
   "source": [
    "if not env_storage_path.exists():\n",
    "    env_storage_path.mkdir()\n"
   ]
  },
  {
   "cell_type": "markdown",
   "id": "9e52ecc2",
   "metadata": {},
   "source": [
    "- Get list of current Anaconda environments"
   ]
  },
  {
   "cell_type": "code",
   "execution_count": 10,
   "id": "e0340525",
   "metadata": {},
   "outputs": [],
   "source": [
    "env_dict = list_environments()\n",
    "env_names = list(env_dict.keys())\n"
   ]
  },
  {
   "cell_type": "markdown",
   "id": "d7cb6976",
   "metadata": {},
   "source": [
    "- Store environment info for each environment"
   ]
  },
  {
   "cell_type": "markdown",
   "id": "2f94daeb",
   "metadata": {},
   "source": [
    "**FIXME:  This does not work for environment with spaces in their names**"
   ]
  },
  {
   "cell_type": "code",
   "execution_count": 11,
   "id": "137a12d6",
   "metadata": {},
   "outputs": [
    {
     "name": "stdout",
     "output_type": "stream",
     "text": [
      "Storing environment for base\n",
      "Storing environment for DCF_Tracking\n",
      "Storing environment for DCF_Tracking\n",
      "Storing environment for DICOM_Burn\n",
      "Storing environment for DICOM_Burn\n",
      "Storing environment for DICOM_Repair\n",
      "Storing environment for DICOM_Repair\n",
      "Storing environment for DICOM_Repair_dev\n",
      "Storing environment for DICOM_Repair_dev\n",
      "Storing environment for DirScanCompile\n",
      "Storing environment for DirScanCompile\n",
      "Storing environment for DocumentTests\n",
      "Storing environment for DocumentTests\n",
      "Storing environment for EDW_QA\n",
      "Storing environment for EDW_QA\n",
      "Storing environment for Electrons\n",
      "Storing environment for Electrons\n",
      "Storing environment for Form Extraction\n",
      "Storing environment for Form Extraction\n",
      "Storing environment for FormExtraction\n",
      "Storing environment for FormExtraction\n",
      "Storing environment for Images\n",
      "Storing environment for Images\n",
      "Storing environment for Limbus\n",
      "Storing environment for Limbus\n",
      "Storing environment for Local_xlwings\n",
      "Storing environment for Local_xlwings\n",
      "Storing environment for McMedHack\n",
      "Storing environment for McMedHack\n",
      "Storing environment for PlanEvaluation\n",
      "Storing environment for PlanEvaluation\n",
      "Storing environment for PlanEvaluationInstall\n",
      "Storing environment for PlanEvaluationInstall\n",
      "Storing environment for Py_install\n",
      "Storing environment for Py_install\n",
      "Storing environment for RadiationHistory\n",
      "Storing environment for RadiationHistory\n",
      "Storing environment for SABR_Install\n",
      "Storing environment for SABR_Install\n",
      "Storing environment for Standard\n",
      "Storing environment for Standard\n",
      "Storing environment for StructureNameParsing\n",
      "Storing environment for StructureNameParsing\n",
      "Storing environment for StructureRelations\n",
      "Storing environment for StructureRelations\n",
      "Storing environment for Structures\n",
      "Storing environment for Structures\n",
      "Storing environment for VarianStandard\n",
      "Storing environment for VarianStandard\n",
      "Storing environment for VarianStandard3.11\n",
      "Storing environment for VarianStandard3.11\n",
      "Storing environment for VirtSim\n",
      "Storing environment for VirtSim\n",
      "Storing environment for plan_check_tools\n",
      "Storing environment for plan_check_tools\n",
      "Storing environment for plan_check_tools_12\n",
      "Storing environment for plan_check_tools_12\n",
      "Storing environment for sectionaryDev\n",
      "Storing environment for sectionaryDev\n",
      "Storing environment for variandb_relations\n",
      "Storing environment for variandb_relations\n",
      "Storing environment for work_time_usage\n",
      "Storing environment for work_time_usage\n",
      "Storing environment for xlwings_server\n",
      "Storing environment for xlwings_server\n"
     ]
    }
   ],
   "source": [
    "for this_env in env_names:\n",
    "    print(f'Storing environment for {this_env}')\n",
    "    try:\n",
    "        save_env_specs(this_env, env_storage_path)\n",
    "    except AnacondaException:\n",
    "        print(f'Unable to store environment for {this_env}')\n"
   ]
  },
  {
   "cell_type": "markdown",
   "id": "b1381728",
   "metadata": {},
   "source": [
    "- Manual mode for environments with spaces"
   ]
  },
  {
   "cell_type": "raw",
   "id": "b5b664ee-f8a4-4464-8ebc-d00f9c8dfd64",
   "metadata": {
    "tags": [],
    "vscode": {
     "languageId": "raw"
    }
   },
   "source": [
    "env_name = 'Form Extraction'\n",
    "env_path = env_dict[env_name]\n",
    "spec_file = env_storage_path / f'{env_name}_specfile.txt'\n",
    "save_spec_cmd = ['conda', 'list', '--explicit', '-p', env_path, '>',\n",
    "                 str(spec_file)]\n",
    "\n",
    "output = subprocess.run(save_spec_cmd, shell=True, capture_output=True)\n",
    "# check for errors\n",
    "error_check(output, AnacondaException,\n",
    "            f'Error saving {env_name} environment spec file.')\n",
    "\n",
    "full_yml_file = env_storage_path / f'{env_name}_FULL.yml'\n",
    "save_full_yml_cmd = [f'conda', 'env', 'export', '-p', env_path, '--file',\n",
    "                     str(full_yml_file)]\n",
    "output = subprocess.run(save_full_yml_cmd, shell=True, capture_output=True)\n",
    "# check for errors\n",
    "error_check(output, AnacondaException,\n",
    "            f'Error saving {env_name} environment spec file.')\n",
    "\n",
    "history_yml_file = env_storage_path / f'{env_name}.json'\n",
    "save_yml_cmd = ['conda', 'env', 'export', '--from-history', '--json', '-p',\n",
    "                env_path, '>', str(history_yml_file)]\n",
    "output = subprocess.run(save_full_yml_cmd, shell=True, capture_output=True)\n",
    "# check for errors\n",
    "error_check(output, AnacondaException,\n",
    "            f'Error saving {env_name} environment spec file.')\n",
    "\n"
   ]
  },
  {
   "cell_type": "markdown",
   "id": "dead871e",
   "metadata": {},
   "source": [
    "- Save table with environments and their paths"
   ]
  },
  {
   "cell_type": "code",
   "execution_count": 15,
   "id": "c714bfef",
   "metadata": {},
   "outputs": [],
   "source": [
    "env_data = pd.DataFrame([env_dict]).T.reset_index()\n",
    "env_data.columns = ['Environment', 'Environment Path']\n",
    "\n",
    "env_table_file = env_storage_path / 'Conda Environments.xlsx'\n",
    "env_data.to_excel(env_table_file)\n"
   ]
  },
  {
   "cell_type": "markdown",
   "id": "b091ca47",
   "metadata": {},
   "source": [
    "- Save json file with conda configuration data"
   ]
  },
  {
   "cell_type": "code",
   "execution_count": 16,
   "id": "4c6d37f6",
   "metadata": {
    "tags": []
   },
   "outputs": [],
   "source": [
    "conda_info_file = env_storage_path / 'conda_info.json'\n",
    "conda_info = get_conda_config(conda_info_file)"
   ]
  }
 ],
 "metadata": {
  "kernelspec": {
   "display_name": "base",
   "language": "python",
   "name": "python3"
  },
  "language_info": {
   "codemirror_mode": {
    "name": "ipython",
    "version": 3
   },
   "file_extension": ".py",
   "mimetype": "text/x-python",
   "name": "python",
   "nbconvert_exporter": "python",
   "pygments_lexer": "ipython3",
   "version": "3.8.18"
  }
 },
 "nbformat": 4,
 "nbformat_minor": 5
}
