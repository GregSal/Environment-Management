{
 "cells": [
  {
   "cell_type": "code",
   "execution_count": 1,
   "metadata": {},
   "outputs": [],
   "source": [
    "from pathlib import Path\n",
    "import pandas as pd\n",
    "import xlwings as xw\n"
   ]
  },
  {
   "cell_type": "code",
   "execution_count": 2,
   "metadata": {},
   "outputs": [],
   "source": [
    "def set_file_root(data_column: pd.Series, base_path: Path) -> pd.DataFrame:\n",
    "    cleaned_data = data_column.str.replace('W:', 'w:')\n",
    "    cleaned_data = cleaned_data.str.replace(r'\\\\dkphysicspv1\\e$\\Gregs_Work', \n",
    "                                            'w:', regex=False)\n",
    "    cleaned_data = cleaned_data.str.replace(str(base_path), '.', regex=False)\n",
    "    cleaned_data = cleaned_data.str.strip('\\\\')\n",
    "    cleaned_data.name = 'Path'\n",
    "    project_folder = cleaned_data.str.split('\\\\', 2, expand=True).iloc[:,1]\n",
    "    project_folder.fillna(base_path.name, inplace=True)\n",
    "    project_folder[project_folder.str.len() == 0] = base_path.name\n",
    "    project_folder.name = 'ProjectFolder'\n",
    "    path_data = pd.concat([cleaned_data, project_folder], axis='columns')\n",
    "    return path_data"
   ]
  },
  {
   "cell_type": "code",
   "execution_count": 3,
   "metadata": {},
   "outputs": [],
   "source": [
    "base_path = Path.cwd().parent"
   ]
  },
  {
   "cell_type": "code",
   "execution_count": 4,
   "metadata": {},
   "outputs": [],
   "source": [
    "data_file = base_path / 'Environment' / 'plan_check_env_analysis.xlsx'\n",
    "workbook = xw.Book(data_file)"
   ]
  },
  {
   "cell_type": "code",
   "execution_count": 5,
   "metadata": {},
   "outputs": [],
   "source": [
    "files_sheet = workbook.sheets['WorkspaceContents'].activate()\n",
    "file_data = xw.load(index=False)\n",
    "path_data = set_file_root(file_data.Location, base_path)\n",
    "file_data = pd.concat([file_data, path_data], axis='columns')\n",
    "\n",
    "file_parts = file_data.Name.str.rsplit('.', 1, expand=True)\n",
    "file_data['ext'] = file_parts.iloc[:,1]\n",
    "file_data['Module'] = file_parts.iloc[:,0]\n",
    "python_files = file_data[file_data.ext == 'py']\n",
    "\n",
    "\n",
    "python_files = python_files.rename(columns={'Name': 'FileName'})\n",
    "selected_columns = ['Module', 'FileName', 'ProjectFolder', \n",
    "                    'Modified Date', 'Path']\n",
    "python_files = python_files[selected_columns]"
   ]
  },
  {
   "cell_type": "code",
   "execution_count": 6,
   "metadata": {},
   "outputs": [],
   "source": [
    "import_sheet = workbook.sheets['Imports Table'].activate()\n",
    "import_data = xw.load(index=False)\n",
    "\n",
    "path_data = set_file_root(import_data.Folder, base_path)\n",
    "import_data = pd.concat([import_data, path_data], axis='columns')\n",
    "import_data.rename(inplace=True, columns={\n",
    "    'File': 'PythonCallingFile',\n",
    "    'ProjectFolder': 'PythonCallingProject',\n",
    "    'Import Module': 'ImportedModule',\n",
    "    'Import Functions': 'ImportedFunctions'\n",
    "    })\n",
    "\n",
    "selected_columns = ['PythonCallingFile', 'PythonCallingProject', 'Path', \n",
    "                    'ImportedModule', 'ImportedFunctions']\n",
    "import_data = import_data[selected_columns]\n"
   ]
  },
  {
   "cell_type": "code",
   "execution_count": 7,
   "metadata": {},
   "outputs": [],
   "source": [
    "old_files = import_data.Path.str.contains('Old files', regex=False)\n",
    "import_data = import_data[~old_files]\n",
    "\n",
    "checkpoint_files = import_data.Path.str.contains('checkpoints', regex=False)\n",
    "import_data = import_data[~checkpoint_files]\n",
    "\n",
    "old_files = import_data.Path.str.contains('old code', regex=False)\n",
    "import_data = import_data[~old_files]"
   ]
  },
  {
   "cell_type": "code",
   "execution_count": 8,
   "metadata": {},
   "outputs": [],
   "source": [
    "import_ref = import_data.merge(python_files, how='left', \n",
    "                               left_on=['PythonCallingFile', 'Path'], \n",
    "                               right_on=['FileName', 'Path'], \n",
    "                               suffixes=('_import', '_file'))"
   ]
  },
  {
   "cell_type": "code",
   "execution_count": 9,
   "metadata": {},
   "outputs": [
    {
     "data": {
      "text/plain": [
       "Index(['PythonCallingFile', 'PythonCallingProject', 'Path', 'ImportedModule',\n",
       "       'ImportedFunctions', 'Module', 'FileName', 'ProjectFolder',\n",
       "       'Modified Date'],\n",
       "      dtype='object')"
      ]
     },
     "execution_count": 9,
     "metadata": {},
     "output_type": "execute_result"
    }
   ],
   "source": [
    "import_ref.columns"
   ]
  },
  {
   "cell_type": "code",
   "execution_count": 10,
   "metadata": {},
   "outputs": [
    {
     "data": {
      "text/plain": [
       "Index(['Module', 'FileName', 'ProjectFolder', 'Modified Date', 'Path'], dtype='object')"
      ]
     },
     "execution_count": 10,
     "metadata": {},
     "output_type": "execute_result"
    }
   ],
   "source": [
    "python_files.columns"
   ]
  },
  {
   "cell_type": "code",
   "execution_count": 11,
   "metadata": {},
   "outputs": [],
   "source": [
    "module_ref = import_ref.merge(python_files, how='left', \n",
    "                               left_on=['ImportedModule', 'PythonCallingProject'], \n",
    "                               right_on=['Module', 'ProjectFolder'], \n",
    "                               suffixes=('_calling_file', '_imported_module'))"
   ]
  },
  {
   "cell_type": "code",
   "execution_count": 12,
   "metadata": {},
   "outputs": [
    {
     "data": {
      "text/plain": [
       "Index(['PythonCallingFile', 'PythonCallingProject', 'Path_calling_file',\n",
       "       'ImportedModule', 'ImportedFunctions', 'Module_calling_file',\n",
       "       'FileName_calling_file', 'ProjectFolder_calling_file',\n",
       "       'Modified Date_calling_file', 'Module_imported_module',\n",
       "       'FileName_imported_module', 'ProjectFolder_imported_module',\n",
       "       'Modified Date_imported_module', 'Path_imported_module'],\n",
       "      dtype='object')"
      ]
     },
     "execution_count": 12,
     "metadata": {},
     "output_type": "execute_result"
    }
   ],
   "source": [
    "module_ref.columns"
   ]
  },
  {
   "cell_type": "code",
   "execution_count": 13,
   "metadata": {},
   "outputs": [],
   "source": [
    "selected_columns = ['PythonCallingFile', 'PythonCallingProject', \n",
    "                    'Path_calling_file','Modified Date_calling_file', \n",
    "                    'ImportedModule', 'FileName_imported_module', \n",
    "                    'ProjectFolder_imported_module', 'Path_imported_module', \n",
    "                    'Modified Date_imported_module']"
   ]
  },
  {
   "cell_type": "code",
   "execution_count": 14,
   "metadata": {},
   "outputs": [],
   "source": [
    "ref_sheet = workbook.sheets.add('Import Reference')\n",
    "xw.view(import_ref, sheet=ref_sheet)\n",
    "\n",
    "ref_sheet = workbook.sheets.add('Module Reference')\n",
    "xw.view(module_ref[selected_columns], sheet=ref_sheet)"
   ]
  }
 ],
 "metadata": {
  "interpreter": {
   "hash": "a30f5e2c49662f314192d0e201872a1dbcb3d91160a663a8c1d9da336b76d927"
  },
  "kernelspec": {
   "display_name": "Python 3.9.7 ('plan_check_tools')",
   "language": "python",
   "name": "python3"
  },
  "language_info": {
   "codemirror_mode": {
    "name": "ipython",
    "version": 3
   },
   "file_extension": ".py",
   "mimetype": "text/x-python",
   "name": "python",
   "nbconvert_exporter": "python",
   "pygments_lexer": "ipython3",
   "version": "3.9.7"
  },
  "orig_nbformat": 4
 },
 "nbformat": 4,
 "nbformat_minor": 2
}
