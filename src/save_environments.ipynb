{
 "cells": [
  {
   "cell_type": "code",
   "execution_count": 1,
   "id": "43afd087",
   "metadata": {},
   "outputs": [],
   "source": [
    "import re\n",
    "from pathlib import Path"
   ]
  },
  {
   "cell_type": "code",
   "execution_count": 2,
   "id": "9760211d",
   "metadata": {},
   "outputs": [],
   "source": [
    "env_storage_path = Path(r'C:\\temp\\envs')"
   ]
  },
  {
   "cell_type": "code",
   "execution_count": 9,
   "id": "afe2147d-b308-4535-be14-55489297dd10",
   "metadata": {},
   "outputs": [],
   "source": [
    "if not env_storage_path.exists():\n",
    "    env_storage_path.mkdir()"
   ]
  },
  {
   "cell_type": "markdown",
   "id": "9e52ecc2",
   "metadata": {},
   "source": [
    "- Get list of current Anaconda environments"
   ]
  },
  {
   "cell_type": "code",
   "execution_count": 3,
   "id": "98aba568",
   "metadata": {},
   "outputs": [],
   "source": [
    "env_str = !conda env list"
   ]
  },
  {
   "cell_type": "markdown",
   "id": "2d2f5f6c",
   "metadata": {},
   "source": [
    "- Remove directory path from environment name.\n",
    "\n",
    "**Note:** This does not work for environments with spaces in the name."
   ]
  },
  {
   "cell_type": "code",
   "execution_count": 4,
   "id": "707336c1",
   "metadata": {},
   "outputs": [],
   "source": [
    "env_names = [name.split(' ',1)[0] for name in env_str]"
   ]
  },
  {
   "cell_type": "markdown",
   "id": "9bdd85b8",
   "metadata": {},
   "source": [
    "- Remove list items that do not start with a letter\n",
    "(This gets rid of comments and blank names.)"
   ]
  },
  {
   "cell_type": "code",
   "execution_count": 5,
   "id": "30549216",
   "metadata": {},
   "outputs": [],
   "source": [
    "starts_with_letter = re.compile(r'^[a-z]', flags=re.IGNORECASE)\n",
    "env_names = [name for name in env_names if starts_with_letter.match(name) ]"
   ]
  },
  {
   "cell_type": "markdown",
   "id": "d7cb6976",
   "metadata": {},
   "source": [
    "- Store environment info for each environment"
   ]
  },
  {
   "cell_type": "code",
   "execution_count": 10,
   "id": "4ddc6dfc",
   "metadata": {},
   "outputs": [
    {
     "name": "stdout",
     "output_type": "stream",
     "text": [
      "Storing environment for base\n",
      "Storing environment for Graphs\n",
      "Storing environment for Standard\n",
      "Storing environment for C2\n",
      "Storing environment for EDW_QA\n",
      "Storing environment for FormExtraction\n",
      "Storing environment for McMedHack\n",
      "Storing environment for TestPathDev\n",
      "Storing environment for sectionary\n",
      "Storing environment for sectionaryDev\n",
      "Storing environment for variandb_relations\n"
     ]
    }
   ],
   "source": [
    "for this_env in env_names:\n",
    "    print(f'Storing environment for {this_env}')\n",
    "    spec_file = env_storage_path / f'{this_env}_specfile.txt'\n",
    "    full_yml_file = env_storage_path / f'{this_env}_FULL.yml'\n",
    "    history_yml_file = env_storage_path / f'{this_env}.yml'\n",
    "    \n",
    "    !conda activate \"{this_env}\"\n",
    "\n",
    "    !conda list --explicit > \"{str(spec_file)}\"\n",
    "    !conda env export > \"{str(full_yml_file)}\"\n",
    "    !conda env export --from-history > \"{str(history_yml_file)}\"\n"
   ]
  },
  {
   "cell_type": "markdown",
   "id": "a335d15a",
   "metadata": {},
   "source": [
    "- Manual mode for environments with spaces"
   ]
  },
  {
   "cell_type": "code",
   "execution_count": 12,
   "id": "2b150e5d-f117-4d58-b24f-c97d4aa4f9e8",
   "metadata": {},
   "outputs": [
    {
     "data": {
      "text/plain": [
       "['base',\n",
       " 'Graphs',\n",
       " 'Standard',\n",
       " 'C2',\n",
       " 'EDW_QA',\n",
       " 'FormExtraction',\n",
       " 'McMedHack',\n",
       " 'TestPathDev',\n",
       " 'sectionary',\n",
       " 'sectionaryDev',\n",
       " 'variandb_relations']"
      ]
     },
     "execution_count": 12,
     "metadata": {},
     "output_type": "execute_result"
    }
   ],
   "source": [
    "env_names"
   ]
  },
  {
   "cell_type": "code",
   "execution_count": 17,
   "id": "f9ea3bf9",
   "metadata": {},
   "outputs": [
    {
     "name": "stdout",
     "output_type": "stream",
     "text": [
      "Storing environment for Form Extraction\n"
     ]
    }
   ],
   "source": [
    "this_env = 'Form Extraction'\n",
    "print(f'Storing environment for {this_env}')\n",
    "spec_file = env_storage_path / f'{this_env}_specfile.txt'\n",
    "full_yml_file = env_storage_path / f'{this_env}_FULL.yml'\n",
    "history_yml_file = env_storage_path / f'{this_env}.yml'\n",
    "\n",
    "!conda activate \"{this_env}\"\n",
    "\n",
    "!conda list --explicit > \"{str(spec_file)}\"\n",
    "!conda env export > \"{str(full_yml_file)}\"\n",
    "!conda env export --from-history > \"{str(history_yml_file)}\""
   ]
  },
  {
   "cell_type": "markdown",
   "id": "d580f3b4",
   "metadata": {},
   "source": [
    "## Creation command"
   ]
  },
  {
   "cell_type": "code",
   "execution_count": null,
   "id": "923ed59c-ac7a-41e0-a373-79af25752cbb",
   "metadata": {},
   "outputs": [],
   "source": [
    "install_envs = [\n",
    "    'Graphs',\n",
    "     'Standard',\n",
    "     'TestPathDev',\n",
    "     'sectionary',\n",
    "     'sectionaryDev',\n",
    "     'variandb_relations'\n",
    "    ]"
   ]
  },
  {
   "cell_type": "code",
   "execution_count": null,
   "id": "217a7c23-114e-4248-a1ca-9d823cae7f0a",
   "metadata": {},
   "outputs": [],
   "source": [
    "for make_env in install_envs:\n",
    "    print(f'Creating environment for {make_env}')\n",
    "    spec_file = env_storage_path / f'{make_env}_specfile.txt'\n",
    "    !conda create --name \"{make_env}\" --file \"{spec_file}\"\n",
    "    !conda activate \"{make_env}\"\n",
    "    !xlwings license update -k noncommercial\n",
    "    !xlwings addin install\n",
    "    !xlwings config create --force\n"
   ]
  },
  {
   "cell_type": "code",
   "execution_count": null,
   "id": "34f9687f",
   "metadata": {},
   "outputs": [],
   "source": [
    "#spec_file = env_storage_path / f'{this_env}_specfile.txt'\n",
    "#!conda create --name \"{this_env}\" --file \"{spec_file}\"\n"
   ]
  },
  {
   "cell_type": "markdown",
   "id": "d1e4eeb9",
   "metadata": {},
   "source": [
    "## xlwings Configure commands"
   ]
  },
  {
   "cell_type": "code",
   "execution_count": null,
   "id": "fd91c8ab",
   "metadata": {},
   "outputs": [],
   "source": [
    "#!conda activate \"{this_env}\"\n",
    "#!xlwings license update -k noncommercial\n",
    "#!xlwings addin install\n",
    "#!xlwings config create --force\n"
   ]
  },
  {
   "cell_type": "markdown",
   "id": "a7b95994",
   "metadata": {},
   "source": [
    "## Removing environment commands"
   ]
  },
  {
   "cell_type": "code",
   "execution_count": null,
   "id": "13940fb0",
   "metadata": {},
   "outputs": [],
   "source": [
    "#!conda activate {this_env}\n",
    "#!xlwings addin uninstall\n",
    "\n",
    "#!conda deactivate\n",
    "#!conda remove --name {this_env} --all\n"
   ]
  }
 ],
 "metadata": {
  "kernelspec": {
   "display_name": "Python 3 (ipykernel)",
   "language": "python",
   "name": "python3"
  },
  "language_info": {
   "codemirror_mode": {
    "name": "ipython",
    "version": 3
   },
   "file_extension": ".py",
   "mimetype": "text/x-python",
   "name": "python",
   "nbconvert_exporter": "python",
   "pygments_lexer": "ipython3",
   "version": "3.9.18"
  }
 },
 "nbformat": 4,
 "nbformat_minor": 5
}
