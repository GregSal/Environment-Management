{
 "cells": [
  {
   "cell_type": "markdown",
   "id": "b5ba7fec",
   "metadata": {},
   "source": [
    "# Save Environment Info"
   ]
  },
  {
   "cell_type": "code",
   "execution_count": 1,
   "id": "08277d4d",
   "metadata": {},
   "outputs": [],
   "source": [
    "# %load env_tools.py\n"
   ]
  },
  {
   "cell_type": "markdown",
   "id": "e3ed6edc",
   "metadata": {},
   "source": [
    "## Setup"
   ]
  },
  {
   "cell_type": "markdown",
   "id": "7a7396c7",
   "metadata": {},
   "source": [
    "### Imports\n"
   ]
  },
  {
   "cell_type": "code",
   "execution_count": 2,
   "id": "7fff3052",
   "metadata": {},
   "outputs": [],
   "source": [
    "from typing import Union, List, Tuple\n",
    "import re\n",
    "import json\n",
    "import subprocess\n",
    "from pathlib import Path\n",
    "from collections.abc import Iterable\n",
    "\n",
    "import pandas as pd\n"
   ]
  },
  {
   "cell_type": "markdown",
   "id": "10cf0755",
   "metadata": {},
   "source": [
    "### Initialize logging\n"
   ]
  },
  {
   "cell_type": "code",
   "execution_count": 3,
   "id": "0aa871fe",
   "metadata": {},
   "outputs": [],
   "source": [
    "import logging  # pylint: disable=wrong-import-position wrong-import-order\n",
    "logging.basicConfig(level=logging.INFO,\n",
    "                    format='%(levelname)-8s %(message)s')\n",
    "logger = logging.getLogger(__name__)\n",
    "#logger.setLevel(logging.DEBUG)\n",
    "logger.setLevel(logging.INFO)\n"
   ]
  },
  {
   "cell_type": "markdown",
   "id": "5e3f68ca",
   "metadata": {},
   "source": [
    "### Type Definitions\n"
   ]
  },
  {
   "cell_type": "code",
   "execution_count": 4,
   "id": "38a1c72f",
   "metadata": {},
   "outputs": [],
   "source": [
    "# CmdType is an operating system command either as a single string or as a\n",
    "# list of command parts.\n",
    "CmdType = Union[str, List[str]]\n",
    "\n",
    "# EnvRef is a reference to a Conda environment either by it's name or by the\n",
    "# path to the environment.\n",
    "EnvRef = Union[str, Path]\n",
    "\n",
    "# FullEnvRef is # FullEnvRef is a complete reference to a Conda environment\n",
    "# as a Tuple containing the name and the path to the environment.\n",
    "FullEnvRef = Tuple[str, Path]\n",
    "\n",
    "# FileNameOption is either a string file name or a boolean\n",
    "FileNameOption = Union[str, bool]\n"
   ]
  },
  {
   "cell_type": "markdown",
   "id": "2b180ef2",
   "metadata": {},
   "source": [
    "### Exception Definitions\n"
   ]
  },
  {
   "cell_type": "code",
   "execution_count": 5,
   "id": "83c35b1b",
   "metadata": {},
   "outputs": [],
   "source": [
    "class ProjectException(Exception):\n",
    "    '''Base Exception for projects module.'''\n",
    "\n",
    "\n",
    "class AnacondaException(ProjectException):\n",
    "    '''Errors related to `conda` calls.'''\n"
   ]
  },
  {
   "cell_type": "markdown",
   "id": "c97a818f",
   "metadata": {},
   "source": [
    "## Utility Functions\n"
   ]
  },
  {
   "cell_type": "code",
   "execution_count": 6,
   "id": "050d7053",
   "metadata": {},
   "outputs": [],
   "source": [
    "def true_iterable(variable)-> bool:\n",
    "    '''Indicate if the variable is a non-string type iterable.\n",
    "    Arguments:\n",
    "        variable {Iterable[Any]} -- The variable to test.\n",
    "    Returns:\n",
    "        True if variable is a non-string iterable.\n",
    "    '''\n",
    "    return not isinstance(variable, str) and isinstance(variable, Iterable)\n"
   ]
  },
  {
   "cell_type": "markdown",
   "id": "0bdca8eb",
   "metadata": {},
   "source": [
    "## Console command processing\n"
   ]
  },
  {
   "cell_type": "code",
   "execution_count": 7,
   "id": "6c3656a5",
   "metadata": {},
   "outputs": [],
   "source": [
    "def error_check(output: subprocess.CompletedProcess, error_type: Exception,\n",
    "                error_msg: str):\n",
    "    '''Check for errors in subprocess output.\n",
    "\n",
    "    if a `CalledProcessError` error occurred raise the error, with the\n",
    "    error_msg text.\n",
    "    Args:\n",
    "        output (subprocess.CompletedProcess): subprocess output to be tested.\n",
    "        error_type (Exception): The type of exception to raise if an error\n",
    "            occurs.\n",
    "        error_msg (str): The Error message to include if required.\n",
    "    Raises:\n",
    "        error_type: If subprocess generated an error.\n",
    "    '''\n",
    "    try:\n",
    "        output.check_returncode()\n",
    "    except subprocess.CalledProcessError as err:\n",
    "        msg = '\\n'.join([error_msg, output.stderr.decode()])\n",
    "        raise error_type(msg) from err\n"
   ]
  },
  {
   "cell_type": "code",
   "execution_count": 8,
   "id": "6c624c99",
   "metadata": {},
   "outputs": [],
   "source": [
    "def console_command(cmd_str: CmdType, error_type: Exception, error_msg: str)->str:\n",
    "    '''Run a system console command.\n",
    "\n",
    "    Run the command. Check for errors and raise the appropriate error if\n",
    "    necessary.\n",
    "    If no error, return the output from the result of running the console\n",
    "    command.\n",
    "    if cmd_str is a single string, it is split at each space.  If a given part\n",
    "    of a command contains spaces (for example as a file name), passing the\n",
    "    entire command as a single string will produce an error.  In this case pass\n",
    "    the command a list of strings.\n",
    "\n",
    "    Args:\n",
    "        cmd_str (CmdType): The operating system command to execute. Either a\n",
    "            single string containing the entire command, or a list of strings,\n",
    "            with each part of the command as a separate list item\n",
    "        error_type (Exception): The type of exception to raise if an error\n",
    "            occurs.\n",
    "        error_msg (str): The Error message to include if required.\n",
    "\n",
    "    Returns:\n",
    "        str: The log output from running the console command.\n",
    "    '''\n",
    "    if true_iterable(cmd_str):\n",
    "        cmd_list = list(cmd_str)\n",
    "    else:\n",
    "        cmd_list = cmd_str.split(' ')\n",
    "    output = subprocess.run(cmd_list, shell=True, capture_output=True,\n",
    "                            check=False)\n",
    "    # check for errors\n",
    "    error_check(output, error_type, error_msg)\n",
    "    cmd_log = output.stdout.decode()\n",
    "    return cmd_log\n"
   ]
  },
  {
   "cell_type": "markdown",
   "id": "d1702407",
   "metadata": {},
   "source": [
    "## Conda Environment Functions\n"
   ]
  },
  {
   "cell_type": "markdown",
   "id": "2ed075a1",
   "metadata": {},
   "source": [
    "#### Store *spec*, *.yml* and *.json* history files for an environment."
   ]
  },
  {
   "cell_type": "code",
   "execution_count": 9,
   "id": "ffca89b4",
   "metadata": {},
   "outputs": [],
   "source": [
    "def save_env_specs(env_ref: EnvRef, save_folder: Path,\n",
    "                   spec_file: FileNameOption = True,\n",
    "                   yml_file: FileNameOption = True,\n",
    "                   history_json: FileNameOption = True):\n",
    "    '''Store *spec*, *.yml* and *.json* history files for the environment.\n",
    "\n",
    "    Default spec file names will have the form: {env_name}_spec.txt'\n",
    "    Default .yml file names will have the form: {env_name}.yml'\n",
    "    Default .yml file names will have the form: {env_name}.yml'\n",
    "\n",
    "    Args:\n",
    "        env_ref (EnvRef): A reference to the Conda environment either by it's\n",
    "            name or by the path to the environment.\n",
    "        save_folder (str): Path to the folder where the information is to be\n",
    "            saved.\n",
    "        spec_file (FileNameOption): If a file name or True, save a conda\n",
    "            environment spec file.  If True, use the default file name pattern.\n",
    "            Default is True.\n",
    "        yml_file (FileNameOption): If a file name or True, export a conda\n",
    "            environment *.yml* file. If True, use the default file name pattern.\n",
    "            Default is True.\n",
    "        history_json (FileNameOption): If a file name or True, create a *.json*\n",
    "            file containing the packages explicitly installed to create the\n",
    "            environment.  If True, use the default file name pattern.\n",
    "            Default is True.\n",
    "    '''\n",
    "    # Allow for string path references\n",
    "    env_path = Path(env_ref)\n",
    "    if env_path.is_dir():\n",
    "        # env_ref is a path reference.\n",
    "        # Note: this can fail if env_name matches a folder name in Path.cwd().\n",
    "        env_name = env_path.name\n",
    "        env_cmd_ref = ['-p', env_path]\n",
    "    else:\n",
    "        # env_ref is an environment name\n",
    "        env_name = env_ref\n",
    "        env_cmd_ref = ['--name', env_name]\n",
    "\n",
    "    if spec_file:\n",
    "        # Generate a conda environment spec file\n",
    "        if not isinstance(spec_file, str):\n",
    "            # Use the default file pattern\n",
    "            spec_file = save_folder / f'{env_name}_spec.txt'\n",
    "        save_spec_cmd = ['conda', 'list', '--explicit']\n",
    "        save_spec_cmd += env_cmd_ref\n",
    "        save_spec_cmd += ['>', str(spec_file)]\n",
    "        console_command(save_spec_cmd, AnacondaException,\n",
    "                        f'Error saving {env_name} environment spec file.')\n",
    "\n",
    "    if yml_file:\n",
    "        # Generate a conda environment .yml file\n",
    "        if not isinstance(yml_file, str):\n",
    "            # Use the default file pattern\n",
    "            yml_file = save_folder / f'{env_name}.yml'\n",
    "        save_yml_cmd = ['conda', 'env', 'export']\n",
    "        save_yml_cmd += env_cmd_ref\n",
    "        save_yml_cmd += ['--file', str(yml_file)]\n",
    "        console_command(save_yml_cmd, AnacondaException,\n",
    "                        f'Error saving {env_name}.yml file.')\n",
    "\n",
    "    if history_json:\n",
    "        # Generate a conda environment history .json file\n",
    "        if not isinstance(history_json, str):\n",
    "            # Use the default file pattern\n",
    "            history_json = save_folder / f'{env_name}.json'\n",
    "        save_history_cmd = ['conda', 'env', 'export',\n",
    "                            '--from-history', '--json']\n",
    "        save_history_cmd += env_cmd_ref\n",
    "        save_history_cmd += ['>', str(history_json)]\n",
    "        console_command(save_history_cmd, AnacondaException,\n",
    "                        f'Error saving {env_name}.json file.')\n"
   ]
  },
  {
   "cell_type": "markdown",
   "id": "f8d03b9d",
   "metadata": {},
   "source": [
    "#### Get information about the current Conda environment."
   ]
  },
  {
   "cell_type": "code",
   "execution_count": 10,
   "id": "c6c5d46b",
   "metadata": {},
   "outputs": [],
   "source": [
    "\n",
    "def get_conda_info(info_storage_path: Path = None)->dict:\n",
    "    '''Get information about the current Conda environment.\n",
    "\n",
    "    If a file path is provided, save the json info to that file.\n",
    "\n",
    "    Args:\n",
    "        conda_info_file (Path, optional): The file path to save the json data\n",
    "            in. If None, do not save the data.  Defaults to None.\n",
    "\n",
    "    Returns:\n",
    "        dict: Conda environment parameters as nested dictionaries.\n",
    "    '''\n",
    "    conda_info_cmd = r'conda info --envs --json'\n",
    "    conda_info = console_command(conda_info_cmd, AnacondaException,\n",
    "                                 'Unable to get Anaconda info')\n",
    "\n",
    "    # If supplied, save the data to a .json file\n",
    "    if info_storage_path:\n",
    "        if info_storage_path.is_dir():\n",
    "            conda_info_file = info_storage_path / 'conda_info.json'\n",
    "        else:\n",
    "            conda_info_file = Path(info_storage_path)\n",
    "        conda_info_file.write_text(conda_info, encoding=\"utf-8\")\n",
    "\n",
    "    # Convert the json data to a dictionary\n",
    "    conda_info_dict = json.loads(conda_info)\n",
    "    return conda_info_dict\n"
   ]
  },
  {
   "cell_type": "markdown",
   "id": "365b15f3",
   "metadata": {},
   "source": [
    "#### Get list of current Anaconda environments"
   ]
  },
  {
   "cell_type": "code",
   "execution_count": 11,
   "id": "6c300fb1",
   "metadata": {},
   "outputs": [],
   "source": [
    "\n",
    "def list_environments()->List[FullEnvRef]:\n",
    "    '''Get list of current Anaconda environments.\n",
    "\n",
    "    Returns:\n",
    "        List[FullEnvRef]: A list containing the references to all current\n",
    "            Anaconda environments\n",
    "    '''\n",
    "    env_pattern = re.compile(\n",
    "        r'(?P<name>'  # Start of *name* group.\n",
    "        r'[a-z0-9_]'  # Name begins with letter, number or _.\n",
    "        r'.+?'        # All text until 2 or more spaces are encountered\n",
    "        r')'          # End of *name* group.\n",
    "        r'[ *]{2,}'   # 2 or more spaces or * in a row.\n",
    "        r'(?P<path>'  # Start of *path* group.\n",
    "        r'[A-Z]:'     # Drive letter, followed by a :.\n",
    "        r'[^\\r\\n]*'   # Remaining text before the end of the line.\n",
    "        r')',         # End of *path* group.\n",
    "        flags=re.IGNORECASE)\n",
    "\n",
    "    conda_envs = r'conda env list'\n",
    "    env_list = console_command(conda_envs, AnacondaException,\n",
    "                               'Unable to get Anaconda environments')\n",
    "    env_info = [(name, Path(path))\n",
    "                for name, path in env_pattern.findall(env_list)]\n",
    "    return env_info\n"
   ]
  },
  {
   "cell_type": "markdown",
   "id": "74cb3e3b",
   "metadata": {},
   "source": [
    "#### Store environment info for each environment"
   ]
  },
  {
   "cell_type": "code",
   "execution_count": 12,
   "id": "9ed06c8a",
   "metadata": {},
   "outputs": [],
   "source": [
    "\n",
    "def log_all_envs(env_storage_path: Path):\n",
    "    '''Store environment info for each environment.\n",
    "\n",
    "    Args:\n",
    "        env_storage_path (Path): Path to the folder where the information is to\n",
    "            be saved.\n",
    "    '''\n",
    "    env_list = list_environments()\n",
    "    if not env_storage_path.exists():\n",
    "        env_storage_path.mkdir()\n",
    "    for env_def in env_list:\n",
    "        env_name, env_path = env_def\n",
    "        logger.info('Storing environment for %s', env_name)\n",
    "        try:\n",
    "            save_env_specs(env_path, env_storage_path)\n",
    "        except AnacondaException:\n",
    "            logger.warning('Unable to store environment for %s', env_name)\n"
   ]
  },
  {
   "cell_type": "markdown",
   "id": "9359b176",
   "metadata": {},
   "source": [
    "#### Save table with environments and their paths"
   ]
  },
  {
   "cell_type": "code",
   "execution_count": 13,
   "id": "7a304d97",
   "metadata": {},
   "outputs": [],
   "source": [
    "def build_env_table(env_storage_path: Path = None)->pd.DataFrame:\n",
    "    '''Save a spreadsheet table with environments and their paths.\n",
    "\n",
    "    Args:\n",
    "        env_storage_path (Path, optional): The path where the table spreadsheet\n",
    "            will be stored. If a directory, the default file name:\n",
    "                'Conda Environments.xlsx'\n",
    "            is used. If None, do not save the table in a file. Defaults to None.\n",
    "\n",
    "    Returns:\n",
    "        pd.DataFrame: A table with environments and their paths.\n",
    "    '''\n",
    "    env_list = list_environments()\n",
    "    env_data = pd.DataFrame(env_list)\n",
    "    env_data.columns = ['Environment', 'Environment Path']\n",
    "    if env_storage_path:\n",
    "        if env_storage_path.is_dir():\n",
    "            env_table_file = env_storage_path / 'Conda Environments.xlsx'\n",
    "        env_data.to_excel(env_table_file)\n",
    "    return env_data\n"
   ]
  },
  {
   "cell_type": "markdown",
   "id": "91b8aa1e",
   "metadata": {},
   "source": [
    "# Run the Environment Storage Functions"
   ]
  },
  {
   "cell_type": "markdown",
   "id": "ec9e3d11",
   "metadata": {},
   "source": [
    "## Set the path to store the conda info in"
   ]
  },
  {
   "cell_type": "code",
   "execution_count": 14,
   "id": "9760211d",
   "metadata": {},
   "outputs": [],
   "source": [
    "env_storage_path = Path(r'C:\\temp\\envs')\n"
   ]
  },
  {
   "cell_type": "markdown",
   "id": "6f3ad334",
   "metadata": {},
   "source": [
    "## Store the Environment Info Files\n",
    "\n",
    "- Store spec and .yml for all environments\n",
    "- Save table with environments and their paths\n",
    "- Save json file with conda configuration data"
   ]
  },
  {
   "cell_type": "code",
   "execution_count": 15,
   "id": "a53e0730",
   "metadata": {},
   "outputs": [
    {
     "name": "stderr",
     "output_type": "stream",
     "text": [
      "INFO     Storing environment for base\n",
      "INFO     Storing environment for Graphs\n",
      "INFO     Storing environment for C2\n",
      "INFO     Storing environment for EDW_QA\n",
      "INFO     Storing environment for FormExtraction\n",
      "INFO     Storing environment for McMedHack\n",
      "INFO     Storing environment for Standard\n",
      "INFO     Storing environment for TestPathDev\n",
      "INFO     Storing environment for Todoist\n",
      "INFO     Storing environment for sectionary\n",
      "INFO     Storing environment for sectionaryDev\n",
      "INFO     Storing environment for variandb_relations\n"
     ]
    }
   ],
   "source": [
    "log_all_envs(env_storage_path)\n",
    "build_env_table(env_storage_path)\n",
    "conda_info = get_conda_info(env_storage_path)\n"
   ]
  }
 ],
 "metadata": {
  "kernelspec": {
   "display_name": "Python 3 (ipykernel)",
   "language": "python",
   "name": "python3"
  },
  "language_info": {
   "codemirror_mode": {
    "name": "ipython",
    "version": 3
   },
   "file_extension": ".py",
   "mimetype": "text/x-python",
   "name": "python",
   "nbconvert_exporter": "python",
   "pygments_lexer": "ipython3",
   "version": "3.9.18"
  }
 },
 "nbformat": 4,
 "nbformat_minor": 5
}
