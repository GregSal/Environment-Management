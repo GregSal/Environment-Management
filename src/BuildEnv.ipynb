{
 "cells": [
  {
   "cell_type": "markdown",
   "id": "90ec1172-770f-4818-a960-1096827384ff",
   "metadata": {},
   "source": [
    "# Generate a Project Template"
   ]
  },
  {
   "cell_type": "markdown",
   "id": "f3713a89",
   "metadata": {},
   "source": [
    "## TODO\n",
    "1. Identify minimum work required for basic functionality\n",
    "2. Move extraneous and non-functioning components to their own notebooks\n",
    "3. Put reference info in it's own notebook\n",
    "4. Do some simple validation tests"
   ]
  },
  {
   "cell_type": "markdown",
   "id": "0ebd7be0-ad2c-42d9-b7e7-0dc6940542ef",
   "metadata": {},
   "source": [
    "## Imports"
   ]
  },
  {
   "cell_type": "code",
   "execution_count": 8,
   "id": "87dd1769-5cad-4822-8276-4d854912f055",
   "metadata": {
    "tags": []
   },
   "outputs": [],
   "source": [
    "from typing import Dict, List\n",
    "\n",
    "import subprocess\n",
    "import json\n",
    "import re\n",
    "from pathlib import Path\n",
    "from dataclasses import dataclass, InitVar\n",
    "from pprint import pprint\n",
    "\n",
    "import pandas as pd\n"
   ]
  },
  {
   "cell_type": "code",
   "execution_count": 9,
   "id": "60ca5dd5",
   "metadata": {},
   "outputs": [],
   "source": [
    "from env_tools import AnacondaException, AbortedCmdException\n",
    "\n",
    "from env_tools import console_command, activate_environment\n",
    "\n",
    "from env_tools import save_env_specs, list_environments\n",
    "\n",
    "from env_tools import create_environment, remove_environment\n",
    "\n",
    "from env_tools import install_packages, pip_install_packages\n"
   ]
  },
  {
   "cell_type": "code",
   "execution_count": 12,
   "id": "d7064349",
   "metadata": {},
   "outputs": [],
   "source": [
    "# %% Initialize logging\n",
    "import logging  # pylint: disable=wrong-import-position wrong-import-order\n",
    "logging.basicConfig(level=logging.INFO,\n",
    "                    format='%(levelname)-8s %(message)s')\n",
    "logger = logging.getLogger(__name__)\n",
    "#logger.setLevel(logging.DEBUG)\n",
    "logger.setLevel(logging.INFO)\n"
   ]
  },
  {
   "cell_type": "markdown",
   "id": "5a7d67e7",
   "metadata": {},
   "source": [
    "## Project folder creation and search path management"
   ]
  },
  {
   "cell_type": "markdown",
   "id": "da43451c",
   "metadata": {},
   "source": [
    "- The top level project path should already exist and should be given the tag 'WORKSPACE'\n",
    "- `folder_path` must be specified for 'WORKSPACE'\n",
    "- An 'ENVIRONMENT' must be defined.\n",
    "- There shouldn't be duplicate tags.\n",
    "- If `tag` is not given `folder_name.upper()` will be used as the `tag`\n",
    "- When `folder_path` is given, the `folder_name` is ignored.  \n",
    "- If `folder_path` is not given, a folder with the name `folder_name` will be created directly under `base_path`.  \n",
    "- If `add_to_path` is True *(the default)*, the folder path will be added to the python search path.\n",
    "\n",
    "#### Example folders:\n",
    "\n",
    "| folder_name | folder_path                              | tag         | add_to_path |\n",
    "|-------------|------------------------------------------|-------------|-------------|\n",
    "| Todoist     | ~\\Python\\Projects\\ToDoIst Projects\\Turkey| WORKSPACE   | True        |\n",
    "| environment | None                                     | ENVIRONMENT | False       |\n",
    "| src         | None                                     | SOURCE      | True        |\n",
    "| Old files   | None                                     | IGNORE      | False       |\n",
    "| data        | None                                     | DATA        | True        |\n",
    "| reference   | None                                     | REFERENCE   | False       |\n",
    "| sectionary  | ..\\\\..\\sectionary package\\src'           | PACKAGE     | True        |"
   ]
  },
  {
   "cell_type": "markdown",
   "id": "97930160",
   "metadata": {},
   "source": [
    "### Class to hold information on folders related to the package."
   ]
  },
  {
   "cell_type": "code",
   "execution_count": null,
   "id": "5fe1e9f5",
   "metadata": {},
   "outputs": [],
   "source": [
    "@dataclass\n",
    "class FolderItem:\n",
    "    '''Manage folders related to the package.'''\n",
    "    folder_name: str\n",
    "    label: str = ''\n",
    "    add_to_path: bool = True\n",
    "    add_init: bool = False\n",
    "    folder_path: Path = None\n",
    "    base_path: InitVar[Path] = None\n",
    "\n",
    "    def __post_init__(self, base_path: Path):\n",
    "        '''Manage defaults for folder settings.\n",
    "\n",
    "        If not defined, base_path defaults to the current working\n",
    "        directory.  If it doesn't exists the folder is created.\n",
    "\n",
    "        If label is not given use uppercase of folder name for tag.\n",
    "        '''\n",
    "        if not base_path:\n",
    "            base_path = Path.cwd()\n",
    "        self.set_path(base_path)\n",
    "        self.set_tag()\n",
    "\n",
    "    def set_path(self, base_path: Path):\n",
    "        '''If missing, Set the folder_path to a subdirectory of base_path.\n",
    "\n",
    "        Generates a path to the subdirectory.\n",
    "        If it doesn't exist create it.\n",
    "\n",
    "        Args:\n",
    "            base_path (Path): The top folder\n",
    "                (parent to the subdirectory).\n",
    "        '''\n",
    "        if not self.folder_path:\n",
    "            sub_folder = base_path / self.folder_name\n",
    "            if not sub_folder.exists():\n",
    "                sub_folder.mkdir()\n",
    "            self.folder_path = sub_folder\n",
    "\n",
    "        if self.add_init:\n",
    "            init_path = self.folder_path / '__init__.py'\n",
    "            if not init_path.exists():\n",
    "                init_path.touch()\n",
    "\n",
    "    def set_tag(self):\n",
    "        '''If tag not given use uppercase of folder name.'''\n",
    "        if not self.label:\n",
    "            self.label = self.folder_name.upper()\n"
   ]
  },
  {
   "cell_type": "markdown",
   "id": "9bbe62bc",
   "metadata": {},
   "source": [
    "### Build Jupyter lab Batch file"
   ]
  },
  {
   "cell_type": "code",
   "execution_count": null,
   "id": "e4883e5b",
   "metadata": {},
   "outputs": [],
   "source": [
    "def build_jupyter_bat(env_name, env_folder, project_folder, project_drive):\n",
    "    jupter_batch_file = env_folder / f'JupyterLab ({env_name}).bat'\n",
    "    jupyter_batch = '\\n'.join([\n",
    "        r'CALL C:\\ProgramData\\Anaconda3\\Scripts\\activate.bat C:\\ProgramData\\Anaconda3',\n",
    "        f'CALL conda activate \"{env_name}\"',\n",
    "        f'CD \"{project_folder}\"',\n",
    "        f'{project_drive}',\n",
    "        'jupyter-lab'\n",
    "        ])\n",
    "    jupter_batch_file.write_text(jupyter_batch)\n"
   ]
  },
  {
   "cell_type": "markdown",
   "id": "c25d9bc9",
   "metadata": {},
   "source": [
    "### Build VS Code Batch file"
   ]
  },
  {
   "cell_type": "code",
   "execution_count": null,
   "id": "9a461e8a",
   "metadata": {},
   "outputs": [],
   "source": [
    "def build_vs_code_bat(env_name, env_folder, project_folder, project_drive):\n",
    "    vscode_batch_file = env_folder / f'VS Code ({env_name}).bat'\n",
    "    vscode_batch = '\\n'.join([\n",
    "        r'CALL C:\\ProgramData\\Anaconda3\\Scripts\\activate.bat C:\\ProgramData\\Anaconda3',\n",
    "        f'CALL conda activate \"{env_name}\"',\n",
    "        f'CD \"{project_folder}\"',\n",
    "        f'{project_drive}',\n",
    "        f'code {env_name}.code-workspace'\n",
    "        ])\n",
    "    vscode_batch_file.write_text(vscode_batch)\n"
   ]
  },
  {
   "cell_type": "markdown",
   "id": "ab3f4a30",
   "metadata": {},
   "source": [
    "## Project Parameters"
   ]
  },
  {
   "cell_type": "markdown",
   "id": "e727b238",
   "metadata": {},
   "source": [
    "### Primary project path"
   ]
  },
  {
   "cell_type": "code",
   "execution_count": null,
   "id": "3257d3d1",
   "metadata": {},
   "outputs": [],
   "source": [
    "project_folder = Path(r\"D:\\OneDrive - Queen's University\\Python\\Projects\\ToDoIst Projects\\Turkey\")\n",
    "project_drive = project_folder.drive\n"
   ]
  },
  {
   "cell_type": "markdown",
   "id": "9802fab9",
   "metadata": {},
   "source": [
    "#### Project Name and Python Version"
   ]
  },
  {
   "cell_type": "code",
   "execution_count": null,
   "id": "4915caa4",
   "metadata": {},
   "outputs": [],
   "source": [
    "env_name = 'TestProject'\n",
    "python_version = '3.9'\n"
   ]
  },
  {
   "cell_type": "markdown",
   "id": "63dd3614",
   "metadata": {},
   "source": [
    "#### Packages to include in the Conda Environment"
   ]
  },
  {
   "cell_type": "code",
   "execution_count": null,
   "id": "54ab75c9",
   "metadata": {},
   "outputs": [],
   "source": [
    "primary_package_list = [\n",
    "    'pysimplegui',\n",
    "    'pandas',\n",
    "    'xlwings',\n",
    "    ]\n",
    "tools_package_list = [\n",
    "    'spyder',\n",
    "    'jupyterlab',\n",
    "    'ipykernel',\n",
    "    'pylint',\n",
    "    ]\n",
    "package_list = primary_package_list + tools_package_list\n"
   ]
  },
  {
   "cell_type": "markdown",
   "id": "b8180261",
   "metadata": {},
   "source": [
    "#### Packages to install using `pip`"
   ]
  },
  {
   "cell_type": "code",
   "execution_count": null,
   "id": "7007c861",
   "metadata": {},
   "outputs": [],
   "source": [
    "# packages that are not available from Conda\n",
    "pip_package_list = [\n",
    "    'todoist-api-python',\n",
    "    'units'\n",
    "    ]\n"
   ]
  },
  {
   "cell_type": "markdown",
   "id": "a0c1970c",
   "metadata": {},
   "source": [
    "### Project related paths\n"
   ]
  },
  {
   "cell_type": "markdown",
   "id": "9ef139bc",
   "metadata": {},
   "source": [
    "### Additional package path"
   ]
  },
  {
   "cell_type": "code",
   "execution_count": null,
   "id": "95c0911c",
   "metadata": {},
   "outputs": [],
   "source": [
    "sectionary_path = project_folder / '..' / '..' / 'sectionary package' / 'src'\n",
    "sectionary_path = sectionary_path.resolve()\n"
   ]
  },
  {
   "cell_type": "markdown",
   "id": "3ad8bf94",
   "metadata": {},
   "source": [
    "#### Folder Parameters"
   ]
  },
  {
   "cell_type": "code",
   "execution_count": null,
   "id": "318cf1e5",
   "metadata": {},
   "outputs": [],
   "source": [
    "folder_list = [FolderItem(env_name,       tag='WORKSPACE',                      folder_path=project_folder),\n",
    "               FolderItem('environment', tag='ENVIRONMENT', add_to_path=False,   base_path=project_folder),\n",
    "               FolderItem('src',         tag='SOURCE',                           base_path=project_folder),\n",
    "               FolderItem('data',        tag='DATA',                             base_path=project_folder),\n",
    "               FolderItem('reference',   tag='REFERENCE',   add_to_path=False,   base_path=project_folder),\n",
    "               FolderItem('sectionary',                                        folder_path=sectionary_path)]\n",
    "\n",
    "folders = pd.DataFrame(folder_list)\n",
    "\n",
    "folders\n"
   ]
  },
  {
   "cell_type": "markdown",
   "id": "e4b0e11b",
   "metadata": {},
   "source": [
    "#### Other installations"
   ]
  },
  {
   "cell_type": "code",
   "execution_count": null,
   "id": "ad202c63",
   "metadata": {},
   "outputs": [],
   "source": [
    "install_xlwings = True\n",
    "install_jupyter = True\n"
   ]
  },
  {
   "cell_type": "markdown",
   "id": "453b59e4",
   "metadata": {},
   "source": [
    "### Create the new environment"
   ]
  },
  {
   "cell_type": "code",
   "execution_count": 15,
   "id": "44ebfb2a",
   "metadata": {},
   "outputs": [
    {
     "name": "stderr",
     "output_type": "stream",
     "text": [
      "INFO     Creating environment for TestProject\n"
     ]
    }
   ],
   "source": [
    "create_output = create_environment(env_name, python_version)\n"
   ]
  },
  {
   "cell_type": "code",
   "execution_count": 17,
   "id": "76b52998",
   "metadata": {},
   "outputs": [],
   "source": [
    "# Identify the Conda Environment path\n",
    "env_path = Path(create_output['prefix'])\n"
   ]
  },
  {
   "cell_type": "markdown",
   "id": "f04891fa",
   "metadata": {},
   "source": [
    "### Install the Packages"
   ]
  },
  {
   "cell_type": "code",
   "execution_count": 19,
   "id": "03bfbf64",
   "metadata": {},
   "outputs": [],
   "source": [
    "install_output = install_packages(env_name, package_list)\n"
   ]
  },
  {
   "cell_type": "markdown",
   "id": "2d34a88f",
   "metadata": {},
   "source": [
    "### Install packages using `pip`"
   ]
  },
  {
   "cell_type": "code",
   "execution_count": null,
   "id": "a10cf419",
   "metadata": {},
   "outputs": [],
   "source": [
    "pip_install_output = pip_install_packages(env_path, pip_package_list)\n"
   ]
  },
  {
   "cell_type": "markdown",
   "id": "48f711c9",
   "metadata": {},
   "source": [
    "# Done To Here"
   ]
  },
  {
   "cell_type": "code",
   "execution_count": null,
   "id": "d0bc6823",
   "metadata": {},
   "outputs": [],
   "source": [
    "build_jupyter_bat(env_name, env_path, project_folder, project_drive)\n",
    "build_vs_code_bat(env_name, env_path, project_folder, project_drive)\n"
   ]
  },
  {
   "cell_type": "markdown",
   "id": "a73d1879",
   "metadata": {},
   "source": [
    "### Build Boilerplate Files"
   ]
  },
  {
   "cell_type": "code",
   "execution_count": null,
   "id": "e3d9db19",
   "metadata": {},
   "outputs": [],
   "source": [
    "def build_project_file(env_folder, template_file, **project_parameters):\n",
    "    template_file = Path(r'vscode settings templates\\vs_code_bat_template.txt')\n",
    "    file_path = env_folder / f'VS Code ({env_name}).bat'\n",
    "    template_text = template_file.read_text()\n",
    "    file_text = template_text.format(**project_parameters)\n",
    "    file_path.write_text(file_text)\n"
   ]
  },
  {
   "cell_type": "markdown",
   "id": "a9ab8133",
   "metadata": {},
   "source": [
    "### Build .env file"
   ]
  },
  {
   "cell_type": "code",
   "execution_count": null,
   "id": "e1c424ac",
   "metadata": {},
   "outputs": [],
   "source": [
    "def build_env_file(env_folder, path_dict):\n",
    "    env_file = env_folder / '.env'\n",
    "\n",
    "    env_paths = '\\n'.join('PYTHONPATH=${}' for name, path_str in path_dict.items())\n",
    "    path_setter = '\\n'.join('PYTHONPATH=\"${' + name.upper() + '};${PYTHONPATH}\"'\n",
    "                            for name in path_dict.keys())\n",
    "    env_text = '\\n'.join([env_paths, path_setter])\n",
    "    env_file.write_text(env_text)\n"
   ]
  },
  {
   "cell_type": "markdown",
   "id": "2b8060ee-5e76-4257-b7ec-96e959142e2b",
   "metadata": {},
   "source": [
    "### Build Code-workspace from templatestr(env_path)"
   ]
  },
  {
   "cell_type": "code",
   "execution_count": null,
   "id": "0a1fe6de-5d9a-4ff2-8055-c34ce3359daa",
   "metadata": {
    "tags": []
   },
   "outputs": [],
   "source": [
    "sectionary_path = project_folder / '..' / '..' / 'sectionary package' / 'src'\n",
    "sectionary_path = sectionary_path.resolve()\n",
    "\n",
    "source_folder = add_folder(project_folder, 'src')\n",
    "path_dict = {\n",
    "    'WORKSPACE_FOLDER': f'\"{project_folder}\"',\n",
    "    'SOURCE_FOLDER': f'\"{source_folder}\"',\n",
    "    'SECTIONARY_FOLDER': f'\"{sectionary_path}\"'\n",
    "    }\n",
    "python_path_list = str([\n",
    "    '${fileDirname}',\n",
    "    '${workspaceFolder}\\\\..\\\\Utilities',\n",
    "    '${workspaceFolder}\\\\..\\\\sectionary\\\\src',\n",
    "    '${env:PYTHONPATH}'\n",
    "    ])\n",
    "python_path_list = python_path_list.replace(',',';')\n"
   ]
  },
  {
   "cell_type": "markdown",
   "id": "911d7bc8",
   "metadata": {},
   "source": [
    "**NOTE:** the choice of % as delimiter marker may not be wise."
   ]
  },
  {
   "cell_type": "markdown",
   "id": "4bdf815b",
   "metadata": {},
   "source": [
    "|Place Holder|Description|Example Text|\n",
    "|------------|-----------|------------|\n",
    "|%env_path%  |Conda Environment path|C:/ProgramData/Anaconda3/envs/plan_check_tools|\n",
    "|%analysis.extraPaths%|Search paths use for linting analysis|[\"../Utilities\"<br>\"../sectionary/src\"<br>\"\\${workspaceFolder}\"]|\n",
    "|%analysis.extraPaths%|Search paths use for editor auto complete prompts|[\"../Utilities\"<br>\"../sectionary/src\"<br>\"\\${workspaceFolder}\"]|\n",
    "%PYTHONPATH%|Environment PYTHONPATH string|\"\\${fileDirname};\\${workspaceFolder}\\\\..\\\\Utilities;\\${workspaceFolder}\\\\..\\\\sectionary\\\\src;\\${env:PYTHONPATH}\"|"
   ]
  },
  {
   "cell_type": "code",
   "execution_count": null,
   "id": "5319a3f7-41a1-48b2-b27a-803c597192d5",
   "metadata": {
    "tags": []
   },
   "outputs": [],
   "source": [
    "data_dir = Path(r\"D:\\OneDrive - Queen's University\\Python\\Python Learning\\Environment Management\")\n",
    "\n",
    "workspace_template_file = data_dir / 'vscode settings templates' / 'code-workspace_template.txt'\n"
   ]
  },
  {
   "cell_type": "code",
   "execution_count": null,
   "id": "f63b63b3-11ea-43db-8398-459747063602",
   "metadata": {
    "tags": []
   },
   "outputs": [],
   "source": [
    "workspace_template = workspace_template_file.read_text()\n",
    "\n",
    "workspace_template = workspace_template.replace('%env_path%',\n",
    "                                                str(env_path).replace('\\\\',\n",
    "                                                                      '/'))\n",
    "workspace_template.replace('%analysis.extraPaths%', str(python_path_list))\n",
    "\n",
    "workspace_template.replace('%autoComplete.extraPaths%', str(python_path_list))\n",
    "\n",
    "workspace_template.replace('%PYTHONPATH%', python_path_list)\n"
   ]
  },
  {
   "cell_type": "markdown",
   "id": "1efb811f",
   "metadata": {},
   "source": [
    "## Other install commands"
   ]
  },
  {
   "cell_type": "markdown",
   "id": "1476ec86",
   "metadata": {},
   "source": [
    "#### Install Jupyter Kernel "
   ]
  },
  {
   "cell_type": "code",
   "execution_count": null,
   "id": "540ba29c",
   "metadata": {},
   "outputs": [],
   "source": [
    "def install_kernel(new_env):\n",
    "    '''Install the ipython kernel in the new environment.\n",
    "\n",
    "    Args:\n",
    "        new_env (str): Name of Conda environment.\n",
    "\n",
    "    Returns:\n",
    "        str: The log output from the install.\n",
    "    '''\n",
    "    kernel_cmd = activate_environment(new_env)\n",
    "    kernel_cmd += f'python -m ipykernel install --user --name {new_env} '\n",
    "    kernel_cmd += f'--display-name \"Python ({new_env})\"'\n",
    "\n",
    "    kernel_install_log = console_command(\n",
    "        kernel_cmd,\n",
    "        AnacondaException,\n",
    "        f'Unable to install ipython kernel in \"{new_env}\"!'\n",
    "        )\n",
    "    return kernel_install_log\n"
   ]
  },
  {
   "cell_type": "markdown",
   "id": "5c835f72",
   "metadata": {},
   "source": [
    "#### Configure xlwings"
   ]
  },
  {
   "cell_type": "code",
   "execution_count": null,
   "id": "31154eed",
   "metadata": {},
   "outputs": [],
   "source": [
    "def configure_xlwings(new_env: str)->str:\n",
    "    '''Install and configure xlwings binaries for environment.\n",
    "\n",
    "    NOTE: This is still a works in progress.\n",
    "\n",
    "    Args:\n",
    "        new_env (str): Name of Conda environment.\n",
    "\n",
    "    Returns:\n",
    "        str: The log output from the install.\n",
    "    '''\n",
    "    activate_cmd = activate_environment(new_env)\n",
    "\n",
    "    logger.debug('Updating Xlwings licence for %s', new_env)\n",
    "    xlwings_license = activate_cmd + 'xlwings license update -k noncommercial'\n",
    "    license_log = console_command(\n",
    "        xlwings_license, AnacondaException,\n",
    "        f'Unable to set xlwings license in environment {new_env}')\n",
    "\n",
    "    logger.debug('Installing Xlwings add-in for %s', new_env)\n",
    "    xlwings_add_in = activate_cmd + 'xlwings addin install'\n",
    "    try:\n",
    "        add_in_log = console_command(\n",
    "            xlwings_add_in, AnacondaException,\n",
    "            f'Unable to install xlwings addin in environment {new_env}',\n",
    "            abort_after=2)\n",
    "    except AbortedCmdException:\n",
    "        logger.warning('Xlwings Add-in install timed out\\n'\n",
    "                       'This is likely due to insufficient rights to install '\n",
    "                       'the add-in.')\n",
    "\n",
    "    logger.debug('Creating Xlwings config file for %s', new_env)\n",
    "    xlwings_config = activate_cmd + 'xlwings config create --force'\n",
    "    config_log = console_command(\n",
    "        xlwings_config, AnacondaException,\n",
    "        f'Unable to configure xlwings in environment {new_env}')\n",
    "\n",
    "    xlwings_log = '\\n\\n'.join([license_log, add_in_log, config_log])\n",
    "    return xlwings_log\n"
   ]
  },
  {
   "cell_type": "markdown",
   "id": "59d0e960",
   "metadata": {},
   "source": [
    "***The commands below hang the kernel***"
   ]
  },
  {
   "cell_type": "raw",
   "id": "9bbdb096",
   "metadata": {},
   "source": [
    "logger.setLevel(logging.DEBUG)\n",
    "output = configure_xlwings('Todoist')\n",
    "print(output)\n",
    "logger.setLevel(logging.INFO)\n"
   ]
  },
  {
   "cell_type": "code",
   "execution_count": null,
   "id": "59d9986b",
   "metadata": {},
   "outputs": [],
   "source": [
    "env_name = 'Todoist'\n",
    "activate_cmd = activate_environment(env_name)\n",
    "\n",
    "xlwings_license = activate_cmd + 'xlwings license update -k noncommercial'\n",
    "license_log = console_command(\n",
    "    xlwings_license, AnacondaException,\n",
    "    f'Unable to set xlwings license in environment {env_name}')\n",
    "\n",
    "print(license_log)\n"
   ]
  },
  {
   "cell_type": "code",
   "execution_count": null,
   "id": "eb1f7041",
   "metadata": {},
   "outputs": [],
   "source": [
    "cmd_str = activate_environment('Standard')\n",
    "cmd_str += 'conda env export --from-history'\n",
    "output = console_command(cmd_str)\n",
    "print(output)\n"
   ]
  },
  {
   "cell_type": "code",
   "execution_count": null,
   "id": "aedfcae4",
   "metadata": {},
   "outputs": [],
   "source": [
    "output = install_kernel('Todoist')\n",
    "print(output)\n"
   ]
  },
  {
   "cell_type": "markdown",
   "id": "0f5a1ee6",
   "metadata": {},
   "source": [
    "## Store Environment Data"
   ]
  },
  {
   "cell_type": "code",
   "execution_count": null,
   "id": "c8c05ce0",
   "metadata": {},
   "outputs": [],
   "source": [
    "# FIXME Complete functions on saving log data and environment info\n"
   ]
  },
  {
   "cell_type": "markdown",
   "id": "6f3d7694",
   "metadata": {},
   "source": [
    "**This is a lower priority work in progress.**"
   ]
  },
  {
   "cell_type": "markdown",
   "id": "3daaaa9c",
   "metadata": {},
   "source": [
    "### Write the Log Data generated during the Conda Environment install"
   ]
  },
  {
   "cell_type": "code",
   "execution_count": null,
   "id": "824f3351",
   "metadata": {},
   "outputs": [],
   "source": [
    "project_folder = Path(r\"D:\\OneDrive - Queen's University\\Python\\Projects\\TestProject\")\n",
    "env_folder = add_folder(project_folder, 'environment')\n"
   ]
  },
  {
   "cell_type": "markdown",
   "id": "d99c9e57",
   "metadata": {},
   "source": [
    "#### Store json log output as a .json file"
   ]
  },
  {
   "cell_type": "code",
   "execution_count": null,
   "id": "eac3697d",
   "metadata": {},
   "outputs": [],
   "source": [
    "def save_logs(create_output, install_output, pip_install_output, env_name, env_folder):\n",
    "    environment_logs = {'Create': create_output,\n",
    "                        'Install': install_output,\n",
    "                        'Pip Install':pip_install_output}\n",
    "    log_file = env_folder / f'{env_name}EnvironmentLog.json'\n",
    "    with log_file.open('w', encoding='utf-8') as file:\n",
    "        json.dump(environment_logs, file, indent=4)\n"
   ]
  },
  {
   "cell_type": "markdown",
   "id": "d9bcf617",
   "metadata": {},
   "source": [
    "#### Create a spreadsheet with environment data for reference"
   ]
  },
  {
   "cell_type": "code",
   "execution_count": null,
   "id": "dc7fb6b6",
   "metadata": {},
   "outputs": [],
   "source": [
    "env_ref = env_path\n"
   ]
  },
  {
   "cell_type": "code",
   "execution_count": null,
   "id": "49b66689",
   "metadata": {},
   "outputs": [],
   "source": [
    "env_name, env_cmd_ref = set_env_ref(env_ref)\n"
   ]
  },
  {
   "cell_type": "code",
   "execution_count": null,
   "id": "6bdf3797",
   "metadata": {},
   "outputs": [],
   "source": [
    "def build_package_table(dependencies):\n",
    "    def  build_pip_package_list(pkg_ref):\n",
    "        pip_pkg_list = []\n",
    "        pip_pkg_info = pkg_ref['pip']\n",
    "        for pkg_str in pip_pkg_info:\n",
    "            name, version = pkg_str.split('==')\n",
    "            pip_pkg_list.append({\n",
    "                            'PackageName': name,\n",
    "                            'PackageVersion': version,\n",
    "                            'PIP': True\n",
    "                            })\n",
    "        return pip_pkg_list\n",
    "\n",
    "    packages = []\n",
    "    for pkg_str in dependencies:\n",
    "        if isinstance(pkg_str,dict):\n",
    "            pip_pkg_list = build_pip_package_list(pkg_str)\n",
    "            packages.extend(pip_pkg_list)\n",
    "        else:\n",
    "            name, version, ref = pkg_str.split('=')\n",
    "            packages.append({\n",
    "                'PackageName': name,\n",
    "                'PackageVersion': version,\n",
    "                'PackageIndex': ref,\n",
    "                'PIP': False\n",
    "                })\n",
    "    package_table = pd.DataFrame(packages)\n",
    "    return package_table\n"
   ]
  },
  {
   "cell_type": "code",
   "execution_count": null,
   "id": "ec14da65",
   "metadata": {},
   "outputs": [],
   "source": [
    "package_cmd = 'conda env export --json '\n",
    "package_cmd += env_cmd_ref\n",
    "\n",
    "pkg_output = console_command(package_cmd, AnacondaException,\n",
    "                f'Error getting packages from {env_name}.')\n",
    "\n",
    "pkg_dict = json.loads(pkg_output)\n",
    "\n",
    "pkg_list = pkg_dict['dependencies']\n",
    "packages = []\n",
    "for pkg_str in pkg_list:\n",
    "    if isinstance(pkg_str,dict):\n",
    "        # Put pip package parser here\n",
    "        pass\n",
    "    else:\n",
    "        name, version, ref = pkg_str.split('=')\n",
    "        packages.append({\n",
    "            'PackageName': name,\n",
    "            'PackageVersion': version,\n",
    "            'PackageIndex': ref,\n",
    "            'PIP': False\n",
    "            })\n",
    "package_table = pd.DataFrame(packages)\n",
    "package_table\n",
    "\n",
    "dependencies = pkg_dict.pop('dependencies')\n",
    "build_package_table(dependencies)\n"
   ]
  },
  {
   "cell_type": "code",
   "execution_count": null,
   "id": "568498bf",
   "metadata": {},
   "outputs": [],
   "source": [
    "pkg_dict['channels'] = str(pkg_dict['channels'])\n"
   ]
  },
  {
   "cell_type": "code",
   "execution_count": null,
   "id": "812d4682",
   "metadata": {},
   "outputs": [],
   "source": [
    "def get_packages(env_ref: EnvRef, all_packages=False)->pd.DataFrame:\n",
    "    env_name, env_cmd_ref = set_env_ref(env_ref)\n",
    "    if all_packages:\n",
    "        package_cmd = 'conda env export --json'\n",
    "        package_cmd += env_cmd_ref\n",
    "\n",
    "        save_history_cmd = ['conda', 'env', 'export',\n",
    "                            '--from-history', '--json']\n",
    "        save_history_cmd += env_cmd_ref\n",
    "        save_history_cmd += ['>', str(history_json)]\n",
    "        console_command(save_history_cmd, AnacondaException,\n",
    "                        f'Error saving {env_name}.json file.')\n"
   ]
  },
  {
   "cell_type": "code",
   "execution_count": null,
   "id": "0ac8363c",
   "metadata": {},
   "outputs": [],
   "source": [
    "\n",
    "log_file = env_folder / f'{env_name}EnvironmentLog.json'\n",
    "pkg_table_file = env_folder / f'{env_name}Packages.csv'\n",
    "\n",
    "install_log = install_log + '\\n' + pkg_install_log\n",
    "log_file.write_text(install_log)\n",
    "\n",
    "pkg_items = logging_dict['actions']['LINK'] + pkg_install_dict['actions']['LINK']\n",
    "pkg_table = pd.DataFrame(pkg_items)\n",
    "pkg_table.to_csv(pkg_table_file)\n"
   ]
  },
  {
   "cell_type": "markdown",
   "id": "ccde2772",
   "metadata": {},
   "source": [
    "## Utility Functions"
   ]
  },
  {
   "cell_type": "code",
   "execution_count": null,
   "id": "7e4a1f75",
   "metadata": {},
   "outputs": [],
   "source": [
    "def add_folder(base: Path, name: str)->Path:\n",
    "    '''Make a subdirectory under base.\n",
    "\n",
    "    Generates a path to the subdirectory.\n",
    "    If it doesn't exist create it.\n",
    "\n",
    "    Args:\n",
    "        base (Path): The top folder (parent to the subdirectory).\n",
    "        name (str): The name of the subdirectory.\n",
    "\n",
    "    Returns:\n",
    "        Path: The path to the subdirectory.\n",
    "    '''\n",
    "    sub_folder = base / name\n",
    "    if not sub_folder.exists():\n",
    "        sub_folder.mkdir()\n",
    "    return sub_folder\n"
   ]
  },
  {
   "cell_type": "markdown",
   "id": "e8d170ec-5fc4-4093-92bf-e1daab0843f7",
   "metadata": {
    "tags": []
   },
   "source": [
    "# Misc Reference"
   ]
  },
  {
   "cell_type": "markdown",
   "id": "86aa6598",
   "metadata": {},
   "source": [
    "### Delete the Conda Environment"
   ]
  },
  {
   "cell_type": "code",
   "execution_count": null,
   "id": "ea64c82d",
   "metadata": {},
   "outputs": [],
   "source": [
    "#delete_output = remove_environment(env_path)\n"
   ]
  },
  {
   "cell_type": "markdown",
   "id": "38284167",
   "metadata": {},
   "source": [
    "#### Sample of `create` output"
   ]
  },
  {
   "cell_type": "code",
   "execution_count": null,
   "id": "649bc527",
   "metadata": {},
   "outputs": [],
   "source": [
    "print(list(create_output.keys()))\n",
    "print(create_output['success'])\n",
    "print(create_output['prefix'])\n",
    "print(create_output['actions'].keys())\n",
    "if len(create_output['actions']['LINK']) > 0:\n",
    "    pprint(create_output['actions']['LINK'][0])\n"
   ]
  },
  {
   "cell_type": "markdown",
   "id": "032d17f5",
   "metadata": {},
   "source": [
    "#### Sample of `install` output"
   ]
  },
  {
   "cell_type": "code",
   "execution_count": null,
   "id": "1f2878be",
   "metadata": {},
   "outputs": [],
   "source": [
    "print(list(install_output.keys()))\n",
    "print(install_output['success'])\n",
    "print(install_output['prefix'])\n",
    "print(install_output['actions'].keys())\n",
    "if len(install_output['actions']['LINK']) > 0:\n",
    "    pprint(install_output['actions']['LINK'][0])\n"
   ]
  },
  {
   "cell_type": "code",
   "execution_count": null,
   "id": "926ee38e",
   "metadata": {},
   "outputs": [],
   "source": [
    "pprint(pip_install_output)\n"
   ]
  },
  {
   "cell_type": "markdown",
   "id": "01a3a5c0",
   "metadata": {},
   "source": [
    "#### Sample of `delete` output"
   ]
  },
  {
   "cell_type": "code",
   "execution_count": null,
   "id": "013e6ebc",
   "metadata": {},
   "outputs": [],
   "source": [
    "#pprint(delete_output)\n"
   ]
  },
  {
   "cell_type": "markdown",
   "id": "eeb5d6df",
   "metadata": {},
   "source": [
    "**TODO:**\n",
    "1. Generate Json file with output logs\n",
    "2. generate a spreadsheet with multiple tables containing relevant project info.\n",
    "   1. Package list:\n",
    "      1. Package parsing must allow for 1, 2, or 3 parts.\n",
    "      2. Package parsing must allow for '=' or '==' separators.\n",
    "      3. If \"from-history\" used, pip installs are not returned; need to get those separately.\n",
    "   2. Install parameters\n",
    "      1. Name, prefix, channels\n",
    "      2. List of channels should be converted to strings.\n",
    "   3. Relevant folders and paths\n",
    "      1. Project folders\n",
    "      2. python search paths\n",
    "      3. Other tools installed e.g. Jupyter, Xlwings\n"
   ]
  },
  {
   "cell_type": "markdown",
   "id": "deed92a3",
   "metadata": {},
   "source": [
    "Get package Info has two different functionalities:\n",
    "   1. Generate spreadsheet with package info\n",
    "   2. Provide package lookup"
   ]
  },
  {
   "cell_type": "markdown",
   "id": "985f1921",
   "metadata": {},
   "source": [
    "## Environment Parameters"
   ]
  },
  {
   "cell_type": "markdown",
   "id": "840cdb9e",
   "metadata": {},
   "source": [
    "### EnvironmentRef Class\n",
    "\n",
    "Contains information required to construct a Conda environment\n",
    "\n",
    "**Attributes**\n",
    "- environment_name\n",
    "- environment path\n",
    "- python_version\n",
    "- package_lists  (name, version_constraints, category)\n",
    "- pip_package_list\n",
    "- spec file\n",
    "- yaml file\n",
    "\n",
    "**Methods**\n",
    "- build_environment\n",
    "- delete_environment\n",
    "- add_package\n",
    "- refresh_info\n",
    "- add_variables\n",
    "- export_specs"
   ]
  },
  {
   "cell_type": "markdown",
   "id": "9fc18112",
   "metadata": {},
   "source": [
    "**Project Methods**\n",
    "- create folders\n",
    "- build Conda environment\n",
    "- other installs  *(or should this be in environment)*\n",
    "- build files from templates\n",
    "- archive project\n",
    "- analyze project\n",
    "  - What folders exist\n",
    "  - what paths are used\n",
    "  - what package imports are called\n",
    "  - what external files / modules are referenced\n",
    "  - identify dependencies\n",
    "  - generate environment info"
   ]
  },
  {
   "cell_type": "raw",
   "id": "58e40b21-e28c-4f64-b2f3-ea4a3b80b5f1",
   "metadata": {},
   "source": [
    "########## Spyder Launch ############\n",
    "C:\\ProgramData\\Anaconda3\\pythonw.exe C:\\ProgramData\\Anaconda3\\cwp.py C:\\ProgramData\\Anaconda3\\envs\\Standard C:\\ProgramData\\Anaconda3\\envs\\Standard\\pythonw.exe C:\\ProgramData\\Anaconda3\\envs\\Standard\\Scripts\\spyder-script.py\n",
    "\n",
    "########## Jupyter Lab Launch ############\n",
    "C:\\ProgramData\\Anaconda3\\python.exe C:\\ProgramData\\Anaconda3\\cwp.py C:\\ProgramData\\Anaconda3\\envs\\Standard C:\\ProgramData\\Anaconda3\\envs\\Standard\\pythonw.exe C:\\ProgramData\\Anaconda3\\envs\\\\Standard\\Scripts\\jupyter-lab-script.py \"D:\\OneDrive - Queen's University\\Python\\Projects\"\n",
    "\n",
    "\"D:\\OneDrive - Queen's University\\Python\\Projects\"\n",
    "%ALLUSERSPROFILE%\\Anaconda3\\Menu\\jupyter.ico\n",
    "%ALLUSERSPROFILE%\\Anaconda3\\envs\\Standard\\Scripts\\spyder.ico\n"
   ]
  },
  {
   "cell_type": "markdown",
   "id": "7447e43b",
   "metadata": {},
   "source": [
    "## cmd\n",
    "Starts a new instance of the command interpreter, Cmd.exe. If used without parameters, cmd displays the version and copyright information of the operating system.\n",
    "\n",
    "#### Syntax\n",
    "`cmd [/c|/k] [/s] [/q] [/d] [/a|/u] [/t:{<b><f> | <f>}] [/e:{on | off}] [/f:{on | off}] [/v:{on | off}] [<string>]`\n",
    "\n",
    "#### Parameters\n",
    "\n",
    "|Parameter|Description|\n",
    "|-|-|\n",
    "|/c|Carries out the command specified by <string> and then exits the command processor.|\n",
    "|/k|Carries out the command specified by <string> and keeps the command processor running.|\n",
    "|/s|When used with /c or /k, triggers special non-parsing rules that strip the first and last quotes (\") around the <string> but leaves the rest of the command unchanged.|\n",
    "|/q|Turns echo off.|\n",
    "|/d|Disables execution of AutoRun commands.|\n",
    "|/a|Formats command output as American National Standards Institute (ANSI).|\n",
    "|/u|Formats command output as Unicode.|\n",
    "|/t: {\\<b>\\<f> \\| \\<f>}|Sets the background (*b*) and foreground (*f*) colors.|\n",
    "|/e:on|Enables command extensions.|\n",
    "|/e:off|Disables commands extensions.|\n",
    "|/f:on|Enables file and directory name completion.|\n",
    "|/f:off|Disables file and directory name completion.|\n",
    "|/v:on|Enables delayed environment variable expansion.|\n",
    "|/v:off|Disables delayed environment variable expansion.|\n",
    "|\\<string>|Specifies the command you want to carry out.|\n",
    "|/?|Displays help at the command prompt.|\n",
    "\n",
    "The following table lists valid hexadecimal digits that you can use as the values for \\<b> and \\<f>:\n",
    "\n",
    "|Value|Color|\n",
    "|-|-|\n",
    "|0|Black|\n",
    "|1|Blue|\n",
    "|2|Green|\n",
    "|3|Aqua|\n",
    "|4|Red|\n",
    "|5|Purple|\n",
    "|6|Yellow|\n",
    "|7|White|\n",
    "|8|Gray|\n",
    "|9|Light blue|\n",
    "|a|Light green|\n",
    "|b|Light aqua|\n",
    "|c|Light red|\n",
    "|d|Light purple|\n",
    "|e|Light yellow|\n",
    "|f|Bright white\n",
    "\n",
    "#### Remarks\n",
    "- To redirect command output to the input of another command, use the pipe (`|`) character. For example:\n",
    "> `<command1> | <command2>`\n",
    "\n",
    "- To redirect command output to a file, use the greater-than angle bracket `>` character. For example:\n",
    "\n",
    "`<command1> > <file1.txt>`\n",
    "To use multiple commands for `<string>`, separate them by the command separator `&&`. For example:\n",
    "> `<command1>&&<command2>&&<command3>`\n",
    "\n",
    "- If the directory path, files, or any information you supply contains spaces, you must use double quotation marks (`\"``) around the text, such as `\"Computer Name\"`. For example:\n",
    "> `mkdir Test&&mkdir \"Test 2\"&&move \"Test 2\" Test`\n",
    "> \n",
    "- You must use quotation marks around the following special characters: & \\< > [ ] | { } ^ = ; ! ' + , ` ~ [white space].\n",
    "\n",
    "- If you specify `/c` or `/k`, the `cmd` processes, the remainder of `<string>`, and the quotation marks are preserved only if all of the following conditions are met:\n",
    "   - You don't also use `/s`.\n",
    "   - You use exactly one set of quotation marks.\n",
    "   - You don't use any special characters within the quotation marks (for example: & <    ( ) @ ^ | ).\n",
    "   - You use one or more white-space characters within the quotation marks.\n",
    "   - The `<string>` within quotation marks is the name of an executable file.\n",
    "\n",
    "If the previous conditions aren't met, `<string>` is processed by examining the first character to verify whether it's an opening quotation mark. If the first character is an opening quotation mark, it's stripped along with the closing quotation mark. Any text following the closing quotation marks is preserved."
   ]
  },
  {
   "cell_type": "markdown",
   "id": "c6ef8d32",
   "metadata": {},
   "source": [
    "## Common Packages\n",
    "> **Primary Packages**\n",
    "> - numpy\n",
    "> - pandas\n",
    "> - openpyxl\n",
    "> - matplotlib\n",
    "> - seaborn\n",
    "> - pysimplegui\n",
    "\n",
    "> **iPython Packages**\n",
    "> - ipykernel\n",
    "> - ipywidgets\n",
    "> - jupyterlab\n",
    "> - nb_conda_kernels\n",
    "> - spyder\n",
    "\n",
    "> **SciPy Packages**\n",
    "> - scipy\n",
    "> - scikit-image\n",
    "> \n",
    "> **Specialty Packages**\n",
    "> - networkx\n",
    "> - pygraphviz\n",
    "> - shapely\n",
    "> - pydicom\n",
    "> - pyodbc\n",
    "> - parsedatetime\n",
    "\n",
    "> **MS Office & Windows related Packages**\n",
    "> - xlwings\n",
    "> - pywin32\n",
    "> - docx2txt\n",
    "> - zipfile2\n",
    "\n",
    "> **Linting Packages**\n",
    "> - pylint\n",
    "> - mypy\n",
    "> - black\n",
    "\n",
    "> **Installer**\n",
    "> - pyinstaller\n",
    "\n",
    "> **Documentation Packages**\n",
    "> - sphinx\n",
    "> - sphinx-copybutton\n",
    "> - sphinx_rtd_theme\n",
    "> - nbsphinx-link\n",
    "> - nbsphinx\n",
    "> - esbonio\n",
    "> - pandoc\n",
    "> - myst-parser\n",
    "\n",
    "> **AI Related Packages**\n",
    "> - scikit-learn\n",
    "> - neptune-client\n",
    "> - neptune-sklearn\n",
    "> - statsmodels\n",
    "> - xgboost\n",
    "> - torchvision\n",
    "> - nibabel\n",
    "> - nilearn\n"
   ]
  },
  {
   "cell_type": "markdown",
   "id": "8fb1e0b2",
   "metadata": {},
   "source": [
    "### Other Install Commands"
   ]
  },
  {
   "cell_type": "markdown",
   "id": "93b69e57",
   "metadata": {},
   "source": [
    "`pip install todoist-api-python`"
   ]
  },
  {
   "cell_type": "markdown",
   "id": "83a7de02",
   "metadata": {},
   "source": [
    "```bat\n",
    "pip install [options] <requirement specifier> [package-index-options] ...\n",
    "pip install [options] -r <requirements file> [package-index-options] ...\n",
    "pip install [options] [-e] <vcs project url> ...\n",
    "pip install [options] [-e] <local project path> ...\n",
    "pip install [options] <archive url/path> ...\n",
    "```\n",
    "The report can be written to a file, or to standard output (using --report - in combination with --quiet)."
   ]
  },
  {
   "cell_type": "markdown",
   "id": "48f70a84",
   "metadata": {},
   "source": [
    "#### Json Basic Usage\n",
    "`json.dump(obj, fp, *, skipkeys=False, ensure_ascii=True, check_circular=True, allow_nan=True, cls=None, indent=None, separators=None, default=None, sort_keys=False, **kw)`\n",
    "\n",
    "Serialize obj as a JSON formatted stream to fp (a .write()-supporting file-like object) using this conversion table.\n",
    "\n",
    "- If skipkeys is true (default: False), then dict keys that are not of a basic type (str, int, float, bool, None) will be skipped instead of raising a TypeError.\n",
    "\n",
    "- The json module always produces str objects, not bytes objects. Therefore, fp.write() must support str input.\n",
    "\n",
    "- If ensure_ascii is true (the default), the output is guaranteed to have all incoming non-ASCII characters escaped. If ensure_ascii is false, these characters will be output as-is.\n",
    "\n",
    "- If check_circular is false (default: True), then the circular reference check for container types will be skipped and a circular reference will result in a RecursionError (or worse).\n",
    "\n",
    "- If allow_nan is false (default: True), then it will be a ValueError to serialize out of range float values (nan, inf, -inf) in strict compliance of the JSON specification. If allow_nan is true, their JavaScript equivalents (NaN, Infinity, -Infinity) will be used.\n",
    "\n",
    "- If indent is a non-negative integer or string, then JSON array elements and object members will be pretty-printed with that indent level. An indent level of 0, negative, or \"\" will only insert newlines. None (the default) selects the most compact representation. Using a positive integer indent indents that many spaces per level. If indent is a string (such as \"\\t\"), that string is used to indent each level.\n",
    "\n",
    "- If specified, separators should be an (item_separator, key_separator) tuple. The default is (', ', ': ') if indent is None and (',', ': ') otherwise. To get the most compact JSON representation, you should specify (',', ':') to eliminate whitespace.\n",
    "\n",
    "- If specified, default should be a function that gets called for objects that can’t otherwise be serialized. It should return a JSON encodable version of the object or raise a TypeError. If not specified, TypeError is raised.\n",
    "\n",
    "- If sort_keys is true (default: False), then the output of dictionaries will be sorted by key."
   ]
  },
  {
   "cell_type": "markdown",
   "id": "bb8de993",
   "metadata": {},
   "source": [
    "`pip freeze > requirements.txt`"
   ]
  }
 ],
 "metadata": {
  "kernelspec": {
   "display_name": "Python 3 (ipykernel)",
   "language": "python",
   "name": "python3"
  },
  "language_info": {
   "codemirror_mode": {
    "name": "ipython",
    "version": 3
   },
   "file_extension": ".py",
   "mimetype": "text/x-python",
   "name": "python",
   "nbconvert_exporter": "python",
   "pygments_lexer": "ipython3",
   "version": "3.9.18"
  },
  "toc-autonumbering": false,
  "toc-showcode": false,
  "toc-showmarkdowntxt": false
 },
 "nbformat": 4,
 "nbformat_minor": 5
}
