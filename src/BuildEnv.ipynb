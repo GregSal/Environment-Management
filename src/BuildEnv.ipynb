{
 "cells": [
  {
   "cell_type": "markdown",
   "id": "90ec1172-770f-4818-a960-1096827384ff",
   "metadata": {},
   "source": [
    "# Generate a Project Template"
   ]
  },
  {
   "cell_type": "markdown",
   "id": "0ebd7be0-ad2c-42d9-b7e7-0dc6940542ef",
   "metadata": {},
   "source": [
    "## Imports"
   ]
  },
  {
   "cell_type": "code",
   "execution_count": 55,
   "id": "87dd1769-5cad-4822-8276-4d854912f055",
   "metadata": {
    "tags": []
   },
   "outputs": [],
   "source": [
    "from typing import Dict, List\n",
    "\n",
    "import subprocess\n",
    "import json\n",
    "import re\n",
    "from pathlib import Path\n",
    "from dataclasses import dataclass, InitVar\n",
    "from pprint import pprint\n",
    "\n",
    "import pandas as pd\n"
   ]
  },
  {
   "cell_type": "code",
   "execution_count": 28,
   "id": "60ca5dd5",
   "metadata": {},
   "outputs": [],
   "source": [
    "from env_tools import AnacondaException, AbortedCmdException\n"
   ]
  },
  {
   "cell_type": "code",
   "execution_count": 29,
   "id": "0d6a6ebf",
   "metadata": {},
   "outputs": [],
   "source": [
    "from env_tools import console_command, activate_environment\n"
   ]
  },
  {
   "cell_type": "code",
   "execution_count": null,
   "id": "b4e89796",
   "metadata": {},
   "outputs": [],
   "source": [
    "from env_tools import save_env_specs, list_environments\n",
    "\n",
    "from env_tools import create_environment, remove_environment\n",
    "\n",
    "from env_tools import install_packages, pip_install_packages\n"
   ]
  },
  {
   "cell_type": "code",
   "execution_count": 31,
   "id": "d7064349",
   "metadata": {},
   "outputs": [],
   "source": [
    "# %% Initialize logging\n",
    "import logging  # pylint: disable=wrong-import-position wrong-import-order\n",
    "logging.basicConfig(level=logging.INFO,\n",
    "                    format='%(levelname)-8s %(message)s')\n",
    "logger = logging.getLogger(__name__)\n",
    "#logger.setLevel(logging.DEBUG)\n",
    "logger.setLevel(logging.INFO)\n"
   ]
  },
  {
   "cell_type": "markdown",
   "id": "849c6608-affe-47b2-9c55-9cbd872dc6d0",
   "metadata": {},
   "source": [
    "## Utility Functions"
   ]
  },
  {
   "cell_type": "code",
   "execution_count": 32,
   "id": "fe107bcb-5d6c-481f-9de1-f8be3fcd9e91",
   "metadata": {
    "tags": []
   },
   "outputs": [],
   "source": [
    "def add_folder(base: Path, name: str)->Path:\n",
    "    '''Make a subdirectory under base.\n",
    "\n",
    "    Generates a path to the subdirectory.\n",
    "    If it doesn't exist create it.\n",
    "\n",
    "    Args:\n",
    "        base (Path): The top folder (parent to the subdirectory).\n",
    "        name (str): The name of the subdirectory.\n",
    "\n",
    "    Returns:\n",
    "        Path: The path to the subdirectory.\n",
    "    '''\n",
    "    sub_folder = base / name\n",
    "    if not sub_folder.exists():\n",
    "        sub_folder.mkdir()\n",
    "    return sub_folder\n"
   ]
  },
  {
   "cell_type": "markdown",
   "id": "f4247a8a-b752-4304-868b-48779c33e60d",
   "metadata": {
    "tags": []
   },
   "source": [
    "### Anaconda utilities"
   ]
  },
  {
   "cell_type": "markdown",
   "id": "6963fdd5-9650-4b55-972d-7204a6fb4f49",
   "metadata": {},
   "source": [
    "## Package Creation"
   ]
  },
  {
   "cell_type": "markdown",
   "id": "c0718357-67b1-4582-b965-1be65dffe430",
   "metadata": {
    "tags": []
   },
   "source": [
    "### Create the new environment"
   ]
  },
  {
   "cell_type": "code",
   "execution_count": 33,
   "id": "204029d8",
   "metadata": {},
   "outputs": [],
   "source": [
    "new_env = 'Todoist'\n",
    "python_version = '3.11'\n"
   ]
  },
  {
   "cell_type": "code",
   "execution_count": 34,
   "id": "44ebfb2a",
   "metadata": {},
   "outputs": [
    {
     "name": "stderr",
     "output_type": "stream",
     "text": [
      "INFO     Creating environment for Todoist\n"
     ]
    }
   ],
   "source": [
    "create_output = create_environment(new_env, python_version)\n"
   ]
  },
  {
   "cell_type": "markdown",
   "id": "85f7325a",
   "metadata": {},
   "source": [
    "#### Sample of `create` output"
   ]
  },
  {
   "cell_type": "code",
   "execution_count": 58,
   "id": "647cbf3c",
   "metadata": {},
   "outputs": [
    {
     "name": "stdout",
     "output_type": "stream",
     "text": [
      "['actions', 'prefix', 'success']\n",
      "True\n",
      "C:\\Users\\smoke\\.conda\\envs\\Todoist\n",
      "dict_keys(['FETCH', 'LINK', 'PREFIX'])\n",
      "{'base_url': 'https://conda.anaconda.org/conda-forge',\n",
      " 'build_number': 0,\n",
      " 'build_string': 'h56e8100_0',\n",
      " 'channel': 'conda-forge',\n",
      " 'dist_name': 'ca-certificates-2023.7.22-h56e8100_0',\n",
      " 'name': 'ca-certificates',\n",
      " 'platform': 'win-64',\n",
      " 'version': '2023.7.22'}\n"
     ]
    }
   ],
   "source": [
    "print(list(create_output.keys()))\n",
    "print(create_output['success'])\n",
    "print(create_output['prefix'])\n",
    "print(create_output['actions'].keys())\n",
    "if len(create_output['actions']['LINK']) > 0:\n",
    "    pprint(create_output['actions']['LINK'][0])\n"
   ]
  },
  {
   "cell_type": "markdown",
   "id": "120f909f",
   "metadata": {},
   "source": [
    "### Install the Packages"
   ]
  },
  {
   "cell_type": "markdown",
   "id": "5bb78d10",
   "metadata": {},
   "source": [
    "#### Packages to include in the Conda Environment"
   ]
  },
  {
   "cell_type": "code",
   "execution_count": 36,
   "id": "645c5f23",
   "metadata": {},
   "outputs": [],
   "source": [
    "primary_package_list = [\n",
    "    'pysimplegui',\n",
    "    'pandas',\n",
    "    'xlwings',\n",
    "    ]\n",
    "tools_package_list = [\n",
    "    'spyder',\n",
    "    'jupyterlab',\n",
    "    'ipykernel',\n",
    "    'pylint',\n",
    "    ]\n",
    "package_list = primary_package_list + tools_package_list\n"
   ]
  },
  {
   "cell_type": "code",
   "execution_count": 37,
   "id": "03bfbf64",
   "metadata": {},
   "outputs": [],
   "source": [
    "install_output = install_packages(new_env, package_list)\n"
   ]
  },
  {
   "cell_type": "markdown",
   "id": "f981ce18",
   "metadata": {},
   "source": [
    "#### Sample of `install` output"
   ]
  },
  {
   "cell_type": "code",
   "execution_count": null,
   "id": "c3b2c149",
   "metadata": {},
   "outputs": [],
   "source": [
    "print(list(install_output.keys()))\n",
    "print(install_output['success'])\n",
    "print(install_output['prefix'])\n",
    "print(install_output['actions'].keys())\n",
    "if len(install_output['actions']['LINK']) > 0:\n",
    "    pprint(install_output['actions']['LINK'][0])\n"
   ]
  },
  {
   "cell_type": "markdown",
   "id": "0c5a4d1d",
   "metadata": {},
   "source": [
    "### Install packages using `pip`"
   ]
  },
  {
   "cell_type": "code",
   "execution_count": null,
   "id": "14afbf86",
   "metadata": {},
   "outputs": [],
   "source": [
    "# packages that are not available from Conda\n",
    "pip_package_list = [\n",
    "    'todoist-api-python',\n",
    "    'units'\n",
    "    ]\n"
   ]
  },
  {
   "cell_type": "code",
   "execution_count": null,
   "id": "fe6d97e4",
   "metadata": {},
   "outputs": [],
   "source": [
    "pip_install_output = pip_install_packages('Todoist', pip_package_list)\n"
   ]
  },
  {
   "cell_type": "code",
   "execution_count": null,
   "id": "fc0de6ac",
   "metadata": {},
   "outputs": [],
   "source": [
    "pprint(pip_install_output)\n"
   ]
  },
  {
   "cell_type": "markdown",
   "id": "7a20737f",
   "metadata": {},
   "source": [
    "### Delete the Conda Environment"
   ]
  },
  {
   "cell_type": "code",
   "execution_count": 39,
   "id": "76b52998",
   "metadata": {},
   "outputs": [],
   "source": [
    "# Identify the Conda Environment path\n",
    "env_path = Path(install_output['prefix'])\n"
   ]
  },
  {
   "cell_type": "code",
   "execution_count": null,
   "id": "88cc8351",
   "metadata": {},
   "outputs": [],
   "source": [
    "delete_output = remove_environment(env_path)\n"
   ]
  },
  {
   "cell_type": "markdown",
   "id": "c4511ec0",
   "metadata": {},
   "source": [
    "#### Sample of `delete` output"
   ]
  },
  {
   "cell_type": "code",
   "execution_count": null,
   "id": "03e47ff3",
   "metadata": {},
   "outputs": [],
   "source": [
    "print(delete_output.keys())\n",
    "print(delete_output['actions'].keys())\n",
    "if len(install_output['actions']['UNLINK']) > 0:\n",
    "    print(install_output['actions']['UNLINK'][0])\n"
   ]
  },
  {
   "cell_type": "markdown",
   "id": "51a31df5",
   "metadata": {},
   "source": [
    "# Done To Here"
   ]
  },
  {
   "cell_type": "code",
   "execution_count": 40,
   "id": "e4dc51a5",
   "metadata": {},
   "outputs": [
    {
     "data": {
      "text/plain": [
       "[('base', WindowsPath('C:/ProgramData/Anaconda3')),\n",
       " ('Graphs', WindowsPath('C:/ProgramData/Anaconda3/envs/Graphs')),\n",
       " ('C2', WindowsPath('C:/Users/smoke/.conda/envs/C2')),\n",
       " ('EDW_QA', WindowsPath('C:/Users/smoke/.conda/envs/EDW_QA')),\n",
       " ('FormExtraction', WindowsPath('C:/Users/smoke/.conda/envs/FormExtraction')),\n",
       " ('McMedHack', WindowsPath('C:/Users/smoke/.conda/envs/McMedHack')),\n",
       " ('Standard', WindowsPath('C:/Users/smoke/.conda/envs/Standard')),\n",
       " ('TestPathDev', WindowsPath('C:/Users/smoke/.conda/envs/TestPathDev')),\n",
       " ('Todoist', WindowsPath('C:/Users/smoke/.conda/envs/Todoist')),\n",
       " ('sectionary', WindowsPath('C:/Users/smoke/.conda/envs/sectionary')),\n",
       " ('sectionaryDev', WindowsPath('C:/Users/smoke/.conda/envs/sectionaryDev')),\n",
       " ('variandb_relations',\n",
       "  WindowsPath('C:/Users/smoke/.conda/envs/variandb_relations'))]"
      ]
     },
     "execution_count": 40,
     "metadata": {},
     "output_type": "execute_result"
    }
   ],
   "source": [
    "list_environments()\n"
   ]
  },
  {
   "cell_type": "code",
   "execution_count": 61,
   "id": "e40c425e",
   "metadata": {},
   "outputs": [],
   "source": [
    "from env_tools import EnvRef\n",
    "from env_tools import set_env_ref\n"
   ]
  },
  {
   "cell_type": "markdown",
   "id": "a6ecc575-b7a6-4739-8693-3fa873cb18e5",
   "metadata": {},
   "source": [
    "### Write the Log Data generated during the Conda Environment install"
   ]
  },
  {
   "cell_type": "markdown",
   "id": "606d3c70",
   "metadata": {},
   "source": [
    "**TODO:**\n",
    "1. Generate Json file with output logs\n",
    "2. generate a spreadsheet with multiple tables containing relevant project info.\n",
    "   1. Package list:\n",
    "      1. Package parsing must allow for 1, 2, or 3 parts.\n",
    "      2. Package parsing must allow for '=' or '==' separators.\n",
    "      3. If \"from-history\" used, pip installs are not returned; need to get those separately.\n",
    "   2. Install parameters\n",
    "      1. Name, prefix, channels\n",
    "      2. List of channels should be converted to strings.\n",
    "   3. Relevant folders and paths\n",
    "      1. Project folders\n",
    "      2. python search paths\n",
    "      3. Other tools installed e.g. Jupyter, Xlwings\n"
   ]
  },
  {
   "cell_type": "markdown",
   "id": "bbb46b72",
   "metadata": {},
   "source": [
    "Get package Info has two different functionalities:\n",
    "   1. Generate spreadsheet with package info\n",
    "   2. Provide package lookup"
   ]
  },
  {
   "cell_type": "code",
   "execution_count": null,
   "id": "a2c9b49d",
   "metadata": {},
   "outputs": [],
   "source": [
    "environment_logs = {'Create': create_output,\n",
    "                    'Install': install_output,\n",
    "                    'Pip Install':pip_install_output }\n"
   ]
  },
  {
   "cell_type": "code",
   "execution_count": null,
   "id": "9e40482b",
   "metadata": {},
   "outputs": [],
   "source": [
    "project_folder = Path(r\"D:\\OneDrive - Queen's University\\Python\\Projects\\ToDoIst Projects\\Turkey\")\n",
    "env_folder = add_folder(project_folder, 'environment')\n"
   ]
  },
  {
   "cell_type": "code",
   "execution_count": 65,
   "id": "e14702f4",
   "metadata": {},
   "outputs": [],
   "source": [
    "env_ref = new_env\n"
   ]
  },
  {
   "cell_type": "code",
   "execution_count": 66,
   "id": "eac30826",
   "metadata": {},
   "outputs": [],
   "source": [
    "env_name, env_cmd_ref = set_env_ref(env_ref)\n"
   ]
  },
  {
   "cell_type": "code",
   "execution_count": 69,
   "id": "4fd00d38",
   "metadata": {},
   "outputs": [],
   "source": [
    "package_cmd = 'conda env export --json '\n",
    "package_cmd += env_cmd_ref\n"
   ]
  },
  {
   "cell_type": "code",
   "execution_count": 70,
   "id": "74a243e9",
   "metadata": {},
   "outputs": [],
   "source": [
    "pkg_output = console_command(package_cmd, AnacondaException,\n",
    "                f'Error getting packages from {env_name}.')\n"
   ]
  },
  {
   "cell_type": "code",
   "execution_count": 72,
   "id": "a151998b",
   "metadata": {},
   "outputs": [],
   "source": [
    "pkg_dict = json.loads(pkg_output)\n"
   ]
  },
  {
   "cell_type": "code",
   "execution_count": 78,
   "id": "74f00c4a",
   "metadata": {},
   "outputs": [
    {
     "data": {
      "text/html": [
       "<div>\n",
       "<style scoped>\n",
       "    .dataframe tbody tr th:only-of-type {\n",
       "        vertical-align: middle;\n",
       "    }\n",
       "\n",
       "    .dataframe tbody tr th {\n",
       "        vertical-align: top;\n",
       "    }\n",
       "\n",
       "    .dataframe thead th {\n",
       "        text-align: right;\n",
       "    }\n",
       "</style>\n",
       "<table border=\"1\" class=\"dataframe\">\n",
       "  <thead>\n",
       "    <tr style=\"text-align: right;\">\n",
       "      <th></th>\n",
       "      <th>PackageName</th>\n",
       "      <th>PackageVersion</th>\n",
       "      <th>PackageIndex</th>\n",
       "      <th>PIP</th>\n",
       "    </tr>\n",
       "  </thead>\n",
       "  <tbody>\n",
       "    <tr>\n",
       "      <th>0</th>\n",
       "      <td>alabaster</td>\n",
       "      <td>0.7.13</td>\n",
       "      <td>pyhd8ed1ab_0</td>\n",
       "      <td>False</td>\n",
       "    </tr>\n",
       "    <tr>\n",
       "      <th>1</th>\n",
       "      <td>anyio</td>\n",
       "      <td>4.0.0</td>\n",
       "      <td>pyhd8ed1ab_0</td>\n",
       "      <td>False</td>\n",
       "    </tr>\n",
       "    <tr>\n",
       "      <th>2</th>\n",
       "      <td>argon2-cffi</td>\n",
       "      <td>23.1.0</td>\n",
       "      <td>pyhd8ed1ab_0</td>\n",
       "      <td>False</td>\n",
       "    </tr>\n",
       "    <tr>\n",
       "      <th>3</th>\n",
       "      <td>argon2-cffi-bindings</td>\n",
       "      <td>21.2.0</td>\n",
       "      <td>py311ha68e1ae_4</td>\n",
       "      <td>False</td>\n",
       "    </tr>\n",
       "    <tr>\n",
       "      <th>4</th>\n",
       "      <td>arrow</td>\n",
       "      <td>1.3.0</td>\n",
       "      <td>pyhd8ed1ab_0</td>\n",
       "      <td>False</td>\n",
       "    </tr>\n",
       "    <tr>\n",
       "      <th>...</th>\n",
       "      <td>...</td>\n",
       "      <td>...</td>\n",
       "      <td>...</td>\n",
       "      <td>...</td>\n",
       "    </tr>\n",
       "    <tr>\n",
       "      <th>252</th>\n",
       "      <td>yaml</td>\n",
       "      <td>0.2.5</td>\n",
       "      <td>h8ffe710_2</td>\n",
       "      <td>False</td>\n",
       "    </tr>\n",
       "    <tr>\n",
       "      <th>253</th>\n",
       "      <td>yapf</td>\n",
       "      <td>0.40.1</td>\n",
       "      <td>pyhd8ed1ab_0</td>\n",
       "      <td>False</td>\n",
       "    </tr>\n",
       "    <tr>\n",
       "      <th>254</th>\n",
       "      <td>zeromq</td>\n",
       "      <td>4.3.4</td>\n",
       "      <td>h0e60522_1</td>\n",
       "      <td>False</td>\n",
       "    </tr>\n",
       "    <tr>\n",
       "      <th>255</th>\n",
       "      <td>zipp</td>\n",
       "      <td>3.17.0</td>\n",
       "      <td>pyhd8ed1ab_0</td>\n",
       "      <td>False</td>\n",
       "    </tr>\n",
       "    <tr>\n",
       "      <th>256</th>\n",
       "      <td>zstd</td>\n",
       "      <td>1.5.5</td>\n",
       "      <td>h12be248_0</td>\n",
       "      <td>False</td>\n",
       "    </tr>\n",
       "  </tbody>\n",
       "</table>\n",
       "<p>257 rows × 4 columns</p>\n",
       "</div>"
      ],
      "text/plain": [
       "              PackageName PackageVersion     PackageIndex    PIP\n",
       "0               alabaster         0.7.13     pyhd8ed1ab_0  False\n",
       "1                   anyio          4.0.0     pyhd8ed1ab_0  False\n",
       "2             argon2-cffi         23.1.0     pyhd8ed1ab_0  False\n",
       "3    argon2-cffi-bindings         21.2.0  py311ha68e1ae_4  False\n",
       "4                   arrow          1.3.0     pyhd8ed1ab_0  False\n",
       "..                    ...            ...              ...    ...\n",
       "252                  yaml          0.2.5       h8ffe710_2  False\n",
       "253                  yapf         0.40.1     pyhd8ed1ab_0  False\n",
       "254                zeromq          4.3.4       h0e60522_1  False\n",
       "255                  zipp         3.17.0     pyhd8ed1ab_0  False\n",
       "256                  zstd          1.5.5       h12be248_0  False\n",
       "\n",
       "[257 rows x 4 columns]"
      ]
     },
     "execution_count": 78,
     "metadata": {},
     "output_type": "execute_result"
    }
   ],
   "source": [
    "pkg_list = pkg_dict['dependencies']\n",
    "packages = []\n",
    "for pkg_str in pkg_list:\n",
    "    if isinstance(pkg_str,dict):\n",
    "        # Put pip package parser here\n",
    "        pass\n",
    "    else:\n",
    "        name, version, ref = pkg_str.split('=')\n",
    "        packages.append({\n",
    "            'PackageName': name,\n",
    "            'PackageVersion': version,\n",
    "            'PackageIndex': ref,\n",
    "            'PIP': False\n",
    "            })\n",
    "package_table = pd.DataFrame(packages)\n",
    "package_table\n"
   ]
  },
  {
   "cell_type": "code",
   "execution_count": 73,
   "id": "4cbd76e6",
   "metadata": {},
   "outputs": [
    {
     "name": "stdout",
     "output_type": "stream",
     "text": [
      "{'channels': ['conda-forge', 'bioconda', 'defaults'],\n",
      " 'dependencies': ['alabaster=0.7.13=pyhd8ed1ab_0',\n",
      "                  'anyio=4.0.0=pyhd8ed1ab_0',\n",
      "                  'argon2-cffi=23.1.0=pyhd8ed1ab_0',\n",
      "                  'argon2-cffi-bindings=21.2.0=py311ha68e1ae_4',\n",
      "                  'arrow=1.3.0=pyhd8ed1ab_0',\n",
      "                  'astroid=2.15.8=py311h1ea47a8_0',\n",
      "                  'asttokens=2.4.0=pyhd8ed1ab_0',\n",
      "                  'async-lru=2.0.4=pyhd8ed1ab_0',\n",
      "                  'atomicwrites=1.4.1=pyhd8ed1ab_0',\n",
      "                  'attrs=23.1.0=pyh71513ae_1',\n",
      "                  'autopep8=2.0.4=pyhd8ed1ab_0',\n",
      "                  'babel=2.13.0=pyhd8ed1ab_0',\n",
      "                  'backcall=0.2.0=pyh9f0ad1d_0',\n",
      "                  'backports=1.0=pyhd8ed1ab_3',\n",
      "                  'backports.functools_lru_cache=1.6.5=pyhd8ed1ab_0',\n",
      "                  'bcrypt=4.0.1=py311hc37eb10_1',\n",
      "                  'beautifulsoup4=4.12.2=pyha770c72_0',\n",
      "                  'binaryornot=0.4.4=py_1',\n",
      "                  'black=23.9.1=py311h1ea47a8_1',\n",
      "                  'bleach=6.1.0=pyhd8ed1ab_0',\n",
      "                  'brotli-python=1.1.0=py311h12c1d0e_1',\n",
      "                  'bzip2=1.0.8=h8ffe710_4',\n",
      "                  'ca-certificates=2023.7.22=h56e8100_0',\n",
      "                  'cached-property=1.5.2=hd8ed1ab_1',\n",
      "                  'cached_property=1.5.2=pyha770c72_1',\n",
      "                  'certifi=2023.7.22=pyhd8ed1ab_0',\n",
      "                  'cffi=1.16.0=py311ha68e1ae_0',\n",
      "                  'chardet=5.2.0=py311h1ea47a8_1',\n",
      "                  'charset-normalizer=3.3.0=pyhd8ed1ab_0',\n",
      "                  'click=8.1.7=win_pyh7428d3b_0',\n",
      "                  'cloudpickle=2.2.1=pyhd8ed1ab_0',\n",
      "                  'colorama=0.4.6=pyhd8ed1ab_0',\n",
      "                  'comm=0.1.4=pyhd8ed1ab_0',\n",
      "                  'cookiecutter=2.4.0=pyhca7485f_0',\n",
      "                  'cryptography=41.0.4=py311h28e9c30_0',\n",
      "                  'debugpy=1.8.0=py311h12c1d0e_1',\n",
      "                  'decorator=5.1.1=pyhd8ed1ab_0',\n",
      "                  'defusedxml=0.7.1=pyhd8ed1ab_0',\n",
      "                  'diff-match-patch=20230430=pyhd8ed1ab_0',\n",
      "                  'dill=0.3.7=pyhd8ed1ab_0',\n",
      "                  'docstring-to-markdown=0.13=pyhd8ed1ab_0',\n",
      "                  'docutils=0.20.1=py311h1ea47a8_2',\n",
      "                  'entrypoints=0.4=pyhd8ed1ab_0',\n",
      "                  'exceptiongroup=1.1.3=pyhd8ed1ab_0',\n",
      "                  'executing=1.2.0=pyhd8ed1ab_0',\n",
      "                  'flake8=6.0.0=pyhd8ed1ab_0',\n",
      "                  'fqdn=1.5.1=pyhd8ed1ab_0',\n",
      "                  'gettext=0.21.1=h5728263_0',\n",
      "                  'glib=2.78.0=h12be248_0',\n",
      "                  'glib-tools=2.78.0=h12be248_0',\n",
      "                  'gst-plugins-base=1.22.6=h001b923_2',\n",
      "                  'gstreamer=1.22.6=hb4038d2_2',\n",
      "                  'icu=72.1=h63175ca_0',\n",
      "                  'idna=3.4=pyhd8ed1ab_0',\n",
      "                  'imagesize=1.4.1=pyhd8ed1ab_0',\n",
      "                  'importlib-metadata=6.8.0=pyha770c72_0',\n",
      "                  'importlib_metadata=6.8.0=hd8ed1ab_0',\n",
      "                  'importlib_resources=6.1.0=pyhd8ed1ab_0',\n",
      "                  'inflection=0.5.1=pyh9f0ad1d_0',\n",
      "                  'intel-openmp=2023.2.0=h57928b3_50496',\n",
      "                  'intervaltree=3.1.0=pyhd8ed1ab_1',\n",
      "                  'ipykernel=6.25.2=pyh60829e3_0',\n",
      "                  'ipython=8.16.1=pyh5737063_0',\n",
      "                  'ipython_genutils=0.2.0=py_1',\n",
      "                  'isoduration=20.11.0=pyhd8ed1ab_0',\n",
      "                  'isort=5.12.0=pyhd8ed1ab_1',\n",
      "                  'jaraco.classes=3.3.0=pyhd8ed1ab_0',\n",
      "                  'jedi=0.18.2=pyhd8ed1ab_0',\n",
      "                  'jellyfish=1.0.1=py311hc37eb10_1',\n",
      "                  'jinja2=3.1.2=pyhd8ed1ab_1',\n",
      "                  'json5=0.9.14=pyhd8ed1ab_0',\n",
      "                  'jsonpointer=2.4=py311h1ea47a8_3',\n",
      "                  'jsonschema=4.19.1=pyhd8ed1ab_0',\n",
      "                  'jsonschema-specifications=2023.7.1=pyhd8ed1ab_0',\n",
      "                  'jsonschema-with-format-nongpl=4.19.1=pyhd8ed1ab_0',\n",
      "                  'jupyter-lsp=2.2.0=pyhd8ed1ab_0',\n",
      "                  'jupyter_client=8.4.0=pyhd8ed1ab_0',\n",
      "                  'jupyter_core=5.4.0=py311h1ea47a8_0',\n",
      "                  'jupyter_events=0.7.0=pyhd8ed1ab_2',\n",
      "                  'jupyter_server=2.7.3=pyhd8ed1ab_1',\n",
      "                  'jupyter_server_terminals=0.4.4=pyhd8ed1ab_1',\n",
      "                  'jupyterlab=4.0.7=pyhd8ed1ab_0',\n",
      "                  'jupyterlab_pygments=0.2.2=pyhd8ed1ab_0',\n",
      "                  'jupyterlab_server=2.25.0=pyhd8ed1ab_0',\n",
      "                  'keyring=24.2.0=py311h1ea47a8_1',\n",
      "                  'krb5=1.20.1=heb0366b_0',\n",
      "                  'lazy-object-proxy=1.9.0=py311ha68e1ae_1',\n",
      "                  'libblas=3.9.0=18_win64_mkl',\n",
      "                  'libcblas=3.9.0=18_win64_mkl',\n",
      "                  'libclang=16.0.6=default_heb8d277_1',\n",
      "                  'libclang13=16.0.6=default_hc80b9e7_1',\n",
      "                  'libexpat=2.5.0=h63175ca_1',\n",
      "                  'libffi=3.4.2=h8ffe710_5',\n",
      "                  'libglib=2.78.0=he8f3873_0',\n",
      "                  'libhwloc=2.9.3=default_haede6df_1009',\n",
      "                  'libiconv=1.17=h8ffe710_0',\n",
      "                  'libjpeg-turbo=2.1.5.1=hcfcfb64_1',\n",
      "                  'liblapack=3.9.0=18_win64_mkl',\n",
      "                  'libogg=1.3.4=h8ffe710_1',\n",
      "                  'libpng=1.6.39=h19919ed_0',\n",
      "                  'libsodium=1.0.18=h8d14728_1',\n",
      "                  'libspatialindex=1.9.3=h39d44d4_4',\n",
      "                  'libsqlite=3.43.2=hcfcfb64_0',\n",
      "                  'libvorbis=1.3.7=h0e60522_0',\n",
      "                  'libwebp=1.3.2=hcfcfb64_1',\n",
      "                  'libwebp-base=1.3.2=hcfcfb64_0',\n",
      "                  'libxml2=2.11.5=hc3477c8_1',\n",
      "                  'libzlib=1.2.13=hcfcfb64_5',\n",
      "                  'markdown-it-py=3.0.0=pyhd8ed1ab_0',\n",
      "                  'markupsafe=2.1.3=py311ha68e1ae_1',\n",
      "                  'matplotlib-inline=0.1.6=pyhd8ed1ab_0',\n",
      "                  'mccabe=0.7.0=pyhd8ed1ab_0',\n",
      "                  'mdurl=0.1.0=pyhd8ed1ab_0',\n",
      "                  'mistune=3.0.1=pyhd8ed1ab_0',\n",
      "                  'mkl=2022.1.0=h6a75c08_874',\n",
      "                  'more-itertools=10.1.0=pyhd8ed1ab_0',\n",
      "                  'mypy_extensions=1.0.0=pyha770c72_0',\n",
      "                  'nbclient=0.8.0=pyhd8ed1ab_0',\n",
      "                  'nbconvert=7.9.2=pyhd8ed1ab_0',\n",
      "                  'nbconvert-core=7.9.2=pyhd8ed1ab_0',\n",
      "                  'nbconvert-pandoc=7.9.2=pyhd8ed1ab_0',\n",
      "                  'nbformat=5.9.2=pyhd8ed1ab_0',\n",
      "                  'nest-asyncio=1.5.8=pyhd8ed1ab_0',\n",
      "                  'notebook-shim=0.2.3=pyhd8ed1ab_0',\n",
      "                  'numpy=1.26.0=py311h0b4df5a_0',\n",
      "                  'numpydoc=1.5.0=pyhd8ed1ab_0',\n",
      "                  'openssl=3.1.3=hcfcfb64_0',\n",
      "                  'overrides=7.4.0=pyhd8ed1ab_0',\n",
      "                  'packaging=23.2=pyhd8ed1ab_0',\n",
      "                  'pandas=2.1.1=py311hf63dbb6_1',\n",
      "                  'pandoc=3.1.3=h57928b3_0',\n",
      "                  'pandocfilters=1.5.0=pyhd8ed1ab_0',\n",
      "                  'paramiko=3.3.1=pyhd8ed1ab_0',\n",
      "                  'parso=0.8.3=pyhd8ed1ab_0',\n",
      "                  'pathspec=0.11.2=pyhd8ed1ab_0',\n",
      "                  'pcre2=10.40=h17e33f8_0',\n",
      "                  'pexpect=4.8.0=pyh1a96a4e_2',\n",
      "                  'pickleshare=0.7.5=py_1003',\n",
      "                  'pip=23.2.1=pyhd8ed1ab_0',\n",
      "                  'pkgutil-resolve-name=1.3.10=pyhd8ed1ab_1',\n",
      "                  'platformdirs=3.11.0=pyhd8ed1ab_0',\n",
      "                  'pluggy=1.3.0=pyhd8ed1ab_0',\n",
      "                  'ply=3.11=py_1',\n",
      "                  'prometheus_client=0.17.1=pyhd8ed1ab_0',\n",
      "                  'prompt-toolkit=3.0.39=pyha770c72_0',\n",
      "                  'prompt_toolkit=3.0.39=hd8ed1ab_0',\n",
      "                  'psutil=5.9.5=py311ha68e1ae_1',\n",
      "                  'pthreads-win32=2.9.1=hfa6e2cd_3',\n",
      "                  'ptyprocess=0.7.0=pyhd3deb0d_0',\n",
      "                  'pure_eval=0.2.2=pyhd8ed1ab_0',\n",
      "                  'pycodestyle=2.10.0=pyhd8ed1ab_0',\n",
      "                  'pycparser=2.21=pyhd8ed1ab_0',\n",
      "                  'pydocstyle=6.3.0=pyhd8ed1ab_0',\n",
      "                  'pyflakes=3.0.1=pyhd8ed1ab_0',\n",
      "                  'pygments=2.16.1=pyhd8ed1ab_0',\n",
      "                  'pylint=2.17.7=pyhd8ed1ab_0',\n",
      "                  'pylint-venv=3.0.2=pyhd8ed1ab_0',\n",
      "                  'pyls-spyder=0.4.0=pyhd8ed1ab_0',\n",
      "                  'pynacl=1.5.0=py311hd53affc_3',\n",
      "                  'pyqt=5.15.9=py311h125bc19_5',\n",
      "                  'pyqt5-sip=12.12.2=py311h12c1d0e_5',\n",
      "                  'pyqtwebengine=5.15.9=py311h5a77453_5',\n",
      "                  'pysimplegui=4.60.5=pyhd8ed1ab_0',\n",
      "                  'pysocks=1.7.1=pyh0701188_6',\n",
      "                  'python=3.11.6=h2628c8c_0_cpython',\n",
      "                  'python-dateutil=2.8.2=pyhd8ed1ab_0',\n",
      "                  'python-fastjsonschema=2.18.1=pyhd8ed1ab_0',\n",
      "                  'python-json-logger=2.0.7=pyhd8ed1ab_0',\n",
      "                  'python-lsp-black=1.3.0=pyhd8ed1ab_0',\n",
      "                  'python-lsp-jsonrpc=1.1.2=pyhd8ed1ab_0',\n",
      "                  'python-lsp-server=1.7.4=pyhd8ed1ab_0',\n",
      "                  'python-lsp-server-base=1.7.4=pyhd8ed1ab_0',\n",
      "                  'python-slugify=8.0.1=pyhd8ed1ab_2',\n",
      "                  'python-tzdata=2023.3=pyhd8ed1ab_0',\n",
      "                  'python_abi=3.11=4_cp311',\n",
      "                  'pytoolconfig=1.2.5=pyhd8ed1ab_0',\n",
      "                  'pytz=2023.3.post1=pyhd8ed1ab_0',\n",
      "                  'pywin32=306=py311h12c1d0e_2',\n",
      "                  'pywin32-ctypes=0.2.2=py311h1ea47a8_1',\n",
      "                  'pywinpty=2.0.12=py311h12c1d0e_0',\n",
      "                  'pyyaml=6.0.1=py311ha68e1ae_1',\n",
      "                  'pyzmq=25.1.1=py311h7b3f143_1',\n",
      "                  'qdarkstyle=3.1=pyhd8ed1ab_0',\n",
      "                  'qstylizer=0.2.2=pyhd8ed1ab_0',\n",
      "                  'qt-main=5.15.8=h2c8576c_12',\n",
      "                  'qt-webengine=5.15.8=h5b1ea0b_0',\n",
      "                  'qtawesome=1.2.3=pyhd8ed1ab_0',\n",
      "                  'qtconsole=5.4.4=pyhd8ed1ab_0',\n",
      "                  'qtconsole-base=5.4.4=pyha770c72_0',\n",
      "                  'qtpy=2.4.0=pyhd8ed1ab_0',\n",
      "                  'referencing=0.30.2=pyhd8ed1ab_0',\n",
      "                  'requests=2.31.0=pyhd8ed1ab_0',\n",
      "                  'rfc3339-validator=0.1.4=pyhd8ed1ab_0',\n",
      "                  'rfc3986-validator=0.1.1=pyh9f0ad1d_0',\n",
      "                  'rich=13.6.0=pyhd8ed1ab_0',\n",
      "                  'rope=1.10.0=pyhd8ed1ab_0',\n",
      "                  'rpds-py=0.10.6=py311hc37eb10_0',\n",
      "                  'rtree=1.0.1=py311hcacb13a_3',\n",
      "                  'send2trash=1.8.2=pyh08f2357_0',\n",
      "                  'setuptools=68.2.2=pyhd8ed1ab_0',\n",
      "                  'sip=6.7.12=py311h12c1d0e_0',\n",
      "                  'six=1.16.0=pyh6c4a22f_0',\n",
      "                  'sniffio=1.3.0=pyhd8ed1ab_0',\n",
      "                  'snowballstemmer=2.2.0=pyhd8ed1ab_0',\n",
      "                  'sortedcontainers=2.4.0=pyhd8ed1ab_0',\n",
      "                  'soupsieve=2.5=pyhd8ed1ab_1',\n",
      "                  'sphinx=7.2.6=pyhd8ed1ab_0',\n",
      "                  'sphinxcontrib-applehelp=1.0.7=pyhd8ed1ab_0',\n",
      "                  'sphinxcontrib-devhelp=1.0.5=pyhd8ed1ab_0',\n",
      "                  'sphinxcontrib-htmlhelp=2.0.4=pyhd8ed1ab_0',\n",
      "                  'sphinxcontrib-jsmath=1.0.1=pyhd8ed1ab_0',\n",
      "                  'sphinxcontrib-qthelp=1.0.6=pyhd8ed1ab_0',\n",
      "                  'sphinxcontrib-serializinghtml=1.1.9=pyhd8ed1ab_0',\n",
      "                  'spyder=5.4.5=py311h1ea47a8_0',\n",
      "                  'spyder-kernels=2.4.4=win_pyh7428d3b_0',\n",
      "                  'stack_data=0.6.2=pyhd8ed1ab_0',\n",
      "                  'tbb=2021.10.0=h91493d7_1',\n",
      "                  'terminado=0.17.0=pyh08f2357_0',\n",
      "                  'text-unidecode=1.3=pyhd8ed1ab_1',\n",
      "                  'textdistance=4.5.0=pyhd8ed1ab_0',\n",
      "                  'three-merge=0.1.1=pyh9f0ad1d_0',\n",
      "                  'tinycss2=1.2.1=pyhd8ed1ab_0',\n",
      "                  'tk=8.6.13=hcfcfb64_0',\n",
      "                  'toml=0.10.2=pyhd8ed1ab_0',\n",
      "                  'tomli=2.0.1=pyhd8ed1ab_0',\n",
      "                  'tomlkit=0.12.1=pyha770c72_0',\n",
      "                  'tornado=6.3.3=py311ha68e1ae_1',\n",
      "                  'traitlets=5.11.2=pyhd8ed1ab_0',\n",
      "                  'types-python-dateutil=2.8.19.14=pyhd8ed1ab_0',\n",
      "                  'typing-extensions=4.8.0=hd8ed1ab_0',\n",
      "                  'typing_extensions=4.8.0=pyha770c72_0',\n",
      "                  'typing_utils=0.1.0=pyhd8ed1ab_0',\n",
      "                  'tzdata=2023c=h71feb2d_0',\n",
      "                  'ucrt=10.0.22621.0=h57928b3_0',\n",
      "                  'ujson=5.8.0=py311h12c1d0e_0',\n",
      "                  'uri-template=1.3.0=pyhd8ed1ab_0',\n",
      "                  'urllib3=2.0.6=pyhd8ed1ab_0',\n",
      "                  'vc=14.3=h64f974e_17',\n",
      "                  'vc14_runtime=14.36.32532=hdcecf7f_17',\n",
      "                  'vs2015_runtime=14.36.32532=h05e6639_17',\n",
      "                  'watchdog=3.0.0=py311h1ea47a8_1',\n",
      "                  'wcwidth=0.2.8=pyhd8ed1ab_0',\n",
      "                  'webcolors=1.13=pyhd8ed1ab_0',\n",
      "                  'webencodings=0.5.1=pyhd8ed1ab_2',\n",
      "                  'websocket-client=1.6.4=pyhd8ed1ab_0',\n",
      "                  'whatthepatch=1.0.5=pyhd8ed1ab_0',\n",
      "                  'wheel=0.41.2=pyhd8ed1ab_0',\n",
      "                  'win_inet_pton=1.1.0=pyhd8ed1ab_6',\n",
      "                  'winpty=0.4.3=4',\n",
      "                  'wrapt=1.15.0=py311ha68e1ae_1',\n",
      "                  'xlwings=0.30.12=py311h1ea47a8_1',\n",
      "                  'xz=5.2.6=h8d14728_0',\n",
      "                  'yaml=0.2.5=h8ffe710_2',\n",
      "                  'yapf=0.40.1=pyhd8ed1ab_0',\n",
      "                  'zeromq=4.3.4=h0e60522_1',\n",
      "                  'zipp=3.17.0=pyhd8ed1ab_0',\n",
      "                  'zstd=1.5.5=h12be248_0',\n",
      "                  {'pip': ['todoist-api-python==2.1.3', 'units==0.7']}],\n",
      " 'name': 'Todoist',\n",
      " 'prefix': 'C:\\\\Users\\\\smoke\\\\.conda\\\\envs\\\\Todoist'}\n"
     ]
    }
   ],
   "source": [
    "pprint(pkg_dict)\n"
   ]
  },
  {
   "cell_type": "code",
   "execution_count": 92,
   "id": "882ce2a0",
   "metadata": {},
   "outputs": [
    {
     "data": {
      "text/plain": [
       "dict_keys(['channels', 'dependencies', 'name', 'prefix'])"
      ]
     },
     "execution_count": 92,
     "metadata": {},
     "output_type": "execute_result"
    }
   ],
   "source": [
    "pkg_dict.keys()\n"
   ]
  },
  {
   "cell_type": "code",
   "execution_count": 93,
   "id": "9c1b6518",
   "metadata": {},
   "outputs": [],
   "source": [
    "dependencies = pkg_dict.pop('dependencies')\n"
   ]
  },
  {
   "cell_type": "code",
   "execution_count": 95,
   "id": "a1ae4d60",
   "metadata": {},
   "outputs": [
    {
     "data": {
      "text/plain": [
       "{'channels': ['conda-forge', 'bioconda', 'defaults'],\n",
       " 'name': 'Todoist',\n",
       " 'prefix': 'C:\\\\Users\\\\smoke\\\\.conda\\\\envs\\\\Todoist'}"
      ]
     },
     "execution_count": 95,
     "metadata": {},
     "output_type": "execute_result"
    }
   ],
   "source": [
    "pkg_dict\n"
   ]
  },
  {
   "cell_type": "code",
   "execution_count": 99,
   "id": "91519335",
   "metadata": {},
   "outputs": [],
   "source": [
    "package_cmd = 'conda env export --json --from-history '\n",
    "package_cmd += env_cmd_ref\n"
   ]
  },
  {
   "cell_type": "code",
   "execution_count": 100,
   "id": "2678e5be",
   "metadata": {},
   "outputs": [],
   "source": [
    "pkg_output = console_command(package_cmd, AnacondaException,\n",
    "                f'Error getting packages from {env_name}.')\n"
   ]
  },
  {
   "cell_type": "code",
   "execution_count": 101,
   "id": "4ba79fbb",
   "metadata": {},
   "outputs": [],
   "source": [
    "pkg_dict = json.loads(pkg_output)\n"
   ]
  },
  {
   "cell_type": "code",
   "execution_count": 102,
   "id": "6dd08c3d",
   "metadata": {},
   "outputs": [
    {
     "name": "stdout",
     "output_type": "stream",
     "text": [
      "{'channels': ['conda-forge', 'bioconda', 'defaults'],\n",
      " 'dependencies': ['python=3.11',\n",
      "                  'jupyterlab',\n",
      "                  'pandas',\n",
      "                  'spyder',\n",
      "                  'ipykernel',\n",
      "                  'pysimplegui',\n",
      "                  'xlwings',\n",
      "                  'pylint'],\n",
      " 'name': 'Todoist',\n",
      " 'prefix': 'C:\\\\Users\\\\smoke\\\\.conda\\\\envs\\\\Todoist'}\n"
     ]
    }
   ],
   "source": [
    "pprint(pkg_dict)\n"
   ]
  },
  {
   "cell_type": "code",
   "execution_count": null,
   "id": "a5c51c43",
   "metadata": {},
   "outputs": [],
   "source": [
    "pkg_dict['channels'] = str(pkg_dict['channels'])\n"
   ]
  },
  {
   "cell_type": "code",
   "execution_count": 97,
   "id": "91f72ad6",
   "metadata": {},
   "outputs": [],
   "source": [
    "def build_package_table(dependencies):\n",
    "    def  build_pip_package_list(pkg_ref):\n",
    "        pip_pkg_list = []\n",
    "        pip_pkg_info = pkg_ref['pip']\n",
    "        for pkg_str in pip_pkg_info:\n",
    "            name, version = pkg_str.split('==')\n",
    "            pip_pkg_list.append({\n",
    "                            'PackageName': name,\n",
    "                            'PackageVersion': version,\n",
    "                            'PIP': True\n",
    "                            })\n",
    "        return pip_pkg_list\n",
    "\n",
    "    packages = []\n",
    "    for pkg_str in dependencies:\n",
    "        if isinstance(pkg_str,dict):\n",
    "            pip_pkg_list = build_pip_package_list(pkg_str)\n",
    "            packages.extend(pip_pkg_list)\n",
    "        else:\n",
    "            name, version, ref = pkg_str.split('=')\n",
    "            packages.append({\n",
    "                'PackageName': name,\n",
    "                'PackageVersion': version,\n",
    "                'PackageIndex': ref,\n",
    "                'PIP': False\n",
    "                })\n",
    "    package_table = pd.DataFrame(packages)\n",
    "    return package_table\n"
   ]
  },
  {
   "cell_type": "code",
   "execution_count": 98,
   "id": "73a756bd",
   "metadata": {},
   "outputs": [
    {
     "data": {
      "text/html": [
       "<div>\n",
       "<style scoped>\n",
       "    .dataframe tbody tr th:only-of-type {\n",
       "        vertical-align: middle;\n",
       "    }\n",
       "\n",
       "    .dataframe tbody tr th {\n",
       "        vertical-align: top;\n",
       "    }\n",
       "\n",
       "    .dataframe thead th {\n",
       "        text-align: right;\n",
       "    }\n",
       "</style>\n",
       "<table border=\"1\" class=\"dataframe\">\n",
       "  <thead>\n",
       "    <tr style=\"text-align: right;\">\n",
       "      <th></th>\n",
       "      <th>PackageName</th>\n",
       "      <th>PackageVersion</th>\n",
       "      <th>PackageIndex</th>\n",
       "      <th>PIP</th>\n",
       "    </tr>\n",
       "  </thead>\n",
       "  <tbody>\n",
       "    <tr>\n",
       "      <th>0</th>\n",
       "      <td>alabaster</td>\n",
       "      <td>0.7.13</td>\n",
       "      <td>pyhd8ed1ab_0</td>\n",
       "      <td>False</td>\n",
       "    </tr>\n",
       "    <tr>\n",
       "      <th>1</th>\n",
       "      <td>anyio</td>\n",
       "      <td>4.0.0</td>\n",
       "      <td>pyhd8ed1ab_0</td>\n",
       "      <td>False</td>\n",
       "    </tr>\n",
       "    <tr>\n",
       "      <th>2</th>\n",
       "      <td>argon2-cffi</td>\n",
       "      <td>23.1.0</td>\n",
       "      <td>pyhd8ed1ab_0</td>\n",
       "      <td>False</td>\n",
       "    </tr>\n",
       "    <tr>\n",
       "      <th>3</th>\n",
       "      <td>argon2-cffi-bindings</td>\n",
       "      <td>21.2.0</td>\n",
       "      <td>py311ha68e1ae_4</td>\n",
       "      <td>False</td>\n",
       "    </tr>\n",
       "    <tr>\n",
       "      <th>4</th>\n",
       "      <td>arrow</td>\n",
       "      <td>1.3.0</td>\n",
       "      <td>pyhd8ed1ab_0</td>\n",
       "      <td>False</td>\n",
       "    </tr>\n",
       "    <tr>\n",
       "      <th>...</th>\n",
       "      <td>...</td>\n",
       "      <td>...</td>\n",
       "      <td>...</td>\n",
       "      <td>...</td>\n",
       "    </tr>\n",
       "    <tr>\n",
       "      <th>254</th>\n",
       "      <td>zeromq</td>\n",
       "      <td>4.3.4</td>\n",
       "      <td>h0e60522_1</td>\n",
       "      <td>False</td>\n",
       "    </tr>\n",
       "    <tr>\n",
       "      <th>255</th>\n",
       "      <td>zipp</td>\n",
       "      <td>3.17.0</td>\n",
       "      <td>pyhd8ed1ab_0</td>\n",
       "      <td>False</td>\n",
       "    </tr>\n",
       "    <tr>\n",
       "      <th>256</th>\n",
       "      <td>zstd</td>\n",
       "      <td>1.5.5</td>\n",
       "      <td>h12be248_0</td>\n",
       "      <td>False</td>\n",
       "    </tr>\n",
       "    <tr>\n",
       "      <th>257</th>\n",
       "      <td>todoist-api-python</td>\n",
       "      <td>2.1.3</td>\n",
       "      <td>NaN</td>\n",
       "      <td>True</td>\n",
       "    </tr>\n",
       "    <tr>\n",
       "      <th>258</th>\n",
       "      <td>units</td>\n",
       "      <td>0.7</td>\n",
       "      <td>NaN</td>\n",
       "      <td>True</td>\n",
       "    </tr>\n",
       "  </tbody>\n",
       "</table>\n",
       "<p>259 rows × 4 columns</p>\n",
       "</div>"
      ],
      "text/plain": [
       "              PackageName PackageVersion     PackageIndex    PIP\n",
       "0               alabaster         0.7.13     pyhd8ed1ab_0  False\n",
       "1                   anyio          4.0.0     pyhd8ed1ab_0  False\n",
       "2             argon2-cffi         23.1.0     pyhd8ed1ab_0  False\n",
       "3    argon2-cffi-bindings         21.2.0  py311ha68e1ae_4  False\n",
       "4                   arrow          1.3.0     pyhd8ed1ab_0  False\n",
       "..                    ...            ...              ...    ...\n",
       "254                zeromq          4.3.4       h0e60522_1  False\n",
       "255                  zipp         3.17.0     pyhd8ed1ab_0  False\n",
       "256                  zstd          1.5.5       h12be248_0  False\n",
       "257    todoist-api-python          2.1.3              NaN   True\n",
       "258                 units            0.7              NaN   True\n",
       "\n",
       "[259 rows x 4 columns]"
      ]
     },
     "execution_count": 98,
     "metadata": {},
     "output_type": "execute_result"
    }
   ],
   "source": [
    "build_package_table(dependencies)\n"
   ]
  },
  {
   "cell_type": "code",
   "execution_count": null,
   "id": "fb16fbe6",
   "metadata": {},
   "outputs": [],
   "source": [
    "def get_packages(env_ref: EnvRef, all_packages=False)->pd.DataFrame:\n",
    "    env_name, env_cmd_ref = set_env_ref(env_ref)\n",
    "    if all_packages:\n",
    "        package_cmd = 'conda env export --json'\n",
    "        package_cmd += env_cmd_ref\n",
    "\n",
    "        save_history_cmd = ['conda', 'env', 'export',\n",
    "                            '--from-history', '--json']\n",
    "        save_history_cmd += env_cmd_ref\n",
    "        save_history_cmd += ['>', str(history_json)]\n",
    "        console_command(save_history_cmd, AnacondaException,\n",
    "                        f'Error saving {env_name}.json file.')\n"
   ]
  },
  {
   "cell_type": "code",
   "execution_count": null,
   "id": "6db9da4c-c7e5-4fa3-a1ba-49c82a50a418",
   "metadata": {
    "tags": []
   },
   "outputs": [],
   "source": [
    "\n",
    "log_file = env_folder / f'{new_env}EnvironmentLog.json'\n",
    "pkg_table_file = env_folder / f'{new_env}Packages.csv'\n",
    "\n",
    "install_log = install_log + '\\n' + pkg_install_log\n",
    "log_file.write_text(install_log)\n",
    "\n",
    "pkg_items = logging_dict['actions']['LINK'] + pkg_install_dict['actions']['LINK']\n",
    "pkg_table = pd.DataFrame(pkg_items)\n",
    "pkg_table.to_csv(pkg_table_file)\n"
   ]
  },
  {
   "cell_type": "markdown",
   "id": "f7fe8c4b",
   "metadata": {},
   "source": [
    "### Class to hold information on folders related to the package."
   ]
  },
  {
   "cell_type": "code",
   "execution_count": null,
   "id": "1d94b846",
   "metadata": {},
   "outputs": [],
   "source": [
    "@dataclass\n",
    "class FolderItem:\n",
    "    '''Manage folders related to the package.'''\n",
    "    folder_name: str\n",
    "    tag: str = ''\n",
    "    add_to_path: bool = True\n",
    "    folder_path: Path = None\n",
    "    base_path: InitVar[Path] = None\n",
    "\n",
    "    def __post_init__(self, base_path: Path):\n",
    "        '''Manage defaults for folder settings.\n",
    "\n",
    "        If not defined, base_path defaults to the current working\n",
    "        directory.  If it doesn't exists the folder is created.\n",
    "\n",
    "        If tag is not given use uppercase of folder name for tag.\n",
    "        '''\n",
    "        if not base_path:\n",
    "            base_path = Path.cwd()\n",
    "        self.set_path(base_path)\n",
    "        self.set_tag()\n",
    "\n",
    "    def set_path(self, base_path: Path):\n",
    "        '''If missing, Set the folder_path to a subdirectory of base_path.\n",
    "\n",
    "        Generates a path to the subdirectory.\n",
    "        If it doesn't exist create it.\n",
    "\n",
    "        Args:\n",
    "            base_path (Path): The top folder\n",
    "                (parent to the subdirectory).\n",
    "        '''\n",
    "        if not self.folder_path:\n",
    "            sub_folder = base_path / self.folder_name\n",
    "            if not sub_folder.exists():\n",
    "                sub_folder.mkdir()\n",
    "            self.folder_path = sub_folder\n",
    "\n",
    "    def set_tag(self):\n",
    "        '''If tag not given use uppercase of folder name.'''\n",
    "        if not self.tag:\n",
    "            self.tag = self.folder_name.upper()\n"
   ]
  },
  {
   "cell_type": "markdown",
   "id": "1a78b70c",
   "metadata": {},
   "source": [
    "## Project Parameters"
   ]
  },
  {
   "cell_type": "markdown",
   "id": "9568ab67",
   "metadata": {},
   "source": [
    "### Project Name and Python Version"
   ]
  },
  {
   "cell_type": "code",
   "execution_count": null,
   "id": "85507211",
   "metadata": {},
   "outputs": [],
   "source": [
    "new_env = 'Todoist'\n",
    "python_version = '3.11'\n"
   ]
  },
  {
   "cell_type": "markdown",
   "id": "decd0037",
   "metadata": {},
   "source": [
    "### Packages to include in the Conda Environment"
   ]
  },
  {
   "cell_type": "code",
   "execution_count": null,
   "id": "484addc8",
   "metadata": {},
   "outputs": [],
   "source": [
    "primary_package_list = [\n",
    "    'pysimplegui',\n",
    "    'pandas',\n",
    "    'xlwings',\n",
    "    ]\n",
    "tools_package_list = [\n",
    "    'spyder',\n",
    "    'jupyterlab',\n",
    "    'ipykernel',\n",
    "    'pylint',\n",
    "    ]\n",
    "package_list = primary_package_list + tools_package_list\n",
    "packages = ' '.join(package_list)\n"
   ]
  },
  {
   "cell_type": "code",
   "execution_count": null,
   "id": "31095f9b",
   "metadata": {},
   "outputs": [],
   "source": [
    "install_xlwings = True\n",
    "install_jupyter = True\n"
   ]
  },
  {
   "cell_type": "markdown",
   "id": "a9113474",
   "metadata": {},
   "source": [
    "## Specify project related paths\n",
    "- The top level project path should already exist and should be given the tag 'WORKSPACE'\n",
    "- `folder_path` must be specified for 'WORKSPACE'\n",
    "- An 'ENVIRONMENT' must be defined.\n",
    "- There shouldn't be duplicate tags.\n",
    "- If `tag` is not given `folder_name.upper()` will be used as the `tag`\n",
    "- When `folder_path` is given, the `folder_name` is ignored.  \n",
    "- If `folder_path` is not given, a folder with the name `folder_name` will be created directly under `base_path`.  \n",
    "- If `add_to_path` is True *(the default)*, the folder path will be added to the python search path.\n",
    "\n",
    "#### Example folders:\n",
    "\n",
    "| folder_name | folder_path                              | tag         | add_to_path |\n",
    "|-------------|------------------------------------------|-------------|-------------|\n",
    "| Todoist     | ~\\Python\\Projects\\ToDoIst Projects\\Turkey| WORKSPACE   | True        |\n",
    "| environment | None                                     | ENVIRONMENT | False       |\n",
    "| src         | None                                     | SOURCE      | True        |\n",
    "| Old files   | None                                     | IGNORE      | False       |\n",
    "| data        | None                                     | DATA        | True        |\n",
    "| reference   | None                                     | REFERENCE   | False       |\n",
    "| sectionary  | ..\\\\..\\sectionary package\\src'           | PACKAGE     | True        |"
   ]
  },
  {
   "cell_type": "markdown",
   "id": "1df2e06e",
   "metadata": {},
   "source": [
    "### Primary project path"
   ]
  },
  {
   "cell_type": "code",
   "execution_count": null,
   "id": "6f38055a",
   "metadata": {},
   "outputs": [],
   "source": [
    "project_folder = Path(r\"D:\\OneDrive - Queen's University\\Python\\Projects\\ToDoIst Projects\\Turkey\")\n",
    "project_drive = project_folder.drive\n"
   ]
  },
  {
   "cell_type": "markdown",
   "id": "a1f7635a",
   "metadata": {},
   "source": [
    "### Additional package path"
   ]
  },
  {
   "cell_type": "code",
   "execution_count": null,
   "id": "8ff2532c",
   "metadata": {},
   "outputs": [],
   "source": [
    "sectionary_path = project_folder / '..' / '..' / 'sectionary package' / 'src'\n",
    "sectionary_path = sectionary_path.resolve()\n"
   ]
  },
  {
   "cell_type": "markdown",
   "id": "743de9f4",
   "metadata": {},
   "source": [
    "#### Folder Parameters"
   ]
  },
  {
   "cell_type": "code",
   "execution_count": null,
   "id": "3725d56f",
   "metadata": {},
   "outputs": [],
   "source": [
    "folder_list = [FolderItem(new_env,       tag='WORKSPACE',                      folder_path=project_folder),\n",
    "               FolderItem('environment', tag='ENVIRONMENT', add_to_path=False,   base_path=project_folder),\n",
    "               FolderItem('src',         tag='SOURCE',                           base_path=project_folder),\n",
    "               FolderItem('data',        tag='DATA',                             base_path=project_folder),\n",
    "               FolderItem('reference',   tag='REFERENCE',   add_to_path=False,   base_path=project_folder),\n",
    "               FolderItem('sectionary',                                        folder_path=sectionary_path)]\n",
    "\n",
    "folders = pd.DataFrame(folder_list)\n"
   ]
  },
  {
   "cell_type": "code",
   "execution_count": null,
   "id": "07ddf325",
   "metadata": {},
   "outputs": [],
   "source": [
    "folders\n"
   ]
  },
  {
   "cell_type": "code",
   "execution_count": null,
   "id": "53a33e29-7ebd-4c8d-b7ad-ffe81d735640",
   "metadata": {
    "tags": []
   },
   "outputs": [],
   "source": [
    "if install_jupyter:\n"
   ]
  },
  {
   "cell_type": "code",
   "execution_count": null,
   "id": "0c498fcb-b122-4a1f-b201-1c993c4db26e",
   "metadata": {},
   "outputs": [],
   "source": [
    "if install_xlwings:\n"
   ]
  },
  {
   "cell_type": "code",
   "execution_count": null,
   "id": "31b0298c-01ed-4931-a7f5-ba9077621024",
   "metadata": {},
   "outputs": [],
   "source": [
    "print(f'Storing environment for {new_env}')\n"
   ]
  },
  {
   "cell_type": "markdown",
   "id": "a58c3302-1a0f-4a94-90c7-dd2f9f2dcd59",
   "metadata": {},
   "source": [
    "## Build Boilerplate Files"
   ]
  },
  {
   "cell_type": "markdown",
   "id": "4cdaee6b-32cd-47c9-a67e-360c745cc97b",
   "metadata": {},
   "source": [
    "### Build Jupyter lab Batch file"
   ]
  },
  {
   "cell_type": "code",
   "execution_count": null,
   "id": "f4fb6541-aaa0-428c-88d6-e319afaabf47",
   "metadata": {
    "tags": []
   },
   "outputs": [],
   "source": [
    "\n",
    "jupter_batch_file = env_folder / f'JupyterLab ({new_env}).bat'\n",
    "jupyter_batch = '\\n'.join([\n",
    "    r'CALL C:\\ProgramData\\Anaconda3\\Scripts\\activate.bat C:\\ProgramData\\Anaconda3',\n",
    "    f'CALL conda activate \"{new_env}\"',\n",
    "    f'CD \"{project_folder}\"',\n",
    "    f'{project_drive}',\n",
    "    'jupyter-lab'\n",
    "    ])\n",
    "jupter_batch_file.write_text(jupyter_batch)\n"
   ]
  },
  {
   "cell_type": "markdown",
   "id": "6d627b57-17fb-4476-954c-c292b4502931",
   "metadata": {},
   "source": [
    "### Build VS Code Batch file"
   ]
  },
  {
   "cell_type": "code",
   "execution_count": null,
   "id": "116cb72c-62ea-4484-b329-e88a6d7501de",
   "metadata": {
    "tags": []
   },
   "outputs": [],
   "source": [
    "vscode_batch_file = env_folder / f'VS Code ({new_env}).bat'\n",
    "vscode_batch = '\\n'.join([\n",
    "    r'CALL C:\\ProgramData\\Anaconda3\\Scripts\\activate.bat C:\\ProgramData\\Anaconda3',\n",
    "    f'CALL conda activate \"{new_env}\"',\n",
    "    f'CD \"{project_folder}\"',\n",
    "    f'{project_drive}',\n",
    "    f'code {new_env}.code-workspace'\n",
    "    ])\n",
    "vscode_batch_file.write_text(vscode_batch)\n"
   ]
  },
  {
   "cell_type": "markdown",
   "id": "5cbfb17b-6324-4b57-b80d-ba2d6e94c0bd",
   "metadata": {},
   "source": [
    "### Build .env file"
   ]
  },
  {
   "cell_type": "code",
   "execution_count": null,
   "id": "59aaa9b0-87c6-46d4-be0d-e9dcae51116e",
   "metadata": {
    "tags": []
   },
   "outputs": [],
   "source": [
    "folders\n"
   ]
  },
  {
   "cell_type": "code",
   "execution_count": null,
   "id": "0fff64b2-1b24-4fa8-b238-cc14c4d24b2d",
   "metadata": {
    "tags": []
   },
   "outputs": [],
   "source": [
    "folders[folders.add_to_path]\n"
   ]
  },
  {
   "cell_type": "code",
   "execution_count": null,
   "id": "32b51902-25d2-44d4-9231-65d3aa38a8b9",
   "metadata": {
    "tags": []
   },
   "outputs": [],
   "source": [
    "folders[folders.tag=='ENVIRONMENT'].folder_path\n"
   ]
  },
  {
   "cell_type": "code",
   "execution_count": null,
   "id": "2b3ff364-0cb6-453d-ae63-0c9581ece157",
   "metadata": {
    "tags": []
   },
   "outputs": [],
   "source": [
    "env_file = env_folder / '.env'\n",
    "\n",
    "env_paths = '\\n'.join('PYTHONPATH=${}' for name, path_str in path_dict.items())\n",
    "path_setter = '\\n'.join('PYTHONPATH=\"${' + name.upper() + '};${PYTHONPATH}\"'\n",
    "                        for name in path_dict.keys())\n",
    "env_text = '\\n'.join([env_paths, path_setter])\n",
    "env_file.write_text(env_text)\n"
   ]
  },
  {
   "cell_type": "code",
   "execution_count": null,
   "id": "a1993467-5425-469c-a410-1a5a60b0fc37",
   "metadata": {},
   "outputs": [],
   "source": []
  },
  {
   "cell_type": "markdown",
   "id": "2b8060ee-5e76-4257-b7ec-96e959142e2b",
   "metadata": {},
   "source": [
    "### Build Code-workspace from templatestr(env_path)"
   ]
  },
  {
   "cell_type": "code",
   "execution_count": null,
   "id": "5319a3f7-41a1-48b2-b27a-803c597192d5",
   "metadata": {
    "tags": []
   },
   "outputs": [],
   "source": [
    "data_dir = Path(r\"D:\\OneDrive - Queen's University\\Python\\Python Learning\\Environment Management\")\n",
    "\n",
    "worspace_template = data_dir / 'vscode settings templates' / 'TEMPLATE.code-workspace'\n"
   ]
  },
  {
   "cell_type": "code",
   "execution_count": null,
   "id": "f63b63b3-11ea-43db-8398-459747063602",
   "metadata": {
    "tags": []
   },
   "outputs": [],
   "source": [
    "worspace = worspace_template.read_text()\n"
   ]
  },
  {
   "cell_type": "code",
   "execution_count": null,
   "id": "cd205a37-c1d9-427a-9853-b2b57aef633f",
   "metadata": {
    "tags": []
   },
   "outputs": [],
   "source": [
    "path_dict = {\n",
    "    'WORKSPACE_FOLDER': f'\"{project_folder}\"',\n",
    "    'SOURCE_FOLDER': f'\"{source_folder}\"',\n",
    "    'SECTIONARY_FOLDER': f'\"{sectionary_path}\"'\n",
    "    }\n"
   ]
  },
  {
   "cell_type": "code",
   "execution_count": null,
   "id": "7669f89a-1d79-4295-bc2c-7a45cb4d04f2",
   "metadata": {
    "tags": []
   },
   "outputs": [],
   "source": [
    "str(env_path).replace('\\\\', '/')\n"
   ]
  },
  {
   "cell_type": "code",
   "execution_count": null,
   "id": "173142c0-b63d-47c9-8df5-13da33129af0",
   "metadata": {
    "tags": []
   },
   "outputs": [],
   "source": [
    "env_manage_base = Path(r\"D:\\OneDrive - Queen's University\\Python\\Python Learning\\Environment Management\")\n",
    "code_workspace_template = env_manage_base / 'vscode settings templates' / 'TEMPLATE.code-workspace'\n"
   ]
  },
  {
   "cell_type": "code",
   "execution_count": null,
   "id": "139c005b-b9a2-47c1-9f23-e82b017000e7",
   "metadata": {
    "tags": []
   },
   "outputs": [],
   "source": [
    "template = code_workspace_template.read_text()\n"
   ]
  },
  {
   "cell_type": "code",
   "execution_count": null,
   "id": "7fd15970-4f01-4dc9-ac63-a4dfe741726e",
   "metadata": {
    "tags": []
   },
   "outputs": [],
   "source": [
    "template = template.replace('%env_path%', str(env_path).replace('\\\\', '/'))\n"
   ]
  },
  {
   "cell_type": "code",
   "execution_count": null,
   "id": "77004bda-4a17-4c94-bc08-8d3c4556f3d6",
   "metadata": {},
   "outputs": [],
   "source": []
  },
  {
   "cell_type": "raw",
   "id": "61b38ab3-26c5-4164-bc0d-1aa1ab92c7b6",
   "metadata": {},
   "source": [
    "        \"python.analysis.extraPaths\": [\n",
    "            \"${workspaceFolder}/src\",\n",
    "            \"${workspaceFolder}\",\n",
    "            \"../../sectionary package/src\"\n",
    "        ],\n",
    "        \"python.autoComplete.extraPaths\": [\n",
    "            \"${workspaceFolder}/src\",\n",
    "            \"${workspaceFolder}\",\n",
    "            \"../../sectionary package/src\"\n",
    "        ],\n"
   ]
  },
  {
   "cell_type": "code",
   "execution_count": null,
   "id": "0ff20ccc-c66f-438e-bcdc-f7ec7941ad47",
   "metadata": {
    "tags": []
   },
   "outputs": [],
   "source": [
    "project_folder = Path(r\"D:\\OneDrive - Queen's University\\Python\\Projects\\ToDoIst Projects\\Turkey\")\n",
    "\n",
    "env_folder = add_folder(project_folder, 'environment')\n",
    "source_folder = add_folder(project_folder, 'src')\n",
    "\n",
    "project_drive = project_folder.drive\n"
   ]
  },
  {
   "cell_type": "code",
   "execution_count": null,
   "id": "0a1fe6de-5d9a-4ff2-8055-c34ce3359daa",
   "metadata": {
    "tags": []
   },
   "outputs": [],
   "source": [
    "sectionary_path = project_folder / '..' / '..' / 'sectionary package' / 'src'\n",
    "sectionary_path = sectionary_path.resolve()\n"
   ]
  },
  {
   "cell_type": "code",
   "execution_count": null,
   "id": "9fda7e4d-de0a-4541-a73c-104c18a2e8fd",
   "metadata": {
    "tags": []
   },
   "outputs": [],
   "source": [
    "path_dict = {\n",
    "    'WORKSPACE_FOLDER': f'\"{project_folder}\"',\n",
    "    'SOURCE_FOLDER': f'\"{source_folder}\"',\n",
    "    'SECTIONARY_FOLDER': f'\"{sectionary_path}\"'\n",
    "    }\n"
   ]
  },
  {
   "cell_type": "raw",
   "id": "e7ce5bb2-6350-402c-90dc-52bf8109a9c5",
   "metadata": {},
   "source": [
    "        \"python.analysis.extraPaths\": \"%analysis.extraPaths%\",\n",
    "        \"python.autoComplete.extraPaths\": \"%autoComplete.extraPaths%\",\n"
   ]
  },
  {
   "cell_type": "code",
   "execution_count": null,
   "id": "6be6595c-ec29-4a80-9d08-cc81dc6f1519",
   "metadata": {},
   "outputs": [],
   "source": [
    "template.replace('%analysis.extraPaths%', str(text))\n"
   ]
  },
  {
   "cell_type": "code",
   "execution_count": null,
   "id": "40a34ac3-dca1-4b50-ab03-9db5256964e4",
   "metadata": {},
   "outputs": [],
   "source": [
    "template.replace('%autoComplete.extraPaths%', str(text))\n"
   ]
  },
  {
   "cell_type": "raw",
   "id": "d6b907b8-f0dc-42ad-940e-f52bdb686e76",
   "metadata": {},
   "source": [
    "              \"env\": {\"PYTHONPATH\": \"${fileDirname};${workspaceFolder};${workspaceFolder}\\\\..\\\\..\\\\sectionary package\\\\src;${env:PYTHONPATH}\"\n"
   ]
  },
  {
   "cell_type": "raw",
   "id": "46fac944-b6b6-444f-a30a-b6ef7832a199",
   "metadata": {},
   "source": [
    "              \"env\": {\"PYTHONPATH\": \"%PYTHONPATH%\"}\n"
   ]
  },
  {
   "cell_type": "raw",
   "id": "ebdb2c27-3f88-4157-a249-cd5d53d00626",
   "metadata": {},
   "source": [
    "            \"PYTHONPATH\": \"${fileDirname};${workspaceFolder};${workspaceFolder}/../../sectionary package/src;${env:PYTHONPATH}\"\n"
   ]
  },
  {
   "cell_type": "raw",
   "id": "8e530ddf-fb18-474a-8cdc-b3cb7a98d7e1",
   "metadata": {},
   "source": [
    "            \"PYTHONPATH\": \"%PYTHONPATH%\"\n"
   ]
  },
  {
   "cell_type": "raw",
   "id": "b506b6ca-b780-45f7-b350-651755d80eb1",
   "metadata": {},
   "source": [
    "\"PYTHONPATH\": \"${fileDirname};${workspaceFolder};${workspaceFolder}/../../sectionary package/src;${env:PYTHONPATH}\",\n",
    "\"env\": {\"PYTHONPATH\": \"${fileDirname};${workspaceFolder};${workspaceFolder}\\\\..\\\\..\\\\sectionary package\\\\src;${env:PYTHONPATH}\"\n"
   ]
  },
  {
   "cell_type": "raw",
   "id": "82395918-00d9-462d-89ca-eb73596cc6e4",
   "metadata": {},
   "source": [
    "            \"PythonShell\": {\n",
    "                \"path\": \"C:/ProgramData/Anaconda3/envs/plan_check_tools/python.exe\",\n"
   ]
  },
  {
   "cell_type": "markdown",
   "id": "e8d170ec-5fc4-4093-92bf-e1daab0843f7",
   "metadata": {
    "tags": []
   },
   "source": [
    "# Misc Reference"
   ]
  },
  {
   "cell_type": "raw",
   "id": "58e40b21-e28c-4f64-b2f3-ea4a3b80b5f1",
   "metadata": {},
   "source": [
    "########## Spyder Launch ############\n",
    "C:\\ProgramData\\Anaconda3\\pythonw.exe C:\\ProgramData\\Anaconda3\\cwp.py C:\\ProgramData\\Anaconda3\\envs\\Standard C:\\ProgramData\\Anaconda3\\envs\\Standard\\pythonw.exe C:\\ProgramData\\Anaconda3\\envs\\Standard\\Scripts\\spyder-script.py\n",
    "\n",
    "########## Jupyter Lab Launch ############\n",
    "C:\\ProgramData\\Anaconda3\\python.exe C:\\ProgramData\\Anaconda3\\cwp.py C:\\ProgramData\\Anaconda3\\envs\\Standard C:\\ProgramData\\Anaconda3\\envs\\Standard\\pythonw.exe C:\\ProgramData\\Anaconda3\\envs\\\\Standard\\Scripts\\jupyter-lab-script.py \"D:\\OneDrive - Queen's University\\Python\\Projects\"\n",
    "\n",
    "\"D:\\OneDrive - Queen's University\\Python\\Projects\"\n",
    "%ALLUSERSPROFILE%\\Anaconda3\\Menu\\jupyter.ico\n",
    "%ALLUSERSPROFILE%\\Anaconda3\\envs\\Standard\\Scripts\\spyder.ico\n"
   ]
  },
  {
   "cell_type": "code",
   "execution_count": null,
   "id": "60951394",
   "metadata": {},
   "outputs": [],
   "source": [
    "a = console_command('conda env export --from-history')\n",
    "print(a)\n"
   ]
  },
  {
   "cell_type": "code",
   "execution_count": null,
   "id": "20652bd4",
   "metadata": {},
   "outputs": [],
   "source": [
    "new_env = 'Standard'\n",
    "c = f'cmd /c conda activate {new_env}&&conda env export --from-history'\n"
   ]
  },
  {
   "cell_type": "code",
   "execution_count": null,
   "id": "fc456a09",
   "metadata": {},
   "outputs": [],
   "source": [
    "c = ''.join([\n",
    "    r'cmd /c C:\\ProgramData\\Anaconda3\\Scripts\\activate.bat ',\n",
    "    r'C:\\ProgramData\\Anaconda3',\n",
    "    r'&&',\n",
    "    r'conda activate Standard',\n",
    "    r'&&',\n",
    "    r'conda env export --from-history'\n",
    "    ])\n"
   ]
  },
  {
   "cell_type": "code",
   "execution_count": null,
   "id": "81b8931d",
   "metadata": {},
   "outputs": [],
   "source": [
    "output = subprocess.run(c, shell=True, capture_output=True,\n",
    "                        check=True)\n"
   ]
  },
  {
   "cell_type": "code",
   "execution_count": null,
   "id": "4808129b",
   "metadata": {},
   "outputs": [],
   "source": [
    "print(output.stdout.decode())\n"
   ]
  },
  {
   "cell_type": "code",
   "execution_count": null,
   "id": "8ca54991",
   "metadata": {},
   "outputs": [],
   "source": [
    "c = ['cmd', r'/c',\n",
    "     r'C:\\ProgramData\\Anaconda3\\Scripts\\activate.bat',\n",
    "     r'C:\\ProgramData\\Anaconda3',\n",
    "     '&&',\n",
    "     'conda', 'activate Standard',\n",
    "     '&&',\n",
    "     'conda', 'env', 'export', '--from-history']\n"
   ]
  },
  {
   "cell_type": "code",
   "execution_count": null,
   "id": "1d463deb",
   "metadata": {},
   "outputs": [],
   "source": [
    "output = subprocess.run(c, shell=True, capture_output=True,\n",
    "                        check=True)\n"
   ]
  },
  {
   "cell_type": "code",
   "execution_count": null,
   "id": "3d1daf58",
   "metadata": {},
   "outputs": [],
   "source": [
    "c = ['cmd', r'/c',\n",
    "     r'C:\\ProgramData\\Anaconda3\\Scripts\\activate.bat',\n",
    "     r'C:\\ProgramData\\Anaconda3',\n",
    "     '&&',\n",
    "     'conda', 'activate Standard',\n",
    "     '&&',\n",
    "     'conda', 'env', 'export', '--from-history']\n",
    "a = console_command(c)\n",
    "print(a)\n"
   ]
  },
  {
   "cell_type": "markdown",
   "id": "7447e43b",
   "metadata": {},
   "source": [
    "## cmd\n",
    "Starts a new instance of the command interpreter, Cmd.exe. If used without parameters, cmd displays the version and copyright information of the operating system.\n",
    "\n",
    "#### Syntax\n",
    "`cmd [/c|/k] [/s] [/q] [/d] [/a|/u] [/t:{<b><f> | <f>}] [/e:{on | off}] [/f:{on | off}] [/v:{on | off}] [<string>]`\n",
    "\n",
    "#### Parameters\n",
    "\n",
    "|Parameter|Description|\n",
    "|-|-|\n",
    "|/c|Carries out the command specified by <string> and then exits the command processor.|\n",
    "|/k|Carries out the command specified by <string> and keeps the command processor running.|\n",
    "|/s|When used with /c or /k, triggers special non-parsing rules that strip the first and last quotes (\") around the <string> but leaves the rest of the command unchanged.|\n",
    "|/q|Turns echo off.|\n",
    "|/d|Disables execution of AutoRun commands.|\n",
    "|/a|Formats command output as American National Standards Institute (ANSI).|\n",
    "|/u|Formats command output as Unicode.|\n",
    "|/t: {\\<b>\\<f> \\| \\<f>}|Sets the background (*b*) and foreground (*f*) colors.|\n",
    "|/e:on|Enables command extensions.|\n",
    "|/e:off|Disables commands extensions.|\n",
    "|/f:on|Enables file and directory name completion.|\n",
    "|/f:off|Disables file and directory name completion.|\n",
    "|/v:on|Enables delayed environment variable expansion.|\n",
    "|/v:off|Disables delayed environment variable expansion.|\n",
    "|\\<string>|Specifies the command you want to carry out.|\n",
    "|/?|Displays help at the command prompt.|\n",
    "\n",
    "The following table lists valid hexadecimal digits that you can use as the values for \\<b> and \\<f>:\n",
    "\n",
    "|Value|Color|\n",
    "|-|-|\n",
    "|0|Black|\n",
    "|1|Blue|\n",
    "|2|Green|\n",
    "|3|Aqua|\n",
    "|4|Red|\n",
    "|5|Purple|\n",
    "|6|Yellow|\n",
    "|7|White|\n",
    "|8|Gray|\n",
    "|9|Light blue|\n",
    "|a|Light green|\n",
    "|b|Light aqua|\n",
    "|c|Light red|\n",
    "|d|Light purple|\n",
    "|e|Light yellow|\n",
    "|f|Bright white\n",
    "\n",
    "#### Remarks\n",
    "- To redirect command output to the input of another command, use the pipe (`|`) character. For example:\n",
    "> `<command1> | <command2>`\n",
    "\n",
    "- To redirect command output to a file, use the greater-than angle bracket `>` character. For example:\n",
    "\n",
    "`<command1> > <file1.txt>`\n",
    "To use multiple commands for `<string>`, separate them by the command separator `&&`. For example:\n",
    "> `<command1>&&<command2>&&<command3>`\n",
    "\n",
    "- If the directory path, files, or any information you supply contains spaces, you must use double quotation marks (`\"``) around the text, such as `\"Computer Name\"`. For example:\n",
    "> `mkdir Test&&mkdir \"Test 2\"&&move \"Test 2\" Test`\n",
    "> \n",
    "- You must use quotation marks around the following special characters: & \\< > [ ] | { } ^ = ; ! ' + , ` ~ [white space].\n",
    "\n",
    "- If you specify `/c` or `/k`, the `cmd` processes, the remainder of `<string>`, and the quotation marks are preserved only if all of the following conditions are met:\n",
    "   - You don't also use `/s`.\n",
    "   - You use exactly one set of quotation marks.\n",
    "   - You don't use any special characters within the quotation marks (for example: & <    ( ) @ ^ | ).\n",
    "   - You use one or more white-space characters within the quotation marks.\n",
    "   - The `<string>` within quotation marks is the name of an executable file.\n",
    "\n",
    "If the previous conditions aren't met, `<string>` is processed by examining the first character to verify whether it's an opening quotation mark. If the first character is an opening quotation mark, it's stripped along with the closing quotation mark. Any text following the closing quotation marks is preserved."
   ]
  },
  {
   "cell_type": "markdown",
   "id": "c6ef8d32",
   "metadata": {},
   "source": [
    "## Common Packages\n",
    "> **Primary Packages**\n",
    "> - numpy\n",
    "> - pandas\n",
    "> - openpyxl\n",
    "> - matplotlib\n",
    "> - seaborn\n",
    "> - pysimplegui\n",
    "\n",
    "> **iPython Packages**\n",
    "> - ipykernel\n",
    "> - ipywidgets\n",
    "> - jupyterlab\n",
    "> - nb_conda_kernels\n",
    "> - spyder\n",
    "\n",
    "> **SciPy Packages**\n",
    "> - scipy\n",
    "> - scikit-image\n",
    "> \n",
    "> **Specialty Packages**\n",
    "> - networkx\n",
    "> - pygraphviz\n",
    "> - shapely\n",
    "> - pydicom\n",
    "> - pyodbc\n",
    "> - parsedatetime\n",
    "\n",
    "> **MS Office & Windows related Packages**\n",
    "> - xlwings\n",
    "> - pywin32\n",
    "> - docx2txt\n",
    "> - zipfile2\n",
    "\n",
    "> **Linting Packages**\n",
    "> - pylint\n",
    "> - mypy\n",
    "> - black\n",
    "\n",
    "> **Installer**\n",
    "> - pyinstaller\n",
    "\n",
    "> **Documentation Packages**\n",
    "> - sphinx\n",
    "> - sphinx-copybutton\n",
    "> - sphinx_rtd_theme\n",
    "> - nbsphinx-link\n",
    "> - nbsphinx\n",
    "> - esbonio\n",
    "> - pandoc\n",
    "> - myst-parser\n",
    "\n",
    "> **AI Related Packages**\n",
    "> - scikit-learn\n",
    "> - neptune-client\n",
    "> - neptune-sklearn\n",
    "> - statsmodels\n",
    "> - xgboost\n",
    "> - torchvision\n",
    "> - nibabel\n",
    "> - nilearn\n"
   ]
  },
  {
   "cell_type": "markdown",
   "id": "8fb1e0b2",
   "metadata": {},
   "source": [
    "### Other Install Commands"
   ]
  },
  {
   "cell_type": "markdown",
   "id": "93b69e57",
   "metadata": {},
   "source": [
    "`pip install todoist-api-python`"
   ]
  },
  {
   "cell_type": "markdown",
   "id": "83a7de02",
   "metadata": {},
   "source": [
    "```bat\n",
    "pip install [options] <requirement specifier> [package-index-options] ...\n",
    "pip install [options] -r <requirements file> [package-index-options] ...\n",
    "pip install [options] [-e] <vcs project url> ...\n",
    "pip install [options] [-e] <local project path> ...\n",
    "pip install [options] <archive url/path> ...\n",
    "```\n",
    "The report can be written to a file, or to standard output (using --report - in combination with --quiet)."
   ]
  },
  {
   "cell_type": "markdown",
   "id": "bb8de993",
   "metadata": {},
   "source": [
    "`pip freeze > requirements.txt`"
   ]
  },
  {
   "cell_type": "markdown",
   "id": "3b2eb818",
   "metadata": {},
   "source": [
    "#### Install Jupyter Kernel "
   ]
  },
  {
   "cell_type": "code",
   "execution_count": null,
   "id": "f222bede",
   "metadata": {},
   "outputs": [],
   "source": [
    "def install_kernel(new_env):\n",
    "    '''Install the ipython kernel in the new environment.\n",
    "\n",
    "    Args:\n",
    "        new_env (str): Name of Conda environment.\n",
    "\n",
    "    Returns:\n",
    "        str: The log output from the install.\n",
    "    '''\n",
    "    kernel_cmd = activate_environment(new_env)\n",
    "    kernel_cmd += f'python -m ipykernel install --user --name {new_env} '\n",
    "    kernel_cmd += f'--display-name \"Python ({new_env})\"'\n",
    "\n",
    "    kernel_install_log = console_command(\n",
    "        kernel_cmd,\n",
    "        AnacondaException,\n",
    "        f'Unable to install ipython kernel in \"{new_env}\"!'\n",
    "        )\n",
    "    return kernel_install_log\n"
   ]
  },
  {
   "cell_type": "markdown",
   "id": "1f66c852",
   "metadata": {},
   "source": [
    "#### Configure xlwings"
   ]
  },
  {
   "cell_type": "code",
   "execution_count": null,
   "id": "bdaef059",
   "metadata": {},
   "outputs": [],
   "source": [
    "def configure_xlwings(new_env: str)->str:\n",
    "    '''Install and configure xlwings binaries for environment.\n",
    "\n",
    "    NOTE: This is still a works in progress.\n",
    "\n",
    "    Args:\n",
    "        new_env (str): Name of Conda environment.\n",
    "\n",
    "    Returns:\n",
    "        str: The log output from the install.\n",
    "    '''\n",
    "    activate_cmd = activate_environment(new_env)\n",
    "\n",
    "    logger.debug('Updating Xlwings licence for %s', new_env)\n",
    "    xlwings_license = activate_cmd + 'xlwings license update -k noncommercial'\n",
    "    license_log = console_command(\n",
    "        xlwings_license, AnacondaException,\n",
    "        f'Unable to set xlwings license in environment {new_env}')\n",
    "\n",
    "    logger.debug('Installing Xlwings add-in for %s', new_env)\n",
    "    xlwings_add_in = activate_cmd + 'xlwings addin install'\n",
    "    try:\n",
    "        add_in_log = console_command(\n",
    "            xlwings_add_in, AnacondaException,\n",
    "            f'Unable to install xlwings addin in environment {new_env}',\n",
    "            abort_after=2)\n",
    "    except AbortedCmdException:\n",
    "        logger.warning('Xlwings Add-in install timed out\\n'\n",
    "                       'This is likely due to insufficient rights to install '\n",
    "                       'the add-in.')\n",
    "\n",
    "    logger.debug('Creating Xlwings config file for %s', new_env)\n",
    "    xlwings_config = activate_cmd + 'xlwings config create --force'\n",
    "    config_log = console_command(\n",
    "        xlwings_config, AnacondaException,\n",
    "        f'Unable to configure xlwings in environment {new_env}')\n",
    "\n",
    "    xlwings_log = '\\n\\n'.join([license_log, add_in_log, config_log])\n",
    "    return xlwings_log\n"
   ]
  },
  {
   "cell_type": "markdown",
   "id": "d9fbb8c0",
   "metadata": {},
   "source": [
    "***The commands below hang the kernel***"
   ]
  },
  {
   "cell_type": "raw",
   "id": "f3207cf6",
   "metadata": {},
   "source": [
    "logger.setLevel(logging.DEBUG)\n",
    "output = configure_xlwings('Todoist')\n",
    "print(output)\n",
    "logger.setLevel(logging.INFO)\n"
   ]
  },
  {
   "cell_type": "code",
   "execution_count": null,
   "id": "537c25c5",
   "metadata": {},
   "outputs": [],
   "source": [
    "new_env = 'Todoist'\n",
    "activate_cmd = activate_environment(new_env)\n",
    "\n",
    "xlwings_license = activate_cmd + 'xlwings license update -k noncommercial'\n",
    "license_log = console_command(\n",
    "    xlwings_license, AnacondaException,\n",
    "    f'Unable to set xlwings license in environment {new_env}')\n",
    "\n",
    "print(license_log)\n"
   ]
  },
  {
   "cell_type": "code",
   "execution_count": null,
   "id": "a821e541",
   "metadata": {},
   "outputs": [],
   "source": [
    "cmd_str = activate_environment('Standard')\n",
    "cmd_str += 'conda env export --from-history'\n",
    "output = console_command(cmd_str)\n",
    "print(output)\n"
   ]
  },
  {
   "cell_type": "code",
   "execution_count": null,
   "id": "68adf700",
   "metadata": {},
   "outputs": [],
   "source": [
    "output = install_kernel('Todoist')\n",
    "print(output)\n"
   ]
  }
 ],
 "metadata": {
  "kernelspec": {
   "display_name": "Python 3 (ipykernel)",
   "language": "python",
   "name": "python3"
  },
  "language_info": {
   "codemirror_mode": {
    "name": "ipython",
    "version": 3
   },
   "file_extension": ".py",
   "mimetype": "text/x-python",
   "name": "python",
   "nbconvert_exporter": "python",
   "pygments_lexer": "ipython3",
   "version": "3.9.18"
  },
  "toc-autonumbering": false,
  "toc-showcode": false,
  "toc-showmarkdowntxt": false
 },
 "nbformat": 4,
 "nbformat_minor": 5
}
