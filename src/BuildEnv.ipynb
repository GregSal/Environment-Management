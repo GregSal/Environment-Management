{
 "cells": [
  {
   "cell_type": "markdown",
   "id": "90ec1172-770f-4818-a960-1096827384ff",
   "metadata": {},
   "source": [
    "# Generate a Project Template"
   ]
  },
  {
   "cell_type": "markdown",
   "id": "0ebd7be0-ad2c-42d9-b7e7-0dc6940542ef",
   "metadata": {},
   "source": [
    "## Imports"
   ]
  },
  {
   "cell_type": "code",
   "execution_count": 1,
   "id": "87dd1769-5cad-4822-8276-4d854912f055",
   "metadata": {
    "tags": []
   },
   "outputs": [],
   "source": [
    "from typing import Dict\n",
    "\n",
    "import subprocess\n",
    "import json\n",
    "import re\n",
    "from pathlib import Path\n",
    "from dataclasses import dataclass, InitVar\n",
    "\n",
    "import pandas as pd\n"
   ]
  },
  {
   "cell_type": "code",
   "execution_count": 2,
   "id": "b4e89796",
   "metadata": {},
   "outputs": [],
   "source": [
    "from env_tools import console_command, save_env_specs, list_environments\n",
    "from env_tools import AnacondaException, remove_environment\n",
    "from env_tools import activate_environment\n",
    "from env_tools import AbortedCmdException\n"
   ]
  },
  {
   "cell_type": "code",
   "execution_count": 3,
   "id": "d7064349",
   "metadata": {},
   "outputs": [],
   "source": [
    "# %% Initialize logging\n",
    "import logging  # pylint: disable=wrong-import-position wrong-import-order\n",
    "logging.basicConfig(level=logging.INFO,\n",
    "                    format='%(levelname)-8s %(message)s')\n",
    "logger = logging.getLogger(__name__)\n",
    "#logger.setLevel(logging.DEBUG)\n",
    "logger.setLevel(logging.INFO)\n"
   ]
  },
  {
   "cell_type": "markdown",
   "id": "849c6608-affe-47b2-9c55-9cbd872dc6d0",
   "metadata": {},
   "source": [
    "## Utility Functions"
   ]
  },
  {
   "cell_type": "code",
   "execution_count": 4,
   "id": "fe107bcb-5d6c-481f-9de1-f8be3fcd9e91",
   "metadata": {
    "tags": []
   },
   "outputs": [],
   "source": [
    "def add_folder(base: Path, name: str)->Path:\n",
    "    '''Make a subdirectory under base.\n",
    "\n",
    "    Generates a path to the subdirectory.\n",
    "    If it doesn't exist create it.\n",
    "\n",
    "    Args:\n",
    "        base (Path): The top folder (parent to the subdirectory).\n",
    "        name (str): The name of the subdirectory.\n",
    "\n",
    "    Returns:\n",
    "        Path: The path to the subdirectory.\n",
    "    '''\n",
    "    sub_folder = base / name\n",
    "    if not sub_folder.exists():\n",
    "        sub_folder.mkdir()\n",
    "    return sub_folder\n"
   ]
  },
  {
   "cell_type": "markdown",
   "id": "f4247a8a-b752-4304-868b-48779c33e60d",
   "metadata": {
    "tags": []
   },
   "source": [
    "### Anaconda utilities"
   ]
  },
  {
   "cell_type": "markdown",
   "id": "69b236d5",
   "metadata": {},
   "source": [
    "### Other Install Commands"
   ]
  },
  {
   "cell_type": "markdown",
   "id": "b3d9b958",
   "metadata": {},
   "source": [
    "#### Install Jupyter Kernel "
   ]
  },
  {
   "cell_type": "code",
   "execution_count": null,
   "id": "281f2999",
   "metadata": {},
   "outputs": [],
   "source": [
    "def install_kernel(new_env):\n",
    "    '''Install the ipython kernel in the new environment.\n",
    "\n",
    "    Args:\n",
    "        new_env (str): Name of Conda environment.\n",
    "\n",
    "    Returns:\n",
    "        str: The log output from the install.\n",
    "    '''\n",
    "    kernel_cmd = activate_environment(new_env)\n",
    "    kernel_cmd += f'python -m ipykernel install --user --name {new_env} '\n",
    "    kernel_cmd += f'--display-name \"Python ({new_env})\"'\n",
    "\n",
    "    kernel_install_log = console_command(\n",
    "        kernel_cmd,\n",
    "        AnacondaException,\n",
    "        f'Unable to install ipython kernel in \"{new_env}\"!'\n",
    "        )\n",
    "    return kernel_install_log\n"
   ]
  },
  {
   "cell_type": "markdown",
   "id": "80c1ccf9",
   "metadata": {},
   "source": [
    "#### Configure xlwings"
   ]
  },
  {
   "cell_type": "code",
   "execution_count": null,
   "id": "bf2cd5a9",
   "metadata": {},
   "outputs": [],
   "source": [
    "def configure_xlwings(new_env: str)->str:\n",
    "    '''Install and configure xlwings binaries for environment.\n",
    "\n",
    "    NOTE: This is still a works in progress.\n",
    "\n",
    "    Args:\n",
    "        new_env (str): Name of Conda environment.\n",
    "\n",
    "    Returns:\n",
    "        str: The log output from the install.\n",
    "    '''\n",
    "    activate_cmd = activate_environment(new_env)\n",
    "\n",
    "    logger.debug('Updating Xlwings licence for %s', new_env)\n",
    "    xlwings_license = activate_cmd + 'xlwings license update -k noncommercial'\n",
    "    license_log = console_command(\n",
    "        xlwings_license, AnacondaException,\n",
    "        f'Unable to set xlwings license in environment {new_env}')\n",
    "\n",
    "    logger.debug('Installing Xlwings add-in for %s', new_env)\n",
    "    xlwings_add_in = activate_cmd + 'xlwings addin install'\n",
    "    try:\n",
    "        add_in_log = console_command(\n",
    "            xlwings_add_in, AnacondaException,\n",
    "            f'Unable to install xlwings addin in environment {new_env}',\n",
    "            abort_after=2)\n",
    "    except AbortedCmdException:\n",
    "        logger.warning('Xlwings Add-in install timed out\\n'\n",
    "                       'This is likely due to insufficient rights to install '\n",
    "                       'the add-in.')\n",
    "\n",
    "    logger.debug('Creating Xlwings config file for %s', new_env)\n",
    "    xlwings_config = activate_cmd + 'xlwings config create --force'\n",
    "    config_log = console_command(\n",
    "        xlwings_config, AnacondaException,\n",
    "        f'Unable to configure xlwings in environment {new_env}')\n",
    "\n",
    "    xlwings_log = '\\n\\n'.join([license_log, add_in_log, config_log])\n",
    "    return xlwings_log\n"
   ]
  },
  {
   "cell_type": "code",
   "execution_count": null,
   "id": "b2d0ef5b",
   "metadata": {},
   "outputs": [],
   "source": [
    "cmd_str = activate_environment('Standard')\n",
    "cmd_str += 'conda env export --from-history'\n",
    "output = console_command(cmd_str)\n",
    "print(output)\n"
   ]
  },
  {
   "cell_type": "code",
   "execution_count": null,
   "id": "7bb2927c",
   "metadata": {},
   "outputs": [
    {
     "name": "stdout",
     "output_type": "stream",
     "text": [
      "Installed kernelspec Todoist in C:\\Users\\smoke\\AppData\\Roaming\\jupyter\\kernels\\todoist\n",
      "\n"
     ]
    }
   ],
   "source": [
    "output = install_kernel('Todoist')\n",
    "print(output)\n"
   ]
  },
  {
   "cell_type": "markdown",
   "id": "41f984b1",
   "metadata": {},
   "source": [
    "# Done To Here"
   ]
  },
  {
   "cell_type": "markdown",
   "id": "6ab28087-1489-4440-9700-efcd3a2c8f49",
   "metadata": {},
   "source": [
    "### Class to hold information on folders related to the package."
   ]
  },
  {
   "cell_type": "code",
   "execution_count": 4,
   "id": "1e183361-6e3e-4184-8713-0152ff47375d",
   "metadata": {
    "tags": []
   },
   "outputs": [],
   "source": [
    "@dataclass\n",
    "class FolderItem:\n",
    "    '''Manage folders related to the package.'''\n",
    "    folder_name: str\n",
    "    tag: str = ''\n",
    "    add_to_path: bool = True\n",
    "    folder_path: Path = None\n",
    "    base_path: InitVar[Path] = None\n",
    "\n",
    "    def __post_init__(self, base_path: Path):\n",
    "        '''Manage defaults for folder settings.\n",
    "\n",
    "        If not defined, base_path defaults to the current working\n",
    "        directory.  If it doesn't exists the folder is created.\n",
    "\n",
    "        If tag is not given use uppercase of folder name for tag.\n",
    "        '''\n",
    "        if not base_path:\n",
    "            base_path = Path.cwd()\n",
    "        self.set_path(base_path)\n",
    "        self.set_tag()\n",
    "\n",
    "    def set_path(self, base_path: Path):\n",
    "        '''If missing, Set the folder_path to a subdirectory of base_path.\n",
    "\n",
    "        Generates a path to the subdirectory.\n",
    "        If it doesn't exist create it.\n",
    "\n",
    "        Args:\n",
    "            base_path (Path): The top folder\n",
    "                (parent to the subdirectory).\n",
    "        '''\n",
    "        if not self.folder_path:\n",
    "            sub_folder = base_path / self.folder_name\n",
    "            if not sub_folder.exists():\n",
    "                sub_folder.mkdir()\n",
    "            self.folder_path = sub_folder\n",
    "\n",
    "    def set_tag(self):\n",
    "        '''If tag not given use uppercase of folder name.'''\n",
    "        if not self.tag:\n",
    "            self.tag = self.folder_name.upper()\n"
   ]
  },
  {
   "cell_type": "markdown",
   "id": "baea5026-a86a-4d45-a644-4b43a23b5fc3",
   "metadata": {},
   "source": [
    "## Project Parameters"
   ]
  },
  {
   "cell_type": "markdown",
   "id": "f27fc2de-79a3-4b41-97f8-d173606eb283",
   "metadata": {},
   "source": [
    "### Project Name and Python Version"
   ]
  },
  {
   "cell_type": "code",
   "execution_count": 6,
   "id": "c136883a-1469-44b9-a973-d12b5607631f",
   "metadata": {},
   "outputs": [],
   "source": [
    "new_env = 'Todoist'\n",
    "python_version = '3.11'\n"
   ]
  },
  {
   "cell_type": "markdown",
   "id": "7e92f7c2-1d83-4a9d-b571-37b270442685",
   "metadata": {},
   "source": [
    "### Packages to include in the Conda Environment"
   ]
  },
  {
   "cell_type": "code",
   "execution_count": 7,
   "id": "6e3591cc-9f94-498a-98b8-132441bcfe24",
   "metadata": {},
   "outputs": [],
   "source": [
    "primary_package_list = [\n",
    "    'pysimplegui',\n",
    "    'pandas',\n",
    "    'xlwings',\n",
    "    ]\n",
    "tools_package_list = [\n",
    "    'spyder',\n",
    "    'jupyterlab',\n",
    "    'ipykernel',\n",
    "    'pylint',\n",
    "    ]\n",
    "package_list = primary_package_list + tools_package_list\n",
    "packages = ' '.join(package_list)\n"
   ]
  },
  {
   "cell_type": "code",
   "execution_count": 8,
   "id": "431f5c22-804b-4d16-8a27-0478bed1d662",
   "metadata": {
    "tags": []
   },
   "outputs": [],
   "source": [
    "install_xlwings = True\n",
    "install_jupyter = True\n"
   ]
  },
  {
   "cell_type": "markdown",
   "id": "6963fdd5-9650-4b55-972d-7204a6fb4f49",
   "metadata": {},
   "source": [
    "## Package Creation"
   ]
  },
  {
   "cell_type": "markdown",
   "id": "c0718357-67b1-4582-b965-1be65dffe430",
   "metadata": {
    "tags": []
   },
   "source": [
    "### Create the new environment"
   ]
  },
  {
   "cell_type": "code",
   "execution_count": 9,
   "id": "6e7d7442-3046-41ab-a28d-9f159436142a",
   "metadata": {
    "tags": []
   },
   "outputs": [
    {
     "name": "stdout",
     "output_type": "stream",
     "text": [
      "Creating environment for Todoist\n"
     ]
    }
   ],
   "source": [
    "def create_environment(new_env: str)->Dict[str,str]:\n",
    "    logger.info('Creating environment for %s', new_env)\n",
    "\n",
    "    env_create_cmds = ['conda', 'create', '-y', '--name', '--json',\n",
    "                       new_env, f'python={python_version}']\n",
    "    err_msg = ' '.join([f'Unable to create new environment \"{new_env}\"',\n",
    "                        f'with python={python_version}!'])\n",
    "    install_log = console_command(env_create_cmds, AnacondaException, err_msg)\n",
    "    logging_dict = json.loads(install_log)\n"
   ]
  },
  {
   "cell_type": "markdown",
   "id": "99f28ce6-7512-4db5-a472-e011f3e7dd73",
   "metadata": {},
   "source": [
    "### Identify the Conda Environment path"
   ]
  },
  {
   "cell_type": "code",
   "execution_count": 13,
   "id": "f261923d-980d-469a-9deb-dfd0dedd62bd",
   "metadata": {
    "tags": []
   },
   "outputs": [],
   "source": [
    "env_path = Path(logging_dict['prefix'])\n"
   ]
  },
  {
   "cell_type": "markdown",
   "id": "50d2bc5c-1e41-4a22-9b01-31853b9ffa4b",
   "metadata": {},
   "source": [
    "### Install the Packages"
   ]
  },
  {
   "cell_type": "code",
   "execution_count": 15,
   "id": "e134ca2c-c2ad-4e07-a061-baf50ffb83de",
   "metadata": {
    "tags": []
   },
   "outputs": [],
   "source": [
    "# Activate the new environment\n",
    "env_activate_cmd = ['conda', 'activate', new_env]\n",
    "output = subprocess.run(env_activate_cmd,shell=True, capture_output=True)\n",
    "# check for errors\n",
    "try:\n",
    "    output.check_returncode()\n",
    "except subprocess.CalledProcessError as err:\n",
    "    print(f'Unable to activate new environment \"{new_env}\"!')\n",
    "    print(output.stderr.decode())\n",
    "    raise err\n"
   ]
  },
  {
   "cell_type": "code",
   "execution_count": 18,
   "id": "088ba928-1d06-4d88-a07a-86f1ff5745cc",
   "metadata": {
    "tags": []
   },
   "outputs": [],
   "source": [
    "# Group Install the desired packages\n",
    "env_install_cmds = ['conda', 'install', '-y', '--prefix', str(env_path), '--json'] + package_list\n",
    "output = subprocess.run(env_install_cmds,shell=True, capture_output=True)\n",
    "# check for errors\n",
    "try:\n",
    "    output.check_returncode()\n",
    "except subprocess.CalledProcessError as err:\n",
    "    print(f'Unable to install requested packages in \"{new_env}\"!')\n",
    "    print(output.stderr.decode())\n",
    "    raise err\n",
    "else:\n",
    "    pkg_install_log = output.stdout.decode()\n",
    "    pkg_install_dict = json.loads(pkg_install_log)\n"
   ]
  },
  {
   "cell_type": "markdown",
   "id": "a6ecc575-b7a6-4739-8693-3fa873cb18e5",
   "metadata": {},
   "source": [
    "### Write the Log Data generated during the Conda Environment install"
   ]
  },
  {
   "cell_type": "code",
   "execution_count": 32,
   "id": "6db9da4c-c7e5-4fa3-a1ba-49c82a50a418",
   "metadata": {
    "tags": []
   },
   "outputs": [],
   "source": [
    "\n",
    "log_file = env_folder / f'{new_env}CreationLog.txt'\n",
    "pkg_table_file = env_folder / f'{new_env}Packages.csv'\n",
    "\n",
    "install_log = install_log + '\\n' + pkg_install_log\n",
    "log_file.write_text(install_log)\n",
    "\n",
    "pkg_items = logging_dict['actions']['LINK'] + pkg_install_dict['actions']['LINK']\n",
    "pkg_table = pd.DataFrame(pkg_items)\n",
    "pkg_table.to_csv(pkg_table_file)\n"
   ]
  },
  {
   "cell_type": "markdown",
   "id": "a9113474",
   "metadata": {},
   "source": [
    "## Specify project related paths\n",
    "- The top level project path should already exist and should be given the tag 'WORKSPACE'\n",
    "- `folder_path` must be specified for 'WORKSPACE'\n",
    "- An 'ENVIRONMENT' must be defined.\n",
    "- There shouldn't be duplicate tags.\n",
    "- If `tag` is not given `folder_name.upper()` will be used as the `tag`\n",
    "- When `folder_path` is given, the `folder_name` is ignored.  \n",
    "- If `folder_path` is not given, a folder with the name `folder_name` will be created directly under `base_path`.  \n",
    "- If `add_to_path` is True *(the default)*, the folder path will be added to the python search path.\n",
    "\n",
    "#### Example folders:\n",
    "\n",
    "| folder_name | folder_path                              | tag         | add_to_path |\n",
    "|-------------|------------------------------------------|-------------|-------------|\n",
    "| Todoist     | ~\\Python\\Projects\\ToDoIst Projects\\Turkey| WORKSPACE   | True        |\n",
    "| environment | None                                     | ENVIRONMENT | False       |\n",
    "| src         | None                                     | SOURCE      | True        |\n",
    "| Old files   | None                                     | IGNORE      | False       |\n",
    "| data        | None                                     | DATA        | True        |\n",
    "| reference   | None                                     | REFERENCE   | False       |\n",
    "| sectionary  | ..\\\\..\\sectionary package\\src'           | PACKAGE     | True        |"
   ]
  },
  {
   "cell_type": "markdown",
   "id": "1df2e06e",
   "metadata": {},
   "source": [
    "### Primary project path"
   ]
  },
  {
   "cell_type": "code",
   "execution_count": null,
   "id": "6f38055a",
   "metadata": {},
   "outputs": [],
   "source": [
    "project_folder = Path(r\"D:\\OneDrive - Queen's University\\Python\\Projects\\ToDoIst Projects\\Turkey\")\n",
    "project_drive = project_folder.drive\n"
   ]
  },
  {
   "cell_type": "markdown",
   "id": "a1f7635a",
   "metadata": {},
   "source": [
    "### Additional package path"
   ]
  },
  {
   "cell_type": "code",
   "execution_count": null,
   "id": "8ff2532c",
   "metadata": {},
   "outputs": [],
   "source": [
    "sectionary_path = project_folder / '..' / '..' / 'sectionary package' / 'src'\n",
    "sectionary_path = sectionary_path.resolve()\n"
   ]
  },
  {
   "cell_type": "markdown",
   "id": "743de9f4",
   "metadata": {},
   "source": [
    "#### Folder Parameters"
   ]
  },
  {
   "cell_type": "code",
   "execution_count": null,
   "id": "3725d56f",
   "metadata": {},
   "outputs": [],
   "source": [
    "folder_list = [FolderItem(new_env,       tag='WORKSPACE',                      folder_path=project_folder),\n",
    "               FolderItem('environment', tag='ENVIRONMENT', add_to_path=False,   base_path=project_folder),\n",
    "               FolderItem('src',         tag='SOURCE',                           base_path=project_folder),\n",
    "               FolderItem('data',        tag='DATA',                             base_path=project_folder),\n",
    "               FolderItem('reference',   tag='REFERENCE',   add_to_path=False,   base_path=project_folder),\n",
    "               FolderItem('sectionary',                                        folder_path=sectionary_path)]\n",
    "\n",
    "folders = pd.DataFrame(folder_list)\n"
   ]
  },
  {
   "cell_type": "code",
   "execution_count": null,
   "id": "07ddf325",
   "metadata": {},
   "outputs": [
    {
     "data": {
      "text/html": [
       "<div>\n",
       "<style scoped>\n",
       "    .dataframe tbody tr th:only-of-type {\n",
       "        vertical-align: middle;\n",
       "    }\n",
       "\n",
       "    .dataframe tbody tr th {\n",
       "        vertical-align: top;\n",
       "    }\n",
       "\n",
       "    .dataframe thead th {\n",
       "        text-align: right;\n",
       "    }\n",
       "</style>\n",
       "<table border=\"1\" class=\"dataframe\">\n",
       "  <thead>\n",
       "    <tr style=\"text-align: right;\">\n",
       "      <th></th>\n",
       "      <th>folder_name</th>\n",
       "      <th>tag</th>\n",
       "      <th>add_to_path</th>\n",
       "      <th>folder_path</th>\n",
       "    </tr>\n",
       "  </thead>\n",
       "  <tbody>\n",
       "    <tr>\n",
       "      <th>0</th>\n",
       "      <td>Todoist</td>\n",
       "      <td>WORKSPACE</td>\n",
       "      <td>True</td>\n",
       "      <td>D:\\OneDrive - Queen's University\\Python\\Projec...</td>\n",
       "    </tr>\n",
       "    <tr>\n",
       "      <th>1</th>\n",
       "      <td>environment</td>\n",
       "      <td>ENVIRONMENT</td>\n",
       "      <td>False</td>\n",
       "      <td>D:\\OneDrive - Queen's University\\Python\\Projec...</td>\n",
       "    </tr>\n",
       "    <tr>\n",
       "      <th>2</th>\n",
       "      <td>src</td>\n",
       "      <td>SOURCE</td>\n",
       "      <td>True</td>\n",
       "      <td>D:\\OneDrive - Queen's University\\Python\\Projec...</td>\n",
       "    </tr>\n",
       "    <tr>\n",
       "      <th>3</th>\n",
       "      <td>data</td>\n",
       "      <td>DATA</td>\n",
       "      <td>True</td>\n",
       "      <td>D:\\OneDrive - Queen's University\\Python\\Projec...</td>\n",
       "    </tr>\n",
       "    <tr>\n",
       "      <th>4</th>\n",
       "      <td>reference</td>\n",
       "      <td>REFERENCE</td>\n",
       "      <td>False</td>\n",
       "      <td>D:\\OneDrive - Queen's University\\Python\\Projec...</td>\n",
       "    </tr>\n",
       "    <tr>\n",
       "      <th>5</th>\n",
       "      <td>sectionary</td>\n",
       "      <td>SECTIONARY</td>\n",
       "      <td>True</td>\n",
       "      <td>D:\\OneDrive - Queen's University\\Python\\Projec...</td>\n",
       "    </tr>\n",
       "  </tbody>\n",
       "</table>\n",
       "</div>"
      ],
      "text/plain": [
       "   folder_name          tag  add_to_path  \\\n",
       "0      Todoist    WORKSPACE         True   \n",
       "1  environment  ENVIRONMENT        False   \n",
       "2          src       SOURCE         True   \n",
       "3         data         DATA         True   \n",
       "4    reference    REFERENCE        False   \n",
       "5   sectionary   SECTIONARY         True   \n",
       "\n",
       "                                         folder_path  \n",
       "0  D:\\OneDrive - Queen's University\\Python\\Projec...  \n",
       "1  D:\\OneDrive - Queen's University\\Python\\Projec...  \n",
       "2  D:\\OneDrive - Queen's University\\Python\\Projec...  \n",
       "3  D:\\OneDrive - Queen's University\\Python\\Projec...  \n",
       "4  D:\\OneDrive - Queen's University\\Python\\Projec...  \n",
       "5  D:\\OneDrive - Queen's University\\Python\\Projec...  "
      ]
     },
     "metadata": {},
     "output_type": "display_data"
    }
   ],
   "source": [
    "folders\n"
   ]
  },
  {
   "cell_type": "code",
   "execution_count": 7,
   "id": "53a33e29-7ebd-4c8d-b7ad-ffe81d735640",
   "metadata": {
    "tags": []
   },
   "outputs": [],
   "source": [
    "if install_jupyter:\n"
   ]
  },
  {
   "cell_type": "code",
   "execution_count": 33,
   "id": "0c498fcb-b122-4a1f-b201-1c993c4db26e",
   "metadata": {},
   "outputs": [],
   "source": [
    "if install_xlwings:\n"
   ]
  },
  {
   "cell_type": "code",
   "execution_count": 34,
   "id": "31b0298c-01ed-4931-a7f5-ba9077621024",
   "metadata": {},
   "outputs": [],
   "source": [
    "print(f'Storing environment for {new_env}')\n"
   ]
  },
  {
   "cell_type": "markdown",
   "id": "a58c3302-1a0f-4a94-90c7-dd2f9f2dcd59",
   "metadata": {},
   "source": [
    "## Build Boilerplate Files"
   ]
  },
  {
   "cell_type": "markdown",
   "id": "4cdaee6b-32cd-47c9-a67e-360c745cc97b",
   "metadata": {},
   "source": [
    "### Build Jupyter lab Batch file"
   ]
  },
  {
   "cell_type": "code",
   "execution_count": 41,
   "id": "f4fb6541-aaa0-428c-88d6-e319afaabf47",
   "metadata": {
    "tags": []
   },
   "outputs": [
    {
     "data": {
      "text/plain": [
       "198"
      ]
     },
     "execution_count": 41,
     "metadata": {},
     "output_type": "execute_result"
    }
   ],
   "source": [
    "\n",
    "jupter_batch_file = env_folder / f'JupyterLab ({new_env}).bat'\n",
    "jupyter_batch = '\\n'.join([\n",
    "    r'CALL C:\\ProgramData\\Anaconda3\\Scripts\\activate.bat C:\\ProgramData\\Anaconda3',\n",
    "    f'CALL conda activate \"{new_env}\"',\n",
    "    f'CD \"{project_folder}\"',\n",
    "    f'{project_drive}',\n",
    "    'jupyter-lab'\n",
    "    ])\n",
    "jupter_batch_file.write_text(jupyter_batch)\n"
   ]
  },
  {
   "cell_type": "markdown",
   "id": "6d627b57-17fb-4476-954c-c292b4502931",
   "metadata": {},
   "source": [
    "### Build VS Code Batch file"
   ]
  },
  {
   "cell_type": "code",
   "execution_count": 42,
   "id": "116cb72c-62ea-4484-b329-e88a6d7501de",
   "metadata": {
    "tags": []
   },
   "outputs": [
    {
     "data": {
      "text/plain": [
       "214"
      ]
     },
     "execution_count": 42,
     "metadata": {},
     "output_type": "execute_result"
    }
   ],
   "source": [
    "vscode_batch_file = env_folder / f'VS Code ({new_env}).bat'\n",
    "vscode_batch = '\\n'.join([\n",
    "    r'CALL C:\\ProgramData\\Anaconda3\\Scripts\\activate.bat C:\\ProgramData\\Anaconda3',\n",
    "    f'CALL conda activate \"{new_env}\"',\n",
    "    f'CD \"{project_folder}\"',\n",
    "    f'{project_drive}',\n",
    "    f'code {new_env}.code-workspace'\n",
    "    ])\n",
    "vscode_batch_file.write_text(vscode_batch)\n"
   ]
  },
  {
   "cell_type": "markdown",
   "id": "5cbfb17b-6324-4b57-b80d-ba2d6e94c0bd",
   "metadata": {},
   "source": [
    "### Build .env file"
   ]
  },
  {
   "cell_type": "code",
   "execution_count": 14,
   "id": "59aaa9b0-87c6-46d4-be0d-e9dcae51116e",
   "metadata": {
    "tags": []
   },
   "outputs": [
    {
     "data": {
      "text/html": [
       "<div>\n",
       "<style scoped>\n",
       "    .dataframe tbody tr th:only-of-type {\n",
       "        vertical-align: middle;\n",
       "    }\n",
       "\n",
       "    .dataframe tbody tr th {\n",
       "        vertical-align: top;\n",
       "    }\n",
       "\n",
       "    .dataframe thead th {\n",
       "        text-align: right;\n",
       "    }\n",
       "</style>\n",
       "<table border=\"1\" class=\"dataframe\">\n",
       "  <thead>\n",
       "    <tr style=\"text-align: right;\">\n",
       "      <th></th>\n",
       "      <th>folder_name</th>\n",
       "      <th>tag</th>\n",
       "      <th>add_to_path</th>\n",
       "      <th>folder_path</th>\n",
       "    </tr>\n",
       "  </thead>\n",
       "  <tbody>\n",
       "    <tr>\n",
       "      <th>0</th>\n",
       "      <td>Todoist</td>\n",
       "      <td>WORKSPACE</td>\n",
       "      <td>True</td>\n",
       "      <td>D:\\OneDrive - Queen's University\\Python\\Projec...</td>\n",
       "    </tr>\n",
       "    <tr>\n",
       "      <th>1</th>\n",
       "      <td>environment</td>\n",
       "      <td>ENVIRONMENT</td>\n",
       "      <td>False</td>\n",
       "      <td>D:\\OneDrive - Queen's University\\Python\\Projec...</td>\n",
       "    </tr>\n",
       "    <tr>\n",
       "      <th>2</th>\n",
       "      <td>src</td>\n",
       "      <td>SOURCE</td>\n",
       "      <td>True</td>\n",
       "      <td>D:\\OneDrive - Queen's University\\Python\\Projec...</td>\n",
       "    </tr>\n",
       "    <tr>\n",
       "      <th>3</th>\n",
       "      <td>data</td>\n",
       "      <td>DATA</td>\n",
       "      <td>True</td>\n",
       "      <td>D:\\OneDrive - Queen's University\\Python\\Projec...</td>\n",
       "    </tr>\n",
       "    <tr>\n",
       "      <th>4</th>\n",
       "      <td>reference</td>\n",
       "      <td>REFERENCE</td>\n",
       "      <td>False</td>\n",
       "      <td>D:\\OneDrive - Queen's University\\Python\\Projec...</td>\n",
       "    </tr>\n",
       "    <tr>\n",
       "      <th>5</th>\n",
       "      <td>sectionary</td>\n",
       "      <td>PACKAGE</td>\n",
       "      <td>True</td>\n",
       "      <td>D:\\OneDrive - Queen's University\\Python\\Projec...</td>\n",
       "    </tr>\n",
       "  </tbody>\n",
       "</table>\n",
       "</div>"
      ],
      "text/plain": [
       "   folder_name          tag  add_to_path  \\\n",
       "0      Todoist    WORKSPACE         True   \n",
       "1  environment  ENVIRONMENT        False   \n",
       "2          src       SOURCE         True   \n",
       "3         data         DATA         True   \n",
       "4    reference    REFERENCE        False   \n",
       "5   sectionary      PACKAGE         True   \n",
       "\n",
       "                                         folder_path  \n",
       "0  D:\\OneDrive - Queen's University\\Python\\Projec...  \n",
       "1  D:\\OneDrive - Queen's University\\Python\\Projec...  \n",
       "2  D:\\OneDrive - Queen's University\\Python\\Projec...  \n",
       "3  D:\\OneDrive - Queen's University\\Python\\Projec...  \n",
       "4  D:\\OneDrive - Queen's University\\Python\\Projec...  \n",
       "5  D:\\OneDrive - Queen's University\\Python\\Projec...  "
      ]
     },
     "execution_count": 14,
     "metadata": {},
     "output_type": "execute_result"
    }
   ],
   "source": [
    "folders\n"
   ]
  },
  {
   "cell_type": "code",
   "execution_count": 17,
   "id": "0fff64b2-1b24-4fa8-b238-cc14c4d24b2d",
   "metadata": {
    "tags": []
   },
   "outputs": [
    {
     "data": {
      "text/html": [
       "<div>\n",
       "<style scoped>\n",
       "    .dataframe tbody tr th:only-of-type {\n",
       "        vertical-align: middle;\n",
       "    }\n",
       "\n",
       "    .dataframe tbody tr th {\n",
       "        vertical-align: top;\n",
       "    }\n",
       "\n",
       "    .dataframe thead th {\n",
       "        text-align: right;\n",
       "    }\n",
       "</style>\n",
       "<table border=\"1\" class=\"dataframe\">\n",
       "  <thead>\n",
       "    <tr style=\"text-align: right;\">\n",
       "      <th></th>\n",
       "      <th>folder_name</th>\n",
       "      <th>tag</th>\n",
       "      <th>add_to_path</th>\n",
       "      <th>folder_path</th>\n",
       "    </tr>\n",
       "  </thead>\n",
       "  <tbody>\n",
       "    <tr>\n",
       "      <th>0</th>\n",
       "      <td>Todoist</td>\n",
       "      <td>WORKSPACE</td>\n",
       "      <td>True</td>\n",
       "      <td>D:\\OneDrive - Queen's University\\Python\\Projec...</td>\n",
       "    </tr>\n",
       "    <tr>\n",
       "      <th>2</th>\n",
       "      <td>src</td>\n",
       "      <td>SOURCE</td>\n",
       "      <td>True</td>\n",
       "      <td>D:\\OneDrive - Queen's University\\Python\\Projec...</td>\n",
       "    </tr>\n",
       "    <tr>\n",
       "      <th>3</th>\n",
       "      <td>data</td>\n",
       "      <td>DATA</td>\n",
       "      <td>True</td>\n",
       "      <td>D:\\OneDrive - Queen's University\\Python\\Projec...</td>\n",
       "    </tr>\n",
       "    <tr>\n",
       "      <th>5</th>\n",
       "      <td>sectionary</td>\n",
       "      <td>PACKAGE</td>\n",
       "      <td>True</td>\n",
       "      <td>D:\\OneDrive - Queen's University\\Python\\Projec...</td>\n",
       "    </tr>\n",
       "  </tbody>\n",
       "</table>\n",
       "</div>"
      ],
      "text/plain": [
       "  folder_name        tag  add_to_path  \\\n",
       "0     Todoist  WORKSPACE         True   \n",
       "2         src     SOURCE         True   \n",
       "3        data       DATA         True   \n",
       "5  sectionary    PACKAGE         True   \n",
       "\n",
       "                                         folder_path  \n",
       "0  D:\\OneDrive - Queen's University\\Python\\Projec...  \n",
       "2  D:\\OneDrive - Queen's University\\Python\\Projec...  \n",
       "3  D:\\OneDrive - Queen's University\\Python\\Projec...  \n",
       "5  D:\\OneDrive - Queen's University\\Python\\Projec...  "
      ]
     },
     "execution_count": 17,
     "metadata": {},
     "output_type": "execute_result"
    }
   ],
   "source": [
    "folders[folders.add_to_path]\n"
   ]
  },
  {
   "cell_type": "code",
   "execution_count": null,
   "id": "32b51902-25d2-44d4-9231-65d3aa38a8b9",
   "metadata": {
    "tags": []
   },
   "outputs": [],
   "source": [
    "folders[folders.tag=='ENVIRONMENT'].folder_path\n"
   ]
  },
  {
   "cell_type": "code",
   "execution_count": 51,
   "id": "2b3ff364-0cb6-453d-ae63-0c9581ece157",
   "metadata": {
    "tags": []
   },
   "outputs": [
    {
     "data": {
      "text/plain": [
       "183"
      ]
     },
     "execution_count": 51,
     "metadata": {},
     "output_type": "execute_result"
    }
   ],
   "source": [
    "env_file = env_folder / '.env'\n",
    "\n",
    "env_paths = '\\n'.join('PYTHONPATH=${}' for name, path_str in path_dict.items())\n",
    "path_setter = '\\n'.join('PYTHONPATH=\"${' + name.upper() + '};${PYTHONPATH}\"'\n",
    "                        for name in path_dict.keys())\n",
    "env_text = '\\n'.join([env_paths, path_setter])\n",
    "env_file.write_text(env_text)\n"
   ]
  },
  {
   "cell_type": "code",
   "execution_count": null,
   "id": "a1993467-5425-469c-a410-1a5a60b0fc37",
   "metadata": {},
   "outputs": [],
   "source": []
  },
  {
   "cell_type": "markdown",
   "id": "2b8060ee-5e76-4257-b7ec-96e959142e2b",
   "metadata": {},
   "source": [
    "### Build Code-workspace from templatestr(env_path)"
   ]
  },
  {
   "cell_type": "code",
   "execution_count": 15,
   "id": "5319a3f7-41a1-48b2-b27a-803c597192d5",
   "metadata": {
    "tags": []
   },
   "outputs": [],
   "source": [
    "data_dir = Path(r\"D:\\OneDrive - Queen's University\\Python\\Python Learning\\Environment Management\")\n",
    "\n",
    "worspace_template = data_dir / 'vscode settings templates' / 'TEMPLATE.code-workspace'\n"
   ]
  },
  {
   "cell_type": "code",
   "execution_count": 16,
   "id": "f63b63b3-11ea-43db-8398-459747063602",
   "metadata": {
    "tags": []
   },
   "outputs": [],
   "source": [
    "worspace = worspace_template.read_text()\n"
   ]
  },
  {
   "cell_type": "code",
   "execution_count": 43,
   "id": "cd205a37-c1d9-427a-9853-b2b57aef633f",
   "metadata": {
    "tags": []
   },
   "outputs": [],
   "source": [
    "path_dict = {\n",
    "    'WORKSPACE_FOLDER': f'\"{project_folder}\"',\n",
    "    'SOURCE_FOLDER': f'\"{source_folder}\"',\n",
    "    'SECTIONARY_FOLDER': f'\"{sectionary_path}\"'\n",
    "    }\n"
   ]
  },
  {
   "cell_type": "code",
   "execution_count": 68,
   "id": "7669f89a-1d79-4295-bc2c-7a45cb4d04f2",
   "metadata": {
    "tags": []
   },
   "outputs": [
    {
     "data": {
      "text/plain": [
       "'C:/Users/smoke/.conda/envs/Todoist'"
      ]
     },
     "execution_count": 68,
     "metadata": {},
     "output_type": "execute_result"
    }
   ],
   "source": [
    "str(env_path).replace('\\\\', '/')\n"
   ]
  },
  {
   "cell_type": "code",
   "execution_count": 63,
   "id": "173142c0-b63d-47c9-8df5-13da33129af0",
   "metadata": {
    "tags": []
   },
   "outputs": [],
   "source": [
    "env_manage_base = Path(r\"D:\\OneDrive - Queen's University\\Python\\Python Learning\\Environment Management\")\n",
    "code_workspace_template = env_manage_base / 'vscode settings templates' / 'TEMPLATE.code-workspace'\n"
   ]
  },
  {
   "cell_type": "code",
   "execution_count": 69,
   "id": "139c005b-b9a2-47c1-9f23-e82b017000e7",
   "metadata": {
    "tags": []
   },
   "outputs": [],
   "source": [
    "template = code_workspace_template.read_text()\n"
   ]
  },
  {
   "cell_type": "code",
   "execution_count": 70,
   "id": "7fd15970-4f01-4dc9-ac63-a4dfe741726e",
   "metadata": {
    "tags": []
   },
   "outputs": [],
   "source": [
    "template = template.replace('%env_path%', str(env_path).replace('\\\\', '/'))\n"
   ]
  },
  {
   "cell_type": "code",
   "execution_count": null,
   "id": "77004bda-4a17-4c94-bc08-8d3c4556f3d6",
   "metadata": {},
   "outputs": [],
   "source": []
  },
  {
   "cell_type": "raw",
   "id": "61b38ab3-26c5-4164-bc0d-1aa1ab92c7b6",
   "metadata": {},
   "source": [
    "        \"python.analysis.extraPaths\": [\n",
    "            \"${workspaceFolder}/src\",\n",
    "            \"${workspaceFolder}\",\n",
    "            \"../../sectionary package/src\"\n",
    "        ],\n",
    "        \"python.autoComplete.extraPaths\": [\n",
    "            \"${workspaceFolder}/src\",\n",
    "            \"${workspaceFolder}\",\n",
    "            \"../../sectionary package/src\"\n",
    "        ],\n"
   ]
  },
  {
   "cell_type": "code",
   "execution_count": 35,
   "id": "0ff20ccc-c66f-438e-bcdc-f7ec7941ad47",
   "metadata": {
    "tags": []
   },
   "outputs": [],
   "source": [
    "project_folder = Path(r\"D:\\OneDrive - Queen's University\\Python\\Projects\\ToDoIst Projects\\Turkey\")\n",
    "\n",
    "env_folder = add_folder(project_folder, 'environment')\n",
    "source_folder = add_folder(project_folder, 'src')\n",
    "\n",
    "project_drive = project_folder.drive\n"
   ]
  },
  {
   "cell_type": "code",
   "execution_count": 43,
   "id": "0a1fe6de-5d9a-4ff2-8055-c34ce3359daa",
   "metadata": {
    "tags": []
   },
   "outputs": [],
   "source": [
    "sectionary_path = project_folder / '..' / '..' / 'sectionary package' / 'src'\n",
    "sectionary_path = sectionary_path.resolve()\n"
   ]
  },
  {
   "cell_type": "code",
   "execution_count": 43,
   "id": "9fda7e4d-de0a-4541-a73c-104c18a2e8fd",
   "metadata": {
    "tags": []
   },
   "outputs": [],
   "source": [
    "path_dict = {\n",
    "    'WORKSPACE_FOLDER': f'\"{project_folder}\"',\n",
    "    'SOURCE_FOLDER': f'\"{source_folder}\"',\n",
    "    'SECTIONARY_FOLDER': f'\"{sectionary_path}\"'\n",
    "    }\n"
   ]
  },
  {
   "cell_type": "raw",
   "id": "e7ce5bb2-6350-402c-90dc-52bf8109a9c5",
   "metadata": {},
   "source": [
    "        \"python.analysis.extraPaths\": \"%analysis.extraPaths%\",\n",
    "        \"python.autoComplete.extraPaths\": \"%autoComplete.extraPaths%\",\n"
   ]
  },
  {
   "cell_type": "code",
   "execution_count": null,
   "id": "6be6595c-ec29-4a80-9d08-cc81dc6f1519",
   "metadata": {},
   "outputs": [],
   "source": [
    "template.replace('%analysis.extraPaths%', str(text))\n"
   ]
  },
  {
   "cell_type": "code",
   "execution_count": null,
   "id": "40a34ac3-dca1-4b50-ab03-9db5256964e4",
   "metadata": {},
   "outputs": [],
   "source": [
    "template.replace('%autoComplete.extraPaths%', str(text))\n"
   ]
  },
  {
   "cell_type": "raw",
   "id": "d6b907b8-f0dc-42ad-940e-f52bdb686e76",
   "metadata": {},
   "source": [
    "              \"env\": {\"PYTHONPATH\": \"${fileDirname};${workspaceFolder};${workspaceFolder}\\\\..\\\\..\\\\sectionary package\\\\src;${env:PYTHONPATH}\"\n"
   ]
  },
  {
   "cell_type": "raw",
   "id": "46fac944-b6b6-444f-a30a-b6ef7832a199",
   "metadata": {},
   "source": [
    "              \"env\": {\"PYTHONPATH\": \"%PYTHONPATH%\"}\n"
   ]
  },
  {
   "cell_type": "raw",
   "id": "ebdb2c27-3f88-4157-a249-cd5d53d00626",
   "metadata": {},
   "source": [
    "            \"PYTHONPATH\": \"${fileDirname};${workspaceFolder};${workspaceFolder}/../../sectionary package/src;${env:PYTHONPATH}\"\n"
   ]
  },
  {
   "cell_type": "raw",
   "id": "8e530ddf-fb18-474a-8cdc-b3cb7a98d7e1",
   "metadata": {},
   "source": [
    "            \"PYTHONPATH\": \"%PYTHONPATH%\"\n"
   ]
  },
  {
   "cell_type": "raw",
   "id": "b506b6ca-b780-45f7-b350-651755d80eb1",
   "metadata": {},
   "source": [
    "\"PYTHONPATH\": \"${fileDirname};${workspaceFolder};${workspaceFolder}/../../sectionary package/src;${env:PYTHONPATH}\",\n",
    "\"env\": {\"PYTHONPATH\": \"${fileDirname};${workspaceFolder};${workspaceFolder}\\\\..\\\\..\\\\sectionary package\\\\src;${env:PYTHONPATH}\"\n"
   ]
  },
  {
   "cell_type": "raw",
   "id": "82395918-00d9-462d-89ca-eb73596cc6e4",
   "metadata": {},
   "source": [
    "            \"PythonShell\": {\n",
    "                \"path\": \"C:/ProgramData/Anaconda3/envs/plan_check_tools/python.exe\",\n"
   ]
  },
  {
   "cell_type": "markdown",
   "id": "e8d170ec-5fc4-4093-92bf-e1daab0843f7",
   "metadata": {
    "tags": []
   },
   "source": [
    "# Misc Reference"
   ]
  },
  {
   "cell_type": "raw",
   "id": "58e40b21-e28c-4f64-b2f3-ea4a3b80b5f1",
   "metadata": {},
   "source": [
    "########## Spyder Launch ############\n",
    "C:\\ProgramData\\Anaconda3\\pythonw.exe C:\\ProgramData\\Anaconda3\\cwp.py C:\\ProgramData\\Anaconda3\\envs\\Standard C:\\ProgramData\\Anaconda3\\envs\\Standard\\pythonw.exe C:\\ProgramData\\Anaconda3\\envs\\Standard\\Scripts\\spyder-script.py\n",
    "\n",
    "########## Jupyter Lab Launch ############\n",
    "C:\\ProgramData\\Anaconda3\\python.exe C:\\ProgramData\\Anaconda3\\cwp.py C:\\ProgramData\\Anaconda3\\envs\\Standard C:\\ProgramData\\Anaconda3\\envs\\Standard\\pythonw.exe C:\\ProgramData\\Anaconda3\\envs\\\\Standard\\Scripts\\jupyter-lab-script.py \"D:\\OneDrive - Queen's University\\Python\\Projects\"\n",
    "\n",
    "\"D:\\OneDrive - Queen's University\\Python\\Projects\"\n",
    "%ALLUSERSPROFILE%\\Anaconda3\\Menu\\jupyter.ico\n",
    "%ALLUSERSPROFILE%\\Anaconda3\\envs\\Standard\\Scripts\\spyder.ico\n"
   ]
  },
  {
   "cell_type": "code",
   "execution_count": 5,
   "id": "60951394",
   "metadata": {},
   "outputs": [
    {
     "name": "stdout",
     "output_type": "stream",
     "text": [
      "name: base\n",
      "channels:\n",
      "  - conda-forge\n",
      "  - bioconda\n",
      "  - defaults\n",
      "dependencies:\n",
      "  - conda\n",
      "  - python=3.9\n",
      "  - menuinst\n",
      "  - console_shortcut\n",
      "  - powershell_shortcut\n",
      "  - conda-env\n",
      "  - conda-build\n",
      "  - conda-verify\n",
      "  - _ipyw_jlab_nb_ext_conf\n",
      "  - anaconda\n",
      "  - anaconda-navigator\n",
      "  - navigator-updater\n",
      "  - networkx\n",
      "prefix: C:\\ProgramData\\Anaconda3\n",
      "\n"
     ]
    }
   ],
   "source": [
    "a = console_command('conda env export --from-history')\n",
    "print(a)\n"
   ]
  },
  {
   "cell_type": "code",
   "execution_count": 9,
   "id": "20652bd4",
   "metadata": {},
   "outputs": [],
   "source": [
    "new_env = 'Standard'\n",
    "c = f'cmd /c conda activate {new_env}&&conda env export --from-history'\n"
   ]
  },
  {
   "cell_type": "code",
   "execution_count": 19,
   "id": "fc456a09",
   "metadata": {},
   "outputs": [],
   "source": [
    "c = ''.join([\n",
    "    r'cmd /c C:\\ProgramData\\Anaconda3\\Scripts\\activate.bat ',\n",
    "    r'C:\\ProgramData\\Anaconda3',\n",
    "    r'&&',\n",
    "    r'conda activate Standard',\n",
    "    r'&&',\n",
    "    r'conda env export --from-history'\n",
    "    ])\n"
   ]
  },
  {
   "cell_type": "code",
   "execution_count": 20,
   "id": "81b8931d",
   "metadata": {},
   "outputs": [],
   "source": [
    "output = subprocess.run(c, shell=True, capture_output=True,\n",
    "                        check=True)\n"
   ]
  },
  {
   "cell_type": "code",
   "execution_count": 21,
   "id": "4808129b",
   "metadata": {},
   "outputs": [
    {
     "name": "stdout",
     "output_type": "stream",
     "text": [
      "name: Standard\n",
      "channels:\n",
      "  - conda-forge\n",
      "  - bioconda\n",
      "  - defaults\n",
      "dependencies:\n",
      "  - python=3.11\n",
      "  - numpy\n",
      "  - pysimplegui\n",
      "  - pandas\n",
      "  - matplotlib\n",
      "  - openpyxl\n",
      "  - xlwings\n",
      "  - networkx\n",
      "  - pygraphviz\n",
      "  - shapely\n",
      "  - scipy\n",
      "  - spyder\n",
      "  - jupyterlab\n",
      "  - nb_conda_kernels\n",
      "  - mypy\n",
      "prefix: C:\\Users\\smoke\\.conda\\envs\\Standard\n",
      "\n"
     ]
    }
   ],
   "source": [
    "print(output.stdout.decode())\n"
   ]
  },
  {
   "cell_type": "code",
   "execution_count": 12,
   "id": "8ca54991",
   "metadata": {},
   "outputs": [],
   "source": [
    "c = ['cmd', r'/c',\n",
    "     r'C:\\ProgramData\\Anaconda3\\Scripts\\activate.bat',\n",
    "     r'C:\\ProgramData\\Anaconda3',\n",
    "     '&&',\n",
    "     'conda', 'activate Standard',\n",
    "     '&&',\n",
    "     'conda', 'env', 'export', '--from-history']\n"
   ]
  },
  {
   "cell_type": "code",
   "execution_count": 10,
   "id": "1d463deb",
   "metadata": {},
   "outputs": [],
   "source": [
    "output = subprocess.run(c, shell=True, capture_output=True,\n",
    "                        check=True)\n"
   ]
  },
  {
   "cell_type": "code",
   "execution_count": 8,
   "id": "3d1daf58",
   "metadata": {},
   "outputs": [
    {
     "name": "stdout",
     "output_type": "stream",
     "text": [
      "name: base\n",
      "channels:\n",
      "  - conda-forge\n",
      "  - bioconda\n",
      "  - defaults\n",
      "dependencies:\n",
      "  - conda\n",
      "  - python=3.9\n",
      "  - menuinst\n",
      "  - console_shortcut\n",
      "  - powershell_shortcut\n",
      "  - conda-env\n",
      "  - conda-build\n",
      "  - conda-verify\n",
      "  - _ipyw_jlab_nb_ext_conf\n",
      "  - anaconda\n",
      "  - anaconda-navigator\n",
      "  - navigator-updater\n",
      "  - networkx\n",
      "prefix: C:\\ProgramData\\Anaconda3\n",
      "\n"
     ]
    }
   ],
   "source": [
    "c = ['cmd', r'/c',\n",
    "     r'C:\\ProgramData\\Anaconda3\\Scripts\\activate.bat',\n",
    "     r'C:\\ProgramData\\Anaconda3',\n",
    "     '&&',\n",
    "     'conda', 'activate Standard',\n",
    "     '&&',\n",
    "     'conda', 'env', 'export', '--from-history']\n",
    "a = console_command(c)\n",
    "print(a)\n"
   ]
  },
  {
   "cell_type": "markdown",
   "id": "7447e43b",
   "metadata": {},
   "source": [
    "## cmd\n",
    "Starts a new instance of the command interpreter, Cmd.exe. If used without parameters, cmd displays the version and copyright information of the operating system.\n",
    "\n",
    "#### Syntax\n",
    "`cmd [/c|/k] [/s] [/q] [/d] [/a|/u] [/t:{<b><f> | <f>}] [/e:{on | off}] [/f:{on | off}] [/v:{on | off}] [<string>]`\n",
    "\n",
    "#### Parameters\n",
    "\n",
    "|Parameter|Description|\n",
    "|-|-|\n",
    "|/c|Carries out the command specified by <string> and then exits the command processor.|\n",
    "|/k|Carries out the command specified by <string> and keeps the command processor running.|\n",
    "|/s|When used with /c or /k, triggers special non-parsing rules that strip the first and last quotes (\") around the <string> but leaves the rest of the command unchanged.|\n",
    "|/q|Turns echo off.|\n",
    "|/d|Disables execution of AutoRun commands.|\n",
    "|/a|Formats command output as American National Standards Institute (ANSI).|\n",
    "|/u|Formats command output as Unicode.|\n",
    "|/t: {\\<b>\\<f> \\| \\<f>}|Sets the background (*b*) and foreground (*f*) colors.|\n",
    "|/e:on|Enables command extensions.|\n",
    "|/e:off|Disables commands extensions.|\n",
    "|/f:on|Enables file and directory name completion.|\n",
    "|/f:off|Disables file and directory name completion.|\n",
    "|/v:on|Enables delayed environment variable expansion.|\n",
    "|/v:off|Disables delayed environment variable expansion.|\n",
    "|\\<string>|Specifies the command you want to carry out.|\n",
    "|/?|Displays help at the command prompt.|\n",
    "\n",
    "The following table lists valid hexadecimal digits that you can use as the values for \\<b> and \\<f>:\n",
    "\n",
    "|Value|Color|\n",
    "|-|-|\n",
    "|0|Black|\n",
    "|1|Blue|\n",
    "|2|Green|\n",
    "|3|Aqua|\n",
    "|4|Red|\n",
    "|5|Purple|\n",
    "|6|Yellow|\n",
    "|7|White|\n",
    "|8|Gray|\n",
    "|9|Light blue|\n",
    "|a|Light green|\n",
    "|b|Light aqua|\n",
    "|c|Light red|\n",
    "|d|Light purple|\n",
    "|e|Light yellow|\n",
    "|f|Bright white\n",
    "\n",
    "#### Remarks\n",
    "- To redirect command output to the input of another command, use the pipe (`|`) character. For example:\n",
    "> `<command1> | <command2>`\n",
    "\n",
    "- To redirect command output to a file, use the greater-than angle bracket `>` character. For example:\n",
    "\n",
    "`<command1> > <file1.txt>`\n",
    "To use multiple commands for `<string>`, separate them by the command separator `&&`. For example:\n",
    "> `<command1>&&<command2>&&<command3>`\n",
    "\n",
    "- If the directory path, files, or any information you supply contains spaces, you must use double quotation marks (`\"``) around the text, such as `\"Computer Name\"`. For example:\n",
    "> `mkdir Test&&mkdir \"Test 2\"&&move \"Test 2\" Test`\n",
    "> \n",
    "- You must use quotation marks around the following special characters: & \\< > [ ] | { } ^ = ; ! ' + , ` ~ [white space].\n",
    "\n",
    "- If you specify `/c` or `/k`, the `cmd` processes, the remainder of `<string>`, and the quotation marks are preserved only if all of the following conditions are met:\n",
    "   - You don't also use `/s`.\n",
    "   - You use exactly one set of quotation marks.\n",
    "   - You don't use any special characters within the quotation marks (for example: & <    ( ) @ ^ | ).\n",
    "   - You use one or more white-space characters within the quotation marks.\n",
    "   - The `<string>` within quotation marks is the name of an executable file.\n",
    "\n",
    "If the previous conditions aren't met, `<string>` is processed by examining the first character to verify whether it's an opening quotation mark. If the first character is an opening quotation mark, it's stripped along with the closing quotation mark. Any text following the closing quotation marks is preserved."
   ]
  },
  {
   "cell_type": "markdown",
   "id": "c6ef8d32",
   "metadata": {},
   "source": [
    "## Common Packages\n",
    "> **Primary Packages**\n",
    "> - numpy\n",
    "> - pandas\n",
    "> - openpyxl\n",
    "> - matplotlib\n",
    "> - seaborn\n",
    "> - pysimplegui\n",
    "\n",
    "> **iPython Packages**\n",
    "> - ipykernel\n",
    "> - ipywidgets\n",
    "> - jupyterlab\n",
    "> - nb_conda_kernels\n",
    "> - spyder\n",
    "\n",
    "> **SciPy Packages**\n",
    "> - scipy\n",
    "> - scikit-image\n",
    "> \n",
    "> **Specialty Packages**\n",
    "> - networkx\n",
    "> - pygraphviz\n",
    "> - shapely\n",
    "> - pydicom\n",
    "> - pyodbc\n",
    "> - parsedatetime\n",
    "\n",
    "> **MS Office & Windows related Packages**\n",
    "> - xlwings\n",
    "> - pywin32\n",
    "> - docx2txt\n",
    "> - zipfile2\n",
    "\n",
    "> **Linting Packages**\n",
    "> - pylint\n",
    "> - mypy\n",
    "> - black\n",
    "\n",
    "> **Installer**\n",
    "> - pyinstaller\n",
    "\n",
    "> **Documentation Packages**\n",
    "> - sphinx\n",
    "> - sphinx-copybutton\n",
    "> - sphinx_rtd_theme\n",
    "> - nbsphinx-link\n",
    "> - nbsphinx\n",
    "> - esbonio\n",
    "> - pandoc\n",
    "> - myst-parser\n",
    "\n",
    "> **AI Related Packages**\n",
    "> - scikit-learn\n",
    "> - neptune-client\n",
    "> - neptune-sklearn\n",
    "> - statsmodels\n",
    "> - xgboost\n",
    "> - torchvision\n",
    "> - nibabel\n",
    "> - nilearn\n"
   ]
  },
  {
   "cell_type": "markdown",
   "id": "d9fbb8c0",
   "metadata": {},
   "source": [
    "***The commands below hang the kernel***"
   ]
  },
  {
   "cell_type": "raw",
   "id": "f3207cf6",
   "metadata": {},
   "source": [
    "logger.setLevel(logging.DEBUG)\n",
    "output = configure_xlwings('Todoist')\n",
    "print(output)\n",
    "logger.setLevel(logging.INFO)\n"
   ]
  },
  {
   "cell_type": "code",
   "execution_count": null,
   "id": "537c25c5",
   "metadata": {},
   "outputs": [
    {
     "name": "stdout",
     "output_type": "stream",
     "text": [
      "xlwings version: 0.30.12\n",
      "Successfully updated license key.\n",
      "\n"
     ]
    }
   ],
   "source": [
    "new_env = 'Todoist'\n",
    "activate_cmd = activate_environment(new_env)\n",
    "\n",
    "xlwings_license = activate_cmd + 'xlwings license update -k noncommercial'\n",
    "license_log = console_command(\n",
    "    xlwings_license, AnacondaException,\n",
    "    f'Unable to set xlwings license in environment {new_env}')\n",
    "\n",
    "print(license_log)\n"
   ]
  }
 ],
 "metadata": {
  "kernelspec": {
   "display_name": "Python 3 (ipykernel)",
   "language": "python",
   "name": "python3"
  },
  "language_info": {
   "codemirror_mode": {
    "name": "ipython",
    "version": 3
   },
   "file_extension": ".py",
   "mimetype": "text/x-python",
   "name": "python",
   "nbconvert_exporter": "python",
   "pygments_lexer": "ipython3",
   "version": "3.9.18"
  },
  "toc-autonumbering": false,
  "toc-showcode": false,
  "toc-showmarkdowntxt": false
 },
 "nbformat": 4,
 "nbformat_minor": 5
}
