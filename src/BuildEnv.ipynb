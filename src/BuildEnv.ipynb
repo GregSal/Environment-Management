{
 "cells": [
  {
   "cell_type": "markdown",
   "id": "90ec1172-770f-4818-a960-1096827384ff",
   "metadata": {},
   "source": [
    "# Generate a Project Template"
   ]
  },
  {
   "cell_type": "markdown",
   "id": "0ebd7be0-ad2c-42d9-b7e7-0dc6940542ef",
   "metadata": {},
   "source": [
    "## Imports"
   ]
  },
  {
   "cell_type": "code",
   "execution_count": 50,
   "id": "87dd1769-5cad-4822-8276-4d854912f055",
   "metadata": {
    "tags": []
   },
   "outputs": [],
   "source": [
    "import subprocess\n",
    "import json\n",
    "import re\n",
    "from pathlib import Path\n",
    "from dataclasses import dataclass, InitVar\n",
    "\n",
    "import pandas as pd"
   ]
  },
  {
   "cell_type": "markdown",
   "id": "849c6608-affe-47b2-9c55-9cbd872dc6d0",
   "metadata": {},
   "source": [
    "### Utility Functions"
   ]
  },
  {
   "cell_type": "code",
   "execution_count": 63,
   "id": "1e183361-6e3e-4184-8713-0152ff47375d",
   "metadata": {
    "tags": []
   },
   "outputs": [],
   "source": [
    "@dataclass\n",
    "class FolderItem:\n",
    "    '''Manage package folders.'''\n",
    "    folder_name: str\n",
    "    tag: str = ''\n",
    "    add_to_path: bool = True\n",
    "    folder_path: Path = None\n",
    "    base_path: InitVar[Path] = None\n",
    "\n",
    "    def __post_init__(self, base_path: Path):\n",
    "        '''If not defined, base_path becaomes the current working \n",
    "        directory.'''\n",
    "        if not base_path:\n",
    "            base_path = Path.cwd()\n",
    "        self.set_path(base_path)\n",
    "            \n",
    "    def set_path(self, base_path: Path)->Path:\n",
    "        '''If missing, Set the folder_path to a subdirectory of base_path.\n",
    "\n",
    "        Generates a path to the subdirectory.\n",
    "        If it doesn't exist create it.\n",
    "\n",
    "        Args:\n",
    "            base_path (Path): The top folder \n",
    "                (parent to the subdirectory).\n",
    "        '''\n",
    "        if not self.folder_path:\n",
    "            sub_folder = base_path / self.folder_name\n",
    "            if not sub_folder.exists():\n",
    "                sub_folder.mkdir()\n",
    "            self.folder_path = sub_folder"
   ]
  },
  {
   "cell_type": "code",
   "execution_count": 2,
   "id": "fe107bcb-5d6c-481f-9de1-f8be3fcd9e91",
   "metadata": {
    "tags": []
   },
   "outputs": [],
   "source": [
    "def add_folder(base: Path, name: str)->Path:\n",
    "    '''Make a subdirectory under base.\n",
    "    \n",
    "    Generates a path to the subdirectory.\n",
    "    If it doesn't exist create it.\n",
    "    \n",
    "    Args:\n",
    "        base (Path): The top folder (parent to the subdirectory).\n",
    "        name (str): The name of the subdirectory.\n",
    "\n",
    "    Returns:\n",
    "        Path: The path to the subdirectory.\n",
    "    '''\n",
    "    sub_folder = base / name\n",
    "    if not sub_folder.exists():\n",
    "        sub_folder.mkdir()\n",
    "    return sub_folder\n"
   ]
  },
  {
   "cell_type": "markdown",
   "id": "baea5026-a86a-4d45-a644-4b43a23b5fc3",
   "metadata": {},
   "source": [
    "## Project Parameters"
   ]
  },
  {
   "cell_type": "markdown",
   "id": "f27fc2de-79a3-4b41-97f8-d173606eb283",
   "metadata": {},
   "source": [
    "### Project Name and Python Version"
   ]
  },
  {
   "cell_type": "code",
   "execution_count": 3,
   "id": "c136883a-1469-44b9-a973-d12b5607631f",
   "metadata": {},
   "outputs": [],
   "source": [
    "new_env = 'Todoist'\n",
    "python_version = '3.11'"
   ]
  },
  {
   "cell_type": "markdown",
   "id": "7e92f7c2-1d83-4a9d-b571-37b270442685",
   "metadata": {},
   "source": [
    "### Packages to include in the Conda Environment"
   ]
  },
  {
   "cell_type": "code",
   "execution_count": 4,
   "id": "6e3591cc-9f94-498a-98b8-132441bcfe24",
   "metadata": {},
   "outputs": [],
   "source": [
    "primary_package_list = [\n",
    "    'pysimplegui',\n",
    "    'pandas',\n",
    "    'xlwings',\n",
    "    ]\n",
    "tools_package_list = [\n",
    "    'spyder',\n",
    "    'jupyterlab',\n",
    "    'ipykernel',\n",
    "    'pylint',\n",
    "    ]\n",
    "package_list = primary_package_list + tools_package_list\n",
    "packages = ' '.join(package_list)"
   ]
  },
  {
   "cell_type": "code",
   "execution_count": 8,
   "id": "431f5c22-804b-4d16-8a27-0478bed1d662",
   "metadata": {
    "tags": []
   },
   "outputs": [],
   "source": [
    "install_xlwings = True\n",
    "install_jupyter = True"
   ]
  },
  {
   "cell_type": "markdown",
   "id": "010061af-6e13-4761-becf-3b2794291e9d",
   "metadata": {},
   "source": [
    "## Specify project related paths\n",
    "- The top level project path should already exist and should be given the tag 'WORKSPACE'\n",
    "- `folder_path` must be specified for 'WORKSPACE'\n",
    "- An 'ENVIRONMENT' must be defined.\n",
    "- There shouldn't be duplicate tags.\n",
    "- If `tag` is not given `folder_name.upper()` will be used as the `tag`\n",
    "- When `folder_path` is given, the `folder_name` is ignored.  \n",
    "- If `folder_path` is not given, a folder with the name `folder_name` will be created directly under `base_path`.  \n",
    "- If `add_to_path` is True *(the default)*, the folder path will be added to the python search path.\n",
    "\n",
    "#### Example folders:\n",
    "\n",
    "| folder_name | folder_path                              | tag         | add_to_path |\n",
    "|-------------|------------------------------------------|-------------|-------------|\n",
    "| Todoist     | ~\\Python\\Projects\\ToDoIst Projects\\Turkey| WORKSPACE   | True        |\n",
    "| environment | None                                     | ENVIRONMENT | False       |\n",
    "| src         | None                                     | SOURCE      | True        |\n",
    "| Old files   | None                                     | IGNORE      | False       |\n",
    "| data        | None                                     | DATA        | True        |\n",
    "| reference   | None                                     | REFERENCE   | False       |\n",
    "| sectionary  | ..\\\\..\\sectionary package\\src'           | PACKAGE     | True        |"
   ]
  },
  {
   "cell_type": "markdown",
   "id": "4a522f36-ec17-4961-8dcf-000a45b548e1",
   "metadata": {},
   "source": [
    "### Primary project path"
   ]
  },
  {
   "cell_type": "code",
   "execution_count": 9,
   "id": "2ba283ba-bf3f-479d-948a-2d092c2596e1",
   "metadata": {
    "tags": []
   },
   "outputs": [],
   "source": [
    "project_folder = Path(r\"D:\\OneDrive - Queen's University\\Python\\Projects\\ToDoIst Projects\\Turkey\")\n",
    "project_drive = project_folder.drive"
   ]
  },
  {
   "cell_type": "markdown",
   "id": "40ec80da-7508-49da-86c3-c4d35aacc083",
   "metadata": {},
   "source": [
    "### Additional package path"
   ]
  },
  {
   "cell_type": "code",
   "execution_count": null,
   "id": "4d70d8b0-9ef4-4d26-b369-7b696ec87de6",
   "metadata": {
    "tags": []
   },
   "outputs": [],
   "source": [
    "sectionary_path = project_folder / '..' / '..' / 'sectionary package' / 'src'\n",
    "sectionary_path = sectionary_path.resolve()"
   ]
  },
  {
   "cell_type": "markdown",
   "id": "1c6e708c-f2b6-4ae3-9d35-05af02b191c9",
   "metadata": {},
   "source": [
    "#### Folder Parameters"
   ]
  },
  {
   "cell_type": "code",
   "execution_count": 61,
   "id": "200f25fc-12d4-4407-8845-6f561bfcc30b",
   "metadata": {
    "tags": []
   },
   "outputs": [],
   "source": [
    "folder_list = [FolderItem(new_env,       tag='WORKSPACE',                      folder_path=project_folder),\n",
    "               FolderItem('environment', tag='ENVIRONMENT', add_to_path=False,   base_path=project_folder),\n",
    "               FolderItem('src',         tag='SOURCE',                           base_path=project_folder),\n",
    "               FolderItem('data',        tag='DATA',                             base_path=project_folder),\n",
    "               FolderItem('reference',   tag='REFERENCE',   add_to_path=False,   base_path=project_folder),\n",
    "               FolderItem('sectionary',  tag='PACKAGE',                       folder_path=sectionary_path)]    \n",
    "\n",
    "folders = pd.DataFrame(folder_list)\n"
   ]
  },
  {
   "cell_type": "code",
   "execution_count": 62,
   "id": "4f414b40-33b3-4bc6-8eb5-8c36b05cbf69",
   "metadata": {
    "tags": []
   },
   "outputs": [
    {
     "data": {
      "text/html": [
       "<div>\n",
       "<style scoped>\n",
       "    .dataframe tbody tr th:only-of-type {\n",
       "        vertical-align: middle;\n",
       "    }\n",
       "\n",
       "    .dataframe tbody tr th {\n",
       "        vertical-align: top;\n",
       "    }\n",
       "\n",
       "    .dataframe thead th {\n",
       "        text-align: right;\n",
       "    }\n",
       "</style>\n",
       "<table border=\"1\" class=\"dataframe\">\n",
       "  <thead>\n",
       "    <tr style=\"text-align: right;\">\n",
       "      <th></th>\n",
       "      <th>folder_name</th>\n",
       "      <th>tag</th>\n",
       "      <th>add_to_path</th>\n",
       "      <th>folder_path</th>\n",
       "    </tr>\n",
       "  </thead>\n",
       "  <tbody>\n",
       "    <tr>\n",
       "      <th>0</th>\n",
       "      <td>Todoist</td>\n",
       "      <td>WORKSPACE</td>\n",
       "      <td>True</td>\n",
       "      <td>D:\\OneDrive - Queen's University\\Python\\Projec...</td>\n",
       "    </tr>\n",
       "    <tr>\n",
       "      <th>1</th>\n",
       "      <td>environment</td>\n",
       "      <td>ENVIRONMENT</td>\n",
       "      <td>False</td>\n",
       "      <td>D:\\OneDrive - Queen's University\\Python\\Projec...</td>\n",
       "    </tr>\n",
       "    <tr>\n",
       "      <th>2</th>\n",
       "      <td>src</td>\n",
       "      <td>SOURCE</td>\n",
       "      <td>True</td>\n",
       "      <td>D:\\OneDrive - Queen's University\\Python\\Projec...</td>\n",
       "    </tr>\n",
       "    <tr>\n",
       "      <th>3</th>\n",
       "      <td>data</td>\n",
       "      <td>DATA</td>\n",
       "      <td>True</td>\n",
       "      <td>D:\\OneDrive - Queen's University\\Python\\Projec...</td>\n",
       "    </tr>\n",
       "    <tr>\n",
       "      <th>4</th>\n",
       "      <td>reference</td>\n",
       "      <td>REFERENCE</td>\n",
       "      <td>False</td>\n",
       "      <td>D:\\OneDrive - Queen's University\\Python\\Projec...</td>\n",
       "    </tr>\n",
       "    <tr>\n",
       "      <th>5</th>\n",
       "      <td>sectionary</td>\n",
       "      <td>PACKAGE</td>\n",
       "      <td>True</td>\n",
       "      <td>D:\\OneDrive - Queen's University\\Python\\Projec...</td>\n",
       "    </tr>\n",
       "  </tbody>\n",
       "</table>\n",
       "</div>"
      ],
      "text/plain": [
       "   folder_name          tag  add_to_path  \\\n",
       "0      Todoist    WORKSPACE         True   \n",
       "1  environment  ENVIRONMENT        False   \n",
       "2          src       SOURCE         True   \n",
       "3         data         DATA         True   \n",
       "4    reference    REFERENCE        False   \n",
       "5   sectionary      PACKAGE         True   \n",
       "\n",
       "                                         folder_path  \n",
       "0  D:\\OneDrive - Queen's University\\Python\\Projec...  \n",
       "1  D:\\OneDrive - Queen's University\\Python\\Projec...  \n",
       "2  D:\\OneDrive - Queen's University\\Python\\Projec...  \n",
       "3  D:\\OneDrive - Queen's University\\Python\\Projec...  \n",
       "4  D:\\OneDrive - Queen's University\\Python\\Projec...  \n",
       "5  D:\\OneDrive - Queen's University\\Python\\Projec...  "
      ]
     },
     "execution_count": 62,
     "metadata": {},
     "output_type": "execute_result"
    }
   ],
   "source": [
    "folders"
   ]
  },
  {
   "cell_type": "code",
   "execution_count": 43,
   "id": "cd205a37-c1d9-427a-9853-b2b57aef633f",
   "metadata": {
    "tags": []
   },
   "outputs": [],
   "source": [
    "path_dict = {\n",
    "    'WORKSPACE_FOLDER': f'\"{project_folder}\"',\n",
    "    'SOURCE_FOLDER': f'\"{source_folder}\"',\n",
    "    'SECTIONARY_FOLDER': f'\"{sectionary_path}\"'\n",
    "    }"
   ]
  },
  {
   "cell_type": "markdown",
   "id": "6963fdd5-9650-4b55-972d-7204a6fb4f49",
   "metadata": {},
   "source": [
    "## Package Creation"
   ]
  },
  {
   "cell_type": "markdown",
   "id": "3cb312b1-8d38-48bc-a35a-c40afa90ee24",
   "metadata": {
    "tags": []
   },
   "source": [
    "### Start Anaconda"
   ]
  },
  {
   "cell_type": "code",
   "execution_count": 7,
   "id": "685f451f-0c6a-4c02-94e8-568bcdd29275",
   "metadata": {
    "tags": []
   },
   "outputs": [],
   "source": [
    "output = subprocess.run([r'C:\\ProgramData\\Anaconda3\\Scripts\\activate.bat'], shell=True, capture_output=True)\n",
    "# check for errors\n",
    "try:\n",
    "    output.check_returncode()\n",
    "except subprocess.CalledProcessError as err:\n",
    "    print('Unable to start Anaconda')\n",
    "    print(output.stderr.decode())\n",
    "    raise err"
   ]
  },
  {
   "cell_type": "markdown",
   "id": "c0718357-67b1-4582-b965-1be65dffe430",
   "metadata": {
    "tags": []
   },
   "source": [
    "### Create the new environment"
   ]
  },
  {
   "cell_type": "code",
   "execution_count": 9,
   "id": "6e7d7442-3046-41ab-a28d-9f159436142a",
   "metadata": {
    "tags": []
   },
   "outputs": [
    {
     "name": "stdout",
     "output_type": "stream",
     "text": [
      "Creating environment for Todoist\n"
     ]
    }
   ],
   "source": [
    "print(f'Creating environment for {new_env}')\n",
    "env_create_cmds = ['conda', 'create', '-y', '--name', new_env, f'python={python_version}', '--json']\n",
    "output = subprocess.run(env_create_cmds,shell=True, capture_output=True)\n",
    "# check for errors\n",
    "try:\n",
    "    output.check_returncode()\n",
    "except subprocess.CalledProcessError as err:\n",
    "    print(f'Unable to create new environment \"{new_env}\" with python={python_version}!')\n",
    "    print(output.stderr.decode())\n",
    "    raise err\n",
    "    \n",
    "install_log = output.stdout.decode()\n",
    "#print(install_log)\n",
    "logging_dict = json.loads(install_log)"
   ]
  },
  {
   "cell_type": "markdown",
   "id": "99f28ce6-7512-4db5-a472-e011f3e7dd73",
   "metadata": {},
   "source": [
    "### Identify the Conda Environment path"
   ]
  },
  {
   "cell_type": "code",
   "execution_count": 13,
   "id": "f261923d-980d-469a-9deb-dfd0dedd62bd",
   "metadata": {
    "tags": []
   },
   "outputs": [],
   "source": [
    "env_path = Path(logging_dict['prefix'])"
   ]
  },
  {
   "cell_type": "markdown",
   "id": "50d2bc5c-1e41-4a22-9b01-31853b9ffa4b",
   "metadata": {},
   "source": [
    "### Install the Packages"
   ]
  },
  {
   "cell_type": "code",
   "execution_count": 15,
   "id": "e134ca2c-c2ad-4e07-a061-baf50ffb83de",
   "metadata": {
    "tags": []
   },
   "outputs": [],
   "source": [
    "# Activate the new environment\n",
    "env_activate_cmd = ['conda', 'activate', new_env]\n",
    "output = subprocess.run(env_activate_cmd,shell=True, capture_output=True)\n",
    "# check for errors\n",
    "try:\n",
    "    output.check_returncode()\n",
    "except subprocess.CalledProcessError as err:\n",
    "    print(f'Unable to activate new environment \"{new_env}\"!')\n",
    "    print(output.stderr.decode())\n",
    "    raise err"
   ]
  },
  {
   "cell_type": "code",
   "execution_count": 18,
   "id": "088ba928-1d06-4d88-a07a-86f1ff5745cc",
   "metadata": {
    "tags": []
   },
   "outputs": [],
   "source": [
    "# Group Install the desired packages\n",
    "env_install_cmds = ['conda', 'install', '-y', '--prefix', str(env_path), '--json'] + package_list\n",
    "output = subprocess.run(env_install_cmds,shell=True, capture_output=True)\n",
    "# check for errors\n",
    "try:\n",
    "    output.check_returncode()\n",
    "except subprocess.CalledProcessError as err:\n",
    "    print(f'Unable to install requested packages in \"{new_env}\"!')\n",
    "    print(output.stderr.decode())\n",
    "    raise err\n",
    "else:   \n",
    "    pkg_install_log = output.stdout.decode()\n",
    "    pkg_install_dict = json.loads(pkg_install_log)\n"
   ]
  },
  {
   "cell_type": "markdown",
   "id": "a6ecc575-b7a6-4739-8693-3fa873cb18e5",
   "metadata": {},
   "source": [
    "### Write the Log Data generated during the Conda Environment install"
   ]
  },
  {
   "cell_type": "code",
   "execution_count": 32,
   "id": "6db9da4c-c7e5-4fa3-a1ba-49c82a50a418",
   "metadata": {
    "tags": []
   },
   "outputs": [],
   "source": [
    "log_file = env_folder / f'{new_env}CreationLog.txt'\n",
    "pkg_table_file = env_folder / f'{new_env}Packages.csv'\n",
    "\n",
    "install_log = install_log + '\\n' + pkg_install_log\n",
    "log_file.write_text(install_log)\n",
    "\n",
    "pkg_items = logging_dict['actions']['LINK'] + pkg_install_dict['actions']['LINK']\n",
    "pkg_table = pd.DataFrame(pkg_items)\n",
    "pkg_table.to_csv(pkg_table_file)"
   ]
  },
  {
   "cell_type": "markdown",
   "id": "9cbbd111-fece-47d7-ac91-958780ed2368",
   "metadata": {},
   "source": [
    "### Install Jupyter Kernal "
   ]
  },
  {
   "cell_type": "code",
   "execution_count": 7,
   "id": "d6707dd9-b2d1-4610-80c8-5a72d144c81e",
   "metadata": {
    "tags": []
   },
   "outputs": [
    {
     "name": "stdout",
     "output_type": "stream",
     "text": [
      "Installed kernelspec Todoist in C:\\Users\\smoke\\AppData\\Roaming\\jupyter\\kernels\\todoist\n"
     ]
    }
   ],
   "source": [
    "if install_jupyter:\n",
    "    !python -m ipykernel install --user --name {new_env} --display-name \"Python ({new_env})\"\n"
   ]
  },
  {
   "cell_type": "markdown",
   "id": "2e82002f-4bb3-4eff-8692-e0b43e66ca89",
   "metadata": {},
   "source": [
    "### Configure xlwings"
   ]
  },
  {
   "cell_type": "code",
   "execution_count": 33,
   "id": "9817e92d-d309-4960-8623-9af605363421",
   "metadata": {},
   "outputs": [
    {
     "name": "stdout",
     "output_type": "stream",
     "text": [
      "xlwings version: 0.27.15\n",
      "Successfully updated license key.\n",
      "xlwings version: 0.27.15\n",
      "Successfully installed the xlwings add-in! \n",
      "xlwings version: 0.27.15\n"
     ]
    }
   ],
   "source": [
    "if install_xlwings:\n",
    "    !conda activate {new_env}\n",
    "    !xlwings license update -k noncommercial\n",
    "    !xlwings addin install\n",
    "    !xlwings config create --force"
   ]
  },
  {
   "cell_type": "markdown",
   "id": "1484a254-4a56-45f5-b353-133f61192a88",
   "metadata": {},
   "source": [
    "### Save Environment Specs"
   ]
  },
  {
   "cell_type": "code",
   "execution_count": 34,
   "id": "b654ceb1-e2a2-407a-acd4-936f5868660d",
   "metadata": {},
   "outputs": [
    {
     "name": "stdout",
     "output_type": "stream",
     "text": [
      "Storing environment for Todoist\n"
     ]
    }
   ],
   "source": [
    "print(f'Storing environment for {new_env}')\n",
    "spec_file = env_folder / f'{new_env}_specfile.txt'\n",
    "full_yml_file = env_folder / f'{new_env}_FULL.yml'\n",
    "history_yml_file = env_folder / f'{new_env}.yml'\n",
    "\n",
    "!conda activate \"{new_env}\"\n",
    "\n",
    "!conda list --explicit > \"{str(spec_file)}\"\n",
    "!conda env export > \"{str(full_yml_file)}\"\n",
    "!conda env export --from-history > \"{str(history_yml_file)}\""
   ]
  },
  {
   "cell_type": "markdown",
   "id": "a58c3302-1a0f-4a94-90c7-dd2f9f2dcd59",
   "metadata": {},
   "source": [
    "## Build Boilerplate Files"
   ]
  },
  {
   "cell_type": "markdown",
   "id": "4cdaee6b-32cd-47c9-a67e-360c745cc97b",
   "metadata": {},
   "source": [
    "### Build Jupyter lab Batch file"
   ]
  },
  {
   "cell_type": "code",
   "execution_count": 41,
   "id": "f4fb6541-aaa0-428c-88d6-e319afaabf47",
   "metadata": {
    "tags": []
   },
   "outputs": [
    {
     "data": {
      "text/plain": [
       "198"
      ]
     },
     "execution_count": 41,
     "metadata": {},
     "output_type": "execute_result"
    }
   ],
   "source": [
    "jupter_batch_file = env_folder / f'JupyterLab ({new_env}).bat'\n",
    "jupyter_batch = '\\n'.join([\n",
    "    r'CALL C:\\ProgramData\\Anaconda3\\Scripts\\activate.bat C:\\ProgramData\\Anaconda3',\n",
    "    f'CALL conda activate \"{new_env}\"',\n",
    "    f'CD \"{project_folder}\"',\n",
    "    f'{project_drive}',\n",
    "    'jupyter-lab'\n",
    "    ])\n",
    "jupter_batch_file.write_text(jupyter_batch)"
   ]
  },
  {
   "cell_type": "markdown",
   "id": "6d627b57-17fb-4476-954c-c292b4502931",
   "metadata": {},
   "source": [
    "### Build VS Code Batch file"
   ]
  },
  {
   "cell_type": "code",
   "execution_count": 42,
   "id": "116cb72c-62ea-4484-b329-e88a6d7501de",
   "metadata": {
    "tags": []
   },
   "outputs": [
    {
     "data": {
      "text/plain": [
       "214"
      ]
     },
     "execution_count": 42,
     "metadata": {},
     "output_type": "execute_result"
    }
   ],
   "source": [
    "vscode_batch_file = env_folder / f'VS Code ({new_env}).bat'\n",
    "vscode_batch = '\\n'.join([\n",
    "    r'CALL C:\\ProgramData\\Anaconda3\\Scripts\\activate.bat C:\\ProgramData\\Anaconda3',\n",
    "    f'CALL conda activate \"{new_env}\"',\n",
    "    f'CD \"{project_folder}\"',\n",
    "    f'{project_drive}',\n",
    "    f'code {new_env}.code-workspace'\n",
    "    ])\n",
    "vscode_batch_file.write_text(vscode_batch)"
   ]
  },
  {
   "cell_type": "markdown",
   "id": "5cbfb17b-6324-4b57-b80d-ba2d6e94c0bd",
   "metadata": {},
   "source": [
    "### Build .env file"
   ]
  },
  {
   "cell_type": "code",
   "execution_count": 51,
   "id": "2b3ff364-0cb6-453d-ae63-0c9581ece157",
   "metadata": {
    "tags": []
   },
   "outputs": [
    {
     "data": {
      "text/plain": [
       "183"
      ]
     },
     "execution_count": 51,
     "metadata": {},
     "output_type": "execute_result"
    }
   ],
   "source": [
    "env_file = env_folder / '.env'\n",
    "\n",
    "env_paths = '\\n'.join('PYTHONPATH=${}' for name, path_str in path_dict.items())\n",
    "path_setter = '\\n'.join('PYTHONPATH=\"${' + name.upper() + '};${PYTHONPATH}\"' \n",
    "                        for name in path_dict.keys())\n",
    "env_text = '\\n'.join([env_paths, path_setter])\n",
    "env_file.write_text(env_text)"
   ]
  },
  {
   "cell_type": "markdown",
   "id": "2b8060ee-5e76-4257-b7ec-96e959142e2b",
   "metadata": {},
   "source": [
    "### Build Code-workspace from templatestr(env_path)"
   ]
  },
  {
   "cell_type": "code",
   "execution_count": 66,
   "id": "59aaa9b0-87c6-46d4-be0d-e9dcae51116e",
   "metadata": {
    "tags": []
   },
   "outputs": [
    {
     "data": {
      "text/html": [
       "<div>\n",
       "<style scoped>\n",
       "    .dataframe tbody tr th:only-of-type {\n",
       "        vertical-align: middle;\n",
       "    }\n",
       "\n",
       "    .dataframe tbody tr th {\n",
       "        vertical-align: top;\n",
       "    }\n",
       "\n",
       "    .dataframe thead th {\n",
       "        text-align: right;\n",
       "    }\n",
       "</style>\n",
       "<table border=\"1\" class=\"dataframe\">\n",
       "  <thead>\n",
       "    <tr style=\"text-align: right;\">\n",
       "      <th></th>\n",
       "      <th>folder_name</th>\n",
       "      <th>tag</th>\n",
       "      <th>add_to_path</th>\n",
       "      <th>folder_path</th>\n",
       "    </tr>\n",
       "  </thead>\n",
       "  <tbody>\n",
       "    <tr>\n",
       "      <th>0</th>\n",
       "      <td>Todoist</td>\n",
       "      <td>WORKSPACE</td>\n",
       "      <td>True</td>\n",
       "      <td>D:\\OneDrive - Queen's University\\Python\\Projec...</td>\n",
       "    </tr>\n",
       "    <tr>\n",
       "      <th>1</th>\n",
       "      <td>environment</td>\n",
       "      <td>ENVIRONMENT</td>\n",
       "      <td>False</td>\n",
       "      <td>D:\\OneDrive - Queen's University\\Python\\Projec...</td>\n",
       "    </tr>\n",
       "    <tr>\n",
       "      <th>2</th>\n",
       "      <td>src</td>\n",
       "      <td>SOURCE</td>\n",
       "      <td>True</td>\n",
       "      <td>D:\\OneDrive - Queen's University\\Python\\Projec...</td>\n",
       "    </tr>\n",
       "    <tr>\n",
       "      <th>3</th>\n",
       "      <td>data</td>\n",
       "      <td>DATA</td>\n",
       "      <td>True</td>\n",
       "      <td>D:\\OneDrive - Queen's University\\Python\\Projec...</td>\n",
       "    </tr>\n",
       "    <tr>\n",
       "      <th>4</th>\n",
       "      <td>reference</td>\n",
       "      <td>REFERENCE</td>\n",
       "      <td>False</td>\n",
       "      <td>D:\\OneDrive - Queen's University\\Python\\Projec...</td>\n",
       "    </tr>\n",
       "    <tr>\n",
       "      <th>5</th>\n",
       "      <td>sectionary</td>\n",
       "      <td>PACKAGE</td>\n",
       "      <td>True</td>\n",
       "      <td>D:\\OneDrive - Queen's University\\Python\\Projec...</td>\n",
       "    </tr>\n",
       "  </tbody>\n",
       "</table>\n",
       "</div>"
      ],
      "text/plain": [
       "   folder_name          tag  add_to_path  \\\n",
       "0      Todoist    WORKSPACE         True   \n",
       "1  environment  ENVIRONMENT        False   \n",
       "2          src       SOURCE         True   \n",
       "3         data         DATA         True   \n",
       "4    reference    REFERENCE        False   \n",
       "5   sectionary      PACKAGE         True   \n",
       "\n",
       "                                         folder_path  \n",
       "0  D:\\OneDrive - Queen's University\\Python\\Projec...  \n",
       "1  D:\\OneDrive - Queen's University\\Python\\Projec...  \n",
       "2  D:\\OneDrive - Queen's University\\Python\\Projec...  \n",
       "3  D:\\OneDrive - Queen's University\\Python\\Projec...  \n",
       "4  D:\\OneDrive - Queen's University\\Python\\Projec...  \n",
       "5  D:\\OneDrive - Queen's University\\Python\\Projec...  "
      ]
     },
     "execution_count": 66,
     "metadata": {},
     "output_type": "execute_result"
    }
   ],
   "source": [
    "folders"
   ]
  },
  {
   "cell_type": "code",
   "execution_count": 68,
   "id": "7669f89a-1d79-4295-bc2c-7a45cb4d04f2",
   "metadata": {
    "tags": []
   },
   "outputs": [
    {
     "data": {
      "text/plain": [
       "'C:/Users/smoke/.conda/envs/Todoist'"
      ]
     },
     "execution_count": 68,
     "metadata": {},
     "output_type": "execute_result"
    }
   ],
   "source": [
    "str(env_path).replace('\\\\', '/')"
   ]
  },
  {
   "cell_type": "code",
   "execution_count": 63,
   "id": "173142c0-b63d-47c9-8df5-13da33129af0",
   "metadata": {
    "tags": []
   },
   "outputs": [],
   "source": [
    "env_manage_base = Path(r\"D:\\OneDrive - Queen's University\\Python\\Python Learning\\Environment Management\")\n",
    "code_workspace_template = env_manage_base / 'vscode settings templates' / 'TEMPLATE.code-workspace'"
   ]
  },
  {
   "cell_type": "code",
   "execution_count": 69,
   "id": "139c005b-b9a2-47c1-9f23-e82b017000e7",
   "metadata": {
    "tags": []
   },
   "outputs": [],
   "source": [
    "template = code_workspace_template.read_text()"
   ]
  },
  {
   "cell_type": "code",
   "execution_count": 70,
   "id": "7fd15970-4f01-4dc9-ac63-a4dfe741726e",
   "metadata": {
    "tags": []
   },
   "outputs": [],
   "source": [
    "template = template.replace('%env_path%', str(env_path).replace('\\\\', '/'))"
   ]
  },
  {
   "cell_type": "code",
   "execution_count": null,
   "id": "77004bda-4a17-4c94-bc08-8d3c4556f3d6",
   "metadata": {},
   "outputs": [],
   "source": []
  },
  {
   "cell_type": "raw",
   "id": "61b38ab3-26c5-4164-bc0d-1aa1ab92c7b6",
   "metadata": {},
   "source": [
    "        \"python.analysis.extraPaths\": [\n",
    "            \"${workspaceFolder}/src\",\n",
    "            \"${workspaceFolder}\",\n",
    "            \"../../sectionary package/src\"\n",
    "        ],\n",
    "        \"python.autoComplete.extraPaths\": [\n",
    "            \"${workspaceFolder}/src\",\n",
    "            \"${workspaceFolder}\",\n",
    "            \"../../sectionary package/src\"\n",
    "        ],"
   ]
  },
  {
   "cell_type": "code",
   "execution_count": 35,
   "id": "0ff20ccc-c66f-438e-bcdc-f7ec7941ad47",
   "metadata": {
    "tags": []
   },
   "outputs": [],
   "source": [
    "project_folder = Path(r\"D:\\OneDrive - Queen's University\\Python\\Projects\\ToDoIst Projects\\Turkey\")\n",
    "\n",
    "env_folder = add_folder(project_folder, 'environment')\n",
    "source_folder = add_folder(project_folder, 'src')\n",
    "\n",
    "project_drive = project_folder.drive"
   ]
  },
  {
   "cell_type": "code",
   "execution_count": 43,
   "id": "0a1fe6de-5d9a-4ff2-8055-c34ce3359daa",
   "metadata": {
    "tags": []
   },
   "outputs": [],
   "source": [
    "sectionary_path = project_folder / '..' / '..' / 'sectionary package' / 'src'\n",
    "sectionary_path = sectionary_path.resolve()"
   ]
  },
  {
   "cell_type": "code",
   "execution_count": 43,
   "id": "9fda7e4d-de0a-4541-a73c-104c18a2e8fd",
   "metadata": {
    "tags": []
   },
   "outputs": [],
   "source": [
    "path_dict = {\n",
    "    'WORKSPACE_FOLDER': f'\"{project_folder}\"',\n",
    "    'SOURCE_FOLDER': f'\"{source_folder}\"',\n",
    "    'SECTIONARY_FOLDER': f'\"{sectionary_path}\"'\n",
    "    }"
   ]
  },
  {
   "cell_type": "raw",
   "id": "e7ce5bb2-6350-402c-90dc-52bf8109a9c5",
   "metadata": {},
   "source": [
    "        \"python.analysis.extraPaths\": \"%analysis.extraPaths%\",\n",
    "        \"python.autoComplete.extraPaths\": \"%autoComplete.extraPaths%\","
   ]
  },
  {
   "cell_type": "code",
   "execution_count": null,
   "id": "6be6595c-ec29-4a80-9d08-cc81dc6f1519",
   "metadata": {},
   "outputs": [],
   "source": [
    "template.replace('%analysis.extraPaths%', str(text))"
   ]
  },
  {
   "cell_type": "code",
   "execution_count": null,
   "id": "40a34ac3-dca1-4b50-ab03-9db5256964e4",
   "metadata": {},
   "outputs": [],
   "source": [
    "template.replace('%autoComplete.extraPaths%', str(text))"
   ]
  },
  {
   "cell_type": "raw",
   "id": "d6b907b8-f0dc-42ad-940e-f52bdb686e76",
   "metadata": {},
   "source": [
    "              \"env\": {\"PYTHONPATH\": \"${fileDirname};${workspaceFolder};${workspaceFolder}\\\\..\\\\..\\\\sectionary package\\\\src;${env:PYTHONPATH}\""
   ]
  },
  {
   "cell_type": "raw",
   "id": "46fac944-b6b6-444f-a30a-b6ef7832a199",
   "metadata": {},
   "source": [
    "              \"env\": {\"PYTHONPATH\": \"%PYTHONPATH%\"}"
   ]
  },
  {
   "cell_type": "raw",
   "id": "ebdb2c27-3f88-4157-a249-cd5d53d00626",
   "metadata": {},
   "source": [
    "            \"PYTHONPATH\": \"${fileDirname};${workspaceFolder};${workspaceFolder}/../../sectionary package/src;${env:PYTHONPATH}\""
   ]
  },
  {
   "cell_type": "raw",
   "id": "8e530ddf-fb18-474a-8cdc-b3cb7a98d7e1",
   "metadata": {},
   "source": [
    "            \"PYTHONPATH\": \"%PYTHONPATH%\""
   ]
  },
  {
   "cell_type": "raw",
   "id": "b506b6ca-b780-45f7-b350-651755d80eb1",
   "metadata": {},
   "source": [
    "\"PYTHONPATH\": \"${fileDirname};${workspaceFolder};${workspaceFolder}/../../sectionary package/src;${env:PYTHONPATH}\",\n",
    "\"env\": {\"PYTHONPATH\": \"${fileDirname};${workspaceFolder};${workspaceFolder}\\\\..\\\\..\\\\sectionary package\\\\src;${env:PYTHONPATH}\"\n"
   ]
  },
  {
   "cell_type": "raw",
   "id": "82395918-00d9-462d-89ca-eb73596cc6e4",
   "metadata": {},
   "source": [
    "            \"PythonShell\": {\n",
    "                \"path\": \"C:/ProgramData/Anaconda3/envs/plan_check_tools/python.exe\",\n"
   ]
  },
  {
   "cell_type": "markdown",
   "id": "d304e337-5fdb-4e98-811e-55f7a67c20a1",
   "metadata": {},
   "source": [
    "# Removing Environment"
   ]
  },
  {
   "cell_type": "code",
   "execution_count": null,
   "id": "a0a3bd32-bb98-433a-96d0-d0b0cdb37cb7",
   "metadata": {},
   "outputs": [],
   "source": [
    "#del_env = 'Standard'\n",
    "#!conda activate {del_env}\n",
    "#!xlwings addin uninstall\n",
    "#!conda deactivate\n",
    "#uninstall_log = !conda remove -y --name {del_env} --all\n",
    "#uninstall_log"
   ]
  },
  {
   "cell_type": "markdown",
   "id": "e8d170ec-5fc4-4093-92bf-e1daab0843f7",
   "metadata": {
    "tags": []
   },
   "source": [
    "# Misc Reference"
   ]
  },
  {
   "cell_type": "raw",
   "id": "58e40b21-e28c-4f64-b2f3-ea4a3b80b5f1",
   "metadata": {},
   "source": [
    "########## Spyder Launch ############\n",
    "C:\\ProgramData\\Anaconda3\\pythonw.exe C:\\ProgramData\\Anaconda3\\cwp.py C:\\ProgramData\\Anaconda3\\envs\\Standard C:\\ProgramData\\Anaconda3\\envs\\Standard\\pythonw.exe C:\\ProgramData\\Anaconda3\\envs\\Standard\\Scripts\\spyder-script.py\n",
    "\n",
    "########## Jupyter Lab Launch ############\n",
    "C:\\ProgramData\\Anaconda3\\python.exe C:\\ProgramData\\Anaconda3\\cwp.py C:\\ProgramData\\Anaconda3\\envs\\Standard C:\\ProgramData\\Anaconda3\\envs\\Standard\\pythonw.exe C:\\ProgramData\\Anaconda3\\envs\\\\Standard\\Scripts\\jupyter-lab-script.py \"D:\\OneDrive - Queen's University\\Python\\Projects\"\n",
    "\n",
    "\"D:\\OneDrive - Queen's University\\Python\\Projects\"\n",
    "%ALLUSERSPROFILE%\\Anaconda3\\Menu\\jupyter.ico\n",
    "%ALLUSERSPROFILE%\\Anaconda3\\envs\\Standard\\Scripts\\spyder.ico\n"
   ]
  }
 ],
 "metadata": {
  "kernelspec": {
   "display_name": "Python 3 (ipykernel)",
   "language": "python",
   "name": "python3"
  },
  "language_info": {
   "codemirror_mode": {
    "name": "ipython",
    "version": 3
   },
   "file_extension": ".py",
   "mimetype": "text/x-python",
   "name": "python",
   "nbconvert_exporter": "python",
   "pygments_lexer": "ipython3",
   "version": "3.9.18"
  }
 },
 "nbformat": 4,
 "nbformat_minor": 5
}
