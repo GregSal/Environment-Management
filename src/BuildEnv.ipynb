{
 "cells": [
  {
   "cell_type": "markdown",
   "id": "90ec1172-770f-4818-a960-1096827384ff",
   "metadata": {},
   "source": [
    "# Generate a Project Template"
   ]
  },
  {
   "cell_type": "markdown",
   "id": "0ebd7be0-ad2c-42d9-b7e7-0dc6940542ef",
   "metadata": {},
   "source": [
    "## Imports"
   ]
  },
  {
   "cell_type": "code",
   "execution_count": 8,
   "id": "87dd1769-5cad-4822-8276-4d854912f055",
   "metadata": {
    "tags": []
   },
   "outputs": [],
   "source": [
    "from typing import Dict, List\n",
    "\n",
    "import subprocess\n",
    "import json\n",
    "import re\n",
    "from pathlib import Path\n",
    "from dataclasses import dataclass, InitVar\n",
    "from pprint import pprint\n",
    "\n",
    "import pandas as pd\n"
   ]
  },
  {
   "cell_type": "code",
   "execution_count": 9,
   "id": "60ca5dd5",
   "metadata": {},
   "outputs": [],
   "source": [
    "from env_tools import AnacondaException, AbortedCmdException\n"
   ]
  },
  {
   "cell_type": "code",
   "execution_count": 10,
   "id": "0d6a6ebf",
   "metadata": {},
   "outputs": [],
   "source": [
    "from env_tools import console_command, activate_environment\n"
   ]
  },
  {
   "cell_type": "code",
   "execution_count": 25,
   "id": "b4e89796",
   "metadata": {},
   "outputs": [],
   "source": [
    "from env_tools import save_env_specs, list_environments\n",
    "\n",
    "from env_tools import create_environment, remove_environment\n",
    "\n",
    "from env_tools import install_packages, pip_install_packages\n"
   ]
  },
  {
   "cell_type": "code",
   "execution_count": 12,
   "id": "d7064349",
   "metadata": {},
   "outputs": [],
   "source": [
    "# %% Initialize logging\n",
    "import logging  # pylint: disable=wrong-import-position wrong-import-order\n",
    "logging.basicConfig(level=logging.INFO,\n",
    "                    format='%(levelname)-8s %(message)s')\n",
    "logger = logging.getLogger(__name__)\n",
    "#logger.setLevel(logging.DEBUG)\n",
    "logger.setLevel(logging.INFO)\n"
   ]
  },
  {
   "cell_type": "markdown",
   "id": "849c6608-affe-47b2-9c55-9cbd872dc6d0",
   "metadata": {},
   "source": [
    "## Utility Functions"
   ]
  },
  {
   "cell_type": "code",
   "execution_count": 13,
   "id": "fe107bcb-5d6c-481f-9de1-f8be3fcd9e91",
   "metadata": {
    "tags": []
   },
   "outputs": [],
   "source": [
    "def add_folder(base: Path, name: str)->Path:\n",
    "    '''Make a subdirectory under base.\n",
    "\n",
    "    Generates a path to the subdirectory.\n",
    "    If it doesn't exist create it.\n",
    "\n",
    "    Args:\n",
    "        base (Path): The top folder (parent to the subdirectory).\n",
    "        name (str): The name of the subdirectory.\n",
    "\n",
    "    Returns:\n",
    "        Path: The path to the subdirectory.\n",
    "    '''\n",
    "    sub_folder = base / name\n",
    "    if not sub_folder.exists():\n",
    "        sub_folder.mkdir()\n",
    "    return sub_folder\n"
   ]
  },
  {
   "cell_type": "markdown",
   "id": "85a8137a",
   "metadata": {},
   "source": [
    "## Project Parameters"
   ]
  },
  {
   "cell_type": "markdown",
   "id": "5d441a38",
   "metadata": {},
   "source": [
    "### Project Name and Python Version"
   ]
  },
  {
   "cell_type": "code",
   "execution_count": null,
   "id": "c25d8d09",
   "metadata": {},
   "outputs": [],
   "source": [
    "new_env = 'Todoist'\n",
    "python_version = '3.11'\n"
   ]
  },
  {
   "cell_type": "markdown",
   "id": "45487191",
   "metadata": {},
   "source": [
    "### Packages to include in the Conda Environment"
   ]
  },
  {
   "cell_type": "code",
   "execution_count": null,
   "id": "6bd26f77",
   "metadata": {},
   "outputs": [],
   "source": [
    "primary_package_list = [\n",
    "    'pysimplegui',\n",
    "    'pandas',\n",
    "    'xlwings',\n",
    "    ]\n",
    "tools_package_list = [\n",
    "    'spyder',\n",
    "    'jupyterlab',\n",
    "    'ipykernel',\n",
    "    'pylint',\n",
    "    ]\n",
    "package_list = primary_package_list + tools_package_list\n",
    "packages = ' '.join(package_list)\n"
   ]
  },
  {
   "cell_type": "code",
   "execution_count": null,
   "id": "ad202c63",
   "metadata": {},
   "outputs": [],
   "source": [
    "install_xlwings = True\n",
    "install_jupyter = True\n"
   ]
  },
  {
   "cell_type": "markdown",
   "id": "6963fdd5-9650-4b55-972d-7204a6fb4f49",
   "metadata": {},
   "source": [
    "## Package Creation"
   ]
  },
  {
   "cell_type": "markdown",
   "id": "c0718357-67b1-4582-b965-1be65dffe430",
   "metadata": {
    "tags": []
   },
   "source": [
    "### Create the new environment"
   ]
  },
  {
   "cell_type": "code",
   "execution_count": 14,
   "id": "204029d8",
   "metadata": {},
   "outputs": [],
   "source": [
    "new_env = 'TestProject'\n",
    "python_version = '3.9'\n"
   ]
  },
  {
   "cell_type": "code",
   "execution_count": 15,
   "id": "44ebfb2a",
   "metadata": {},
   "outputs": [
    {
     "name": "stderr",
     "output_type": "stream",
     "text": [
      "INFO     Creating environment for TestProject\n"
     ]
    }
   ],
   "source": [
    "create_output = create_environment(new_env, python_version)\n"
   ]
  },
  {
   "cell_type": "markdown",
   "id": "85f7325a",
   "metadata": {},
   "source": [
    "#### Sample of `create` output"
   ]
  },
  {
   "cell_type": "code",
   "execution_count": 16,
   "id": "647cbf3c",
   "metadata": {},
   "outputs": [
    {
     "name": "stdout",
     "output_type": "stream",
     "text": [
      "['actions', 'prefix', 'success']\n",
      "True\n",
      "C:\\Users\\smoke\\.conda\\envs\\TestProject\n",
      "dict_keys(['FETCH', 'LINK', 'PREFIX'])\n",
      "{'base_url': 'https://conda.anaconda.org/conda-forge',\n",
      " 'build_number': 0,\n",
      " 'build_string': 'h56e8100_0',\n",
      " 'channel': 'conda-forge',\n",
      " 'dist_name': 'ca-certificates-2023.7.22-h56e8100_0',\n",
      " 'name': 'ca-certificates',\n",
      " 'platform': 'win-64',\n",
      " 'version': '2023.7.22'}\n"
     ]
    }
   ],
   "source": [
    "print(list(create_output.keys()))\n",
    "print(create_output['success'])\n",
    "print(create_output['prefix'])\n",
    "print(create_output['actions'].keys())\n",
    "if len(create_output['actions']['LINK']) > 0:\n",
    "    pprint(create_output['actions']['LINK'][0])\n"
   ]
  },
  {
   "cell_type": "code",
   "execution_count": 17,
   "id": "76b52998",
   "metadata": {},
   "outputs": [],
   "source": [
    "# Identify the Conda Environment path\n",
    "env_path = Path(create_output['prefix'])\n"
   ]
  },
  {
   "cell_type": "markdown",
   "id": "120f909f",
   "metadata": {},
   "source": [
    "### Install the Packages"
   ]
  },
  {
   "cell_type": "markdown",
   "id": "5bb78d10",
   "metadata": {},
   "source": [
    "#### Packages to include in the Conda Environment"
   ]
  },
  {
   "cell_type": "code",
   "execution_count": 18,
   "id": "645c5f23",
   "metadata": {},
   "outputs": [],
   "source": [
    "primary_package_list = [\n",
    "    'pysimplegui',\n",
    "    'pandas',\n",
    "    'xlwings',\n",
    "    ]\n",
    "tools_package_list = [\n",
    "    'spyder',\n",
    "    'jupyterlab',\n",
    "    'ipykernel',\n",
    "    'pylint',\n",
    "    ]\n",
    "package_list = primary_package_list + tools_package_list\n"
   ]
  },
  {
   "cell_type": "code",
   "execution_count": 19,
   "id": "03bfbf64",
   "metadata": {},
   "outputs": [],
   "source": [
    "install_output = install_packages(new_env, package_list)\n"
   ]
  },
  {
   "cell_type": "markdown",
   "id": "f981ce18",
   "metadata": {},
   "source": [
    "#### Sample of `install` output"
   ]
  },
  {
   "cell_type": "code",
   "execution_count": 20,
   "id": "c3b2c149",
   "metadata": {},
   "outputs": [
    {
     "name": "stdout",
     "output_type": "stream",
     "text": [
      "['actions', 'prefix', 'success']\n",
      "True\n",
      "C:\\Users\\smoke\\.conda\\envs\\TestProject\n",
      "dict_keys(['FETCH', 'LINK', 'PREFIX'])\n",
      "{'base_url': 'https://conda.anaconda.org/conda-forge',\n",
      " 'build_number': 50496,\n",
      " 'build_string': 'h57928b3_50496',\n",
      " 'channel': 'conda-forge',\n",
      " 'dist_name': 'intel-openmp-2023.2.0-h57928b3_50496',\n",
      " 'name': 'intel-openmp',\n",
      " 'platform': 'win-64',\n",
      " 'version': '2023.2.0'}\n"
     ]
    }
   ],
   "source": [
    "print(list(install_output.keys()))\n",
    "print(install_output['success'])\n",
    "print(install_output['prefix'])\n",
    "print(install_output['actions'].keys())\n",
    "if len(install_output['actions']['LINK']) > 0:\n",
    "    pprint(install_output['actions']['LINK'][0])\n"
   ]
  },
  {
   "cell_type": "markdown",
   "id": "0c5a4d1d",
   "metadata": {},
   "source": [
    "### Install packages using `pip`"
   ]
  },
  {
   "cell_type": "code",
   "execution_count": 21,
   "id": "14afbf86",
   "metadata": {},
   "outputs": [],
   "source": [
    "# packages that are not available from Conda\n",
    "pip_package_list = [\n",
    "    'todoist-api-python',\n",
    "    'units'\n",
    "    ]\n"
   ]
  },
  {
   "cell_type": "code",
   "execution_count": 34,
   "id": "b2231814",
   "metadata": {},
   "outputs": [],
   "source": [
    "def pip_install_packages(env_ref: EnvRef, pip_package_list: List[str])->Dict[str,str]:\n",
    "    '''Use pip to install packages in an Anaconda environment\n",
    "\n",
    "    This is intended to be used for installing packages that that cannot be\n",
    "    found in one of the Anaconda channels.\n",
    "\n",
    "    Args:\n",
    "        env_ref (EnvRef): A reference to the Conda environment either by it's\n",
    "            name or by the path to the environment.\n",
    "        package_list (List[str]): A list of pip \"requirement specifiers\"\n",
    "            (typically package names) to install in the Conda environment.  See\n",
    "            [Requirement Specifiers](https://pip.pypa.io/en/stable/reference/requirement-specifiers/)\n",
    "            for more details.\n",
    "    Returns:\n",
    "        Dict[str,str]: Log output, as a dictionary of dictionaries, generated\n",
    "            when installing the packages.\n",
    "    '''\n",
    "    env_name = set_env_ref(env_ref)[0]\n",
    "    activate_cmd = activate_environment(env_name)\n",
    "\n",
    "    install_logs = []\n",
    "    for pkg_req in pip_package_list:\n",
    "        install_cmd = activate_cmd + f'pip install {pkg_req} --quiet --report -'\n",
    "        err_msg = f'Unable to install {pkg_req} in \"{env_name}\"!'\n",
    "        pip_output = console_command(install_cmd, AnacondaException, err_msg)\n",
    "        install_log_dict = json.loads(pip_output)\n",
    "        install_logs.append(install_log_dict)\n",
    "\n",
    "    return install_logs\n"
   ]
  },
  {
   "cell_type": "code",
   "execution_count": 31,
   "id": "044c6462",
   "metadata": {},
   "outputs": [],
   "source": [
    "from env_tools import set_env_ref\n"
   ]
  },
  {
   "cell_type": "code",
   "execution_count": 33,
   "id": "77afbe8d",
   "metadata": {},
   "outputs": [
    {
     "data": {
      "text/plain": [
       "'TestProject'"
      ]
     },
     "execution_count": 33,
     "metadata": {},
     "output_type": "execute_result"
    }
   ],
   "source": [
    "set_env_ref(env_path)[0]\n"
   ]
  },
  {
   "cell_type": "code",
   "execution_count": 35,
   "id": "fe6d97e4",
   "metadata": {},
   "outputs": [],
   "source": [
    "pip_install_output = pip_install_packages(env_path, pip_package_list)\n"
   ]
  },
  {
   "cell_type": "code",
   "execution_count": 36,
   "id": "fc0de6ac",
   "metadata": {},
   "outputs": [
    {
     "name": "stdout",
     "output_type": "stream",
     "text": [
      "[{'environment': {'implementation_name': 'cpython',\n",
      "                  'implementation_version': '3.9.18',\n",
      "                  'os_name': 'nt',\n",
      "                  'platform_machine': 'AMD64',\n",
      "                  'platform_python_implementation': 'CPython',\n",
      "                  'platform_release': '10',\n",
      "                  'platform_system': 'Windows',\n",
      "                  'platform_version': '10.0.19045',\n",
      "                  'python_full_version': '3.9.18',\n",
      "                  'python_version': '3.9',\n",
      "                  'sys_platform': 'win32'},\n",
      "  'install': [{'download_info': {'archive_info': {'hash': 'sha256=7d182ff9d663dddae445ad118cb56ad8596e70a2f0f38bd4ebfa40bbba60fb0a',\n",
      "                                                  'hashes': {'sha256': '7d182ff9d663dddae445ad118cb56ad8596e70a2f0f38bd4ebfa40bbba60fb0a'}},\n",
      "                                 'url': 'https://files.pythonhosted.org/packages/d8/69/60e613fcd8dea18105f653afcbbb48fb9a13cedc2403ab04f4f863b9dc9e/todoist_api_python-2.1.3-py3-none-any.whl'},\n",
      "               'is_direct': False,\n",
      "               'is_yanked': False,\n",
      "               'metadata': {'author': 'Doist Developers',\n",
      "                            'author_email': 'dev@doist.com',\n",
      "                            'classifier': ['Intended Audience :: Developers',\n",
      "                                           'License :: OSI Approved :: MIT '\n",
      "                                           'License',\n",
      "                                           'Programming Language :: Python :: '\n",
      "                                           '3',\n",
      "                                           'Programming Language :: Python :: '\n",
      "                                           '3.9',\n",
      "                                           'Programming Language :: Python :: '\n",
      "                                           '3.10',\n",
      "                                           'Programming Language :: Python :: '\n",
      "                                           '3.11',\n",
      "                                           'Topic :: Software Development :: '\n",
      "                                           'Libraries :: Python Modules'],\n",
      "                            'description': '# Todoist API Python Client\\n'\n",
      "                                           '\\n'\n",
      "                                           'This is the official Python API '\n",
      "                                           'client for the Todoist REST API.\\n'\n",
      "                                           '\\n'\n",
      "                                           '### Installation\\n'\n",
      "                                           '\\n'\n",
      "                                           'The repository can be included as '\n",
      "                                           'a '\n",
      "                                           '[Poetry](https://python-poetry.org/) '\n",
      "                                           'dependency in `pyproject.toml`.\\n'\n",
      "                                           'It is best to integrate to a '\n",
      "                                           'release tag to ensure a stable '\n",
      "                                           'dependency:\\n'\n",
      "                                           '\\n'\n",
      "                                           '```toml\\n'\n",
      "                                           '[tool.poetry.dependencies]\\n'\n",
      "                                           'todoist-api-python = \"^v2.0.0\"\\n'\n",
      "                                           '```\\n'\n",
      "                                           '\\n'\n",
      "                                           '### Supported Python Versions\\n'\n",
      "                                           '\\n'\n",
      "                                           'Python 3.9 is fully supported and '\n",
      "                                           'tested, and while it may work with '\n",
      "                                           'other Python 3 versions, we do not '\n",
      "                                           'test for them.\\n'\n",
      "                                           '\\n'\n",
      "                                           '### Usage\\n'\n",
      "                                           '\\n'\n",
      "                                           'An example of initializing the API '\n",
      "                                           \"client and fetching a user's \"\n",
      "                                           'tasks:\\n'\n",
      "                                           '\\n'\n",
      "                                           '```python\\n'\n",
      "                                           'from todoist_api_python.api_async '\n",
      "                                           'import TodoistAPIAsync\\n'\n",
      "                                           'from todoist_api_python.api import '\n",
      "                                           'TodoistAPI\\n'\n",
      "                                           '\\n'\n",
      "                                           '# Fetch tasks asynchronously\\n'\n",
      "                                           'async def get_tasks_async():\\n'\n",
      "                                           '    api = '\n",
      "                                           'TodoistAPIAsync(\"YOURTOKEN\")\\n'\n",
      "                                           '    try:\\n'\n",
      "                                           '        tasks = await '\n",
      "                                           'api.get_tasks()\\n'\n",
      "                                           '        print(tasks)\\n'\n",
      "                                           '    except Exception as error:\\n'\n",
      "                                           '        print(error)\\n'\n",
      "                                           '\\n'\n",
      "                                           '# Fetch tasks synchronously\\n'\n",
      "                                           'def get_tasks_sync():\\n'\n",
      "                                           '    api = TodoistAPI(\"my token\")\\n'\n",
      "                                           '    try:\\n'\n",
      "                                           '        tasks = api.get_tasks()\\n'\n",
      "                                           '        print(tasks)\\n'\n",
      "                                           '    except Exception as error:\\n'\n",
      "                                           '        print(error)\\n'\n",
      "                                           '```\\n'\n",
      "                                           '\\n'\n",
      "                                           '### Documentation\\n'\n",
      "                                           '\\n'\n",
      "                                           'For more detailed reference '\n",
      "                                           'documentation, have a look at the '\n",
      "                                           '[API documentation with Python '\n",
      "                                           'examples](https://developer.todoist.com/rest/v2/?python).\\n'\n",
      "                                           '\\n'\n",
      "                                           '### Development\\n'\n",
      "                                           '\\n'\n",
      "                                           'To install Python dependencies:\\n'\n",
      "                                           '\\n'\n",
      "                                           '```sh\\n'\n",
      "                                           '$ poetry install\\n'\n",
      "                                           '```\\n'\n",
      "                                           '\\n'\n",
      "                                           'To install pre-commit:\\n'\n",
      "                                           '\\n'\n",
      "                                           '```sh\\n'\n",
      "                                           '$ poetry run pre-commit install\\n'\n",
      "                                           '```\\n'\n",
      "                                           '\\n'\n",
      "                                           'You can try your changes via REPL '\n",
      "                                           'by running:\\n'\n",
      "                                           '\\n'\n",
      "                                           '```sh\\n'\n",
      "                                           '$ poetry run python\\n'\n",
      "                                           '```\\n'\n",
      "                                           '\\n'\n",
      "                                           'You can then import the library as '\n",
      "                                           'described in [Usage](#usage) '\n",
      "                                           'without having to create a file.\\n'\n",
      "                                           'If you decide to use '\n",
      "                                           '`TodoistAPIAsync`, please keep in '\n",
      "                                           'mind that you have to `import '\n",
      "                                           'asyncio`\\n'\n",
      "                                           'and run '\n",
      "                                           '`asyncio.run(yourmethod())` to '\n",
      "                                           'make your async methods run as '\n",
      "                                           'expected.\\n'\n",
      "                                           '\\n'\n",
      "                                           '### Releases\\n'\n",
      "                                           '\\n'\n",
      "                                           'This API client is public, and '\n",
      "                                           'available in a PyPI repository.\\n'\n",
      "                                           '\\n'\n",
      "                                           'A new update is automatically '\n",
      "                                           'released by GitHub Actions, by '\n",
      "                                           'creating a release with a tag in '\n",
      "                                           'the format `vX.Y.Z` '\n",
      "                                           '(`v<Major>.<Minor>.<Patch>`).\\n'\n",
      "                                           '\\n'\n",
      "                                           'Users of the API client can then '\n",
      "                                           'update to the new version in their '\n",
      "                                           '`pyproject.toml` file.\\n'\n",
      "                                           '\\n'\n",
      "                                           '### Feedback\\n'\n",
      "                                           '\\n'\n",
      "                                           'Any feedback, such as bugs, '\n",
      "                                           'questions, comments, etc. can be '\n",
      "                                           'reported as *Issues* in this '\n",
      "                                           'repository, and will be handled by '\n",
      "                                           'Doist.\\n'\n",
      "                                           '\\n'\n",
      "                                           '### Contributions\\n'\n",
      "                                           '\\n'\n",
      "                                           'We would love contributions in the '\n",
      "                                           'form of *Pull requests* in this '\n",
      "                                           'repository.\\n'\n",
      "                                           '\\n',\n",
      "                            'description_content_type': 'text/markdown',\n",
      "                            'home_page': 'https://github.com/Doist/todoist-api-python',\n",
      "                            'keywords': ['todoist', 'rest', 'api', 'python'],\n",
      "                            'license': 'MIT',\n",
      "                            'metadata_version': '2.1',\n",
      "                            'name': 'todoist-api-python',\n",
      "                            'project_url': ['Documentation, '\n",
      "                                            'https://developer.todoist.com/rest/',\n",
      "                                            'Repository, '\n",
      "                                            'https://github.com/Doist/todoist-api-python'],\n",
      "                            'requires_dist': ['requests (>=2.26.0,<3.0.0)'],\n",
      "                            'requires_python': '>=3.9,<4.0',\n",
      "                            'summary': 'Official Python SDK for the Todoist '\n",
      "                                       'REST API.',\n",
      "                            'version': '2.1.3'},\n",
      "               'requested': True}],\n",
      "  'pip_version': '23.3',\n",
      "  'version': '1'},\n",
      " {'environment': {'implementation_name': 'cpython',\n",
      "                  'implementation_version': '3.9.18',\n",
      "                  'os_name': 'nt',\n",
      "                  'platform_machine': 'AMD64',\n",
      "                  'platform_python_implementation': 'CPython',\n",
      "                  'platform_release': '10',\n",
      "                  'platform_system': 'Windows',\n",
      "                  'platform_version': '10.0.19045',\n",
      "                  'python_full_version': '3.9.18',\n",
      "                  'python_version': '3.9',\n",
      "                  'sys_platform': 'win32'},\n",
      "  'install': [{'download_info': {'archive_info': {'hash': 'sha256=43eb3e073e1b11289df7b1c3f184b5b917ccad178b717b03933298716f200e14',\n",
      "                                                  'hashes': {'sha256': '43eb3e073e1b11289df7b1c3f184b5b917ccad178b717b03933298716f200e14'}},\n",
      "                                 'url': 'https://files.pythonhosted.org/packages/33/8c/76112215f71aad89ffecae90dd1e0a681ad8f750df994d4ce1275bca50a2/units-0.07.tar.gz'},\n",
      "               'is_direct': False,\n",
      "               'is_yanked': False,\n",
      "               'metadata': {'author': 'Aran Donohue',\n",
      "                            'author_email': 'aran@arandonohue.com',\n",
      "                            'classifier': ['Development Status :: 4 - Beta',\n",
      "                                           'Intended Audience :: Developers',\n",
      "                                           'Intended Audience :: '\n",
      "                                           'Science/Research',\n",
      "                                           'Intended Audience :: System '\n",
      "                                           'Administrators',\n",
      "                                           'License :: OSI Approved :: Python '\n",
      "                                           'Software Foundation License',\n",
      "                                           'Natural Language :: English',\n",
      "                                           'Operating System :: OS Independent',\n",
      "                                           'Programming Language :: Python',\n",
      "                                           'Topic :: Scientific/Engineering',\n",
      "                                           'Topic :: Software Development :: '\n",
      "                                           'Libraries :: Python Modules',\n",
      "                                           'Topic :: Utilities'],\n",
      "                            'description': 'Provides support for quantities '\n",
      "                                           'and units, which strictly '\n",
      "                                           'disallow\\r\\n'\n",
      "                                           'invalid operations between '\n",
      "                                           'incompatible quantities. For '\n",
      "                                           'example, we cannot add\\r\\n'\n",
      "                                           '2 metres to 5 seconds, because '\n",
      "                                           \"this doesn't make sense.\\r\\n\"\n",
      "                                           '\\r\\n'\n",
      "                                           'Why?\\r\\n'\n",
      "                                           '\\r\\n'\n",
      "                                           'From Wikipedia:\\r\\n'\n",
      "                                           '\\r\\n'\n",
      "                                           'The Mars Climate Orbiter was '\n",
      "                                           'intended to enter orbit at an '\n",
      "                                           'altitude of\\r\\n'\n",
      "                                           '140-150 km (460,000-500,000 ft.) '\n",
      "                                           'above Mars. However, a navigation '\n",
      "                                           'error\\r\\n'\n",
      "                                           'caused the spacecraft to reach as '\n",
      "                                           'low as 57 km (190,000 ft.). The '\n",
      "                                           'spacecraft\\r\\n'\n",
      "                                           'was destroyed by atmospheric '\n",
      "                                           'stresses and friction at this low '\n",
      "                                           'altitude. The\\r\\n'\n",
      "                                           'navigation error arose because a '\n",
      "                                           'NASA subcontractor (Lockheed '\n",
      "                                           'Martin) used\\r\\n'\n",
      "                                           'Imperial units (pound-seconds) '\n",
      "                                           'instead of the metric system.\\r\\n'\n",
      "                                           '\\r\\n'\n",
      "                                           'Installation\\r\\n'\n",
      "                                           '============\\r\\n'\n",
      "                                           '\\r\\n'\n",
      "                                           'This module is distributed via '\n",
      "                                           'PyPI. So, you can do::\\r\\n'\n",
      "                                           '\\r\\n'\n",
      "                                           ' pip install units\\r\\n'\n",
      "                                           '\\r\\n'\n",
      "                                           'or::\\r\\n'\n",
      "                                           '\\r\\n'\n",
      "                                           ' easy_install units\\r\\n'\n",
      "                                           '\\r\\n'\n",
      "                                           'or, you can download a bundle '\n",
      "                                           'yourself at '\n",
      "                                           'http://pypi.python.org/pypi/units/\\r\\n'\n",
      "                                           '\\r\\n'\n",
      "                                           'If you want the latest::\\r\\n'\n",
      "                                           '\\r\\n'\n",
      "                                           ' pip install -e '\n",
      "                                           'hg+https://bitbucket.org/adonohue/units/#egg=units\\r\\n'\n",
      "                                           '\\r\\n'\n",
      "                                           '\\r\\n'\n",
      "                                           'How to Use\\r\\n'\n",
      "                                           '==========\\r\\n'\n",
      "                                           '\\r\\n'\n",
      "                                           'Make Quantities\\r\\n'\n",
      "                                           '---------------\\r\\n'\n",
      "                                           '\\r\\n'\n",
      "                                           'Units are objects that you use to '\n",
      "                                           'make quantities::\\r\\n'\n",
      "                                           '\\r\\n'\n",
      "                                           '  >>> from units import unit\\r\\n'\n",
      "                                           \"  >>> metre = unit('m')\\r\\n\"\n",
      "                                           '  >>> print(metre(7) + '\n",
      "                                           'metre(11))\\r\\n'\n",
      "                                           '  18.00 m\\r\\n'\n",
      "                                           '\\r\\n'\n",
      "                                           'You can mix and match these '\n",
      "                                           'quantities in some ways::\\r\\n'\n",
      "                                           '\\r\\n'\n",
      "                                           '  >>> from units import unit\\r\\n'\n",
      "                                           \"  >>> metre = unit('m')\\r\\n\"\n",
      "                                           \"  >>> second = unit('s')\\r\\n\"\n",
      "                                           '  >>> print(metre(10) / '\n",
      "                                           'second(2))\\r\\n'\n",
      "                                           '  5.00 m / s\\r\\n'\n",
      "                                           '  >>> print(metre(10) ** 3)\\r\\n'\n",
      "                                           '  1000.00 m * m * m\\r\\n'\n",
      "                                           '\\r\\n'\n",
      "                                           'But if you make a mistake, you get '\n",
      "                                           'a safety net::\\r\\n'\n",
      "                                           '\\r\\n'\n",
      "                                           '  >>> from units import unit\\r\\n'\n",
      "                                           '  >>> try:\\r\\n'\n",
      "                                           \"  ...   unit('m')(5) + \"\n",
      "                                           \"unit('s')(5)\\r\\n\"\n",
      "                                           '  ... except '\n",
      "                                           'units.exception.IncompatibleUnitsError:\\r\\n'\n",
      "                                           \"  ...   print('Got an error!')\\r\\n\"\n",
      "                                           '  Got an error!\\r\\n'\n",
      "                                           '\\r\\n'\n",
      "                                           'Make Your Own Units\\r\\n'\n",
      "                                           '-------------------\\r\\n'\n",
      "                                           'Before you start making your own '\n",
      "                                           'units, you should check out the '\n",
      "                                           'units that\\r\\n'\n",
      "                                           'you get for free::\\r\\n'\n",
      "                                           '\\r\\n'\n",
      "                                           '  >>> import units.predefined\\r\\n'\n",
      "                                           '  >>> '\n",
      "                                           'units.predefined.define_units()\\r\\n'\n",
      "                                           '\\r\\n'\n",
      "                                           'It includes all the official SI '\n",
      "                                           'units, some units for measuring '\n",
      "                                           'time such as\\r\\n'\n",
      "                                           'days and weeks, units for volumes '\n",
      "                                           'like cups, gallons and litres, '\n",
      "                                           'imperial\\r\\n'\n",
      "                                           'units and more.\\r\\n'\n",
      "                                           '\\r\\n'\n",
      "                                           \"You've already seen how to make \"\n",
      "                                           'your own simple units. You call\\r\\n'\n",
      "                                           'the unit function and give it a '\n",
      "                                           'string::\\r\\n'\n",
      "                                           '\\r\\n'\n",
      "                                           '  >>> from units import unit\\r\\n'\n",
      "                                           \"  >>> blog = unit('blog')\\r\\n\"\n",
      "                                           '  >>> print(blog(3))\\r\\n'\n",
      "                                           '  3.00 blog\\r\\n'\n",
      "                                           '\\r\\n'\n",
      "                                           'These units are automatically '\n",
      "                                           'incompatible with other units.\\r\\n'\n",
      "                                           '\\r\\n'\n",
      "                                           'You can combine units with '\n",
      "                                           'multiplication and division to '\n",
      "                                           'make new units::\\r\\n'\n",
      "                                           '\\r\\n'\n",
      "                                           '  >>> from units import unit\\r\\n'\n",
      "                                           '  >>> blogs_per_network = '\n",
      "                                           \"unit('blog') / unit('network')\\r\\n\"\n",
      "                                           '  >>> '\n",
      "                                           'print(blogs_per_network(2.34))\\r\\n'\n",
      "                                           '  2.34 blog / network\\r\\n'\n",
      "                                           '\\r\\n'\n",
      "                                           \"There's a built-in shortcut for \"\n",
      "                                           'making new units that are scalar '\n",
      "                                           'multiples\\r\\n'\n",
      "                                           'of other units::\\r\\n'\n",
      "                                           '\\r\\n'\n",
      "                                           '  >>> from units import unit, '\n",
      "                                           'scaled_unit\\r\\n'\n",
      "                                           '  >>> sickle = '\n",
      "                                           \"scaled_unit('sickle', 'knut', \"\n",
      "                                           '29)\\r\\n'\n",
      "                                           '  >>> galleon = '\n",
      "                                           \"scaled_unit('galleon', 'sickle', \"\n",
      "                                           '17)\\r\\n'\n",
      "                                           \"  >>> knut = unit('knut')\\r\\n\"\n",
      "                                           '  >>> galleon(3.0) + sickle(1.0) - '\n",
      "                                           'knut(25.0) == knut(1483)\\r\\n'\n",
      "                                           '  True\\r\\n'\n",
      "                                           '\\r\\n'\n",
      "                                           \"There's also a shortcut for giving \"\n",
      "                                           'names to slightly more complicated '\n",
      "                                           'units::\\r\\n'\n",
      "                                           '\\r\\n'\n",
      "                                           '  >>> from units import unit, '\n",
      "                                           'named_unit\\r\\n'\n",
      "                                           '  >>> from units.predefined import '\n",
      "                                           'define_units\\r\\n'\n",
      "                                           '  >>> define_units()\\r\\n'\n",
      "                                           '  >>> twp = '\n",
      "                                           \"named_unit('tweetpack', ['tweet', \"\n",
      "                                           \"'meme'], ['day'], 5)\\r\\n\"\n",
      "                                           '  >>> # A tweetpack is 5 '\n",
      "                                           'tweetmemes per day\\r\\n'\n",
      "                                           '  >>> print(twp(2))\\r\\n'\n",
      "                                           '  2.00 tweetpack\\r\\n'\n",
      "                                           '  >>> tweet, meme, day = [unit(x) '\n",
      "                                           \"for x in ['tweet', 'meme', \"\n",
      "                                           \"'day']]\\r\\n\"\n",
      "                                           '  >>> print(twp(5) - (tweet(5) * '\n",
      "                                           'meme(4) / day(2)))\\r\\n'\n",
      "                                           '  3.00 tweetpack\\r\\n'\n",
      "                                           '\\r\\n'\n",
      "                                           'If two units are compatible, you '\n",
      "                                           'can convert between them '\n",
      "                                           'easily::\\r\\n'\n",
      "                                           '\\r\\n'\n",
      "                                           '  >>> from units import unit\\r\\n'\n",
      "                                           '  >>> from units.predefined import '\n",
      "                                           'define_units\\r\\n'\n",
      "                                           '  >>> define_units()\\r\\n'\n",
      "                                           '  >>> furlongs_per_fortnight = '\n",
      "                                           \"unit('fur') / unit('fortnight')\\r\\n\"\n",
      "                                           \"  >>> kph = unit('km') / \"\n",
      "                                           \"unit('h')\\r\\n\"\n",
      "                                           '  >>> '\n",
      "                                           'print(furlongs_per_fortnight(kph(100)))\\r\\n'\n",
      "                                           '  167024.58 fur / fortnight\\r\\n'\n",
      "                                           '\\r\\n'\n",
      "                                           'You can also use lower-level '\n",
      "                                           'constructors to make your own '\n",
      "                                           'units and\\r\\n'\n",
      "                                           'quantities. The ways shown above '\n",
      "                                           'are easier, though.\\r\\n'\n",
      "                                           '\\r\\n'\n",
      "                                           'Warnings\\r\\n'\n",
      "                                           '--------\\r\\n'\n",
      "                                           '\\r\\n'\n",
      "                                           \"This module doesn't solve problems \"\n",
      "                                           'with numerical accuracy or\\r\\n'\n",
      "                                           'floating point conversions, and '\n",
      "                                           'Python 2 vs. 3 issues abound::\\r\\n'\n",
      "                                           '\\r\\n'\n",
      "                                           '  from units import unit\\r\\n'\n",
      "                                           \"  unit('m')(5) / unit('m')(7)\\r\\n\"\n",
      "                                           '  # 0 in Python 2.x, '\n",
      "                                           '0.7142857142857143 in Python 3.\\r\\n'\n",
      "                                           '\\r\\n'\n",
      "                                           '\\r\\n'\n",
      "                                           'More dangerously, certain internal '\n",
      "                                           'operations have implicit '\n",
      "                                           'arithmetic\\r\\n'\n",
      "                                           'that can surprise you::\\r\\n'\n",
      "                                           '\\r\\n'\n",
      "                                           '  from units import unit, '\n",
      "                                           'scaled_unit\\r\\n'\n",
      "                                           \"  sickle = scaled_unit('sickle', \"\n",
      "                                           \"'knut', 29)\\r\\n\"\n",
      "                                           \"  galleon = scaled_unit('galleon', \"\n",
      "                                           \"'sickle', 17)\\r\\n\"\n",
      "                                           \"  knut = unit('knut')\\r\\n\"\n",
      "                                           '  galleon(3) + sickle(1) - '\n",
      "                                           'knut(25) == galleon(3)\\r\\n'\n",
      "                                           '  # True in Python 2.x, False in '\n",
      "                                           'Python 3\\r\\n'\n",
      "                                           '\\r\\n'\n",
      "                                           '\\r\\n'\n",
      "                                           'Using Modified Python\\r\\n'\n",
      "                                           '---------------------\\r\\n'\n",
      "                                           '\\r\\n'\n",
      "                                           'In units-enhanced Python, you can '\n",
      "                                           'do::\\r\\n'\n",
      "                                           '\\r\\n'\n",
      "                                           '  print(2cm / 0.5 s)\\r\\n'\n",
      "                                           '  -> 4.0 cm / s\\r\\n'\n",
      "                                           '\\r\\n'\n",
      "                                           'Units-enhanced Python is a version '\n",
      "                                           'of PyPy with built-in support\\r\\n'\n",
      "                                           'for units. You can find it in the '\n",
      "                                           'unitPython directory. '\n",
      "                                           'Essentially,\\r\\n'\n",
      "                                           'apply the supplied patches to '\n",
      "                                           \"r66797 of PyPy. If you're on a \"\n",
      "                                           'suitable\\r\\n'\n",
      "                                           'UNIX, the included '\n",
      "                                           'unitPython/unitPython.sh does this '\n",
      "                                           'for you.\\r\\n'\n",
      "                                           '\\r\\n'\n",
      "                                           '@requires: '\n",
      "                                           'U{Python<http://python.org/>} >= '\n",
      "                                           '2.5\\r\\n'\n",
      "                                           '@since: 2009-Aug-10\\r\\n'\n",
      "                                           '@status: under development\\r\\n',\n",
      "                            'home_page': 'https://bitbucket.org/adonohue/units/',\n",
      "                            'license': 'Python Software Foundation License',\n",
      "                            'metadata_version': '2.1',\n",
      "                            'name': 'units',\n",
      "                            'platform': ['all'],\n",
      "                            'summary': 'Python support for quantities with '\n",
      "                                       'units',\n",
      "                            'version': '0.7'},\n",
      "               'requested': True}],\n",
      "  'pip_version': '23.3',\n",
      "  'version': '1'}]\n"
     ]
    }
   ],
   "source": [
    "pprint(pip_install_output)\n"
   ]
  },
  {
   "cell_type": "markdown",
   "id": "7a20737f",
   "metadata": {},
   "source": [
    "### Delete the Conda Environment"
   ]
  },
  {
   "cell_type": "code",
   "execution_count": null,
   "id": "88cc8351",
   "metadata": {},
   "outputs": [],
   "source": [
    "#delete_output = remove_environment(env_path)\n"
   ]
  },
  {
   "cell_type": "markdown",
   "id": "c4511ec0",
   "metadata": {},
   "source": [
    "#### Sample of `delete` output"
   ]
  },
  {
   "cell_type": "code",
   "execution_count": null,
   "id": "12deb862",
   "metadata": {},
   "outputs": [],
   "source": [
    "#pprint(delete_output)\n"
   ]
  },
  {
   "cell_type": "markdown",
   "id": "59d32b00",
   "metadata": {},
   "source": [
    "# Done To Here"
   ]
  },
  {
   "cell_type": "code",
   "execution_count": 23,
   "id": "e4dc51a5",
   "metadata": {},
   "outputs": [
    {
     "data": {
      "text/plain": [
       "[('base', WindowsPath('C:/ProgramData/Anaconda3')),\n",
       " ('Graphs', WindowsPath('C:/ProgramData/Anaconda3/envs/Graphs')),\n",
       " ('C2', WindowsPath('C:/Users/smoke/.conda/envs/C2')),\n",
       " ('EDW_QA', WindowsPath('C:/Users/smoke/.conda/envs/EDW_QA')),\n",
       " ('FormExtraction', WindowsPath('C:/Users/smoke/.conda/envs/FormExtraction')),\n",
       " ('McMedHack', WindowsPath('C:/Users/smoke/.conda/envs/McMedHack')),\n",
       " ('Standard', WindowsPath('C:/Users/smoke/.conda/envs/Standard')),\n",
       " ('TestPathDev', WindowsPath('C:/Users/smoke/.conda/envs/TestPathDev')),\n",
       " ('TestProject', WindowsPath('C:/Users/smoke/.conda/envs/TestProject')),\n",
       " ('sectionary', WindowsPath('C:/Users/smoke/.conda/envs/sectionary')),\n",
       " ('sectionaryDev', WindowsPath('C:/Users/smoke/.conda/envs/sectionaryDev')),\n",
       " ('variandb_relations',\n",
       "  WindowsPath('C:/Users/smoke/.conda/envs/variandb_relations'))]"
      ]
     },
     "execution_count": 23,
     "metadata": {},
     "output_type": "execute_result"
    }
   ],
   "source": [
    "list_environments()\n"
   ]
  },
  {
   "cell_type": "code",
   "execution_count": 37,
   "id": "e40c425e",
   "metadata": {},
   "outputs": [],
   "source": [
    "from env_tools import EnvRef\n",
    "from env_tools import set_env_ref\n"
   ]
  },
  {
   "cell_type": "markdown",
   "id": "e15927d9",
   "metadata": {},
   "source": [
    "## Project folder creation and search path management"
   ]
  },
  {
   "cell_type": "markdown",
   "id": "2a52372c",
   "metadata": {},
   "source": [
    "## Specify project related paths\n",
    "- The top level project path should already exist and should be given the tag 'WORKSPACE'\n",
    "- `folder_path` must be specified for 'WORKSPACE'\n",
    "- An 'ENVIRONMENT' must be defined.\n",
    "- There shouldn't be duplicate tags.\n",
    "- If `tag` is not given `folder_name.upper()` will be used as the `tag`\n",
    "- When `folder_path` is given, the `folder_name` is ignored.  \n",
    "- If `folder_path` is not given, a folder with the name `folder_name` will be created directly under `base_path`.  \n",
    "- If `add_to_path` is True *(the default)*, the folder path will be added to the python search path.\n",
    "\n",
    "#### Example folders:\n",
    "\n",
    "| folder_name | folder_path                              | tag         | add_to_path |\n",
    "|-------------|------------------------------------------|-------------|-------------|\n",
    "| Todoist     | ~\\Python\\Projects\\ToDoIst Projects\\Turkey| WORKSPACE   | True        |\n",
    "| environment | None                                     | ENVIRONMENT | False       |\n",
    "| src         | None                                     | SOURCE      | True        |\n",
    "| Old files   | None                                     | IGNORE      | False       |\n",
    "| data        | None                                     | DATA        | True        |\n",
    "| reference   | None                                     | REFERENCE   | False       |\n",
    "| sectionary  | ..\\\\..\\sectionary package\\src'           | PACKAGE     | True        |"
   ]
  },
  {
   "cell_type": "markdown",
   "id": "cc41ae63",
   "metadata": {},
   "source": [
    "### Primary project path"
   ]
  },
  {
   "cell_type": "code",
   "execution_count": null,
   "id": "81d1a38b",
   "metadata": {},
   "outputs": [],
   "source": [
    "project_folder = Path(r\"D:\\OneDrive - Queen's University\\Python\\Projects\\ToDoIst Projects\\Turkey\")\n",
    "project_drive = project_folder.drive\n"
   ]
  },
  {
   "cell_type": "markdown",
   "id": "59a31966",
   "metadata": {},
   "source": [
    "### Additional package path"
   ]
  },
  {
   "cell_type": "code",
   "execution_count": null,
   "id": "5a931efb",
   "metadata": {},
   "outputs": [],
   "source": [
    "sectionary_path = project_folder / '..' / '..' / 'sectionary package' / 'src'\n",
    "sectionary_path = sectionary_path.resolve()\n"
   ]
  },
  {
   "cell_type": "markdown",
   "id": "e805ac0c",
   "metadata": {},
   "source": [
    "#### Folder Parameters"
   ]
  },
  {
   "cell_type": "code",
   "execution_count": null,
   "id": "4c7cd587",
   "metadata": {},
   "outputs": [],
   "source": [
    "folder_list = [FolderItem(new_env,       tag='WORKSPACE',                      folder_path=project_folder),\n",
    "               FolderItem('environment', tag='ENVIRONMENT', add_to_path=False,   base_path=project_folder),\n",
    "               FolderItem('src',         tag='SOURCE',                           base_path=project_folder),\n",
    "               FolderItem('data',        tag='DATA',                             base_path=project_folder),\n",
    "               FolderItem('reference',   tag='REFERENCE',   add_to_path=False,   base_path=project_folder),\n",
    "               FolderItem('sectionary',                                        folder_path=sectionary_path)]\n",
    "\n",
    "folders = pd.DataFrame(folder_list)\n",
    "\n",
    "folders\n"
   ]
  },
  {
   "cell_type": "markdown",
   "id": "f7fe8c4b",
   "metadata": {},
   "source": [
    "### Class to hold information on folders related to the package."
   ]
  },
  {
   "cell_type": "code",
   "execution_count": null,
   "id": "1d94b846",
   "metadata": {},
   "outputs": [],
   "source": [
    "@dataclass\n",
    "class FolderItem:\n",
    "    '''Manage folders related to the package.'''\n",
    "    folder_name: str\n",
    "    tag: str = ''\n",
    "    add_to_path: bool = True\n",
    "    folder_path: Path = None\n",
    "    base_path: InitVar[Path] = None\n",
    "\n",
    "    def __post_init__(self, base_path: Path):\n",
    "        '''Manage defaults for folder settings.\n",
    "\n",
    "        If not defined, base_path defaults to the current working\n",
    "        directory.  If it doesn't exists the folder is created.\n",
    "\n",
    "        If tag is not given use uppercase of folder name for tag.\n",
    "        '''\n",
    "        if not base_path:\n",
    "            base_path = Path.cwd()\n",
    "        self.set_path(base_path)\n",
    "        self.set_tag()\n",
    "\n",
    "    def set_path(self, base_path: Path):\n",
    "        '''If missing, Set the folder_path to a subdirectory of base_path.\n",
    "\n",
    "        Generates a path to the subdirectory.\n",
    "        If it doesn't exist create it.\n",
    "\n",
    "        Args:\n",
    "            base_path (Path): The top folder\n",
    "                (parent to the subdirectory).\n",
    "        '''\n",
    "        if not self.folder_path:\n",
    "            sub_folder = base_path / self.folder_name\n",
    "            if not sub_folder.exists():\n",
    "                sub_folder.mkdir()\n",
    "            self.folder_path = sub_folder\n",
    "\n",
    "    def set_tag(self):\n",
    "        '''If tag not given use uppercase of folder name.'''\n",
    "        if not self.tag:\n",
    "            self.tag = self.folder_name.upper()\n"
   ]
  },
  {
   "cell_type": "markdown",
   "id": "a58c3302-1a0f-4a94-90c7-dd2f9f2dcd59",
   "metadata": {},
   "source": [
    "## Build Boilerplate Files"
   ]
  },
  {
   "cell_type": "markdown",
   "id": "4cdaee6b-32cd-47c9-a67e-360c745cc97b",
   "metadata": {},
   "source": [
    "### Build Jupyter lab Batch file"
   ]
  },
  {
   "cell_type": "code",
   "execution_count": null,
   "id": "f4fb6541-aaa0-428c-88d6-e319afaabf47",
   "metadata": {
    "tags": []
   },
   "outputs": [],
   "source": [
    "\n",
    "jupter_batch_file = env_folder / f'JupyterLab ({new_env}).bat'\n",
    "jupyter_batch = '\\n'.join([\n",
    "    r'CALL C:\\ProgramData\\Anaconda3\\Scripts\\activate.bat C:\\ProgramData\\Anaconda3',\n",
    "    f'CALL conda activate \"{new_env}\"',\n",
    "    f'CD \"{project_folder}\"',\n",
    "    f'{project_drive}',\n",
    "    'jupyter-lab'\n",
    "    ])\n",
    "jupter_batch_file.write_text(jupyter_batch)\n"
   ]
  },
  {
   "cell_type": "markdown",
   "id": "6d627b57-17fb-4476-954c-c292b4502931",
   "metadata": {},
   "source": [
    "### Build VS Code Batch file"
   ]
  },
  {
   "cell_type": "code",
   "execution_count": null,
   "id": "116cb72c-62ea-4484-b329-e88a6d7501de",
   "metadata": {
    "tags": []
   },
   "outputs": [],
   "source": [
    "vscode_batch_file = env_folder / f'VS Code ({new_env}).bat'\n",
    "vscode_batch = '\\n'.join([\n",
    "    r'CALL C:\\ProgramData\\Anaconda3\\Scripts\\activate.bat C:\\ProgramData\\Anaconda3',\n",
    "    f'CALL conda activate \"{new_env}\"',\n",
    "    f'CD \"{project_folder}\"',\n",
    "    f'{project_drive}',\n",
    "    f'code {new_env}.code-workspace'\n",
    "    ])\n",
    "vscode_batch_file.write_text(vscode_batch)\n"
   ]
  },
  {
   "cell_type": "markdown",
   "id": "5cbfb17b-6324-4b57-b80d-ba2d6e94c0bd",
   "metadata": {},
   "source": [
    "### Build .env file"
   ]
  },
  {
   "cell_type": "code",
   "execution_count": null,
   "id": "59aaa9b0-87c6-46d4-be0d-e9dcae51116e",
   "metadata": {
    "tags": []
   },
   "outputs": [],
   "source": [
    "folders\n"
   ]
  },
  {
   "cell_type": "code",
   "execution_count": null,
   "id": "0fff64b2-1b24-4fa8-b238-cc14c4d24b2d",
   "metadata": {
    "tags": []
   },
   "outputs": [],
   "source": [
    "folders[folders.add_to_path]\n"
   ]
  },
  {
   "cell_type": "code",
   "execution_count": null,
   "id": "32b51902-25d2-44d4-9231-65d3aa38a8b9",
   "metadata": {
    "tags": []
   },
   "outputs": [],
   "source": [
    "folders[folders.tag=='ENVIRONMENT'].folder_path\n"
   ]
  },
  {
   "cell_type": "code",
   "execution_count": null,
   "id": "2b3ff364-0cb6-453d-ae63-0c9581ece157",
   "metadata": {
    "tags": []
   },
   "outputs": [],
   "source": [
    "env_file = env_folder / '.env'\n",
    "\n",
    "env_paths = '\\n'.join('PYTHONPATH=${}' for name, path_str in path_dict.items())\n",
    "path_setter = '\\n'.join('PYTHONPATH=\"${' + name.upper() + '};${PYTHONPATH}\"'\n",
    "                        for name in path_dict.keys())\n",
    "env_text = '\\n'.join([env_paths, path_setter])\n",
    "env_file.write_text(env_text)\n"
   ]
  },
  {
   "cell_type": "code",
   "execution_count": null,
   "id": "a1993467-5425-469c-a410-1a5a60b0fc37",
   "metadata": {},
   "outputs": [],
   "source": []
  },
  {
   "cell_type": "markdown",
   "id": "2b8060ee-5e76-4257-b7ec-96e959142e2b",
   "metadata": {},
   "source": [
    "### Build Code-workspace from templatestr(env_path)"
   ]
  },
  {
   "cell_type": "code",
   "execution_count": null,
   "id": "5319a3f7-41a1-48b2-b27a-803c597192d5",
   "metadata": {
    "tags": []
   },
   "outputs": [],
   "source": [
    "data_dir = Path(r\"D:\\OneDrive - Queen's University\\Python\\Python Learning\\Environment Management\")\n",
    "\n",
    "worspace_template = data_dir / 'vscode settings templates' / 'TEMPLATE.code-workspace'\n"
   ]
  },
  {
   "cell_type": "code",
   "execution_count": null,
   "id": "f63b63b3-11ea-43db-8398-459747063602",
   "metadata": {
    "tags": []
   },
   "outputs": [],
   "source": [
    "worspace = worspace_template.read_text()\n"
   ]
  },
  {
   "cell_type": "code",
   "execution_count": null,
   "id": "cd205a37-c1d9-427a-9853-b2b57aef633f",
   "metadata": {
    "tags": []
   },
   "outputs": [],
   "source": [
    "path_dict = {\n",
    "    'WORKSPACE_FOLDER': f'\"{project_folder}\"',\n",
    "    'SOURCE_FOLDER': f'\"{source_folder}\"',\n",
    "    'SECTIONARY_FOLDER': f'\"{sectionary_path}\"'\n",
    "    }\n"
   ]
  },
  {
   "cell_type": "code",
   "execution_count": null,
   "id": "7669f89a-1d79-4295-bc2c-7a45cb4d04f2",
   "metadata": {
    "tags": []
   },
   "outputs": [],
   "source": [
    "str(env_path).replace('\\\\', '/')\n"
   ]
  },
  {
   "cell_type": "code",
   "execution_count": null,
   "id": "173142c0-b63d-47c9-8df5-13da33129af0",
   "metadata": {
    "tags": []
   },
   "outputs": [],
   "source": [
    "env_manage_base = Path(r\"D:\\OneDrive - Queen's University\\Python\\Python Learning\\Environment Management\")\n",
    "code_workspace_template = env_manage_base / 'vscode settings templates' / 'TEMPLATE.code-workspace'\n"
   ]
  },
  {
   "cell_type": "code",
   "execution_count": null,
   "id": "139c005b-b9a2-47c1-9f23-e82b017000e7",
   "metadata": {
    "tags": []
   },
   "outputs": [],
   "source": [
    "template = code_workspace_template.read_text()\n"
   ]
  },
  {
   "cell_type": "code",
   "execution_count": null,
   "id": "7fd15970-4f01-4dc9-ac63-a4dfe741726e",
   "metadata": {
    "tags": []
   },
   "outputs": [],
   "source": [
    "template = template.replace('%env_path%', str(env_path).replace('\\\\', '/'))\n"
   ]
  },
  {
   "cell_type": "code",
   "execution_count": null,
   "id": "77004bda-4a17-4c94-bc08-8d3c4556f3d6",
   "metadata": {},
   "outputs": [],
   "source": []
  },
  {
   "cell_type": "raw",
   "id": "61b38ab3-26c5-4164-bc0d-1aa1ab92c7b6",
   "metadata": {},
   "source": [
    "        \"python.analysis.extraPaths\": [\n",
    "            \"${workspaceFolder}/src\",\n",
    "            \"${workspaceFolder}\",\n",
    "            \"../../sectionary package/src\"\n",
    "        ],\n",
    "        \"python.autoComplete.extraPaths\": [\n",
    "            \"${workspaceFolder}/src\",\n",
    "            \"${workspaceFolder}\",\n",
    "            \"../../sectionary package/src\"\n",
    "        ],\n"
   ]
  },
  {
   "cell_type": "code",
   "execution_count": null,
   "id": "0ff20ccc-c66f-438e-bcdc-f7ec7941ad47",
   "metadata": {
    "tags": []
   },
   "outputs": [],
   "source": [
    "project_folder = Path(r\"D:\\OneDrive - Queen's University\\Python\\Projects\\ToDoIst Projects\\Turkey\")\n",
    "\n",
    "env_folder = add_folder(project_folder, 'environment')\n",
    "source_folder = add_folder(project_folder, 'src')\n",
    "\n",
    "project_drive = project_folder.drive\n"
   ]
  },
  {
   "cell_type": "code",
   "execution_count": null,
   "id": "0a1fe6de-5d9a-4ff2-8055-c34ce3359daa",
   "metadata": {
    "tags": []
   },
   "outputs": [],
   "source": [
    "sectionary_path = project_folder / '..' / '..' / 'sectionary package' / 'src'\n",
    "sectionary_path = sectionary_path.resolve()\n"
   ]
  },
  {
   "cell_type": "code",
   "execution_count": null,
   "id": "9fda7e4d-de0a-4541-a73c-104c18a2e8fd",
   "metadata": {
    "tags": []
   },
   "outputs": [],
   "source": [
    "path_dict = {\n",
    "    'WORKSPACE_FOLDER': f'\"{project_folder}\"',\n",
    "    'SOURCE_FOLDER': f'\"{source_folder}\"',\n",
    "    'SECTIONARY_FOLDER': f'\"{sectionary_path}\"'\n",
    "    }\n"
   ]
  },
  {
   "cell_type": "raw",
   "id": "e7ce5bb2-6350-402c-90dc-52bf8109a9c5",
   "metadata": {},
   "source": [
    "        \"python.analysis.extraPaths\": \"%analysis.extraPaths%\",\n",
    "        \"python.autoComplete.extraPaths\": \"%autoComplete.extraPaths%\",\n"
   ]
  },
  {
   "cell_type": "code",
   "execution_count": null,
   "id": "6be6595c-ec29-4a80-9d08-cc81dc6f1519",
   "metadata": {},
   "outputs": [],
   "source": [
    "template.replace('%analysis.extraPaths%', str(text))\n"
   ]
  },
  {
   "cell_type": "code",
   "execution_count": null,
   "id": "40a34ac3-dca1-4b50-ab03-9db5256964e4",
   "metadata": {},
   "outputs": [],
   "source": [
    "template.replace('%autoComplete.extraPaths%', str(text))\n"
   ]
  },
  {
   "cell_type": "raw",
   "id": "d6b907b8-f0dc-42ad-940e-f52bdb686e76",
   "metadata": {},
   "source": [
    "              \"env\": {\"PYTHONPATH\": \"${fileDirname};${workspaceFolder};${workspaceFolder}\\\\..\\\\..\\\\sectionary package\\\\src;${env:PYTHONPATH}\"\n"
   ]
  },
  {
   "cell_type": "raw",
   "id": "46fac944-b6b6-444f-a30a-b6ef7832a199",
   "metadata": {},
   "source": [
    "              \"env\": {\"PYTHONPATH\": \"%PYTHONPATH%\"}\n"
   ]
  },
  {
   "cell_type": "raw",
   "id": "ebdb2c27-3f88-4157-a249-cd5d53d00626",
   "metadata": {},
   "source": [
    "            \"PYTHONPATH\": \"${fileDirname};${workspaceFolder};${workspaceFolder}/../../sectionary package/src;${env:PYTHONPATH}\"\n"
   ]
  },
  {
   "cell_type": "raw",
   "id": "8e530ddf-fb18-474a-8cdc-b3cb7a98d7e1",
   "metadata": {},
   "source": [
    "            \"PYTHONPATH\": \"%PYTHONPATH%\"\n"
   ]
  },
  {
   "cell_type": "raw",
   "id": "b506b6ca-b780-45f7-b350-651755d80eb1",
   "metadata": {},
   "source": [
    "\"PYTHONPATH\": \"${fileDirname};${workspaceFolder};${workspaceFolder}/../../sectionary package/src;${env:PYTHONPATH}\",\n",
    "\"env\": {\"PYTHONPATH\": \"${fileDirname};${workspaceFolder};${workspaceFolder}\\\\..\\\\..\\\\sectionary package\\\\src;${env:PYTHONPATH}\"\n"
   ]
  },
  {
   "cell_type": "raw",
   "id": "82395918-00d9-462d-89ca-eb73596cc6e4",
   "metadata": {},
   "source": [
    "            \"PythonShell\": {\n",
    "                \"path\": \"C:/ProgramData/Anaconda3/envs/plan_check_tools/python.exe\",\n"
   ]
  },
  {
   "cell_type": "markdown",
   "id": "1efb811f",
   "metadata": {},
   "source": [
    "## Other install commands"
   ]
  },
  {
   "cell_type": "markdown",
   "id": "1476ec86",
   "metadata": {},
   "source": [
    "#### Install Jupyter Kernel "
   ]
  },
  {
   "cell_type": "code",
   "execution_count": null,
   "id": "540ba29c",
   "metadata": {},
   "outputs": [],
   "source": [
    "def install_kernel(new_env):\n",
    "    '''Install the ipython kernel in the new environment.\n",
    "\n",
    "    Args:\n",
    "        new_env (str): Name of Conda environment.\n",
    "\n",
    "    Returns:\n",
    "        str: The log output from the install.\n",
    "    '''\n",
    "    kernel_cmd = activate_environment(new_env)\n",
    "    kernel_cmd += f'python -m ipykernel install --user --name {new_env} '\n",
    "    kernel_cmd += f'--display-name \"Python ({new_env})\"'\n",
    "\n",
    "    kernel_install_log = console_command(\n",
    "        kernel_cmd,\n",
    "        AnacondaException,\n",
    "        f'Unable to install ipython kernel in \"{new_env}\"!'\n",
    "        )\n",
    "    return kernel_install_log\n"
   ]
  },
  {
   "cell_type": "markdown",
   "id": "5c835f72",
   "metadata": {},
   "source": [
    "#### Configure xlwings"
   ]
  },
  {
   "cell_type": "code",
   "execution_count": null,
   "id": "31154eed",
   "metadata": {},
   "outputs": [],
   "source": [
    "def configure_xlwings(new_env: str)->str:\n",
    "    '''Install and configure xlwings binaries for environment.\n",
    "\n",
    "    NOTE: This is still a works in progress.\n",
    "\n",
    "    Args:\n",
    "        new_env (str): Name of Conda environment.\n",
    "\n",
    "    Returns:\n",
    "        str: The log output from the install.\n",
    "    '''\n",
    "    activate_cmd = activate_environment(new_env)\n",
    "\n",
    "    logger.debug('Updating Xlwings licence for %s', new_env)\n",
    "    xlwings_license = activate_cmd + 'xlwings license update -k noncommercial'\n",
    "    license_log = console_command(\n",
    "        xlwings_license, AnacondaException,\n",
    "        f'Unable to set xlwings license in environment {new_env}')\n",
    "\n",
    "    logger.debug('Installing Xlwings add-in for %s', new_env)\n",
    "    xlwings_add_in = activate_cmd + 'xlwings addin install'\n",
    "    try:\n",
    "        add_in_log = console_command(\n",
    "            xlwings_add_in, AnacondaException,\n",
    "            f'Unable to install xlwings addin in environment {new_env}',\n",
    "            abort_after=2)\n",
    "    except AbortedCmdException:\n",
    "        logger.warning('Xlwings Add-in install timed out\\n'\n",
    "                       'This is likely due to insufficient rights to install '\n",
    "                       'the add-in.')\n",
    "\n",
    "    logger.debug('Creating Xlwings config file for %s', new_env)\n",
    "    xlwings_config = activate_cmd + 'xlwings config create --force'\n",
    "    config_log = console_command(\n",
    "        xlwings_config, AnacondaException,\n",
    "        f'Unable to configure xlwings in environment {new_env}')\n",
    "\n",
    "    xlwings_log = '\\n\\n'.join([license_log, add_in_log, config_log])\n",
    "    return xlwings_log\n"
   ]
  },
  {
   "cell_type": "markdown",
   "id": "59d0e960",
   "metadata": {},
   "source": [
    "***The commands below hang the kernel***"
   ]
  },
  {
   "cell_type": "raw",
   "id": "9bbdb096",
   "metadata": {},
   "source": [
    "logger.setLevel(logging.DEBUG)\n",
    "output = configure_xlwings('Todoist')\n",
    "print(output)\n",
    "logger.setLevel(logging.INFO)\n"
   ]
  },
  {
   "cell_type": "code",
   "execution_count": null,
   "id": "59d9986b",
   "metadata": {},
   "outputs": [],
   "source": [
    "new_env = 'Todoist'\n",
    "activate_cmd = activate_environment(new_env)\n",
    "\n",
    "xlwings_license = activate_cmd + 'xlwings license update -k noncommercial'\n",
    "license_log = console_command(\n",
    "    xlwings_license, AnacondaException,\n",
    "    f'Unable to set xlwings license in environment {new_env}')\n",
    "\n",
    "print(license_log)\n"
   ]
  },
  {
   "cell_type": "code",
   "execution_count": null,
   "id": "eb1f7041",
   "metadata": {},
   "outputs": [],
   "source": [
    "cmd_str = activate_environment('Standard')\n",
    "cmd_str += 'conda env export --from-history'\n",
    "output = console_command(cmd_str)\n",
    "print(output)\n"
   ]
  },
  {
   "cell_type": "code",
   "execution_count": null,
   "id": "aedfcae4",
   "metadata": {},
   "outputs": [],
   "source": [
    "output = install_kernel('Todoist')\n",
    "print(output)\n"
   ]
  },
  {
   "cell_type": "markdown",
   "id": "0f5a1ee6",
   "metadata": {},
   "source": [
    "## Store Environment Data"
   ]
  },
  {
   "cell_type": "code",
   "execution_count": null,
   "id": "c8c05ce0",
   "metadata": {},
   "outputs": [],
   "source": [
    "# FIXME Complete functions on saving log data and environment info\n"
   ]
  },
  {
   "cell_type": "markdown",
   "id": "6f3d7694",
   "metadata": {},
   "source": [
    "**This is a lower priority work in progress.**"
   ]
  },
  {
   "cell_type": "markdown",
   "id": "3daaaa9c",
   "metadata": {},
   "source": [
    "### Write the Log Data generated during the Conda Environment install"
   ]
  },
  {
   "cell_type": "markdown",
   "id": "098847f3",
   "metadata": {},
   "source": [
    "**TODO:**\n",
    "1. Generate Json file with output logs\n",
    "2. generate a spreadsheet with multiple tables containing relevant project info.\n",
    "   1. Package list:\n",
    "      1. Package parsing must allow for 1, 2, or 3 parts.\n",
    "      2. Package parsing must allow for '=' or '==' separators.\n",
    "      3. If \"from-history\" used, pip installs are not returned; need to get those separately.\n",
    "   2. Install parameters\n",
    "      1. Name, prefix, channels\n",
    "      2. List of channels should be converted to strings.\n",
    "   3. Relevant folders and paths\n",
    "      1. Project folders\n",
    "      2. python search paths\n",
    "      3. Other tools installed e.g. Jupyter, Xlwings\n"
   ]
  },
  {
   "cell_type": "markdown",
   "id": "cfd7dfa8",
   "metadata": {},
   "source": [
    "Get package Info has two different functionalities:\n",
    "   1. Generate spreadsheet with package info\n",
    "   2. Provide package lookup"
   ]
  },
  {
   "cell_type": "code",
   "execution_count": null,
   "id": "824f3351",
   "metadata": {},
   "outputs": [],
   "source": [
    "project_folder = Path(r\"D:\\OneDrive - Queen's University\\Python\\Projects\\TestProject\")\n",
    "env_folder = add_folder(project_folder, 'environment')\n"
   ]
  },
  {
   "cell_type": "markdown",
   "id": "d99c9e57",
   "metadata": {},
   "source": [
    "#### Store json log output as a .json file"
   ]
  },
  {
   "cell_type": "code",
   "execution_count": null,
   "id": "eac3697d",
   "metadata": {},
   "outputs": [],
   "source": [
    "def save_logs(create_output, install_output, pip_install_output, env_name, env_folder):\n",
    "    environment_logs = {'Create': create_output,\n",
    "                        'Install': install_output,\n",
    "                        'Pip Install':pip_install_output}\n",
    "    log_file = env_folder / f'{env_name}EnvironmentLog.json'\n",
    "    with log_file.open('w', encoding='utf-8') as file:\n",
    "        json.dump(environment_logs, file, indent=4)\n"
   ]
  },
  {
   "cell_type": "markdown",
   "id": "d9bcf617",
   "metadata": {},
   "source": [
    "#### Create a spreadsheet with environment data for reference"
   ]
  },
  {
   "cell_type": "code",
   "execution_count": null,
   "id": "dc7fb6b6",
   "metadata": {},
   "outputs": [],
   "source": [
    "env_ref = env_path\n"
   ]
  },
  {
   "cell_type": "code",
   "execution_count": null,
   "id": "49b66689",
   "metadata": {},
   "outputs": [],
   "source": [
    "env_name, env_cmd_ref = set_env_ref(env_ref)\n"
   ]
  },
  {
   "cell_type": "code",
   "execution_count": null,
   "id": "6bdf3797",
   "metadata": {},
   "outputs": [],
   "source": [
    "def build_package_table(dependencies):\n",
    "    def  build_pip_package_list(pkg_ref):\n",
    "        pip_pkg_list = []\n",
    "        pip_pkg_info = pkg_ref['pip']\n",
    "        for pkg_str in pip_pkg_info:\n",
    "            name, version = pkg_str.split('==')\n",
    "            pip_pkg_list.append({\n",
    "                            'PackageName': name,\n",
    "                            'PackageVersion': version,\n",
    "                            'PIP': True\n",
    "                            })\n",
    "        return pip_pkg_list\n",
    "\n",
    "    packages = []\n",
    "    for pkg_str in dependencies:\n",
    "        if isinstance(pkg_str,dict):\n",
    "            pip_pkg_list = build_pip_package_list(pkg_str)\n",
    "            packages.extend(pip_pkg_list)\n",
    "        else:\n",
    "            name, version, ref = pkg_str.split('=')\n",
    "            packages.append({\n",
    "                'PackageName': name,\n",
    "                'PackageVersion': version,\n",
    "                'PackageIndex': ref,\n",
    "                'PIP': False\n",
    "                })\n",
    "    package_table = pd.DataFrame(packages)\n",
    "    return package_table\n"
   ]
  },
  {
   "cell_type": "code",
   "execution_count": null,
   "id": "ec14da65",
   "metadata": {},
   "outputs": [],
   "source": [
    "package_cmd = 'conda env export --json '\n",
    "package_cmd += env_cmd_ref\n",
    "\n",
    "pkg_output = console_command(package_cmd, AnacondaException,\n",
    "                f'Error getting packages from {env_name}.')\n",
    "\n",
    "pkg_dict = json.loads(pkg_output)\n",
    "\n",
    "pkg_list = pkg_dict['dependencies']\n",
    "packages = []\n",
    "for pkg_str in pkg_list:\n",
    "    if isinstance(pkg_str,dict):\n",
    "        # Put pip package parser here\n",
    "        pass\n",
    "    else:\n",
    "        name, version, ref = pkg_str.split('=')\n",
    "        packages.append({\n",
    "            'PackageName': name,\n",
    "            'PackageVersion': version,\n",
    "            'PackageIndex': ref,\n",
    "            'PIP': False\n",
    "            })\n",
    "package_table = pd.DataFrame(packages)\n",
    "package_table\n",
    "\n",
    "dependencies = pkg_dict.pop('dependencies')\n",
    "build_package_table(dependencies)\n"
   ]
  },
  {
   "cell_type": "code",
   "execution_count": null,
   "id": "568498bf",
   "metadata": {},
   "outputs": [],
   "source": [
    "pkg_dict['channels'] = str(pkg_dict['channels'])\n"
   ]
  },
  {
   "cell_type": "code",
   "execution_count": null,
   "id": "812d4682",
   "metadata": {},
   "outputs": [],
   "source": [
    "def get_packages(env_ref: EnvRef, all_packages=False)->pd.DataFrame:\n",
    "    env_name, env_cmd_ref = set_env_ref(env_ref)\n",
    "    if all_packages:\n",
    "        package_cmd = 'conda env export --json'\n",
    "        package_cmd += env_cmd_ref\n",
    "\n",
    "        save_history_cmd = ['conda', 'env', 'export',\n",
    "                            '--from-history', '--json']\n",
    "        save_history_cmd += env_cmd_ref\n",
    "        save_history_cmd += ['>', str(history_json)]\n",
    "        console_command(save_history_cmd, AnacondaException,\n",
    "                        f'Error saving {env_name}.json file.')\n"
   ]
  },
  {
   "cell_type": "code",
   "execution_count": null,
   "id": "0ac8363c",
   "metadata": {},
   "outputs": [],
   "source": [
    "\n",
    "log_file = env_folder / f'{new_env}EnvironmentLog.json'\n",
    "pkg_table_file = env_folder / f'{new_env}Packages.csv'\n",
    "\n",
    "install_log = install_log + '\\n' + pkg_install_log\n",
    "log_file.write_text(install_log)\n",
    "\n",
    "pkg_items = logging_dict['actions']['LINK'] + pkg_install_dict['actions']['LINK']\n",
    "pkg_table = pd.DataFrame(pkg_items)\n",
    "pkg_table.to_csv(pkg_table_file)\n"
   ]
  },
  {
   "cell_type": "markdown",
   "id": "e8d170ec-5fc4-4093-92bf-e1daab0843f7",
   "metadata": {
    "tags": []
   },
   "source": [
    "# Misc Reference"
   ]
  },
  {
   "cell_type": "raw",
   "id": "58e40b21-e28c-4f64-b2f3-ea4a3b80b5f1",
   "metadata": {},
   "source": [
    "########## Spyder Launch ############\n",
    "C:\\ProgramData\\Anaconda3\\pythonw.exe C:\\ProgramData\\Anaconda3\\cwp.py C:\\ProgramData\\Anaconda3\\envs\\Standard C:\\ProgramData\\Anaconda3\\envs\\Standard\\pythonw.exe C:\\ProgramData\\Anaconda3\\envs\\Standard\\Scripts\\spyder-script.py\n",
    "\n",
    "########## Jupyter Lab Launch ############\n",
    "C:\\ProgramData\\Anaconda3\\python.exe C:\\ProgramData\\Anaconda3\\cwp.py C:\\ProgramData\\Anaconda3\\envs\\Standard C:\\ProgramData\\Anaconda3\\envs\\Standard\\pythonw.exe C:\\ProgramData\\Anaconda3\\envs\\\\Standard\\Scripts\\jupyter-lab-script.py \"D:\\OneDrive - Queen's University\\Python\\Projects\"\n",
    "\n",
    "\"D:\\OneDrive - Queen's University\\Python\\Projects\"\n",
    "%ALLUSERSPROFILE%\\Anaconda3\\Menu\\jupyter.ico\n",
    "%ALLUSERSPROFILE%\\Anaconda3\\envs\\Standard\\Scripts\\spyder.ico\n"
   ]
  },
  {
   "cell_type": "markdown",
   "id": "7447e43b",
   "metadata": {},
   "source": [
    "## cmd\n",
    "Starts a new instance of the command interpreter, Cmd.exe. If used without parameters, cmd displays the version and copyright information of the operating system.\n",
    "\n",
    "#### Syntax\n",
    "`cmd [/c|/k] [/s] [/q] [/d] [/a|/u] [/t:{<b><f> | <f>}] [/e:{on | off}] [/f:{on | off}] [/v:{on | off}] [<string>]`\n",
    "\n",
    "#### Parameters\n",
    "\n",
    "|Parameter|Description|\n",
    "|-|-|\n",
    "|/c|Carries out the command specified by <string> and then exits the command processor.|\n",
    "|/k|Carries out the command specified by <string> and keeps the command processor running.|\n",
    "|/s|When used with /c or /k, triggers special non-parsing rules that strip the first and last quotes (\") around the <string> but leaves the rest of the command unchanged.|\n",
    "|/q|Turns echo off.|\n",
    "|/d|Disables execution of AutoRun commands.|\n",
    "|/a|Formats command output as American National Standards Institute (ANSI).|\n",
    "|/u|Formats command output as Unicode.|\n",
    "|/t: {\\<b>\\<f> \\| \\<f>}|Sets the background (*b*) and foreground (*f*) colors.|\n",
    "|/e:on|Enables command extensions.|\n",
    "|/e:off|Disables commands extensions.|\n",
    "|/f:on|Enables file and directory name completion.|\n",
    "|/f:off|Disables file and directory name completion.|\n",
    "|/v:on|Enables delayed environment variable expansion.|\n",
    "|/v:off|Disables delayed environment variable expansion.|\n",
    "|\\<string>|Specifies the command you want to carry out.|\n",
    "|/?|Displays help at the command prompt.|\n",
    "\n",
    "The following table lists valid hexadecimal digits that you can use as the values for \\<b> and \\<f>:\n",
    "\n",
    "|Value|Color|\n",
    "|-|-|\n",
    "|0|Black|\n",
    "|1|Blue|\n",
    "|2|Green|\n",
    "|3|Aqua|\n",
    "|4|Red|\n",
    "|5|Purple|\n",
    "|6|Yellow|\n",
    "|7|White|\n",
    "|8|Gray|\n",
    "|9|Light blue|\n",
    "|a|Light green|\n",
    "|b|Light aqua|\n",
    "|c|Light red|\n",
    "|d|Light purple|\n",
    "|e|Light yellow|\n",
    "|f|Bright white\n",
    "\n",
    "#### Remarks\n",
    "- To redirect command output to the input of another command, use the pipe (`|`) character. For example:\n",
    "> `<command1> | <command2>`\n",
    "\n",
    "- To redirect command output to a file, use the greater-than angle bracket `>` character. For example:\n",
    "\n",
    "`<command1> > <file1.txt>`\n",
    "To use multiple commands for `<string>`, separate them by the command separator `&&`. For example:\n",
    "> `<command1>&&<command2>&&<command3>`\n",
    "\n",
    "- If the directory path, files, or any information you supply contains spaces, you must use double quotation marks (`\"``) around the text, such as `\"Computer Name\"`. For example:\n",
    "> `mkdir Test&&mkdir \"Test 2\"&&move \"Test 2\" Test`\n",
    "> \n",
    "- You must use quotation marks around the following special characters: & \\< > [ ] | { } ^ = ; ! ' + , ` ~ [white space].\n",
    "\n",
    "- If you specify `/c` or `/k`, the `cmd` processes, the remainder of `<string>`, and the quotation marks are preserved only if all of the following conditions are met:\n",
    "   - You don't also use `/s`.\n",
    "   - You use exactly one set of quotation marks.\n",
    "   - You don't use any special characters within the quotation marks (for example: & <    ( ) @ ^ | ).\n",
    "   - You use one or more white-space characters within the quotation marks.\n",
    "   - The `<string>` within quotation marks is the name of an executable file.\n",
    "\n",
    "If the previous conditions aren't met, `<string>` is processed by examining the first character to verify whether it's an opening quotation mark. If the first character is an opening quotation mark, it's stripped along with the closing quotation mark. Any text following the closing quotation marks is preserved."
   ]
  },
  {
   "cell_type": "markdown",
   "id": "c6ef8d32",
   "metadata": {},
   "source": [
    "## Common Packages\n",
    "> **Primary Packages**\n",
    "> - numpy\n",
    "> - pandas\n",
    "> - openpyxl\n",
    "> - matplotlib\n",
    "> - seaborn\n",
    "> - pysimplegui\n",
    "\n",
    "> **iPython Packages**\n",
    "> - ipykernel\n",
    "> - ipywidgets\n",
    "> - jupyterlab\n",
    "> - nb_conda_kernels\n",
    "> - spyder\n",
    "\n",
    "> **SciPy Packages**\n",
    "> - scipy\n",
    "> - scikit-image\n",
    "> \n",
    "> **Specialty Packages**\n",
    "> - networkx\n",
    "> - pygraphviz\n",
    "> - shapely\n",
    "> - pydicom\n",
    "> - pyodbc\n",
    "> - parsedatetime\n",
    "\n",
    "> **MS Office & Windows related Packages**\n",
    "> - xlwings\n",
    "> - pywin32\n",
    "> - docx2txt\n",
    "> - zipfile2\n",
    "\n",
    "> **Linting Packages**\n",
    "> - pylint\n",
    "> - mypy\n",
    "> - black\n",
    "\n",
    "> **Installer**\n",
    "> - pyinstaller\n",
    "\n",
    "> **Documentation Packages**\n",
    "> - sphinx\n",
    "> - sphinx-copybutton\n",
    "> - sphinx_rtd_theme\n",
    "> - nbsphinx-link\n",
    "> - nbsphinx\n",
    "> - esbonio\n",
    "> - pandoc\n",
    "> - myst-parser\n",
    "\n",
    "> **AI Related Packages**\n",
    "> - scikit-learn\n",
    "> - neptune-client\n",
    "> - neptune-sklearn\n",
    "> - statsmodels\n",
    "> - xgboost\n",
    "> - torchvision\n",
    "> - nibabel\n",
    "> - nilearn\n"
   ]
  },
  {
   "cell_type": "markdown",
   "id": "8fb1e0b2",
   "metadata": {},
   "source": [
    "### Other Install Commands"
   ]
  },
  {
   "cell_type": "markdown",
   "id": "93b69e57",
   "metadata": {},
   "source": [
    "`pip install todoist-api-python`"
   ]
  },
  {
   "cell_type": "markdown",
   "id": "83a7de02",
   "metadata": {},
   "source": [
    "```bat\n",
    "pip install [options] <requirement specifier> [package-index-options] ...\n",
    "pip install [options] -r <requirements file> [package-index-options] ...\n",
    "pip install [options] [-e] <vcs project url> ...\n",
    "pip install [options] [-e] <local project path> ...\n",
    "pip install [options] <archive url/path> ...\n",
    "```\n",
    "The report can be written to a file, or to standard output (using --report - in combination with --quiet)."
   ]
  },
  {
   "cell_type": "markdown",
   "id": "48f70a84",
   "metadata": {},
   "source": [
    "#### Json Basic Usage\n",
    "`json.dump(obj, fp, *, skipkeys=False, ensure_ascii=True, check_circular=True, allow_nan=True, cls=None, indent=None, separators=None, default=None, sort_keys=False, **kw)`\n",
    "\n",
    "Serialize obj as a JSON formatted stream to fp (a .write()-supporting file-like object) using this conversion table.\n",
    "\n",
    "- If skipkeys is true (default: False), then dict keys that are not of a basic type (str, int, float, bool, None) will be skipped instead of raising a TypeError.\n",
    "\n",
    "- The json module always produces str objects, not bytes objects. Therefore, fp.write() must support str input.\n",
    "\n",
    "- If ensure_ascii is true (the default), the output is guaranteed to have all incoming non-ASCII characters escaped. If ensure_ascii is false, these characters will be output as-is.\n",
    "\n",
    "- If check_circular is false (default: True), then the circular reference check for container types will be skipped and a circular reference will result in a RecursionError (or worse).\n",
    "\n",
    "- If allow_nan is false (default: True), then it will be a ValueError to serialize out of range float values (nan, inf, -inf) in strict compliance of the JSON specification. If allow_nan is true, their JavaScript equivalents (NaN, Infinity, -Infinity) will be used.\n",
    "\n",
    "- If indent is a non-negative integer or string, then JSON array elements and object members will be pretty-printed with that indent level. An indent level of 0, negative, or \"\" will only insert newlines. None (the default) selects the most compact representation. Using a positive integer indent indents that many spaces per level. If indent is a string (such as \"\\t\"), that string is used to indent each level.\n",
    "\n",
    "- If specified, separators should be an (item_separator, key_separator) tuple. The default is (', ', ': ') if indent is None and (',', ': ') otherwise. To get the most compact JSON representation, you should specify (',', ':') to eliminate whitespace.\n",
    "\n",
    "- If specified, default should be a function that gets called for objects that can’t otherwise be serialized. It should return a JSON encodable version of the object or raise a TypeError. If not specified, TypeError is raised.\n",
    "\n",
    "- If sort_keys is true (default: False), then the output of dictionaries will be sorted by key."
   ]
  },
  {
   "cell_type": "markdown",
   "id": "bb8de993",
   "metadata": {},
   "source": [
    "`pip freeze > requirements.txt`"
   ]
  }
 ],
 "metadata": {
  "kernelspec": {
   "display_name": "Python 3 (ipykernel)",
   "language": "python",
   "name": "python3"
  },
  "language_info": {
   "codemirror_mode": {
    "name": "ipython",
    "version": 3
   },
   "file_extension": ".py",
   "mimetype": "text/x-python",
   "name": "python",
   "nbconvert_exporter": "python",
   "pygments_lexer": "ipython3",
   "version": "3.9.18"
  },
  "toc-autonumbering": false,
  "toc-showcode": false,
  "toc-showmarkdowntxt": false
 },
 "nbformat": 4,
 "nbformat_minor": 5
}
