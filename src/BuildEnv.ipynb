{
 "cells": [
  {
   "cell_type": "markdown",
   "id": "90ec1172-770f-4818-a960-1096827384ff",
   "metadata": {},
   "source": [
    "# Generate a Project Template"
   ]
  },
  {
   "cell_type": "markdown",
   "id": "0ebd7be0-ad2c-42d9-b7e7-0dc6940542ef",
   "metadata": {},
   "source": [
    "## Imports"
   ]
  },
  {
   "cell_type": "code",
   "execution_count": 1,
   "id": "87dd1769-5cad-4822-8276-4d854912f055",
   "metadata": {
    "tags": []
   },
   "outputs": [],
   "source": [
    "from typing import Dict, List\n",
    "\n",
    "import subprocess\n",
    "import json\n",
    "import re\n",
    "from pathlib import Path\n",
    "from dataclasses import dataclass, InitVar\n",
    "\n",
    "import pandas as pd\n"
   ]
  },
  {
   "cell_type": "code",
   "execution_count": 2,
   "id": "60ca5dd5",
   "metadata": {},
   "outputs": [],
   "source": [
    "from env_tools import AnacondaException, AbortedCmdException\n"
   ]
  },
  {
   "cell_type": "code",
   "execution_count": null,
   "id": "0d6a6ebf",
   "metadata": {},
   "outputs": [],
   "source": [
    "from env_tools import console_command, activate_environment\n"
   ]
  },
  {
   "cell_type": "code",
   "execution_count": 3,
   "id": "b4e89796",
   "metadata": {},
   "outputs": [],
   "source": [
    "from env_tools import save_env_specs, list_environments\n",
    "\n",
    "from env_tools import create_environment, remove_environment\n",
    "\n",
    "from env_tools import install_packages\n"
   ]
  },
  {
   "cell_type": "code",
   "execution_count": 4,
   "id": "d7064349",
   "metadata": {},
   "outputs": [],
   "source": [
    "# %% Initialize logging\n",
    "import logging  # pylint: disable=wrong-import-position wrong-import-order\n",
    "logging.basicConfig(level=logging.INFO,\n",
    "                    format='%(levelname)-8s %(message)s')\n",
    "logger = logging.getLogger(__name__)\n",
    "#logger.setLevel(logging.DEBUG)\n",
    "logger.setLevel(logging.INFO)\n"
   ]
  },
  {
   "cell_type": "markdown",
   "id": "849c6608-affe-47b2-9c55-9cbd872dc6d0",
   "metadata": {},
   "source": [
    "## Utility Functions"
   ]
  },
  {
   "cell_type": "code",
   "execution_count": 5,
   "id": "fe107bcb-5d6c-481f-9de1-f8be3fcd9e91",
   "metadata": {
    "tags": []
   },
   "outputs": [],
   "source": [
    "def add_folder(base: Path, name: str)->Path:\n",
    "    '''Make a subdirectory under base.\n",
    "\n",
    "    Generates a path to the subdirectory.\n",
    "    If it doesn't exist create it.\n",
    "\n",
    "    Args:\n",
    "        base (Path): The top folder (parent to the subdirectory).\n",
    "        name (str): The name of the subdirectory.\n",
    "\n",
    "    Returns:\n",
    "        Path: The path to the subdirectory.\n",
    "    '''\n",
    "    sub_folder = base / name\n",
    "    if not sub_folder.exists():\n",
    "        sub_folder.mkdir()\n",
    "    return sub_folder\n"
   ]
  },
  {
   "cell_type": "markdown",
   "id": "f4247a8a-b752-4304-868b-48779c33e60d",
   "metadata": {
    "tags": []
   },
   "source": [
    "### Anaconda utilities"
   ]
  },
  {
   "cell_type": "markdown",
   "id": "6963fdd5-9650-4b55-972d-7204a6fb4f49",
   "metadata": {},
   "source": [
    "## Package Creation"
   ]
  },
  {
   "cell_type": "markdown",
   "id": "c0718357-67b1-4582-b965-1be65dffe430",
   "metadata": {
    "tags": []
   },
   "source": [
    "### Create the new environment"
   ]
  },
  {
   "cell_type": "code",
   "execution_count": 6,
   "id": "204029d8",
   "metadata": {},
   "outputs": [],
   "source": [
    "new_env = 'Todoist'\n",
    "python_version = '3.11'\n"
   ]
  },
  {
   "cell_type": "code",
   "execution_count": 11,
   "id": "44ebfb2a",
   "metadata": {},
   "outputs": [
    {
     "name": "stderr",
     "output_type": "stream",
     "text": [
      "INFO     Creating environment for Todoist\n"
     ]
    }
   ],
   "source": [
    "install_output = create_environment(new_env, python_version)\n"
   ]
  },
  {
   "cell_type": "code",
   "execution_count": 12,
   "id": "de3cdf08",
   "metadata": {},
   "outputs": [
    {
     "data": {
      "text/plain": [
       "dict_keys(['actions', 'prefix', 'success'])"
      ]
     },
     "execution_count": 12,
     "metadata": {},
     "output_type": "execute_result"
    }
   ],
   "source": [
    "install_output.keys()\n"
   ]
  },
  {
   "cell_type": "code",
   "execution_count": 13,
   "id": "5c69c4fc",
   "metadata": {},
   "outputs": [
    {
     "data": {
      "text/plain": [
       "dict_keys(['FETCH', 'LINK', 'PREFIX'])"
      ]
     },
     "execution_count": 13,
     "metadata": {},
     "output_type": "execute_result"
    }
   ],
   "source": [
    "install_output['actions'].keys()\n"
   ]
  },
  {
   "cell_type": "code",
   "execution_count": 14,
   "id": "111b74ce",
   "metadata": {},
   "outputs": [
    {
     "data": {
      "text/plain": [
       "dict_keys(['base_url', 'build_number', 'build_string', 'channel', 'dist_name', 'name', 'platform', 'version'])"
      ]
     },
     "execution_count": 14,
     "metadata": {},
     "output_type": "execute_result"
    }
   ],
   "source": [
    "install_output['actions']['LINK'][0].keys()\n"
   ]
  },
  {
   "cell_type": "markdown",
   "id": "d1187032",
   "metadata": {},
   "source": [
    "### Identify the Conda Environment path"
   ]
  },
  {
   "cell_type": "code",
   "execution_count": null,
   "id": "6076fbc5",
   "metadata": {},
   "outputs": [],
   "source": [
    "env_path = Path(install_output['prefix'])\n"
   ]
  },
  {
   "cell_type": "code",
   "execution_count": 7,
   "id": "b4dc653f",
   "metadata": {},
   "outputs": [],
   "source": [
    "\n",
    "delete_output = remove_environment(env_path)\n"
   ]
  },
  {
   "cell_type": "code",
   "execution_count": null,
   "id": "5aa89da2",
   "metadata": {},
   "outputs": [],
   "source": [
    "delete_output.keys()\n"
   ]
  },
  {
   "cell_type": "code",
   "execution_count": null,
   "id": "25aac4da",
   "metadata": {},
   "outputs": [],
   "source": [
    "delete_output['actions'].keys()\n"
   ]
  },
  {
   "cell_type": "code",
   "execution_count": null,
   "id": "07f0eabc",
   "metadata": {},
   "outputs": [],
   "source": [
    "delete_output['actions']['UNLINK'][0].keys()\n"
   ]
  },
  {
   "cell_type": "markdown",
   "id": "120f909f",
   "metadata": {},
   "source": [
    "### Install the Packages"
   ]
  },
  {
   "cell_type": "markdown",
   "id": "5bb78d10",
   "metadata": {},
   "source": [
    "#### Packages to include in the Conda Environment"
   ]
  },
  {
   "cell_type": "code",
   "execution_count": 15,
   "id": "645c5f23",
   "metadata": {},
   "outputs": [],
   "source": [
    "primary_package_list = [\n",
    "    'pysimplegui',\n",
    "    'pandas',\n",
    "    'xlwings',\n",
    "    ]\n",
    "tools_package_list = [\n",
    "    'spyder',\n",
    "    'jupyterlab',\n",
    "    'ipykernel',\n",
    "    'pylint',\n",
    "    ]\n",
    "package_list = primary_package_list + tools_package_list\n"
   ]
  },
  {
   "cell_type": "code",
   "execution_count": 16,
   "id": "03bfbf64",
   "metadata": {},
   "outputs": [],
   "source": [
    "install_output_dict = install_packages(new_env, package_list)\n"
   ]
  },
  {
   "cell_type": "code",
   "execution_count": 18,
   "id": "c3b2c149",
   "metadata": {},
   "outputs": [
    {
     "data": {
      "text/plain": [
       "dict_keys(['actions', 'prefix', 'success'])"
      ]
     },
     "execution_count": 18,
     "metadata": {},
     "output_type": "execute_result"
    }
   ],
   "source": [
    "install_output_dict.keys()\n"
   ]
  },
  {
   "cell_type": "code",
   "execution_count": 19,
   "id": "2f18a2f0",
   "metadata": {},
   "outputs": [
    {
     "data": {
      "text/plain": [
       "True"
      ]
     },
     "execution_count": 19,
     "metadata": {},
     "output_type": "execute_result"
    }
   ],
   "source": [
    "install_output_dict['success']\n"
   ]
  },
  {
   "cell_type": "code",
   "execution_count": 20,
   "id": "d36df845",
   "metadata": {},
   "outputs": [
    {
     "data": {
      "text/plain": [
       "'C:\\\\Users\\\\smoke\\\\.conda\\\\envs\\\\Todoist'"
      ]
     },
     "execution_count": 20,
     "metadata": {},
     "output_type": "execute_result"
    }
   ],
   "source": [
    "install_output_dict['prefix']\n"
   ]
  },
  {
   "cell_type": "code",
   "execution_count": 21,
   "id": "0ccccae6",
   "metadata": {},
   "outputs": [
    {
     "data": {
      "text/plain": [
       "dict_keys(['FETCH', 'LINK', 'PREFIX'])"
      ]
     },
     "execution_count": 21,
     "metadata": {},
     "output_type": "execute_result"
    }
   ],
   "source": [
    "install_output_dict['actions'].keys()\n"
   ]
  },
  {
   "cell_type": "code",
   "execution_count": 22,
   "id": "10d3d7aa",
   "metadata": {},
   "outputs": [
    {
     "ename": "IndexError",
     "evalue": "list index out of range",
     "output_type": "error",
     "traceback": [
      "\u001b[1;31m---------------------------------------------------------------------------\u001b[0m",
      "\u001b[1;31mIndexError\u001b[0m                                Traceback (most recent call last)",
      "\u001b[1;32md:\\OneDrive - Queen's University\\Python\\Python Learning\\Environment Management\\src\\BuildEnv.ipynb Cell 34\u001b[0m line \u001b[0;36m1\n\u001b[1;32m----> <a href='vscode-notebook-cell:/d%3A/OneDrive%20-%20Queen%27s%20University/Python/Python%20Learning/Environment%20Management/src/BuildEnv.ipynb#Y216sZmlsZQ%3D%3D?line=0'>1</a>\u001b[0m install_output_dict[\u001b[39m'\u001b[39;49m\u001b[39mactions\u001b[39;49m\u001b[39m'\u001b[39;49m][\u001b[39m'\u001b[39;49m\u001b[39mFETCH\u001b[39;49m\u001b[39m'\u001b[39;49m][\u001b[39m0\u001b[39;49m]\u001b[39m.\u001b[39mkeys()\n",
      "\u001b[1;31mIndexError\u001b[0m: list index out of range"
     ]
    }
   ],
   "source": [
    "install_output_dict['actions']['FETCH'][0].keys()\n"
   ]
  },
  {
   "cell_type": "code",
   "execution_count": 23,
   "id": "d3b1abd9",
   "metadata": {},
   "outputs": [
    {
     "ename": "IndexError",
     "evalue": "list index out of range",
     "output_type": "error",
     "traceback": [
      "\u001b[1;31m---------------------------------------------------------------------------\u001b[0m",
      "\u001b[1;31mIndexError\u001b[0m                                Traceback (most recent call last)",
      "\u001b[1;32md:\\OneDrive - Queen's University\\Python\\Python Learning\\Environment Management\\src\\BuildEnv.ipynb Cell 35\u001b[0m line \u001b[0;36m1\n\u001b[1;32m----> <a href='vscode-notebook-cell:/d%3A/OneDrive%20-%20Queen%27s%20University/Python/Python%20Learning/Environment%20Management/src/BuildEnv.ipynb#Y222sZmlsZQ%3D%3D?line=0'>1</a>\u001b[0m install_output_dict[\u001b[39m'\u001b[39;49m\u001b[39mactions\u001b[39;49m\u001b[39m'\u001b[39;49m][\u001b[39m'\u001b[39;49m\u001b[39mFETCH\u001b[39;49m\u001b[39m'\u001b[39;49m][\u001b[39m0\u001b[39;49m]\n",
      "\u001b[1;31mIndexError\u001b[0m: list index out of range"
     ]
    }
   ],
   "source": [
    "install_output_dict['actions']['FETCH'][0]\n"
   ]
  },
  {
   "cell_type": "code",
   "execution_count": 24,
   "id": "15a25221",
   "metadata": {},
   "outputs": [
    {
     "data": {
      "text/plain": [
       "dict_keys(['base_url', 'build_number', 'build_string', 'channel', 'dist_name', 'name', 'platform', 'version'])"
      ]
     },
     "execution_count": 24,
     "metadata": {},
     "output_type": "execute_result"
    }
   ],
   "source": [
    "install_output_dict['actions']['LINK'][0].keys()\n"
   ]
  },
  {
   "cell_type": "code",
   "execution_count": 25,
   "id": "df53503c",
   "metadata": {},
   "outputs": [
    {
     "data": {
      "text/plain": [
       "{'base_url': 'https://conda.anaconda.org/conda-forge',\n",
       " 'build_number': 50496,\n",
       " 'build_string': 'h57928b3_50496',\n",
       " 'channel': 'conda-forge',\n",
       " 'dist_name': 'intel-openmp-2023.2.0-h57928b3_50496',\n",
       " 'name': 'intel-openmp',\n",
       " 'platform': 'win-64',\n",
       " 'version': '2023.2.0'}"
      ]
     },
     "execution_count": 25,
     "metadata": {},
     "output_type": "execute_result"
    }
   ],
   "source": [
    "install_output_dict['actions']['LINK'][0]\n"
   ]
  },
  {
   "cell_type": "markdown",
   "id": "51a31df5",
   "metadata": {},
   "source": [
    "# Done To Here"
   ]
  },
  {
   "cell_type": "markdown",
   "id": "9be2771c",
   "metadata": {},
   "source": [
    "`pip install todoist-api-python`"
   ]
  },
  {
   "cell_type": "markdown",
   "id": "807f27f4",
   "metadata": {},
   "source": [
    "```bat\n",
    "pip install [options] <requirement specifier> [package-index-options] ...\n",
    "pip install [options] -r <requirements file> [package-index-options] ...\n",
    "pip install [options] [-e] <vcs project url> ...\n",
    "pip install [options] [-e] <local project path> ...\n",
    "pip install [options] <archive url/path> ...\n",
    "```\n",
    "The report can be written to a file, or to standard output (using --report - in combination with --quiet)."
   ]
  },
  {
   "cell_type": "markdown",
   "id": "2831df7d",
   "metadata": {},
   "source": [
    "`pip freeze > requirements.txt`"
   ]
  },
  {
   "cell_type": "markdown",
   "id": "a6ecc575-b7a6-4739-8693-3fa873cb18e5",
   "metadata": {},
   "source": [
    "### Write the Log Data generated during the Conda Environment install"
   ]
  },
  {
   "cell_type": "code",
   "execution_count": null,
   "id": "6db9da4c-c7e5-4fa3-a1ba-49c82a50a418",
   "metadata": {
    "tags": []
   },
   "outputs": [],
   "source": [
    "\n",
    "log_file = env_folder / f'{new_env}CreationLog.txt'\n",
    "pkg_table_file = env_folder / f'{new_env}Packages.csv'\n",
    "\n",
    "install_log = install_log + '\\n' + pkg_install_log\n",
    "log_file.write_text(install_log)\n",
    "\n",
    "pkg_items = logging_dict['actions']['LINK'] + pkg_install_dict['actions']['LINK']\n",
    "pkg_table = pd.DataFrame(pkg_items)\n",
    "pkg_table.to_csv(pkg_table_file)\n"
   ]
  },
  {
   "cell_type": "markdown",
   "id": "f7fe8c4b",
   "metadata": {},
   "source": [
    "### Class to hold information on folders related to the package."
   ]
  },
  {
   "cell_type": "code",
   "execution_count": null,
   "id": "1d94b846",
   "metadata": {},
   "outputs": [],
   "source": [
    "@dataclass\n",
    "class FolderItem:\n",
    "    '''Manage folders related to the package.'''\n",
    "    folder_name: str\n",
    "    tag: str = ''\n",
    "    add_to_path: bool = True\n",
    "    folder_path: Path = None\n",
    "    base_path: InitVar[Path] = None\n",
    "\n",
    "    def __post_init__(self, base_path: Path):\n",
    "        '''Manage defaults for folder settings.\n",
    "\n",
    "        If not defined, base_path defaults to the current working\n",
    "        directory.  If it doesn't exists the folder is created.\n",
    "\n",
    "        If tag is not given use uppercase of folder name for tag.\n",
    "        '''\n",
    "        if not base_path:\n",
    "            base_path = Path.cwd()\n",
    "        self.set_path(base_path)\n",
    "        self.set_tag()\n",
    "\n",
    "    def set_path(self, base_path: Path):\n",
    "        '''If missing, Set the folder_path to a subdirectory of base_path.\n",
    "\n",
    "        Generates a path to the subdirectory.\n",
    "        If it doesn't exist create it.\n",
    "\n",
    "        Args:\n",
    "            base_path (Path): The top folder\n",
    "                (parent to the subdirectory).\n",
    "        '''\n",
    "        if not self.folder_path:\n",
    "            sub_folder = base_path / self.folder_name\n",
    "            if not sub_folder.exists():\n",
    "                sub_folder.mkdir()\n",
    "            self.folder_path = sub_folder\n",
    "\n",
    "    def set_tag(self):\n",
    "        '''If tag not given use uppercase of folder name.'''\n",
    "        if not self.tag:\n",
    "            self.tag = self.folder_name.upper()\n"
   ]
  },
  {
   "cell_type": "markdown",
   "id": "1a78b70c",
   "metadata": {},
   "source": [
    "## Project Parameters"
   ]
  },
  {
   "cell_type": "markdown",
   "id": "9568ab67",
   "metadata": {},
   "source": [
    "### Project Name and Python Version"
   ]
  },
  {
   "cell_type": "code",
   "execution_count": null,
   "id": "85507211",
   "metadata": {},
   "outputs": [],
   "source": [
    "new_env = 'Todoist'\n",
    "python_version = '3.11'\n"
   ]
  },
  {
   "cell_type": "markdown",
   "id": "decd0037",
   "metadata": {},
   "source": [
    "### Packages to include in the Conda Environment"
   ]
  },
  {
   "cell_type": "code",
   "execution_count": null,
   "id": "484addc8",
   "metadata": {},
   "outputs": [],
   "source": [
    "primary_package_list = [\n",
    "    'pysimplegui',\n",
    "    'pandas',\n",
    "    'xlwings',\n",
    "    ]\n",
    "tools_package_list = [\n",
    "    'spyder',\n",
    "    'jupyterlab',\n",
    "    'ipykernel',\n",
    "    'pylint',\n",
    "    ]\n",
    "package_list = primary_package_list + tools_package_list\n",
    "packages = ' '.join(package_list)\n"
   ]
  },
  {
   "cell_type": "code",
   "execution_count": null,
   "id": "31095f9b",
   "metadata": {},
   "outputs": [],
   "source": [
    "install_xlwings = True\n",
    "install_jupyter = True\n"
   ]
  },
  {
   "cell_type": "markdown",
   "id": "a9113474",
   "metadata": {},
   "source": [
    "## Specify project related paths\n",
    "- The top level project path should already exist and should be given the tag 'WORKSPACE'\n",
    "- `folder_path` must be specified for 'WORKSPACE'\n",
    "- An 'ENVIRONMENT' must be defined.\n",
    "- There shouldn't be duplicate tags.\n",
    "- If `tag` is not given `folder_name.upper()` will be used as the `tag`\n",
    "- When `folder_path` is given, the `folder_name` is ignored.  \n",
    "- If `folder_path` is not given, a folder with the name `folder_name` will be created directly under `base_path`.  \n",
    "- If `add_to_path` is True *(the default)*, the folder path will be added to the python search path.\n",
    "\n",
    "#### Example folders:\n",
    "\n",
    "| folder_name | folder_path                              | tag         | add_to_path |\n",
    "|-------------|------------------------------------------|-------------|-------------|\n",
    "| Todoist     | ~\\Python\\Projects\\ToDoIst Projects\\Turkey| WORKSPACE   | True        |\n",
    "| environment | None                                     | ENVIRONMENT | False       |\n",
    "| src         | None                                     | SOURCE      | True        |\n",
    "| Old files   | None                                     | IGNORE      | False       |\n",
    "| data        | None                                     | DATA        | True        |\n",
    "| reference   | None                                     | REFERENCE   | False       |\n",
    "| sectionary  | ..\\\\..\\sectionary package\\src'           | PACKAGE     | True        |"
   ]
  },
  {
   "cell_type": "markdown",
   "id": "1df2e06e",
   "metadata": {},
   "source": [
    "### Primary project path"
   ]
  },
  {
   "cell_type": "code",
   "execution_count": null,
   "id": "6f38055a",
   "metadata": {},
   "outputs": [],
   "source": [
    "project_folder = Path(r\"D:\\OneDrive - Queen's University\\Python\\Projects\\ToDoIst Projects\\Turkey\")\n",
    "project_drive = project_folder.drive\n"
   ]
  },
  {
   "cell_type": "markdown",
   "id": "a1f7635a",
   "metadata": {},
   "source": [
    "### Additional package path"
   ]
  },
  {
   "cell_type": "code",
   "execution_count": null,
   "id": "8ff2532c",
   "metadata": {},
   "outputs": [],
   "source": [
    "sectionary_path = project_folder / '..' / '..' / 'sectionary package' / 'src'\n",
    "sectionary_path = sectionary_path.resolve()\n"
   ]
  },
  {
   "cell_type": "markdown",
   "id": "743de9f4",
   "metadata": {},
   "source": [
    "#### Folder Parameters"
   ]
  },
  {
   "cell_type": "code",
   "execution_count": null,
   "id": "3725d56f",
   "metadata": {},
   "outputs": [],
   "source": [
    "folder_list = [FolderItem(new_env,       tag='WORKSPACE',                      folder_path=project_folder),\n",
    "               FolderItem('environment', tag='ENVIRONMENT', add_to_path=False,   base_path=project_folder),\n",
    "               FolderItem('src',         tag='SOURCE',                           base_path=project_folder),\n",
    "               FolderItem('data',        tag='DATA',                             base_path=project_folder),\n",
    "               FolderItem('reference',   tag='REFERENCE',   add_to_path=False,   base_path=project_folder),\n",
    "               FolderItem('sectionary',                                        folder_path=sectionary_path)]\n",
    "\n",
    "folders = pd.DataFrame(folder_list)\n"
   ]
  },
  {
   "cell_type": "code",
   "execution_count": null,
   "id": "07ddf325",
   "metadata": {},
   "outputs": [],
   "source": [
    "folders\n"
   ]
  },
  {
   "cell_type": "code",
   "execution_count": null,
   "id": "53a33e29-7ebd-4c8d-b7ad-ffe81d735640",
   "metadata": {
    "tags": []
   },
   "outputs": [],
   "source": [
    "if install_jupyter:\n"
   ]
  },
  {
   "cell_type": "code",
   "execution_count": null,
   "id": "0c498fcb-b122-4a1f-b201-1c993c4db26e",
   "metadata": {},
   "outputs": [],
   "source": [
    "if install_xlwings:\n"
   ]
  },
  {
   "cell_type": "code",
   "execution_count": null,
   "id": "31b0298c-01ed-4931-a7f5-ba9077621024",
   "metadata": {},
   "outputs": [],
   "source": [
    "print(f'Storing environment for {new_env}')\n"
   ]
  },
  {
   "cell_type": "markdown",
   "id": "a58c3302-1a0f-4a94-90c7-dd2f9f2dcd59",
   "metadata": {},
   "source": [
    "## Build Boilerplate Files"
   ]
  },
  {
   "cell_type": "markdown",
   "id": "4cdaee6b-32cd-47c9-a67e-360c745cc97b",
   "metadata": {},
   "source": [
    "### Build Jupyter lab Batch file"
   ]
  },
  {
   "cell_type": "code",
   "execution_count": null,
   "id": "f4fb6541-aaa0-428c-88d6-e319afaabf47",
   "metadata": {
    "tags": []
   },
   "outputs": [],
   "source": [
    "\n",
    "jupter_batch_file = env_folder / f'JupyterLab ({new_env}).bat'\n",
    "jupyter_batch = '\\n'.join([\n",
    "    r'CALL C:\\ProgramData\\Anaconda3\\Scripts\\activate.bat C:\\ProgramData\\Anaconda3',\n",
    "    f'CALL conda activate \"{new_env}\"',\n",
    "    f'CD \"{project_folder}\"',\n",
    "    f'{project_drive}',\n",
    "    'jupyter-lab'\n",
    "    ])\n",
    "jupter_batch_file.write_text(jupyter_batch)\n"
   ]
  },
  {
   "cell_type": "markdown",
   "id": "6d627b57-17fb-4476-954c-c292b4502931",
   "metadata": {},
   "source": [
    "### Build VS Code Batch file"
   ]
  },
  {
   "cell_type": "code",
   "execution_count": null,
   "id": "116cb72c-62ea-4484-b329-e88a6d7501de",
   "metadata": {
    "tags": []
   },
   "outputs": [],
   "source": [
    "vscode_batch_file = env_folder / f'VS Code ({new_env}).bat'\n",
    "vscode_batch = '\\n'.join([\n",
    "    r'CALL C:\\ProgramData\\Anaconda3\\Scripts\\activate.bat C:\\ProgramData\\Anaconda3',\n",
    "    f'CALL conda activate \"{new_env}\"',\n",
    "    f'CD \"{project_folder}\"',\n",
    "    f'{project_drive}',\n",
    "    f'code {new_env}.code-workspace'\n",
    "    ])\n",
    "vscode_batch_file.write_text(vscode_batch)\n"
   ]
  },
  {
   "cell_type": "markdown",
   "id": "5cbfb17b-6324-4b57-b80d-ba2d6e94c0bd",
   "metadata": {},
   "source": [
    "### Build .env file"
   ]
  },
  {
   "cell_type": "code",
   "execution_count": null,
   "id": "59aaa9b0-87c6-46d4-be0d-e9dcae51116e",
   "metadata": {
    "tags": []
   },
   "outputs": [],
   "source": [
    "folders\n"
   ]
  },
  {
   "cell_type": "code",
   "execution_count": null,
   "id": "0fff64b2-1b24-4fa8-b238-cc14c4d24b2d",
   "metadata": {
    "tags": []
   },
   "outputs": [],
   "source": [
    "folders[folders.add_to_path]\n"
   ]
  },
  {
   "cell_type": "code",
   "execution_count": null,
   "id": "32b51902-25d2-44d4-9231-65d3aa38a8b9",
   "metadata": {
    "tags": []
   },
   "outputs": [],
   "source": [
    "folders[folders.tag=='ENVIRONMENT'].folder_path\n"
   ]
  },
  {
   "cell_type": "code",
   "execution_count": null,
   "id": "2b3ff364-0cb6-453d-ae63-0c9581ece157",
   "metadata": {
    "tags": []
   },
   "outputs": [],
   "source": [
    "env_file = env_folder / '.env'\n",
    "\n",
    "env_paths = '\\n'.join('PYTHONPATH=${}' for name, path_str in path_dict.items())\n",
    "path_setter = '\\n'.join('PYTHONPATH=\"${' + name.upper() + '};${PYTHONPATH}\"'\n",
    "                        for name in path_dict.keys())\n",
    "env_text = '\\n'.join([env_paths, path_setter])\n",
    "env_file.write_text(env_text)\n"
   ]
  },
  {
   "cell_type": "code",
   "execution_count": null,
   "id": "a1993467-5425-469c-a410-1a5a60b0fc37",
   "metadata": {},
   "outputs": [],
   "source": []
  },
  {
   "cell_type": "markdown",
   "id": "2b8060ee-5e76-4257-b7ec-96e959142e2b",
   "metadata": {},
   "source": [
    "### Build Code-workspace from templatestr(env_path)"
   ]
  },
  {
   "cell_type": "code",
   "execution_count": null,
   "id": "5319a3f7-41a1-48b2-b27a-803c597192d5",
   "metadata": {
    "tags": []
   },
   "outputs": [],
   "source": [
    "data_dir = Path(r\"D:\\OneDrive - Queen's University\\Python\\Python Learning\\Environment Management\")\n",
    "\n",
    "worspace_template = data_dir / 'vscode settings templates' / 'TEMPLATE.code-workspace'\n"
   ]
  },
  {
   "cell_type": "code",
   "execution_count": null,
   "id": "f63b63b3-11ea-43db-8398-459747063602",
   "metadata": {
    "tags": []
   },
   "outputs": [],
   "source": [
    "worspace = worspace_template.read_text()\n"
   ]
  },
  {
   "cell_type": "code",
   "execution_count": null,
   "id": "cd205a37-c1d9-427a-9853-b2b57aef633f",
   "metadata": {
    "tags": []
   },
   "outputs": [],
   "source": [
    "path_dict = {\n",
    "    'WORKSPACE_FOLDER': f'\"{project_folder}\"',\n",
    "    'SOURCE_FOLDER': f'\"{source_folder}\"',\n",
    "    'SECTIONARY_FOLDER': f'\"{sectionary_path}\"'\n",
    "    }\n"
   ]
  },
  {
   "cell_type": "code",
   "execution_count": null,
   "id": "7669f89a-1d79-4295-bc2c-7a45cb4d04f2",
   "metadata": {
    "tags": []
   },
   "outputs": [],
   "source": [
    "str(env_path).replace('\\\\', '/')\n"
   ]
  },
  {
   "cell_type": "code",
   "execution_count": null,
   "id": "173142c0-b63d-47c9-8df5-13da33129af0",
   "metadata": {
    "tags": []
   },
   "outputs": [],
   "source": [
    "env_manage_base = Path(r\"D:\\OneDrive - Queen's University\\Python\\Python Learning\\Environment Management\")\n",
    "code_workspace_template = env_manage_base / 'vscode settings templates' / 'TEMPLATE.code-workspace'\n"
   ]
  },
  {
   "cell_type": "code",
   "execution_count": null,
   "id": "139c005b-b9a2-47c1-9f23-e82b017000e7",
   "metadata": {
    "tags": []
   },
   "outputs": [],
   "source": [
    "template = code_workspace_template.read_text()\n"
   ]
  },
  {
   "cell_type": "code",
   "execution_count": null,
   "id": "7fd15970-4f01-4dc9-ac63-a4dfe741726e",
   "metadata": {
    "tags": []
   },
   "outputs": [],
   "source": [
    "template = template.replace('%env_path%', str(env_path).replace('\\\\', '/'))\n"
   ]
  },
  {
   "cell_type": "code",
   "execution_count": null,
   "id": "77004bda-4a17-4c94-bc08-8d3c4556f3d6",
   "metadata": {},
   "outputs": [],
   "source": []
  },
  {
   "cell_type": "raw",
   "id": "61b38ab3-26c5-4164-bc0d-1aa1ab92c7b6",
   "metadata": {},
   "source": [
    "        \"python.analysis.extraPaths\": [\n",
    "            \"${workspaceFolder}/src\",\n",
    "            \"${workspaceFolder}\",\n",
    "            \"../../sectionary package/src\"\n",
    "        ],\n",
    "        \"python.autoComplete.extraPaths\": [\n",
    "            \"${workspaceFolder}/src\",\n",
    "            \"${workspaceFolder}\",\n",
    "            \"../../sectionary package/src\"\n",
    "        ],\n"
   ]
  },
  {
   "cell_type": "code",
   "execution_count": null,
   "id": "0ff20ccc-c66f-438e-bcdc-f7ec7941ad47",
   "metadata": {
    "tags": []
   },
   "outputs": [],
   "source": [
    "project_folder = Path(r\"D:\\OneDrive - Queen's University\\Python\\Projects\\ToDoIst Projects\\Turkey\")\n",
    "\n",
    "env_folder = add_folder(project_folder, 'environment')\n",
    "source_folder = add_folder(project_folder, 'src')\n",
    "\n",
    "project_drive = project_folder.drive\n"
   ]
  },
  {
   "cell_type": "code",
   "execution_count": null,
   "id": "0a1fe6de-5d9a-4ff2-8055-c34ce3359daa",
   "metadata": {
    "tags": []
   },
   "outputs": [],
   "source": [
    "sectionary_path = project_folder / '..' / '..' / 'sectionary package' / 'src'\n",
    "sectionary_path = sectionary_path.resolve()\n"
   ]
  },
  {
   "cell_type": "code",
   "execution_count": null,
   "id": "9fda7e4d-de0a-4541-a73c-104c18a2e8fd",
   "metadata": {
    "tags": []
   },
   "outputs": [],
   "source": [
    "path_dict = {\n",
    "    'WORKSPACE_FOLDER': f'\"{project_folder}\"',\n",
    "    'SOURCE_FOLDER': f'\"{source_folder}\"',\n",
    "    'SECTIONARY_FOLDER': f'\"{sectionary_path}\"'\n",
    "    }\n"
   ]
  },
  {
   "cell_type": "raw",
   "id": "e7ce5bb2-6350-402c-90dc-52bf8109a9c5",
   "metadata": {},
   "source": [
    "        \"python.analysis.extraPaths\": \"%analysis.extraPaths%\",\n",
    "        \"python.autoComplete.extraPaths\": \"%autoComplete.extraPaths%\",\n"
   ]
  },
  {
   "cell_type": "code",
   "execution_count": null,
   "id": "6be6595c-ec29-4a80-9d08-cc81dc6f1519",
   "metadata": {},
   "outputs": [],
   "source": [
    "template.replace('%analysis.extraPaths%', str(text))\n"
   ]
  },
  {
   "cell_type": "code",
   "execution_count": null,
   "id": "40a34ac3-dca1-4b50-ab03-9db5256964e4",
   "metadata": {},
   "outputs": [],
   "source": [
    "template.replace('%autoComplete.extraPaths%', str(text))\n"
   ]
  },
  {
   "cell_type": "raw",
   "id": "d6b907b8-f0dc-42ad-940e-f52bdb686e76",
   "metadata": {},
   "source": [
    "              \"env\": {\"PYTHONPATH\": \"${fileDirname};${workspaceFolder};${workspaceFolder}\\\\..\\\\..\\\\sectionary package\\\\src;${env:PYTHONPATH}\"\n"
   ]
  },
  {
   "cell_type": "raw",
   "id": "46fac944-b6b6-444f-a30a-b6ef7832a199",
   "metadata": {},
   "source": [
    "              \"env\": {\"PYTHONPATH\": \"%PYTHONPATH%\"}\n"
   ]
  },
  {
   "cell_type": "raw",
   "id": "ebdb2c27-3f88-4157-a249-cd5d53d00626",
   "metadata": {},
   "source": [
    "            \"PYTHONPATH\": \"${fileDirname};${workspaceFolder};${workspaceFolder}/../../sectionary package/src;${env:PYTHONPATH}\"\n"
   ]
  },
  {
   "cell_type": "raw",
   "id": "8e530ddf-fb18-474a-8cdc-b3cb7a98d7e1",
   "metadata": {},
   "source": [
    "            \"PYTHONPATH\": \"%PYTHONPATH%\"\n"
   ]
  },
  {
   "cell_type": "raw",
   "id": "b506b6ca-b780-45f7-b350-651755d80eb1",
   "metadata": {},
   "source": [
    "\"PYTHONPATH\": \"${fileDirname};${workspaceFolder};${workspaceFolder}/../../sectionary package/src;${env:PYTHONPATH}\",\n",
    "\"env\": {\"PYTHONPATH\": \"${fileDirname};${workspaceFolder};${workspaceFolder}\\\\..\\\\..\\\\sectionary package\\\\src;${env:PYTHONPATH}\"\n"
   ]
  },
  {
   "cell_type": "raw",
   "id": "82395918-00d9-462d-89ca-eb73596cc6e4",
   "metadata": {},
   "source": [
    "            \"PythonShell\": {\n",
    "                \"path\": \"C:/ProgramData/Anaconda3/envs/plan_check_tools/python.exe\",\n"
   ]
  },
  {
   "cell_type": "markdown",
   "id": "e8d170ec-5fc4-4093-92bf-e1daab0843f7",
   "metadata": {
    "tags": []
   },
   "source": [
    "# Misc Reference"
   ]
  },
  {
   "cell_type": "raw",
   "id": "58e40b21-e28c-4f64-b2f3-ea4a3b80b5f1",
   "metadata": {},
   "source": [
    "########## Spyder Launch ############\n",
    "C:\\ProgramData\\Anaconda3\\pythonw.exe C:\\ProgramData\\Anaconda3\\cwp.py C:\\ProgramData\\Anaconda3\\envs\\Standard C:\\ProgramData\\Anaconda3\\envs\\Standard\\pythonw.exe C:\\ProgramData\\Anaconda3\\envs\\Standard\\Scripts\\spyder-script.py\n",
    "\n",
    "########## Jupyter Lab Launch ############\n",
    "C:\\ProgramData\\Anaconda3\\python.exe C:\\ProgramData\\Anaconda3\\cwp.py C:\\ProgramData\\Anaconda3\\envs\\Standard C:\\ProgramData\\Anaconda3\\envs\\Standard\\pythonw.exe C:\\ProgramData\\Anaconda3\\envs\\\\Standard\\Scripts\\jupyter-lab-script.py \"D:\\OneDrive - Queen's University\\Python\\Projects\"\n",
    "\n",
    "\"D:\\OneDrive - Queen's University\\Python\\Projects\"\n",
    "%ALLUSERSPROFILE%\\Anaconda3\\Menu\\jupyter.ico\n",
    "%ALLUSERSPROFILE%\\Anaconda3\\envs\\Standard\\Scripts\\spyder.ico\n"
   ]
  },
  {
   "cell_type": "code",
   "execution_count": null,
   "id": "60951394",
   "metadata": {},
   "outputs": [],
   "source": [
    "a = console_command('conda env export --from-history')\n",
    "print(a)\n"
   ]
  },
  {
   "cell_type": "code",
   "execution_count": null,
   "id": "20652bd4",
   "metadata": {},
   "outputs": [],
   "source": [
    "new_env = 'Standard'\n",
    "c = f'cmd /c conda activate {new_env}&&conda env export --from-history'\n"
   ]
  },
  {
   "cell_type": "code",
   "execution_count": null,
   "id": "fc456a09",
   "metadata": {},
   "outputs": [],
   "source": [
    "c = ''.join([\n",
    "    r'cmd /c C:\\ProgramData\\Anaconda3\\Scripts\\activate.bat ',\n",
    "    r'C:\\ProgramData\\Anaconda3',\n",
    "    r'&&',\n",
    "    r'conda activate Standard',\n",
    "    r'&&',\n",
    "    r'conda env export --from-history'\n",
    "    ])\n"
   ]
  },
  {
   "cell_type": "code",
   "execution_count": null,
   "id": "81b8931d",
   "metadata": {},
   "outputs": [],
   "source": [
    "output = subprocess.run(c, shell=True, capture_output=True,\n",
    "                        check=True)\n"
   ]
  },
  {
   "cell_type": "code",
   "execution_count": null,
   "id": "4808129b",
   "metadata": {},
   "outputs": [],
   "source": [
    "print(output.stdout.decode())\n"
   ]
  },
  {
   "cell_type": "code",
   "execution_count": null,
   "id": "8ca54991",
   "metadata": {},
   "outputs": [],
   "source": [
    "c = ['cmd', r'/c',\n",
    "     r'C:\\ProgramData\\Anaconda3\\Scripts\\activate.bat',\n",
    "     r'C:\\ProgramData\\Anaconda3',\n",
    "     '&&',\n",
    "     'conda', 'activate Standard',\n",
    "     '&&',\n",
    "     'conda', 'env', 'export', '--from-history']\n"
   ]
  },
  {
   "cell_type": "code",
   "execution_count": null,
   "id": "1d463deb",
   "metadata": {},
   "outputs": [],
   "source": [
    "output = subprocess.run(c, shell=True, capture_output=True,\n",
    "                        check=True)\n"
   ]
  },
  {
   "cell_type": "code",
   "execution_count": null,
   "id": "3d1daf58",
   "metadata": {},
   "outputs": [],
   "source": [
    "c = ['cmd', r'/c',\n",
    "     r'C:\\ProgramData\\Anaconda3\\Scripts\\activate.bat',\n",
    "     r'C:\\ProgramData\\Anaconda3',\n",
    "     '&&',\n",
    "     'conda', 'activate Standard',\n",
    "     '&&',\n",
    "     'conda', 'env', 'export', '--from-history']\n",
    "a = console_command(c)\n",
    "print(a)\n"
   ]
  },
  {
   "cell_type": "markdown",
   "id": "7447e43b",
   "metadata": {},
   "source": [
    "## cmd\n",
    "Starts a new instance of the command interpreter, Cmd.exe. If used without parameters, cmd displays the version and copyright information of the operating system.\n",
    "\n",
    "#### Syntax\n",
    "`cmd [/c|/k] [/s] [/q] [/d] [/a|/u] [/t:{<b><f> | <f>}] [/e:{on | off}] [/f:{on | off}] [/v:{on | off}] [<string>]`\n",
    "\n",
    "#### Parameters\n",
    "\n",
    "|Parameter|Description|\n",
    "|-|-|\n",
    "|/c|Carries out the command specified by <string> and then exits the command processor.|\n",
    "|/k|Carries out the command specified by <string> and keeps the command processor running.|\n",
    "|/s|When used with /c or /k, triggers special non-parsing rules that strip the first and last quotes (\") around the <string> but leaves the rest of the command unchanged.|\n",
    "|/q|Turns echo off.|\n",
    "|/d|Disables execution of AutoRun commands.|\n",
    "|/a|Formats command output as American National Standards Institute (ANSI).|\n",
    "|/u|Formats command output as Unicode.|\n",
    "|/t: {\\<b>\\<f> \\| \\<f>}|Sets the background (*b*) and foreground (*f*) colors.|\n",
    "|/e:on|Enables command extensions.|\n",
    "|/e:off|Disables commands extensions.|\n",
    "|/f:on|Enables file and directory name completion.|\n",
    "|/f:off|Disables file and directory name completion.|\n",
    "|/v:on|Enables delayed environment variable expansion.|\n",
    "|/v:off|Disables delayed environment variable expansion.|\n",
    "|\\<string>|Specifies the command you want to carry out.|\n",
    "|/?|Displays help at the command prompt.|\n",
    "\n",
    "The following table lists valid hexadecimal digits that you can use as the values for \\<b> and \\<f>:\n",
    "\n",
    "|Value|Color|\n",
    "|-|-|\n",
    "|0|Black|\n",
    "|1|Blue|\n",
    "|2|Green|\n",
    "|3|Aqua|\n",
    "|4|Red|\n",
    "|5|Purple|\n",
    "|6|Yellow|\n",
    "|7|White|\n",
    "|8|Gray|\n",
    "|9|Light blue|\n",
    "|a|Light green|\n",
    "|b|Light aqua|\n",
    "|c|Light red|\n",
    "|d|Light purple|\n",
    "|e|Light yellow|\n",
    "|f|Bright white\n",
    "\n",
    "#### Remarks\n",
    "- To redirect command output to the input of another command, use the pipe (`|`) character. For example:\n",
    "> `<command1> | <command2>`\n",
    "\n",
    "- To redirect command output to a file, use the greater-than angle bracket `>` character. For example:\n",
    "\n",
    "`<command1> > <file1.txt>`\n",
    "To use multiple commands for `<string>`, separate them by the command separator `&&`. For example:\n",
    "> `<command1>&&<command2>&&<command3>`\n",
    "\n",
    "- If the directory path, files, or any information you supply contains spaces, you must use double quotation marks (`\"``) around the text, such as `\"Computer Name\"`. For example:\n",
    "> `mkdir Test&&mkdir \"Test 2\"&&move \"Test 2\" Test`\n",
    "> \n",
    "- You must use quotation marks around the following special characters: & \\< > [ ] | { } ^ = ; ! ' + , ` ~ [white space].\n",
    "\n",
    "- If you specify `/c` or `/k`, the `cmd` processes, the remainder of `<string>`, and the quotation marks are preserved only if all of the following conditions are met:\n",
    "   - You don't also use `/s`.\n",
    "   - You use exactly one set of quotation marks.\n",
    "   - You don't use any special characters within the quotation marks (for example: & <    ( ) @ ^ | ).\n",
    "   - You use one or more white-space characters within the quotation marks.\n",
    "   - The `<string>` within quotation marks is the name of an executable file.\n",
    "\n",
    "If the previous conditions aren't met, `<string>` is processed by examining the first character to verify whether it's an opening quotation mark. If the first character is an opening quotation mark, it's stripped along with the closing quotation mark. Any text following the closing quotation marks is preserved."
   ]
  },
  {
   "cell_type": "markdown",
   "id": "c6ef8d32",
   "metadata": {},
   "source": [
    "## Common Packages\n",
    "> **Primary Packages**\n",
    "> - numpy\n",
    "> - pandas\n",
    "> - openpyxl\n",
    "> - matplotlib\n",
    "> - seaborn\n",
    "> - pysimplegui\n",
    "\n",
    "> **iPython Packages**\n",
    "> - ipykernel\n",
    "> - ipywidgets\n",
    "> - jupyterlab\n",
    "> - nb_conda_kernels\n",
    "> - spyder\n",
    "\n",
    "> **SciPy Packages**\n",
    "> - scipy\n",
    "> - scikit-image\n",
    "> \n",
    "> **Specialty Packages**\n",
    "> - networkx\n",
    "> - pygraphviz\n",
    "> - shapely\n",
    "> - pydicom\n",
    "> - pyodbc\n",
    "> - parsedatetime\n",
    "\n",
    "> **MS Office & Windows related Packages**\n",
    "> - xlwings\n",
    "> - pywin32\n",
    "> - docx2txt\n",
    "> - zipfile2\n",
    "\n",
    "> **Linting Packages**\n",
    "> - pylint\n",
    "> - mypy\n",
    "> - black\n",
    "\n",
    "> **Installer**\n",
    "> - pyinstaller\n",
    "\n",
    "> **Documentation Packages**\n",
    "> - sphinx\n",
    "> - sphinx-copybutton\n",
    "> - sphinx_rtd_theme\n",
    "> - nbsphinx-link\n",
    "> - nbsphinx\n",
    "> - esbonio\n",
    "> - pandoc\n",
    "> - myst-parser\n",
    "\n",
    "> **AI Related Packages**\n",
    "> - scikit-learn\n",
    "> - neptune-client\n",
    "> - neptune-sklearn\n",
    "> - statsmodels\n",
    "> - xgboost\n",
    "> - torchvision\n",
    "> - nibabel\n",
    "> - nilearn\n"
   ]
  },
  {
   "cell_type": "markdown",
   "id": "8fb1e0b2",
   "metadata": {},
   "source": [
    "### Other Install Commands"
   ]
  },
  {
   "cell_type": "markdown",
   "id": "3b2eb818",
   "metadata": {},
   "source": [
    "#### Install Jupyter Kernel "
   ]
  },
  {
   "cell_type": "code",
   "execution_count": null,
   "id": "f222bede",
   "metadata": {},
   "outputs": [],
   "source": [
    "def install_kernel(new_env):\n",
    "    '''Install the ipython kernel in the new environment.\n",
    "\n",
    "    Args:\n",
    "        new_env (str): Name of Conda environment.\n",
    "\n",
    "    Returns:\n",
    "        str: The log output from the install.\n",
    "    '''\n",
    "    kernel_cmd = activate_environment(new_env)\n",
    "    kernel_cmd += f'python -m ipykernel install --user --name {new_env} '\n",
    "    kernel_cmd += f'--display-name \"Python ({new_env})\"'\n",
    "\n",
    "    kernel_install_log = console_command(\n",
    "        kernel_cmd,\n",
    "        AnacondaException,\n",
    "        f'Unable to install ipython kernel in \"{new_env}\"!'\n",
    "        )\n",
    "    return kernel_install_log\n"
   ]
  },
  {
   "cell_type": "markdown",
   "id": "1f66c852",
   "metadata": {},
   "source": [
    "#### Configure xlwings"
   ]
  },
  {
   "cell_type": "code",
   "execution_count": null,
   "id": "bdaef059",
   "metadata": {},
   "outputs": [],
   "source": [
    "def configure_xlwings(new_env: str)->str:\n",
    "    '''Install and configure xlwings binaries for environment.\n",
    "\n",
    "    NOTE: This is still a works in progress.\n",
    "\n",
    "    Args:\n",
    "        new_env (str): Name of Conda environment.\n",
    "\n",
    "    Returns:\n",
    "        str: The log output from the install.\n",
    "    '''\n",
    "    activate_cmd = activate_environment(new_env)\n",
    "\n",
    "    logger.debug('Updating Xlwings licence for %s', new_env)\n",
    "    xlwings_license = activate_cmd + 'xlwings license update -k noncommercial'\n",
    "    license_log = console_command(\n",
    "        xlwings_license, AnacondaException,\n",
    "        f'Unable to set xlwings license in environment {new_env}')\n",
    "\n",
    "    logger.debug('Installing Xlwings add-in for %s', new_env)\n",
    "    xlwings_add_in = activate_cmd + 'xlwings addin install'\n",
    "    try:\n",
    "        add_in_log = console_command(\n",
    "            xlwings_add_in, AnacondaException,\n",
    "            f'Unable to install xlwings addin in environment {new_env}',\n",
    "            abort_after=2)\n",
    "    except AbortedCmdException:\n",
    "        logger.warning('Xlwings Add-in install timed out\\n'\n",
    "                       'This is likely due to insufficient rights to install '\n",
    "                       'the add-in.')\n",
    "\n",
    "    logger.debug('Creating Xlwings config file for %s', new_env)\n",
    "    xlwings_config = activate_cmd + 'xlwings config create --force'\n",
    "    config_log = console_command(\n",
    "        xlwings_config, AnacondaException,\n",
    "        f'Unable to configure xlwings in environment {new_env}')\n",
    "\n",
    "    xlwings_log = '\\n\\n'.join([license_log, add_in_log, config_log])\n",
    "    return xlwings_log\n"
   ]
  },
  {
   "cell_type": "markdown",
   "id": "d9fbb8c0",
   "metadata": {},
   "source": [
    "***The commands below hang the kernel***"
   ]
  },
  {
   "cell_type": "raw",
   "id": "f3207cf6",
   "metadata": {},
   "source": [
    "logger.setLevel(logging.DEBUG)\n",
    "output = configure_xlwings('Todoist')\n",
    "print(output)\n",
    "logger.setLevel(logging.INFO)\n"
   ]
  },
  {
   "cell_type": "code",
   "execution_count": null,
   "id": "537c25c5",
   "metadata": {},
   "outputs": [],
   "source": [
    "new_env = 'Todoist'\n",
    "activate_cmd = activate_environment(new_env)\n",
    "\n",
    "xlwings_license = activate_cmd + 'xlwings license update -k noncommercial'\n",
    "license_log = console_command(\n",
    "    xlwings_license, AnacondaException,\n",
    "    f'Unable to set xlwings license in environment {new_env}')\n",
    "\n",
    "print(license_log)\n"
   ]
  },
  {
   "cell_type": "code",
   "execution_count": null,
   "id": "a821e541",
   "metadata": {},
   "outputs": [],
   "source": [
    "cmd_str = activate_environment('Standard')\n",
    "cmd_str += 'conda env export --from-history'\n",
    "output = console_command(cmd_str)\n",
    "print(output)\n"
   ]
  },
  {
   "cell_type": "code",
   "execution_count": null,
   "id": "68adf700",
   "metadata": {},
   "outputs": [],
   "source": [
    "output = install_kernel('Todoist')\n",
    "print(output)\n"
   ]
  }
 ],
 "metadata": {
  "kernelspec": {
   "display_name": "Python 3 (ipykernel)",
   "language": "python",
   "name": "python3"
  },
  "language_info": {
   "codemirror_mode": {
    "name": "ipython",
    "version": 3
   },
   "file_extension": ".py",
   "mimetype": "text/x-python",
   "name": "python",
   "nbconvert_exporter": "python",
   "pygments_lexer": "ipython3",
   "version": "3.9.18"
  },
  "toc-autonumbering": false,
  "toc-showcode": false,
  "toc-showmarkdowntxt": false
 },
 "nbformat": 4,
 "nbformat_minor": 5
}
