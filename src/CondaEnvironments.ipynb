{
 "cells": [
  {
   "cell_type": "markdown",
   "metadata": {},
   "source": [
    "# Conda Environments\n",
    "1. Generate *.yml* files for all current Anaconda environments.\n",
    "2. Create Anaconda environments from a list or directory of Conda *.yml* files.\n"
   ]
  },
  {
   "cell_type": "code",
   "execution_count": 5,
   "metadata": {},
   "outputs": [],
   "source": [
    "from pathlib import Path\n",
    "\n",
    "import env_tools as env\n"
   ]
  },
  {
   "cell_type": "code",
   "execution_count": 6,
   "metadata": {},
   "outputs": [],
   "source": [
    "base_path = Path(\"D:\\OneDrive - Queen's University\\Python\\Python Learning & Reference\\Environment Management\")\n",
    "env_folder = base_path / \"Environment Info Files\" / \"Home envs Jan 28 2024\""
   ]
  },
  {
   "cell_type": "code",
   "execution_count": 7,
   "metadata": {},
   "outputs": [
    {
     "data": {
      "text/plain": [
       "['base',\n",
       " 'Graphs',\n",
       " 'C2',\n",
       " 'EDW_QA',\n",
       " 'FormExtraction',\n",
       " 'McMedHack',\n",
       " 'Standard',\n",
       " 'TestPathDev',\n",
       " 'TestProject',\n",
       " 'sectionary',\n",
       " 'sectionaryDev',\n",
       " 'variandb_relations']"
      ]
     },
     "execution_count": 7,
     "metadata": {},
     "output_type": "execute_result"
    }
   ],
   "source": [
    "all_envs = [e[0] for e in env.list_environments()]\n",
    "all_envs"
   ]
  },
  {
   "cell_type": "code",
   "execution_count": 9,
   "metadata": {},
   "outputs": [],
   "source": [
    "for env_name in all_envs:\n",
    "    json_file_name = f'{env_name}_packages.json'\n",
    "    if env_name == 'base':\n",
    "        continue\n",
    "    env.save_env_specs(env_name, env_folder, spec_file=False, yml_file=True,\n",
    "                       history_json=json_file_name)"
   ]
  }
 ],
 "metadata": {
  "kernelspec": {
   "display_name": "Standard",
   "language": "python",
   "name": "python3"
  },
  "language_info": {
   "codemirror_mode": {
    "name": "ipython",
    "version": 3
   },
   "file_extension": ".py",
   "mimetype": "text/x-python",
   "name": "python",
   "nbconvert_exporter": "python",
   "pygments_lexer": "ipython3",
   "version": "3.9.18"
  }
 },
 "nbformat": 4,
 "nbformat_minor": 2
}
