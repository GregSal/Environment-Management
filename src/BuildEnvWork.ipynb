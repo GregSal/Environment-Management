{
 "cells": [
  {
   "cell_type": "markdown",
   "id": "90ec1172-770f-4818-a960-1096827384ff",
   "metadata": {},
   "source": [
    "# Generate a Project Template"
   ]
  },
  {
   "cell_type": "markdown",
   "id": "0ebd7be0-ad2c-42d9-b7e7-0dc6940542ef",
   "metadata": {},
   "source": [
    "## Imports"
   ]
  },
  {
   "cell_type": "code",
   "execution_count": 17,
   "id": "87dd1769-5cad-4822-8276-4d854912f055",
   "metadata": {
    "tags": []
   },
   "outputs": [],
   "source": [
    "from typing import List\n",
    "\n",
    "import subprocess\n",
    "import json\n",
    "import re\n",
    "from pathlib import Path\n",
    "from dataclasses import dataclass, InitVar, field\n",
    "\n",
    "import pandas as pd\n"
   ]
  },
  {
   "cell_type": "code",
   "execution_count": 2,
   "id": "46a2105e-8ada-43b0-82b1-9781e1005731",
   "metadata": {
    "tags": []
   },
   "outputs": [],
   "source": [
    "class ProjectException(Exception):\n",
    "    '''Base Exception for projects module.'''\n",
    "    pass\n",
    "\n",
    "\n",
    "class AnacondaException(ProjectException):\n",
    "    '''Errors related to `conda` calls.'''\n",
    "    pass\n",
    "\n",
    "\n",
    "class PathException(ProjectException):\n",
    "    '''Errors related to directory and file specification.'''\n",
    "    pass"
   ]
  },
  {
   "cell_type": "markdown",
   "id": "849c6608-affe-47b2-9c55-9cbd872dc6d0",
   "metadata": {},
   "source": [
    "## Utility Functions"
   ]
  },
  {
   "cell_type": "markdown",
   "id": "627438b7-2e37-4520-a473-63b71720a80f",
   "metadata": {
    "tags": []
   },
   "source": [
    "### Console command processing"
   ]
  },
  {
   "cell_type": "code",
   "execution_count": 3,
   "id": "075d9945-a5ec-4b86-9350-a7f66d8f445b",
   "metadata": {
    "tags": []
   },
   "outputs": [],
   "source": [
    "def error_check(output: subprocess.CompletedProcess, error_type: Exception,\n",
    "                error_msg: str):\n",
    "    '''Check for errors in subprocess output.\n",
    "\n",
    "    if a `CalledProcessError` error occured raise the error, with the\n",
    "    error_msg text.\n",
    "    Args:\n",
    "        output (subprocess.CompletedProcess): subprocess output to be tested.\n",
    "        error_type (Exception): The type of exception to raise if an error\n",
    "            occurs.\n",
    "        error_msg (str): The Error message to include if required.\n",
    "    Raises:\n",
    "        error_type: If subprocess generated an error.\n",
    "    '''\n",
    "    try:\n",
    "        output.check_returncode()\n",
    "    except subprocess.CalledProcessError as err:\n",
    "        msg = '\\n'.join([error_msg, output.stderr.decode()])\n",
    "        raise AnacondaException(msg) from err\n"
   ]
  },
  {
   "cell_type": "code",
   "execution_count": 4,
   "id": "dcfec1c0-4dc0-428f-b864-6f41ac6e4174",
   "metadata": {
    "tags": []
   },
   "outputs": [],
   "source": [
    "def console_command(cmd_str: str, error_type: Exception, error_msg: str)->str:\n",
    "    '''Run a system console command.\n",
    "\n",
    "    Run the command. Check for errors and raise the appropriate error if\n",
    "    necessary.\n",
    "    If no error, return the output from the result of running the console\n",
    "    command.\n",
    "\n",
    "    Args:\n",
    "        cmd_str (str): The console command to execute.\n",
    "            command.\n",
    "        error_type (Exception): The type of exception to raise if an error\n",
    "            occurs.\n",
    "        error_msg (str): The Error message to include if required.\n",
    "\n",
    "    Returns:\n",
    "        str: The log output from running the console command.\n",
    "    '''\n",
    "    cmd_list = cmd_str.split(' ')\n",
    "    output = subprocess.run(cmd_list, shell=True, capture_output=True)\n",
    "    # check for errors\n",
    "    error_check(output, error_type, error_msg)\n",
    "    cmd_log = output.stdout.decode()\n",
    "    return cmd_log\n"
   ]
  },
  {
   "cell_type": "code",
   "execution_count": 5,
   "id": "fe107bcb-5d6c-481f-9de1-f8be3fcd9e91",
   "metadata": {
    "tags": []
   },
   "outputs": [],
   "source": [
    "def add_folder(base: Path, name: str)->Path:\n",
    "    '''Make a subdirectory under base.\n",
    "\n",
    "    Generates a path to the subdirectory.\n",
    "    If it doesn't exist create it.\n",
    "\n",
    "    Args:\n",
    "        base (Path): The top folder (parent to the subdirectory).\n",
    "        name (str): The name of the subdirectory.\n",
    "\n",
    "    Returns:\n",
    "        Path: The path to the subdirectory.\n",
    "    '''\n",
    "    sub_folder = base / name\n",
    "    if not sub_folder.exists():\n",
    "        sub_folder.mkdir()\n",
    "    return sub_folder\n"
   ]
  },
  {
   "cell_type": "markdown",
   "id": "f4247a8a-b752-4304-868b-48779c33e60d",
   "metadata": {
    "tags": []
   },
   "source": [
    "### Anaconda utilities"
   ]
  },
  {
   "cell_type": "markdown",
   "id": "74a71b1b-9e9b-42a0-8f7c-746ab550f897",
   "metadata": {},
   "source": [
    "#### Start Anaconda"
   ]
  },
  {
   "cell_type": "code",
   "execution_count": 6,
   "id": "685f451f-0c6a-4c02-94e8-568bcdd29275",
   "metadata": {
    "tags": []
   },
   "outputs": [],
   "source": [
    "def start_anaconda():\n",
    "    anaconda_launcher = r'C:\\ProgramData\\Anaconda3\\Scripts\\activate.bat'\n",
    "    output = console_command(anaconda_launcher, AnacondaException,\n",
    "                             'Unable to start Anaconda')\n",
    "    return output\n"
   ]
  },
  {
   "cell_type": "markdown",
   "id": "dd7a1567-fcd5-418c-9aac-883643acea6b",
   "metadata": {},
   "source": [
    "#### Activate an environment"
   ]
  },
  {
   "cell_type": "code",
   "execution_count": 7,
   "id": "801547f4-bb63-4fb2-ae50-4b82f32c8e6f",
   "metadata": {
    "tags": []
   },
   "outputs": [],
   "source": [
    "def activate_environment(new_env):\n",
    "    start_anaconda()\n",
    "    anaconda_activate = f'conda activate {new_env}'\n",
    "    output = console_command(anaconda_activate, AnacondaException,\n",
    "                             f'Unable to activate environment {new_env}')\n",
    "    return output\n"
   ]
  },
  {
   "cell_type": "markdown",
   "id": "990330f1-fe54-43d6-ac96-65f73b3c69ad",
   "metadata": {},
   "source": [
    "#### List Anaconda environments"
   ]
  },
  {
   "cell_type": "code",
   "execution_count": 8,
   "id": "439b0302-b6d8-49e3-85ad-2aa75e267b34",
   "metadata": {
    "tags": []
   },
   "outputs": [],
   "source": [
    "def list_environments():\n",
    "    conda_envs = r'conda info --envs --json'\n",
    "    env_list = console_command(conda_envs, AnacondaException,\n",
    "                               'Unable to get Anaconda environments')\n",
    "\n",
    "    return env_list\n"
   ]
  },
  {
   "cell_type": "code",
   "execution_count": 9,
   "id": "7395cbc2",
   "metadata": {},
   "outputs": [],
   "source": [
    "def list_environments():\n",
    "    env_pattern = re.compile(\n",
    "        r'(?P<name>'  # Start of *name* group.\n",
    "        r'[a-z0-9_]'  # Name begins with letter, number or _.\n",
    "        r'.+?'        # All text until 2 or more spaces are encountered\n",
    "        r')'          # End of *name* group.\n",
    "        r'[ *]{2,}'   # 2 or more spaces or * in a row.\n",
    "        r'(?P<path>'  # Start of *path* group.\n",
    "        r'[A-Z]:'     # Drive letter, followed by a :.\n",
    "        r'[^\\r\\n]*'   # Remaining text before the end of the line.\n",
    "        r')',         # End of *path* group.\n",
    "        flags=re.IGNORECASE)\n",
    "\n",
    "    start_anaconda()\n",
    "    conda_envs = r'conda info --envs'\n",
    "    env_list = console_command(conda_envs, AnacondaException,\n",
    "                               'Unable to get Anaconda environments')\n",
    "    if env_list:\n",
    "        env_info = {name: path for name, path in env_pattern.findall(env_list)}\n",
    "    else:\n",
    "        env_info = None\n",
    "    return env_info\n"
   ]
  },
  {
   "cell_type": "code",
   "execution_count": 10,
   "id": "d9c78f74",
   "metadata": {},
   "outputs": [],
   "source": [
    "def save_env_specs(new_env: str, env_folder: Path):\n",
    "    '''Store *spec* and *.yml* for the environment.\n",
    "\n",
    "    Args:\n",
    "        new_env (str): Name of Conda environment.\n",
    "        env_folder (str): Path to the project's environment folder.\n",
    "    '''\n",
    "    start_anaconda()\n",
    "\n",
    "    spec_file = env_folder / f'{new_env}_specfile.txt'\n",
    "    save_spec_cmd = ' '.join([f'conda list --explicit',\n",
    "                              f'--name {new_env} >',\n",
    "                              str(spec_file)])\n",
    "    console_command(save_spec_cmd, AnacondaException,\n",
    "                    f'Error saving {new_env} environment spec file.')\n",
    "\n",
    "    full_yml_file = env_folder / f'{new_env}_FULL.yml'\n",
    "    save_full_yml = ' '.join([f'conda env export --name {new_env} --file',\n",
    "                              str(full_yml_file)])\n",
    "    console_command(save_full_yml, AnacondaException,\n",
    "                    f'Error saving {new_env} full .yml file.')\n",
    "\n",
    "    history_yml_file = env_folder / f'{new_env}.json'\n",
    "    save_yml = ' '.join(['conda env export --from-history --json'\n",
    "                         f' --name {new_env}',\n",
    "                         '>',\n",
    "                          str(history_yml_file)])\n",
    "    console_command(save_yml, AnacondaException,\n",
    "                    f'Error saving {new_env} history .json '\n",
    "                    f'to {str(history_yml_file)}.')\n"
   ]
  },
  {
   "cell_type": "markdown",
   "id": "96813fd2-8c67-4a50-9cb8-2222b3aaa4e9",
   "metadata": {},
   "source": [
    "#### Remove an Anaconda environment"
   ]
  },
  {
   "cell_type": "code",
   "execution_count": 11,
   "id": "33d521e9-7064-4a5f-bd9b-67bfb12d895b",
   "metadata": {
    "tags": []
   },
   "outputs": [],
   "source": [
    "def remove_environment(del_env):\n",
    "    start_anaconda()\n",
    "    output = console_command('conda deactivate', AnacondaException,\n",
    "                             'Error deactivating environment.')\n",
    "    delete_cmd = f'conda remove -y --name {del_env} --all'\n",
    "    uninstall_log = console_command(delete_cmd, AnacondaException,\n",
    "                                    f'Unable to delete environment {del_env}')\n",
    "    return uninstall_log\n"
   ]
  },
  {
   "cell_type": "markdown",
   "id": "645f3d5d-91bc-4a2a-b92c-79774aa6d5b6",
   "metadata": {},
   "source": [
    "#### Save environment specs"
   ]
  },
  {
   "cell_type": "markdown",
   "id": "51e6cc26-863b-420e-8653-927ab7f7dad2",
   "metadata": {},
   "source": [
    "(EDW_QA) C:\\Users\\smoke>conda env export -h\n",
    "usage: conda-env-script.py export [-h] [-c CHANNEL] [--override-channels] [-n ENVIRONMENT | -p PATH] [-f FILE]\n",
    "                                  [--no-builds] [--ignore-channels] [--json] [-v] [-q] [--from-history]\n",
    "\n",
    "Export a given environment\n",
    "\n",
    "optional arguments:\n",
    "  -h, --help            Show this help message and exit.\n",
    "  -c CHANNEL, --channel CHANNEL\n",
    "                        Additional channel to include in the export\n",
    "  --override-channels   Do not include .condarc channels\n",
    "  -f FILE, --file FILE  File name or path for the exported environment. Note: This will silently overwrite any\n",
    "                        existing file of the same name in the current directory.\n",
    "  --no-builds           Remove build specification from dependencies\n",
    "  --ignore-channels     Do not include channel names with package names.\n",
    "  --from-history        Build environment spec from explicit specs in history\n",
    "\n",
    "Target Environment Specification:\n",
    "  -n ENVIRONMENT, --name ENVIRONMENT\n",
    "                        Name of environment.\n",
    "  -p PATH, --prefix PATH\n",
    "                        Full path to environment location (i.e. prefix).\n",
    "\n",
    "Output, Prompt, and Flow Control Options:\n",
    "  --json                Report all output as json. Suitable for using conda programmatically.\n",
    "  -v, --verbose         Can be used multiple times. Once for detailed output, twice for INFO logging, thrice for DEBUG\n",
    "                        logging, four times for TRACE logging.\n",
    "  -q, --quiet           Do not display progress bar.\n",
    "\n",
    "examples:\n",
    "    conda env export\n",
    "    conda env export --file SOME_FILE\n"
   ]
  },
  {
   "cell_type": "code",
   "execution_count": 19,
   "id": "387894ac-3f8d-4170-929b-21827cd45942",
   "metadata": {
    "tags": []
   },
   "outputs": [],
   "source": [
    "save_env_specs('Standard', Path(r'C:\\temp'))\n"
   ]
  },
  {
   "cell_type": "markdown",
   "id": "3bf74d50-6a73-4c4b-82ee-faebdaf0e79d",
   "metadata": {},
   "source": [
    "### Other Install Commands"
   ]
  },
  {
   "cell_type": "markdown",
   "id": "ca90226c-488e-46f9-95c1-3dd282580d51",
   "metadata": {},
   "source": [
    "#### Install Jupyter Kernel "
   ]
  },
  {
   "cell_type": "code",
   "execution_count": 12,
   "id": "8d414166-6f59-4901-b0fb-ca7495271570",
   "metadata": {
    "tags": []
   },
   "outputs": [],
   "source": [
    "def install_kernel(new_env):\n",
    "    '''Install the ipython kernel in the new environment.\n",
    "\n",
    "    Args:\n",
    "        new_env (str): Name of Conda environment.\n",
    "\n",
    "    Returns:\n",
    "        str: The log output from the install.\n",
    "    '''\n",
    "    start_anaconda()\n",
    "    activate_environment(new_env)\n",
    "    kernel_cmd = ''.join([\n",
    "        'python -m ipykernel install --user --name',\n",
    "        new_env,\n",
    "        '--display-name',\n",
    "        f'\"Python ({new_env})\"'\n",
    "        ])\n",
    "    kernel_install_log = console_command(\n",
    "        kernel_cmd,\n",
    "        AnacondaException,\n",
    "        f'Unable to install ipython kernel in \"{new_env}\"!'\n",
    "        )\n",
    "    return kernel_install_log\n"
   ]
  },
  {
   "cell_type": "markdown",
   "id": "75e73384-9b33-43f5-87e7-1c734052595d",
   "metadata": {},
   "source": [
    "#### Configure xlwings"
   ]
  },
  {
   "cell_type": "code",
   "execution_count": 13,
   "id": "109a921f-483e-4e9b-8311-31bfbf541a10",
   "metadata": {
    "tags": []
   },
   "outputs": [],
   "source": [
    "def configure_xlwings(new_env: str)->str:\n",
    "    '''Install and configure xlwings binaries for environment.\n",
    "\n",
    "    Args:\n",
    "        new_env (str): Name of Conda environment.\n",
    "\n",
    "    Returns:\n",
    "        str: The log output from the install.\n",
    "    '''\n",
    "    start_anaconda()\n",
    "    activate_environment(new_env)\n",
    "    xlwings_license = 'xlwings license update -k noncommercial'\n",
    "    license_log = console_command(\n",
    "        xlwings_license, AnacondaException,\n",
    "        f'Unable to set xlwings license in environment {new_env}')\n",
    "    xlwings_addin = 'xlwings addin install'\n",
    "    addin_log = console_command(\n",
    "        xlwings_addin, AnacondaException,\n",
    "        f'Unable to install xlwings addin in environment {new_env}')\n",
    "    xlwings_config = 'xlwings config create --force'\n",
    "    config_log = console_command(\n",
    "        xlwings_config, AnacondaException,\n",
    "        f'Unable to configure xlwings in environment {new_env}')\n",
    "    xlwing_log = '\\n\\n'.join([license_log, addin_log, config_log])\n",
    "    return xlwing_log\n"
   ]
  },
  {
   "cell_type": "markdown",
   "id": "6ab28087-1489-4440-9700-efcd3a2c8f49",
   "metadata": {},
   "source": [
    "### Class to hold information on folders related to the package."
   ]
  },
  {
   "cell_type": "code",
   "execution_count": 14,
   "id": "1e183361-6e3e-4184-8713-0152ff47375d",
   "metadata": {
    "tags": []
   },
   "outputs": [],
   "source": [
    "# FIXME This class build the folder when the instance is defined.\n",
    "# This should happen at a later time.\n",
    "@dataclass\n",
    "class FolderItem:\n",
    "    '''Manage folders related to the package.'''\n",
    "    folder_name: str\n",
    "    tag: str = ''\n",
    "    add_to_path: bool = True\n",
    "    folder_path: Path = None\n",
    "    base_path: InitVar[Path] = None\n",
    "\n",
    "    def __post_init__(self, base_path: Path):\n",
    "        '''Manage defaults for folder settings.\n",
    "\n",
    "        If not defined, base_path defaults to the current working\n",
    "        directory.  If it doesn't exists the folder is created.\n",
    "\n",
    "        If tag is not given use uppercase of folder name for tag.\n",
    "        '''\n",
    "        if not base_path:\n",
    "            base_path = Path.cwd()\n",
    "        self.set_path(base_path)\n",
    "        self.set_tag()\n",
    "\n",
    "    def set_path(self, base_path: Path):\n",
    "        '''If missing, Set the folder_path to a subdirectory of base_path.\n",
    "\n",
    "        Generates a path to the subdirectory.\n",
    "        If it doesn't exist create it.\n",
    "\n",
    "        Args:\n",
    "            base_path (Path): The top folder\n",
    "                (parent to the subdirectory).\n",
    "        '''\n",
    "        if not self.folder_path:\n",
    "            sub_folder = base_path / self.folder_name\n",
    "            if not sub_folder.exists():\n",
    "                sub_folder.mkdir()\n",
    "            self.folder_path = sub_folder\n",
    "\n",
    "    def set_tag(self):\n",
    "        '''If tag not given use uppercase of folder name.'''\n",
    "        if not self.tag:\n",
    "            self.tag = self.folder_name.upper()\n"
   ]
  },
  {
   "cell_type": "markdown",
   "id": "1ff6c7ef",
   "metadata": {},
   "source": [
    "### Package Specifier"
   ]
  },
  {
   "cell_type": "code",
   "execution_count": 18,
   "id": "ded81e85",
   "metadata": {},
   "outputs": [],
   "source": [
    "@dataclass\n",
    "class PackageSpec:\n",
    "    '''Package name and version specification.'''\n",
    "    name: str\n",
    "    version: str = ''  # Version number with optional logic\n",
    "    # if only version given use '=' for logic\n",
    "    # Version with logic examples:\n",
    "    # Equal to 2.5: \"=2.5\"\n",
    "    # Higher than 2.5: \">2.5\"\n",
    "    # Lower than 3.2: \"<3.2\"\n",
    "    # Higher than 2.5 AND Lower than 3.2: \">2.5,<3.2\"\n",
    "    # Equal to 2.5 OR Equal to 2.5 OR \"[version='2.5|3.2']\"\n",
    "    version_types = ('=', '<', '>', '[')\n",
    "    default_relation = '='\n",
    "\n",
    "    def __post_init__(self):\n",
    "        '''Manage defaults for version.\n",
    "\n",
    "        If version does not start with one of self.version_types, add\n",
    "        self.default_relation to the beginning of the version string.\n",
    "        '''\n",
    "        if self.version:\n",
    "            if not self.version.startswith(self.version_types):\n",
    "                self.version = self.default_relation + self.version\n",
    "\n",
    "    def specifier(self)->str:\n",
    "        '''Return the full package specifier for conda Install.\n",
    "\n",
    "        Combines package name and version specifier.\n",
    "        '''\n",
    "        return self.name + self.version\n",
    "\n",
    "    def __eq__(self, package_name):\n",
    "        '''True if the name of the PackageSpec matches package_name.\n",
    "        '''\n",
    "        return self.name == package_name\n"
   ]
  },
  {
   "cell_type": "markdown",
   "id": "bb950c9e-9a9a-4451-b3b4-44a6f7f02f4e",
   "metadata": {},
   "source": [
    "# Done To Here"
   ]
  },
  {
   "cell_type": "markdown",
   "id": "baea5026-a86a-4d45-a644-4b43a23b5fc3",
   "metadata": {},
   "source": [
    "## Project Parameters"
   ]
  },
  {
   "cell_type": "markdown",
   "id": "c7e168f1",
   "metadata": {},
   "source": [
    "### Packages\n",
    "<style type=\"text/css\">\n",
    ".tg  {border-collapse:collapse;border-spacing:0;}\n",
    ".tg td{border-color:black;border-style:solid;border-width:1px;font-family:Arial, sans-serif;font-size:14px;\n",
    "  overflow:hidden;padding:10px 5px;word-break:normal;}\n",
    ".tg th{border-color:black;border-style:solid;border-width:1px;font-family:Arial, sans-serif;font-size:14px;\n",
    "  font-weight:normal;overflow:hidden;padding:10px 5px;word-break:normal;}\n",
    ".tg .tg-hnrj{background-color:#C6E0B4;color:#ffffff;font-weight:bold;text-align:left;vertical-align:top}\n",
    ".tg .tg-psg0{background-color:#70AD47;color:#ffffff;font-weight:bold;text-align:left;vertical-align:top}\n",
    ".tg .tg-0blg{color:#ffffff;font-weight:bold;text-align:left;vertical-align:top}\n",
    ".tg .tg-225c{background-color:#C6E0B4;color:#ffffff;text-align:left;vertical-align:top}\n",
    ".tg .tg-7803{color:#ffffff;text-align:left;vertical-align:top}\n",
    "</style>\n",
    "<table class=\"tg\">\n",
    "<thead>\n",
    "  <tr>\n",
    "    <th class=\"tg-psg0\"><span style=\"font-weight:700;text-decoration:none;background-color:#70AD47\">Package</span></th>\n",
    "    <th class=\"tg-psg0\"><span style=\"font-weight:700;text-decoration:none;background-color:#70AD47\">Category</span></th>\n",
    "    <th class=\"tg-psg0\"><span style=\"font-weight:700;text-decoration:none;background-color:#70AD47\">Description</span></th>\n",
    "  </tr>\n",
    "</thead>\n",
    "<tbody>\n",
    "  <tr>\n",
    "    <td class=\"tg-0blg\"><span style=\"font-weight:700;text-decoration:none\">numpy</span></td>\n",
    "    <td class=\"tg-7803\"><span style=\"font-weight:400;text-decoration:none\">Data Analysis</span></td>\n",
    "    <td class=\"tg-7803\">Fundamental   package for array computing in Python</td>\n",
    "  </tr>\n",
    "  <tr>\n",
    "    <td class=\"tg-0blg\"><span style=\"font-weight:700;text-decoration:none\">pandas</span></td>\n",
    "    <td class=\"tg-7803\"><span style=\"font-weight:400;text-decoration:none\">Data Analysis</span></td>\n",
    "    <td class=\"tg-7803\">Powerful   data structures for data analysis, time series, and statistics</td>\n",
    "  </tr>\n",
    "  <tr>\n",
    "    <td class=\"tg-0blg\"><span style=\"font-weight:700;text-decoration:none\">matplotlib</span></td>\n",
    "    <td class=\"tg-7803\"><span style=\"font-weight:400;text-decoration:none\">Data Analysis</span></td>\n",
    "    <td class=\"tg-7803\">Python   plotting package</td>\n",
    "  </tr>\n",
    "  <tr>\n",
    "    <td class=\"tg-hnrj\"><span style=\"font-weight:700;text-decoration:none;background-color:#C6E0B4\"> </span></td>\n",
    "    <td class=\"tg-225c\"><span style=\"font-weight:400;text-decoration:none;background-color:#C6E0B4\"> </span></td>\n",
    "    <td class=\"tg-225c\"><span style=\"font-weight:400;text-decoration:none;background-color:#C6E0B4\"> </span></td>\n",
    "  </tr>\n",
    "  <tr>\n",
    "    <td class=\"tg-0blg\">pysimplegui</td>\n",
    "    <td class=\"tg-7803\">GUI</td>\n",
    "    <td class=\"tg-7803\">Python   GUIs for Humans. </td>\n",
    "  </tr>\n",
    "  <tr>\n",
    "    <td class=\"tg-hnrj\"><span style=\"font-weight:700;text-decoration:none;background-color:#C6E0B4\"> </span></td>\n",
    "    <td class=\"tg-225c\"><span style=\"font-weight:400;text-decoration:none;background-color:#C6E0B4\"> </span></td>\n",
    "    <td class=\"tg-225c\"><span style=\"font-weight:400;text-decoration:none;background-color:#C6E0B4\"> </span></td>\n",
    "  </tr>\n",
    "  <tr>\n",
    "    <td class=\"tg-0blg\">scipy</td>\n",
    "    <td class=\"tg-7803\">Data Analysis</td>\n",
    "    <td class=\"tg-7803\">Fundamental   algorithms for scientific computing in Python</td>\n",
    "  </tr>\n",
    "  <tr>\n",
    "    <td class=\"tg-0blg\"><span style=\"font-weight:700;text-decoration:none\">shapely</span></td>\n",
    "    <td class=\"tg-7803\"><span style=\"font-weight:400;text-decoration:none\">Data Analysis</span></td>\n",
    "    <td class=\"tg-7803\">Manipulation   and analysis of geometric objects</td>\n",
    "  </tr>\n",
    "  <tr>\n",
    "    <td class=\"tg-hnrj\"><span style=\"font-weight:700;text-decoration:none;background-color:#C6E0B4\"> </span></td>\n",
    "    <td class=\"tg-225c\"><span style=\"font-weight:400;text-decoration:none;background-color:#C6E0B4\"> </span></td>\n",
    "    <td class=\"tg-225c\"><span style=\"font-weight:400;text-decoration:none;background-color:#C6E0B4\"> </span></td>\n",
    "  </tr>\n",
    "  <tr>\n",
    "    <td class=\"tg-0blg\">xlwings</td>\n",
    "    <td class=\"tg-7803\">Excel</td>\n",
    "    <td class=\"tg-7803\">Interact   with Excel from Python and vice versa.</td>\n",
    "  </tr>\n",
    "  <tr>\n",
    "    <td class=\"tg-0blg\"><span style=\"font-weight:700;text-decoration:none\">openpyxl</span></td>\n",
    "    <td class=\"tg-7803\"><span style=\"font-weight:400;text-decoration:none\">Excel</span></td>\n",
    "    <td class=\"tg-7803\">A   Python library to read/write Excel 2010 xlsx/xlsm files</td>\n",
    "  </tr>\n",
    "  <tr>\n",
    "    <td class=\"tg-0blg\"><span style=\"font-weight:700;text-decoration:none\">xlrd</span></td>\n",
    "    <td class=\"tg-7803\"><span style=\"font-weight:400;text-decoration:none\">Excel</span></td>\n",
    "    <td class=\"tg-7803\">Library for   developers to extract data from Microsoft Excel (tm) .xls spreadsheet files</td>\n",
    "  </tr>\n",
    "  <tr>\n",
    "    <td class=\"tg-hnrj\"><span style=\"font-weight:700;text-decoration:none;background-color:#C6E0B4\"> </span></td>\n",
    "    <td class=\"tg-225c\"><span style=\"font-weight:400;text-decoration:none;background-color:#C6E0B4\"> </span></td>\n",
    "    <td class=\"tg-225c\"><span style=\"font-weight:400;text-decoration:none;background-color:#C6E0B4\"> </span></td>\n",
    "  </tr>\n",
    "  <tr>\n",
    "    <td class=\"tg-0blg\">pyodbc</td>\n",
    "    <td class=\"tg-7803\">Data Analysis</td>\n",
    "    <td class=\"tg-7803\">DB   API module for ODBC</td>\n",
    "  </tr>\n",
    "  <tr>\n",
    "    <td class=\"tg-0blg\"><span style=\"font-weight:700;text-decoration:none\">pydicom</span></td>\n",
    "    <td class=\"tg-7803\"><span style=\"font-weight:400;text-decoration:none\">Data Analysis</span></td>\n",
    "    <td class=\"tg-7803\">A   pure Python package for reading and writing DICOM data</td>\n",
    "  </tr>\n",
    "  <tr>\n",
    "    <td class=\"tg-0blg\"><span style=\"font-weight:700;text-decoration:none\">pymedphys</span></td>\n",
    "    <td class=\"tg-7803\"><span style=\"font-weight:400;text-decoration:none\">Data Analysis</span></td>\n",
    "    <td class=\"tg-7803\">Medical   Physics library</td>\n",
    "  </tr>\n",
    "  <tr>\n",
    "    <td class=\"tg-hnrj\"><span style=\"font-weight:700;text-decoration:none;background-color:#C6E0B4\"> </span></td>\n",
    "    <td class=\"tg-225c\"><span style=\"font-weight:400;text-decoration:none;background-color:#C6E0B4\"> </span></td>\n",
    "    <td class=\"tg-225c\"><span style=\"font-weight:400;text-decoration:none;background-color:#C6E0B4\"> </span></td>\n",
    "  </tr>\n",
    "  <tr>\n",
    "    <td class=\"tg-0blg\">networkx</td>\n",
    "    <td class=\"tg-7803\">graphs and networks</td>\n",
    "    <td class=\"tg-7803\">Python   package for creating and manipulating graphs and networks</td>\n",
    "  </tr>\n",
    "  <tr>\n",
    "    <td class=\"tg-0blg\"><span style=\"font-weight:700;text-decoration:none\">graphviz</span></td>\n",
    "    <td class=\"tg-7803\"><span style=\"font-weight:400;text-decoration:none\">graphs and networks</span></td>\n",
    "    <td class=\"tg-7803\">Simple   Python interface for Graphviz</td>\n",
    "  </tr>\n",
    "  <tr>\n",
    "    <td class=\"tg-0blg\"><span style=\"font-weight:700;text-decoration:none\">pydot</span></td>\n",
    "    <td class=\"tg-7803\"><span style=\"font-weight:400;text-decoration:none\">graphs and networks</span></td>\n",
    "    <td class=\"tg-7803\">Python   interface to Graphviz's Dot</td>\n",
    "  </tr>\n",
    "  <tr>\n",
    "    <td class=\"tg-hnrj\"><span style=\"font-weight:700;text-decoration:none;background-color:#C6E0B4\"> </span></td>\n",
    "    <td class=\"tg-225c\"><span style=\"font-weight:400;text-decoration:none;background-color:#C6E0B4\"> </span></td>\n",
    "    <td class=\"tg-225c\"><span style=\"font-weight:400;text-decoration:none;background-color:#C6E0B4\"> </span></td>\n",
    "  </tr>\n",
    "  <tr>\n",
    "    <td class=\"tg-0blg\">imageio</td>\n",
    "    <td class=\"tg-7803\">Imaging</td>\n",
    "    <td class=\"tg-7803\">Library   for reading and writing a wide range of image, video, scientific, and   volumetric data formats.</td>\n",
    "  </tr>\n",
    "  <tr>\n",
    "    <td class=\"tg-0blg\"><span style=\"font-weight:700;text-decoration:none\">pillow</span></td>\n",
    "    <td class=\"tg-7803\"><span style=\"font-weight:400;text-decoration:none\">Imaging</span></td>\n",
    "    <td class=\"tg-7803\">Python   Imaging Library (Fork)</td>\n",
    "  </tr>\n",
    "  <tr>\n",
    "    <td class=\"tg-0blg\"><span style=\"font-weight:700;text-decoration:none\">scikit-image</span></td>\n",
    "    <td class=\"tg-7803\"><span style=\"font-weight:400;text-decoration:none\">Imaging</span></td>\n",
    "    <td class=\"tg-7803\">Image   processing in Python</td>\n",
    "  </tr>\n",
    "  <tr>\n",
    "    <td class=\"tg-0blg\"><span style=\"font-weight:700;text-decoration:none\">scikit-learn</span></td>\n",
    "    <td class=\"tg-7803\"><span style=\"font-weight:400;text-decoration:none\">Data Analysis</span></td>\n",
    "    <td class=\"tg-7803\">A set of   python modules for machine learning and data mining</td>\n",
    "  </tr>\n",
    "  <tr>\n",
    "    <td class=\"tg-hnrj\"><span style=\"font-weight:700;text-decoration:none;background-color:#C6E0B4\"> </span></td>\n",
    "    <td class=\"tg-225c\"><span style=\"font-weight:400;text-decoration:none;background-color:#C6E0B4\"> </span></td>\n",
    "    <td class=\"tg-225c\"><span style=\"font-weight:400;text-decoration:none;background-color:#C6E0B4\"> </span></td>\n",
    "  </tr>\n",
    "  <tr>\n",
    "    <td class=\"tg-0blg\">spyder</td>\n",
    "    <td class=\"tg-7803\">Development</td>\n",
    "    <td class=\"tg-7803\">The   Scientific Python Development Environment</td>\n",
    "  </tr>\n",
    "  <tr>\n",
    "    <td class=\"tg-hnrj\"><span style=\"font-weight:700;text-decoration:none;background-color:#C6E0B4\"> </span></td>\n",
    "    <td class=\"tg-225c\"><span style=\"font-weight:400;text-decoration:none;background-color:#C6E0B4\"> </span></td>\n",
    "    <td class=\"tg-225c\"><span style=\"font-weight:400;text-decoration:none;background-color:#C6E0B4\"> </span></td>\n",
    "  </tr>\n",
    "  <tr>\n",
    "    <td class=\"tg-0blg\">jupyter</td>\n",
    "    <td class=\"tg-7803\">jupyter</td>\n",
    "    <td class=\"tg-7803\">Jupyter   metapackage. Install all the Jupyter components in one go.</td>\n",
    "  </tr>\n",
    "  <tr>\n",
    "    <td class=\"tg-0blg\"><span style=\"font-weight:700;text-decoration:none\">jupyterlab</span></td>\n",
    "    <td class=\"tg-7803\"><span style=\"font-weight:400;text-decoration:none\">jupyter</span></td>\n",
    "    <td class=\"tg-7803\">JupyterLab   computational environment</td>\n",
    "  </tr>\n",
    "  <tr>\n",
    "    <td class=\"tg-0blg\"><span style=\"font-weight:700;text-decoration:none\">ipykernel</span></td>\n",
    "    <td class=\"tg-7803\"><span style=\"font-weight:400;text-decoration:none\">jupyter</span></td>\n",
    "    <td class=\"tg-7803\">IPython   Kernel for Jupyter</td>\n",
    "  </tr>\n",
    "  <tr>\n",
    "    <td class=\"tg-0blg\"><span style=\"font-weight:700;text-decoration:none\">nb_conda_kernels</span></td>\n",
    "    <td class=\"tg-7803\"><span style=\"font-weight:400;text-decoration:none\">jupyter</span></td>\n",
    "    <td class=\"tg-7803\">Package   for managing conda environment-based kernels inside of Jupyter</td>\n",
    "  </tr>\n",
    "  <tr>\n",
    "    <td class=\"tg-0blg\"><span style=\"font-weight:700;text-decoration:none\">spyder-kernels</span></td>\n",
    "    <td class=\"tg-7803\"><span style=\"font-weight:400;text-decoration:none\">jupyter</span></td>\n",
    "    <td class=\"tg-7803\">Jupyter   kernels for Spyder's console</td>\n",
    "  </tr>\n",
    "  <tr>\n",
    "    <td class=\"tg-0blg\"><span style=\"font-weight:700;text-decoration:none\">ipython</span></td>\n",
    "    <td class=\"tg-7803\"><span style=\"font-weight:400;text-decoration:none\">jupyter</span></td>\n",
    "    <td class=\"tg-7803\">IPython:   Productive Interactive Computing</td>\n",
    "  </tr>\n",
    "  <tr>\n",
    "    <td class=\"tg-hnrj\"><span style=\"font-weight:700;text-decoration:none;background-color:#C6E0B4\"> </span></td>\n",
    "    <td class=\"tg-225c\"><span style=\"font-weight:400;text-decoration:none;background-color:#C6E0B4\"> </span></td>\n",
    "    <td class=\"tg-225c\"><span style=\"font-weight:400;text-decoration:none;background-color:#C6E0B4\"> </span></td>\n",
    "  </tr>\n",
    "  <tr>\n",
    "    <td class=\"tg-0blg\">pywin32</td>\n",
    "    <td class=\"tg-7803\">File interaction</td>\n",
    "    <td class=\"tg-7803\">Python   for Window Extensions</td>\n",
    "  </tr>\n",
    "  <tr>\n",
    "    <td class=\"tg-0blg\"><span style=\"font-weight:700;text-decoration:none\">docx2txt</span></td>\n",
    "    <td class=\"tg-7803\"><span style=\"font-weight:400;text-decoration:none\">File interaction</span></td>\n",
    "    <td class=\"tg-7803\">A   pure python-based utility to extract text and images from docx files.</td>\n",
    "  </tr>\n",
    "  <tr>\n",
    "    <td class=\"tg-0blg\"><span style=\"font-weight:700;text-decoration:none\">zipfile2</span></td>\n",
    "    <td class=\"tg-7803\"><span style=\"font-weight:400;text-decoration:none\">File interaction</span></td>\n",
    "    <td class=\"tg-7803\">An   improved ZipFile class.</td>\n",
    "  </tr>\n",
    "  <tr>\n",
    "    <td class=\"tg-0blg\"><span style=\"font-weight:700;text-decoration:none\">pdfminer.six</span></td>\n",
    "    <td class=\"tg-7803\"><span style=\"font-weight:400;text-decoration:none\">File interaction</span></td>\n",
    "    <td class=\"tg-7803\">Pdfminer.six   is a community maintained fork of the original PDFMiner.</td>\n",
    "  </tr>\n",
    "  <tr>\n",
    "    <td class=\"tg-hnrj\"><span style=\"font-weight:700;text-decoration:none;background-color:#C6E0B4\"> </span></td>\n",
    "    <td class=\"tg-225c\"><span style=\"font-weight:400;text-decoration:none;background-color:#C6E0B4\"> </span></td>\n",
    "    <td class=\"tg-225c\"><span style=\"font-weight:400;text-decoration:none;background-color:#C6E0B4\"> </span></td>\n",
    "  </tr>\n",
    "  <tr>\n",
    "    <td class=\"tg-0blg\">requests</td>\n",
    "    <td class=\"tg-7803\">Web Site Interaction</td>\n",
    "    <td class=\"tg-7803\">Python   HTTP for Humans.</td>\n",
    "  </tr>\n",
    "  <tr>\n",
    "    <td class=\"tg-0blg\"><span style=\"font-weight:700;text-decoration:none\">beautifulsoup4</span></td>\n",
    "    <td class=\"tg-7803\"><span style=\"font-weight:400;text-decoration:none\">Web Site Interaction</span></td>\n",
    "    <td class=\"tg-7803\"><span style=\"font-weight:400;text-decoration:none\">Beautiful Soup is a library that makes   it easy to scrape information from web pages.</span></td>\n",
    "  </tr>\n",
    "  <tr>\n",
    "    <td class=\"tg-0blg\"><span style=\"font-weight:700;text-decoration:none\">bs4</span></td>\n",
    "    <td class=\"tg-7803\"><span style=\"font-weight:400;text-decoration:none\">Web Site Interaction</span></td>\n",
    "    <td class=\"tg-7803\">Dummy   package for Beautiful Soup</td>\n",
    "  </tr>\n",
    "  <tr>\n",
    "    <td class=\"tg-0blg\"><span style=\"font-weight:700;text-decoration:none\">soupsieve</span></td>\n",
    "    <td class=\"tg-7803\"><span style=\"font-weight:400;text-decoration:none\">Web Site Interaction</span></td>\n",
    "    <td class=\"tg-7803\">A modern CSS   selector implementation for Beautiful Soup.</td>\n",
    "  </tr>\n",
    "  <tr>\n",
    "    <td class=\"tg-hnrj\"><span style=\"font-weight:700;text-decoration:none;background-color:#C6E0B4\"> </span></td>\n",
    "    <td class=\"tg-225c\"><span style=\"font-weight:400;text-decoration:none;background-color:#C6E0B4\"> </span></td>\n",
    "    <td class=\"tg-225c\"><span style=\"font-weight:400;text-decoration:none;background-color:#C6E0B4\"> </span></td>\n",
    "  </tr>\n",
    "  <tr>\n",
    "    <td class=\"tg-0blg\">pylint</td>\n",
    "    <td class=\"tg-7803\">style checker</td>\n",
    "    <td class=\"tg-7803\">python   code static checker</td>\n",
    "  </tr>\n",
    "  <tr>\n",
    "    <td class=\"tg-0blg\"><span style=\"font-weight:700;text-decoration:none\">mypy</span></td>\n",
    "    <td class=\"tg-7803\"><span style=\"font-weight:400;text-decoration:none\">style checker</span></td>\n",
    "    <td class=\"tg-7803\">Optional   static typing for Python</td>\n",
    "  </tr>\n",
    "  <tr>\n",
    "    <td class=\"tg-0blg\"><span style=\"font-weight:700;text-decoration:none\">pydocstyle</span></td>\n",
    "    <td class=\"tg-7803\"><span style=\"font-weight:400;text-decoration:none\">style checker</span></td>\n",
    "    <td class=\"tg-7803\">Python   docstring style checker</td>\n",
    "  </tr>\n",
    "  <tr>\n",
    "    <td class=\"tg-0blg\"><span style=\"font-weight:700;text-decoration:none\">pyflakes</span></td>\n",
    "    <td class=\"tg-7803\"><span style=\"font-weight:400;text-decoration:none\">style checker</span></td>\n",
    "    <td class=\"tg-7803\">passive   checker of Python programs</td>\n",
    "  </tr>\n",
    "  <tr>\n",
    "    <td class=\"tg-0blg\"><span style=\"font-weight:700;text-decoration:none\">black</span></td>\n",
    "    <td class=\"tg-7803\"><span style=\"font-weight:400;text-decoration:none\">style checker</span></td>\n",
    "    <td class=\"tg-7803\">The   uncompromising code formatter.</td>\n",
    "  </tr>\n",
    "  <tr>\n",
    "    <td class=\"tg-0blg\"><span style=\"font-weight:700;text-decoration:none\">autopep8</span></td>\n",
    "    <td class=\"tg-7803\"><span style=\"font-weight:400;text-decoration:none\">style checker</span></td>\n",
    "    <td class=\"tg-7803\">A   tool that automatically formats Python code to conform to the PEP 8 style   guide</td>\n",
    "  </tr>\n",
    "  <tr>\n",
    "    <td class=\"tg-0blg\"><span style=\"font-weight:700;text-decoration:none\">pep8</span></td>\n",
    "    <td class=\"tg-7803\"><span style=\"font-weight:400;text-decoration:none\">style checker</span></td>\n",
    "    <td class=\"tg-7803\">Python style   guide checker</td>\n",
    "  </tr>\n",
    "  <tr>\n",
    "    <td class=\"tg-hnrj\"><span style=\"font-weight:700;text-decoration:none;background-color:#C6E0B4\"> </span></td>\n",
    "    <td class=\"tg-225c\"><span style=\"font-weight:400;text-decoration:none;background-color:#C6E0B4\"> </span></td>\n",
    "    <td class=\"tg-225c\"><span style=\"font-weight:400;text-decoration:none;background-color:#C6E0B4\"> </span></td>\n",
    "  </tr>\n",
    "  <tr>\n",
    "    <td class=\"tg-0blg\">doxygen</td>\n",
    "    <td class=\"tg-7803\">Documentation</td>\n",
    "    <td class=\"tg-7803\">Doxygen is a documentation   generator and static analysis tool for software source trees.</td>\n",
    "  </tr>\n",
    "  <tr>\n",
    "    <td class=\"tg-0blg\"><span style=\"font-weight:700;text-decoration:none\">sphinx</span></td>\n",
    "    <td class=\"tg-7803\"><span style=\"font-weight:400;text-decoration:none\">Documentation</span></td>\n",
    "    <td class=\"tg-7803\">Python   documentation generator</td>\n",
    "  </tr>\n",
    "  <tr>\n",
    "    <td class=\"tg-0blg\"><span style=\"font-weight:700;text-decoration:none\">docutils</span></td>\n",
    "    <td class=\"tg-7803\"><span style=\"font-weight:400;text-decoration:none\">Documentation</span></td>\n",
    "    <td class=\"tg-7803\">Docutils --   Python Documentation Utilities</td>\n",
    "  </tr>\n",
    "  <tr>\n",
    "    <td class=\"tg-hnrj\"><span style=\"font-weight:700;text-decoration:none;background-color:#C6E0B4\"> </span></td>\n",
    "    <td class=\"tg-225c\"><span style=\"font-weight:400;text-decoration:none;background-color:#C6E0B4\"> </span></td>\n",
    "    <td class=\"tg-225c\"><span style=\"font-weight:400;text-decoration:none;background-color:#C6E0B4\"> </span></td>\n",
    "  </tr>\n",
    "  <tr>\n",
    "    <td class=\"tg-0blg\">pyinstaller</td>\n",
    "    <td class=\"tg-7803\">Development</td>\n",
    "    <td class=\"tg-7803\">PyInstaller   bundles a Python application and all its dependencies into a single package.</td>\n",
    "  </tr>\n",
    "  <tr>\n",
    "    <td class=\"tg-0blg\"><span style=\"font-weight:700;text-decoration:none\">setuptools</span></td>\n",
    "    <td class=\"tg-7803\"><span style=\"font-weight:400;text-decoration:none\">Development</span></td>\n",
    "    <td class=\"tg-7803\">Easily   download, build, install, upgrade, and uninstall Python packages</td>\n",
    "  </tr>\n",
    "  <tr>\n",
    "    <td class=\"tg-hnrj\"><span style=\"font-weight:700;text-decoration:none;background-color:#C6E0B4\"> </span></td>\n",
    "    <td class=\"tg-225c\"><span style=\"font-weight:400;text-decoration:none;background-color:#C6E0B4\"> </span></td>\n",
    "    <td class=\"tg-225c\"><span style=\"font-weight:400;text-decoration:none;background-color:#C6E0B4\"> </span></td>\n",
    "  </tr>\n",
    "  <tr>\n",
    "    <td class=\"tg-0blg\">fastapi</td>\n",
    "    <td class=\"tg-7803\">Servers</td>\n",
    "    <td class=\"tg-7803\">FastAPI   framework, high performance, easy to learn, fast to code, ready for   production</td>\n",
    "  </tr>\n",
    "  <tr>\n",
    "    <td class=\"tg-0blg\"><span style=\"font-weight:700;text-decoration:none\">uvicorn</span></td>\n",
    "    <td class=\"tg-7803\"><span style=\"font-weight:400;text-decoration:none\">Servers</span></td>\n",
    "    <td class=\"tg-7803\">The   lightning-fast ASGI server.</td>\n",
    "  </tr>\n",
    "</tbody>\n",
    "</table>"
   ]
  },
  {
   "cell_type": "markdown",
   "id": "49ad4f44",
   "metadata": {},
   "source": [
    "**Uncomment packages to include them**"
   ]
  },
  {
   "cell_type": "code",
   "execution_count": 19,
   "id": "ef2078ec",
   "metadata": {},
   "outputs": [],
   "source": [
    "primary_packages = [\n",
    "    #PackageSpec('numpy'),\n",
    "    PackageSpec('pandas'),\n",
    "    #PackageSpec('matplotlib'),\n",
    "\n",
    "    #PackageSpec('pysimplegui'),\n",
    "\n",
    "    #PackageSpec('scipy'),\n",
    "    #PackageSpec('shapely'),\n",
    "\n",
    "    PackageSpec('xlwings'),\n",
    "    #PackageSpec('openpyxl'),\n",
    "    #PackageSpec('xlrd'),\n",
    "\n",
    "    #PackageSpec('pyodbc'),\n",
    "    #PackageSpec('pydicom'),\n",
    "    #PackageSpec('pymedphys'),\n",
    "\n",
    "    #PackageSpec('networkx'),\n",
    "    #PackageSpec('graphviz'),\n",
    "    #PackageSpec('pydot'),\n",
    "\n",
    "    #PackageSpec('imageio'),\n",
    "    #PackageSpec('pillow'),\n",
    "    #PackageSpec('scikit-image'),\n",
    "    #PackageSpec('scikit-learn'),\n",
    "\n",
    "    #PackageSpec('requests'),\n",
    "    #PackageSpec('beautifulsoup4'),\n",
    "    #PackageSpec('soupsieve'),\n",
    "\n",
    "    #PackageSpec('docx2txt'),\n",
    "    #PackageSpec('pdfminer.six'),\n",
    "    #PackageSpec('pywin32'),\n",
    "    #PackageSpec('zipfile2'),\n",
    "    ]\n",
    "\n",
    "tool_packages = [\n",
    "    #PackageSpec('fastapi'),\n",
    "    #PackageSpec('uvicorn'),\n",
    "\n",
    "    #PackageSpec('doxygen'),\n",
    "    #PackageSpec('sphinx'),\n",
    "    #PackageSpec('docutils'),\n",
    "\n",
    "    #PackageSpec('jupyter'),\n",
    "    #PackageSpec('nb_conda_kernels'),\n",
    "\n",
    "    #PackageSpec('spyder'),\n",
    "    #PackageSpec('spyder-kernels'),\n",
    "\n",
    "    #PackageSpec('pyinstaller'),\n",
    "    #PackageSpec('setuptools'),\n",
    "    #PackageSpec('autopep8'),\n",
    "    #PackageSpec('black'),\n",
    "    #PackageSpec('mypy'),\n",
    "    #PackageSpec('pydocstyle'),\n",
    "    #PackageSpec('pyflakes'),\n",
    "    #PackageSpec('pylint'),\n",
    "    #PackageSpec('pep8'),\n",
    "    ]\n",
    "package_list = primary_packages + tool_packages"
   ]
  },
  {
   "cell_type": "markdown",
   "id": "010061af-6e13-4761-becf-3b2794291e9d",
   "metadata": {},
   "source": [
    "## Specify project related paths\n",
    "- The top level project path should already exist and should be given the tag 'WORKSPACE'\n",
    "- `folder_path` must be specified for 'WORKSPACE'\n",
    "- An 'ENVIRONMENT' must be defined.\n",
    "- There shouldn't be duplicate tags.\n",
    "- If `tag` is not given `folder_name.upper()` will be used as the `tag`\n",
    "- When `folder_path` is given, the `folder_name` is ignored.  \n",
    "- If `folder_path` is not given, a folder with the name `folder_name` will be created directly under `base_path`.  \n",
    "- If `add_to_path` is True *(the default)*, the folder path will be added to the python search path.\n",
    "\n",
    "#### Example folders:\n",
    "\n",
    "| folder_name | folder_path                              | tag         | add_to_path |\n",
    "|-------------|------------------------------------------|-------------|-------------|\n",
    "| Todoist     | ~\\Python\\Projects\\ToDoIst Projects\\Turkey| WORKSPACE   | True        |\n",
    "| environment | None                                     | ENVIRONMENT | False       |\n",
    "| src         | None                                     | SOURCE      | True        |\n",
    "| Old files   | None                                     | IGNORE      | False       |\n",
    "| data        | None                                     | DATA        | True        |\n",
    "| reference   | None                                     | REFERENCE   | False       |\n",
    "| sectionary  | ..\\\\..\\sectionary package\\src'           | PACKAGE     | True        |"
   ]
  },
  {
   "cell_type": "markdown",
   "id": "4a522f36-ec17-4961-8dcf-000a45b548e1",
   "metadata": {},
   "source": [
    "### Primary project path"
   ]
  },
  {
   "cell_type": "code",
   "execution_count": 27,
   "id": "2ba283ba-bf3f-479d-948a-2d092c2596e1",
   "metadata": {
    "tags": []
   },
   "outputs": [],
   "source": [
    "project_folder = Path.cwd()\n",
    "project_drive = project_folder.drive\n"
   ]
  },
  {
   "cell_type": "markdown",
   "id": "40ec80da-7508-49da-86c3-c4d35aacc083",
   "metadata": {},
   "source": [
    "### Additional package path"
   ]
  },
  {
   "cell_type": "code",
   "execution_count": 28,
   "id": "4d70d8b0-9ef4-4d26-b369-7b696ec87de6",
   "metadata": {
    "tags": []
   },
   "outputs": [],
   "source": [
    "sectionary_path = project_folder / '..' / '..' / 'sectionary package' / 'src'\n",
    "sectionary_path = sectionary_path.resolve()\n"
   ]
  },
  {
   "cell_type": "markdown",
   "id": "1c6e708c-f2b6-4ae3-9d35-05af02b191c9",
   "metadata": {},
   "source": [
    "#### Folder Parameters"
   ]
  },
  {
   "cell_type": "code",
   "execution_count": 29,
   "id": "93d30764",
   "metadata": {},
   "outputs": [],
   "source": [
    "new_env = 'Turkey'"
   ]
  },
  {
   "cell_type": "code",
   "execution_count": 30,
   "id": "200f25fc-12d4-4407-8845-6f561bfcc30b",
   "metadata": {
    "tags": []
   },
   "outputs": [],
   "source": [
    "folder_list = [FolderItem(new_env,       tag='WORKSPACE',                      folder_path=project_folder),\n",
    "               FolderItem('environment', tag='ENVIRONMENT', add_to_path=False,   base_path=project_folder),\n",
    "               FolderItem('src',         tag='SOURCE',                           base_path=project_folder),\n",
    "               FolderItem('data',        tag='DATA',                             base_path=project_folder),\n",
    "               FolderItem('reference',   tag='REFERENCE',   add_to_path=False,   base_path=project_folder),\n",
    "               FolderItem('sectionary',                                        folder_path=sectionary_path)]\n",
    "\n",
    "folders = pd.DataFrame(folder_list)\n"
   ]
  },
  {
   "cell_type": "code",
   "execution_count": 31,
   "id": "0777e372",
   "metadata": {},
   "outputs": [
    {
     "data": {
      "text/html": [
       "<div>\n",
       "<style scoped>\n",
       "    .dataframe tbody tr th:only-of-type {\n",
       "        vertical-align: middle;\n",
       "    }\n",
       "\n",
       "    .dataframe tbody tr th {\n",
       "        vertical-align: top;\n",
       "    }\n",
       "\n",
       "    .dataframe thead th {\n",
       "        text-align: right;\n",
       "    }\n",
       "</style>\n",
       "<table border=\"1\" class=\"dataframe\">\n",
       "  <thead>\n",
       "    <tr style=\"text-align: right;\">\n",
       "      <th></th>\n",
       "      <th>folder_name</th>\n",
       "      <th>tag</th>\n",
       "      <th>add_to_path</th>\n",
       "      <th>folder_path</th>\n",
       "    </tr>\n",
       "  </thead>\n",
       "  <tbody>\n",
       "    <tr>\n",
       "      <th>0</th>\n",
       "      <td>Turkey</td>\n",
       "      <td>WORKSPACE</td>\n",
       "      <td>True</td>\n",
       "      <td>c:\\Users\\gsalomon\\OneDrive - Kingston Health S...</td>\n",
       "    </tr>\n",
       "    <tr>\n",
       "      <th>1</th>\n",
       "      <td>environment</td>\n",
       "      <td>ENVIRONMENT</td>\n",
       "      <td>False</td>\n",
       "      <td>c:\\Users\\gsalomon\\OneDrive - Kingston Health S...</td>\n",
       "    </tr>\n",
       "    <tr>\n",
       "      <th>2</th>\n",
       "      <td>src</td>\n",
       "      <td>SOURCE</td>\n",
       "      <td>True</td>\n",
       "      <td>c:\\Users\\gsalomon\\OneDrive - Kingston Health S...</td>\n",
       "    </tr>\n",
       "    <tr>\n",
       "      <th>3</th>\n",
       "      <td>data</td>\n",
       "      <td>DATA</td>\n",
       "      <td>True</td>\n",
       "      <td>c:\\Users\\gsalomon\\OneDrive - Kingston Health S...</td>\n",
       "    </tr>\n",
       "    <tr>\n",
       "      <th>4</th>\n",
       "      <td>reference</td>\n",
       "      <td>REFERENCE</td>\n",
       "      <td>False</td>\n",
       "      <td>c:\\Users\\gsalomon\\OneDrive - Kingston Health S...</td>\n",
       "    </tr>\n",
       "    <tr>\n",
       "      <th>5</th>\n",
       "      <td>sectionary</td>\n",
       "      <td>SECTIONARY</td>\n",
       "      <td>True</td>\n",
       "      <td>C:\\Users\\gsalomon\\OneDrive - Kingston Health S...</td>\n",
       "    </tr>\n",
       "  </tbody>\n",
       "</table>\n",
       "</div>"
      ],
      "text/plain": [
       "   folder_name          tag  add_to_path  \\\n",
       "0       Turkey    WORKSPACE         True   \n",
       "1  environment  ENVIRONMENT        False   \n",
       "2          src       SOURCE         True   \n",
       "3         data         DATA         True   \n",
       "4    reference    REFERENCE        False   \n",
       "5   sectionary   SECTIONARY         True   \n",
       "\n",
       "                                         folder_path  \n",
       "0  c:\\Users\\gsalomon\\OneDrive - Kingston Health S...  \n",
       "1  c:\\Users\\gsalomon\\OneDrive - Kingston Health S...  \n",
       "2  c:\\Users\\gsalomon\\OneDrive - Kingston Health S...  \n",
       "3  c:\\Users\\gsalomon\\OneDrive - Kingston Health S...  \n",
       "4  c:\\Users\\gsalomon\\OneDrive - Kingston Health S...  \n",
       "5  C:\\Users\\gsalomon\\OneDrive - Kingston Health S...  "
      ]
     },
     "execution_count": 31,
     "metadata": {},
     "output_type": "execute_result"
    }
   ],
   "source": [
    "folders"
   ]
  },
  {
   "cell_type": "code",
   "execution_count": 33,
   "id": "0958edc5",
   "metadata": {},
   "outputs": [
    {
     "data": {
      "text/html": [
       "<div>\n",
       "<style scoped>\n",
       "    .dataframe tbody tr th:only-of-type {\n",
       "        vertical-align: middle;\n",
       "    }\n",
       "\n",
       "    .dataframe tbody tr th {\n",
       "        vertical-align: top;\n",
       "    }\n",
       "\n",
       "    .dataframe thead th {\n",
       "        text-align: right;\n",
       "    }\n",
       "</style>\n",
       "<table border=\"1\" class=\"dataframe\">\n",
       "  <thead>\n",
       "    <tr style=\"text-align: right;\">\n",
       "      <th></th>\n",
       "      <th>folder_name</th>\n",
       "      <th>tag</th>\n",
       "      <th>add_to_path</th>\n",
       "      <th>folder_path</th>\n",
       "    </tr>\n",
       "  </thead>\n",
       "  <tbody>\n",
       "    <tr>\n",
       "      <th>0</th>\n",
       "      <td>Turkey</td>\n",
       "      <td>WORKSPACE</td>\n",
       "      <td>True</td>\n",
       "      <td>c:\\Users\\gsalomon\\OneDrive - Kingston Health S...</td>\n",
       "    </tr>\n",
       "  </tbody>\n",
       "</table>\n",
       "</div>"
      ],
      "text/plain": [
       "  folder_name        tag  add_to_path  \\\n",
       "0      Turkey  WORKSPACE         True   \n",
       "\n",
       "                                         folder_path  \n",
       "0  c:\\Users\\gsalomon\\OneDrive - Kingston Health S...  "
      ]
     },
     "execution_count": 33,
     "metadata": {},
     "output_type": "execute_result"
    }
   ],
   "source": [
    "folders[folders.tag == 'WORKSPACE']"
   ]
  },
  {
   "cell_type": "code",
   "execution_count": null,
   "id": "fe0fd991",
   "metadata": {},
   "outputs": [],
   "source": [
    "def make_project_folder(folder_list: List[FolderItem], project_name: str)->Path:\n",
    "        '''Create the project folder if it does not exist.\n",
    "        '''\n",
    "        if isinstance(folder_list, Path):\n",
    "            if not starting_folder.is_dir():\n",
    "                raise PathException(\n",
    "                    'The specified project folder is not a directory')\n",
    "            starting_folder = folder_list\n",
    "        elif isinstance(folder_list, list):\n",
    "            folders = pd.DataFrame(folder_list)\n",
    "            workspace = folders[folders.tag == 'WORKSPACE']\n",
    "            starting_folder = workspace.folder_path\n",
    "\n",
    "        if not starting_folder.exists():\n",
    "            if starting_folder.parent.exists():\n",
    "                starting_folder = add_folder(starting_folder.parent,\n",
    "                                             project_name)\n",
    "        elif starting_folder.name == project_name:\n",
    "\n",
    "            self.project_folder = add_folder(self.project_folder, self.name)\n",
    "            if self.project_folder.parent.exists():"
   ]
  },
  {
   "cell_type": "code",
   "execution_count": 30,
   "id": "4f414b40-33b3-4bc6-8eb5-8c36b05cbf69",
   "metadata": {
    "tags": []
   },
   "outputs": [
    {
     "data": {
      "text/html": [
       "<div>\n",
       "<style scoped>\n",
       "    .dataframe tbody tr th:only-of-type {\n",
       "        vertical-align: middle;\n",
       "    }\n",
       "\n",
       "    .dataframe tbody tr th {\n",
       "        vertical-align: top;\n",
       "    }\n",
       "\n",
       "    .dataframe thead th {\n",
       "        text-align: right;\n",
       "    }\n",
       "</style>\n",
       "<table border=\"1\" class=\"dataframe\">\n",
       "  <thead>\n",
       "    <tr style=\"text-align: right;\">\n",
       "      <th></th>\n",
       "      <th>folder_name</th>\n",
       "      <th>tag</th>\n",
       "      <th>add_to_path</th>\n",
       "      <th>folder_path</th>\n",
       "    </tr>\n",
       "  </thead>\n",
       "  <tbody>\n",
       "    <tr>\n",
       "      <th>0</th>\n",
       "      <td>Todoist</td>\n",
       "      <td>WORKSPACE</td>\n",
       "      <td>True</td>\n",
       "      <td>D:\\OneDrive - Queen's University\\Python\\Projec...</td>\n",
       "    </tr>\n",
       "    <tr>\n",
       "      <th>1</th>\n",
       "      <td>environment</td>\n",
       "      <td>ENVIRONMENT</td>\n",
       "      <td>False</td>\n",
       "      <td>D:\\OneDrive - Queen's University\\Python\\Projec...</td>\n",
       "    </tr>\n",
       "    <tr>\n",
       "      <th>2</th>\n",
       "      <td>src</td>\n",
       "      <td>SOURCE</td>\n",
       "      <td>True</td>\n",
       "      <td>D:\\OneDrive - Queen's University\\Python\\Projec...</td>\n",
       "    </tr>\n",
       "    <tr>\n",
       "      <th>3</th>\n",
       "      <td>data</td>\n",
       "      <td>DATA</td>\n",
       "      <td>True</td>\n",
       "      <td>D:\\OneDrive - Queen's University\\Python\\Projec...</td>\n",
       "    </tr>\n",
       "    <tr>\n",
       "      <th>4</th>\n",
       "      <td>reference</td>\n",
       "      <td>REFERENCE</td>\n",
       "      <td>False</td>\n",
       "      <td>D:\\OneDrive - Queen's University\\Python\\Projec...</td>\n",
       "    </tr>\n",
       "    <tr>\n",
       "      <th>5</th>\n",
       "      <td>sectionary</td>\n",
       "      <td>SECTIONARY</td>\n",
       "      <td>True</td>\n",
       "      <td>D:\\OneDrive - Queen's University\\Python\\Projec...</td>\n",
       "    </tr>\n",
       "  </tbody>\n",
       "</table>\n",
       "</div>"
      ],
      "text/plain": [
       "   folder_name          tag  add_to_path  \\\n",
       "0      Todoist    WORKSPACE         True   \n",
       "1  environment  ENVIRONMENT        False   \n",
       "2          src       SOURCE         True   \n",
       "3         data         DATA         True   \n",
       "4    reference    REFERENCE        False   \n",
       "5   sectionary   SECTIONARY         True   \n",
       "\n",
       "                                         folder_path  \n",
       "0  D:\\OneDrive - Queen's University\\Python\\Projec...  \n",
       "1  D:\\OneDrive - Queen's University\\Python\\Projec...  \n",
       "2  D:\\OneDrive - Queen's University\\Python\\Projec...  \n",
       "3  D:\\OneDrive - Queen's University\\Python\\Projec...  \n",
       "4  D:\\OneDrive - Queen's University\\Python\\Projec...  \n",
       "5  D:\\OneDrive - Queen's University\\Python\\Projec...  "
      ]
     },
     "execution_count": 30,
     "metadata": {},
     "output_type": "execute_result"
    }
   ],
   "source": [
    "folders\n"
   ]
  },
  {
   "cell_type": "markdown",
   "id": "6a0c946e",
   "metadata": {},
   "source": [
    "### Class to hold information on project parameters."
   ]
  },
  {
   "cell_type": "code",
   "execution_count": null,
   "id": "fff8074b",
   "metadata": {},
   "outputs": [],
   "source": [
    "@dataclass\n",
    "class ProjectDef:\n",
    "    '''Information on project parameters.'''\n",
    "    # Project Name and folders\n",
    "    name: str\n",
    "    folder_list: List[FolderItem] = field(default_factory=list)\n",
    "    # Optional Conda environment name and packages to include.\n",
    "    env_name: str = ''\n",
    "    package_list: List[PackageSpec] = field(default_factory=list)\n",
    "    # Project Name and Python Version\n",
    "    python_version: str = '3.11'\n",
    "    install_xlwings: bool = True\n",
    "    install_jupyter: bool = True\n",
    "\n",
    "\n",
    "    add_to_path: bool = True\n",
    "    base_path: InitVar[Path] = None\n",
    "\n",
    "    def __post_init__(self, base_path: Path):\n",
    "        '''Manage default parameters.\n",
    "\n",
    "        Create the project folder if it does not exist\n",
    "\n",
    "        If xlwings is not in the list of packages do not install xlwings.\n",
    "        If jupyter is not in the list of packages do not install jupyter.\n",
    "        '''\n",
    "        if not self.project_folder.exists():\n",
    "            if self.project_folder.parent.exists():\n",
    "                self.project_folder = add_folder(self.project_folder.parent,\n",
    "                                                 self.name)\n",
    "        elif self.project_folder.name == self.name:\n",
    "\n",
    "            if not self.project_folder.is_dir():\n",
    "                raise PathException(\n",
    "                    'The specified project folder is not a directory')\n",
    "            self.project_folder = add_folder(self.project_folder, self.name)\n",
    "            if self.project_folder.parent.exists():\n",
    "        if 'xlwings' not in package_list:\n",
    "            self.install_xlwings = False\n",
    "        if 'jupyter' not in package_list:\n",
    "            self.install_jupyter = False\n",
    "\n",
    "        self.project_drive = project_folder.drive\n",
    "\n",
    "    @property\n",
    "    def packages(self):\n",
    "        '''Generate a string of packages to install.\n",
    "        '''\n",
    "        packages = ' '.join(self.package_list)\n",
    "        return packages\n",
    "\n",
    "    def set_tag(self):\n",
    "        '''If tag not given use uppercase of folder name.'''\n",
    "        if not self.tag:\n",
    "            self.tag = self.folder_name.upper()\n"
   ]
  },
  {
   "cell_type": "markdown",
   "id": "6963fdd5-9650-4b55-972d-7204a6fb4f49",
   "metadata": {},
   "source": [
    "## Package Creation"
   ]
  },
  {
   "cell_type": "markdown",
   "id": "c0718357-67b1-4582-b965-1be65dffe430",
   "metadata": {
    "tags": []
   },
   "source": [
    "### Create the new environment"
   ]
  },
  {
   "cell_type": "code",
   "execution_count": 9,
   "id": "6e7d7442-3046-41ab-a28d-9f159436142a",
   "metadata": {
    "tags": []
   },
   "outputs": [
    {
     "name": "stdout",
     "output_type": "stream",
     "text": [
      "Creating environment for Todoist\n"
     ]
    }
   ],
   "source": [
    "print(f'Creating environment for {new_env}')\n",
    "env_create_cmds = ['conda', 'create', '-y', '--name', new_env, f'python={python_version}', '--json']\n",
    "output = subprocess.run(env_create_cmds,shell=True, capture_output=True)\n",
    "# check for errors\n",
    "try:\n",
    "    output.check_returncode()\n",
    "except subprocess.CalledProcessError as err:\n",
    "    print(f'Unable to create new environment \"{new_env}\" with python={python_version}!')\n",
    "    print(output.stderr.decode())\n",
    "    raise err\n",
    "\n",
    "install_log = output.stdout.decode()\n",
    "#print(install_log)\n",
    "logging_dict = json.loads(install_log)\n"
   ]
  },
  {
   "cell_type": "markdown",
   "id": "99f28ce6-7512-4db5-a472-e011f3e7dd73",
   "metadata": {},
   "source": [
    "### Identify the Conda Environment path"
   ]
  },
  {
   "cell_type": "code",
   "execution_count": 13,
   "id": "f261923d-980d-469a-9deb-dfd0dedd62bd",
   "metadata": {
    "tags": []
   },
   "outputs": [],
   "source": [
    "env_path = Path(logging_dict['prefix'])\n"
   ]
  },
  {
   "cell_type": "markdown",
   "id": "50d2bc5c-1e41-4a22-9b01-31853b9ffa4b",
   "metadata": {},
   "source": [
    "### Install the Packages"
   ]
  },
  {
   "cell_type": "code",
   "execution_count": 15,
   "id": "e134ca2c-c2ad-4e07-a061-baf50ffb83de",
   "metadata": {
    "tags": []
   },
   "outputs": [],
   "source": [
    "# Activate the new environment\n",
    "env_activate_cmd = ['conda', 'activate', new_env]\n",
    "output = subprocess.run(env_activate_cmd,shell=True, capture_output=True)\n",
    "# check for errors\n",
    "try:\n",
    "    output.check_returncode()\n",
    "except subprocess.CalledProcessError as err:\n",
    "    print(f'Unable to activate new environment \"{new_env}\"!')\n",
    "    print(output.stderr.decode())\n",
    "    raise err\n"
   ]
  },
  {
   "cell_type": "code",
   "execution_count": 18,
   "id": "088ba928-1d06-4d88-a07a-86f1ff5745cc",
   "metadata": {
    "tags": []
   },
   "outputs": [],
   "source": [
    "# Group Install the desired packages\n",
    "env_install_cmds = ['conda', 'install', '-y', '--prefix', str(env_path), '--json'] + package_list\n",
    "output = subprocess.run(env_install_cmds,shell=True, capture_output=True)\n",
    "# check for errors\n",
    "try:\n",
    "    output.check_returncode()\n",
    "except subprocess.CalledProcessError as err:\n",
    "    print(f'Unable to install requested packages in \"{new_env}\"!')\n",
    "    print(output.stderr.decode())\n",
    "    raise err\n",
    "else:\n",
    "    pkg_install_log = output.stdout.decode()\n",
    "    pkg_install_dict = json.loads(pkg_install_log)\n"
   ]
  },
  {
   "cell_type": "markdown",
   "id": "a6ecc575-b7a6-4739-8693-3fa873cb18e5",
   "metadata": {},
   "source": [
    "### Write the Log Data generated during the Conda Environment install"
   ]
  },
  {
   "cell_type": "code",
   "execution_count": 32,
   "id": "6db9da4c-c7e5-4fa3-a1ba-49c82a50a418",
   "metadata": {
    "tags": []
   },
   "outputs": [],
   "source": [
    "\n",
    "log_file = env_folder / f'{new_env}CreationLog.txt'\n",
    "pkg_table_file = env_folder / f'{new_env}Packages.csv'\n",
    "\n",
    "install_log = install_log + '\\n' + pkg_install_log\n",
    "log_file.write_text(install_log)\n",
    "\n",
    "pkg_items = logging_dict['actions']['LINK'] + pkg_install_dict['actions']['LINK']\n",
    "pkg_table = pd.DataFrame(pkg_items)\n",
    "pkg_table.to_csv(pkg_table_file)\n"
   ]
  },
  {
   "cell_type": "code",
   "execution_count": 7,
   "id": "53a33e29-7ebd-4c8d-b7ad-ffe81d735640",
   "metadata": {
    "tags": []
   },
   "outputs": [],
   "source": [
    "if install_jupyter:\n"
   ]
  },
  {
   "cell_type": "code",
   "execution_count": 33,
   "id": "0c498fcb-b122-4a1f-b201-1c993c4db26e",
   "metadata": {},
   "outputs": [],
   "source": [
    "if install_xlwings:\n"
   ]
  },
  {
   "cell_type": "code",
   "execution_count": 34,
   "id": "31b0298c-01ed-4931-a7f5-ba9077621024",
   "metadata": {},
   "outputs": [],
   "source": [
    "print(f'Storing environment for {new_env}')\n"
   ]
  },
  {
   "cell_type": "markdown",
   "id": "a58c3302-1a0f-4a94-90c7-dd2f9f2dcd59",
   "metadata": {},
   "source": [
    "## Build Boilerplate Files"
   ]
  },
  {
   "cell_type": "markdown",
   "id": "4cdaee6b-32cd-47c9-a67e-360c745cc97b",
   "metadata": {},
   "source": [
    "### Build Jupyter lab Batch file"
   ]
  },
  {
   "cell_type": "code",
   "execution_count": 41,
   "id": "f4fb6541-aaa0-428c-88d6-e319afaabf47",
   "metadata": {
    "tags": []
   },
   "outputs": [
    {
     "data": {
      "text/plain": [
       "198"
      ]
     },
     "execution_count": 41,
     "metadata": {},
     "output_type": "execute_result"
    }
   ],
   "source": [
    "\n",
    "jupter_batch_file = env_folder / f'JupyterLab ({new_env}).bat'\n",
    "jupyter_batch = '\\n'.join([\n",
    "    r'CALL C:\\ProgramData\\Anaconda3\\Scripts\\activate.bat C:\\ProgramData\\Anaconda3',\n",
    "    f'CALL conda activate \"{new_env}\"',\n",
    "    f'CD \"{project_folder}\"',\n",
    "    f'{project_drive}',\n",
    "    'jupyter-lab'\n",
    "    ])\n",
    "jupter_batch_file.write_text(jupyter_batch)\n"
   ]
  },
  {
   "cell_type": "markdown",
   "id": "6d627b57-17fb-4476-954c-c292b4502931",
   "metadata": {},
   "source": [
    "### Build VS Code Batch file"
   ]
  },
  {
   "cell_type": "code",
   "execution_count": 42,
   "id": "116cb72c-62ea-4484-b329-e88a6d7501de",
   "metadata": {
    "tags": []
   },
   "outputs": [
    {
     "data": {
      "text/plain": [
       "214"
      ]
     },
     "execution_count": 42,
     "metadata": {},
     "output_type": "execute_result"
    }
   ],
   "source": [
    "vscode_batch_file = env_folder / f'VS Code ({new_env}).bat'\n",
    "vscode_batch = '\\n'.join([\n",
    "    r'CALL C:\\ProgramData\\Anaconda3\\Scripts\\activate.bat C:\\ProgramData\\Anaconda3',\n",
    "    f'CALL conda activate \"{new_env}\"',\n",
    "    f'CD \"{project_folder}\"',\n",
    "    f'{project_drive}',\n",
    "    f'code {new_env}.code-workspace'\n",
    "    ])\n",
    "vscode_batch_file.write_text(vscode_batch)\n"
   ]
  },
  {
   "cell_type": "markdown",
   "id": "5cbfb17b-6324-4b57-b80d-ba2d6e94c0bd",
   "metadata": {},
   "source": [
    "### Build .env file"
   ]
  },
  {
   "cell_type": "code",
   "execution_count": 14,
   "id": "59aaa9b0-87c6-46d4-be0d-e9dcae51116e",
   "metadata": {
    "tags": []
   },
   "outputs": [
    {
     "data": {
      "text/html": [
       "<div>\n",
       "<style scoped>\n",
       "    .dataframe tbody tr th:only-of-type {\n",
       "        vertical-align: middle;\n",
       "    }\n",
       "\n",
       "    .dataframe tbody tr th {\n",
       "        vertical-align: top;\n",
       "    }\n",
       "\n",
       "    .dataframe thead th {\n",
       "        text-align: right;\n",
       "    }\n",
       "</style>\n",
       "<table border=\"1\" class=\"dataframe\">\n",
       "  <thead>\n",
       "    <tr style=\"text-align: right;\">\n",
       "      <th></th>\n",
       "      <th>folder_name</th>\n",
       "      <th>tag</th>\n",
       "      <th>add_to_path</th>\n",
       "      <th>folder_path</th>\n",
       "    </tr>\n",
       "  </thead>\n",
       "  <tbody>\n",
       "    <tr>\n",
       "      <th>0</th>\n",
       "      <td>Todoist</td>\n",
       "      <td>WORKSPACE</td>\n",
       "      <td>True</td>\n",
       "      <td>D:\\OneDrive - Queen's University\\Python\\Projec...</td>\n",
       "    </tr>\n",
       "    <tr>\n",
       "      <th>1</th>\n",
       "      <td>environment</td>\n",
       "      <td>ENVIRONMENT</td>\n",
       "      <td>False</td>\n",
       "      <td>D:\\OneDrive - Queen's University\\Python\\Projec...</td>\n",
       "    </tr>\n",
       "    <tr>\n",
       "      <th>2</th>\n",
       "      <td>src</td>\n",
       "      <td>SOURCE</td>\n",
       "      <td>True</td>\n",
       "      <td>D:\\OneDrive - Queen's University\\Python\\Projec...</td>\n",
       "    </tr>\n",
       "    <tr>\n",
       "      <th>3</th>\n",
       "      <td>data</td>\n",
       "      <td>DATA</td>\n",
       "      <td>True</td>\n",
       "      <td>D:\\OneDrive - Queen's University\\Python\\Projec...</td>\n",
       "    </tr>\n",
       "    <tr>\n",
       "      <th>4</th>\n",
       "      <td>reference</td>\n",
       "      <td>REFERENCE</td>\n",
       "      <td>False</td>\n",
       "      <td>D:\\OneDrive - Queen's University\\Python\\Projec...</td>\n",
       "    </tr>\n",
       "    <tr>\n",
       "      <th>5</th>\n",
       "      <td>sectionary</td>\n",
       "      <td>PACKAGE</td>\n",
       "      <td>True</td>\n",
       "      <td>D:\\OneDrive - Queen's University\\Python\\Projec...</td>\n",
       "    </tr>\n",
       "  </tbody>\n",
       "</table>\n",
       "</div>"
      ],
      "text/plain": [
       "   folder_name          tag  add_to_path  \\\n",
       "0      Todoist    WORKSPACE         True   \n",
       "1  environment  ENVIRONMENT        False   \n",
       "2          src       SOURCE         True   \n",
       "3         data         DATA         True   \n",
       "4    reference    REFERENCE        False   \n",
       "5   sectionary      PACKAGE         True   \n",
       "\n",
       "                                         folder_path  \n",
       "0  D:\\OneDrive - Queen's University\\Python\\Projec...  \n",
       "1  D:\\OneDrive - Queen's University\\Python\\Projec...  \n",
       "2  D:\\OneDrive - Queen's University\\Python\\Projec...  \n",
       "3  D:\\OneDrive - Queen's University\\Python\\Projec...  \n",
       "4  D:\\OneDrive - Queen's University\\Python\\Projec...  \n",
       "5  D:\\OneDrive - Queen's University\\Python\\Projec...  "
      ]
     },
     "execution_count": 14,
     "metadata": {},
     "output_type": "execute_result"
    }
   ],
   "source": [
    "folders\n"
   ]
  },
  {
   "cell_type": "code",
   "execution_count": 17,
   "id": "0fff64b2-1b24-4fa8-b238-cc14c4d24b2d",
   "metadata": {
    "tags": []
   },
   "outputs": [
    {
     "data": {
      "text/html": [
       "<div>\n",
       "<style scoped>\n",
       "    .dataframe tbody tr th:only-of-type {\n",
       "        vertical-align: middle;\n",
       "    }\n",
       "\n",
       "    .dataframe tbody tr th {\n",
       "        vertical-align: top;\n",
       "    }\n",
       "\n",
       "    .dataframe thead th {\n",
       "        text-align: right;\n",
       "    }\n",
       "</style>\n",
       "<table border=\"1\" class=\"dataframe\">\n",
       "  <thead>\n",
       "    <tr style=\"text-align: right;\">\n",
       "      <th></th>\n",
       "      <th>folder_name</th>\n",
       "      <th>tag</th>\n",
       "      <th>add_to_path</th>\n",
       "      <th>folder_path</th>\n",
       "    </tr>\n",
       "  </thead>\n",
       "  <tbody>\n",
       "    <tr>\n",
       "      <th>0</th>\n",
       "      <td>Todoist</td>\n",
       "      <td>WORKSPACE</td>\n",
       "      <td>True</td>\n",
       "      <td>D:\\OneDrive - Queen's University\\Python\\Projec...</td>\n",
       "    </tr>\n",
       "    <tr>\n",
       "      <th>2</th>\n",
       "      <td>src</td>\n",
       "      <td>SOURCE</td>\n",
       "      <td>True</td>\n",
       "      <td>D:\\OneDrive - Queen's University\\Python\\Projec...</td>\n",
       "    </tr>\n",
       "    <tr>\n",
       "      <th>3</th>\n",
       "      <td>data</td>\n",
       "      <td>DATA</td>\n",
       "      <td>True</td>\n",
       "      <td>D:\\OneDrive - Queen's University\\Python\\Projec...</td>\n",
       "    </tr>\n",
       "    <tr>\n",
       "      <th>5</th>\n",
       "      <td>sectionary</td>\n",
       "      <td>PACKAGE</td>\n",
       "      <td>True</td>\n",
       "      <td>D:\\OneDrive - Queen's University\\Python\\Projec...</td>\n",
       "    </tr>\n",
       "  </tbody>\n",
       "</table>\n",
       "</div>"
      ],
      "text/plain": [
       "  folder_name        tag  add_to_path  \\\n",
       "0     Todoist  WORKSPACE         True   \n",
       "2         src     SOURCE         True   \n",
       "3        data       DATA         True   \n",
       "5  sectionary    PACKAGE         True   \n",
       "\n",
       "                                         folder_path  \n",
       "0  D:\\OneDrive - Queen's University\\Python\\Projec...  \n",
       "2  D:\\OneDrive - Queen's University\\Python\\Projec...  \n",
       "3  D:\\OneDrive - Queen's University\\Python\\Projec...  \n",
       "5  D:\\OneDrive - Queen's University\\Python\\Projec...  "
      ]
     },
     "execution_count": 17,
     "metadata": {},
     "output_type": "execute_result"
    }
   ],
   "source": [
    "folders[folders.add_to_path]\n"
   ]
  },
  {
   "cell_type": "code",
   "execution_count": null,
   "id": "32b51902-25d2-44d4-9231-65d3aa38a8b9",
   "metadata": {
    "tags": []
   },
   "outputs": [],
   "source": [
    "folders[folders.tag=='ENVIRONMENT'].folder_path\n"
   ]
  },
  {
   "cell_type": "code",
   "execution_count": 51,
   "id": "2b3ff364-0cb6-453d-ae63-0c9581ece157",
   "metadata": {
    "tags": []
   },
   "outputs": [
    {
     "data": {
      "text/plain": [
       "183"
      ]
     },
     "execution_count": 51,
     "metadata": {},
     "output_type": "execute_result"
    }
   ],
   "source": [
    "env_file = env_folder / '.env'\n",
    "\n",
    "env_paths = '\\n'.join('PYTHONPATH=${}' for name, path_str in path_dict.items())\n",
    "path_setter = '\\n'.join('PYTHONPATH=\"${' + name.upper() + '};${PYTHONPATH}\"'\n",
    "                        for name in path_dict.keys())\n",
    "env_text = '\\n'.join([env_paths, path_setter])\n",
    "env_file.write_text(env_text)\n"
   ]
  },
  {
   "cell_type": "code",
   "execution_count": null,
   "id": "a1993467-5425-469c-a410-1a5a60b0fc37",
   "metadata": {},
   "outputs": [],
   "source": []
  },
  {
   "cell_type": "markdown",
   "id": "2b8060ee-5e76-4257-b7ec-96e959142e2b",
   "metadata": {},
   "source": [
    "### Build Code-workspace from templatestr(env_path)"
   ]
  },
  {
   "cell_type": "code",
   "execution_count": 15,
   "id": "5319a3f7-41a1-48b2-b27a-803c597192d5",
   "metadata": {
    "tags": []
   },
   "outputs": [],
   "source": [
    "data_dir = Path(r\"D:\\OneDrive - Queen's University\\Python\\Python Learning\\Environment Management\")\n",
    "\n",
    "worspace_template = data_dir / 'vscode settings templates' / 'TEMPLATE.code-workspace'\n"
   ]
  },
  {
   "cell_type": "code",
   "execution_count": 16,
   "id": "f63b63b3-11ea-43db-8398-459747063602",
   "metadata": {
    "tags": []
   },
   "outputs": [],
   "source": [
    "worspace = worspace_template.read_text()\n"
   ]
  },
  {
   "cell_type": "code",
   "execution_count": 43,
   "id": "cd205a37-c1d9-427a-9853-b2b57aef633f",
   "metadata": {
    "tags": []
   },
   "outputs": [],
   "source": [
    "path_dict = {\n",
    "    'WORKSPACE_FOLDER': f'\"{project_folder}\"',\n",
    "    'SOURCE_FOLDER': f'\"{source_folder}\"',\n",
    "    'SECTIONARY_FOLDER': f'\"{sectionary_path}\"'\n",
    "    }\n"
   ]
  },
  {
   "cell_type": "code",
   "execution_count": 68,
   "id": "7669f89a-1d79-4295-bc2c-7a45cb4d04f2",
   "metadata": {
    "tags": []
   },
   "outputs": [
    {
     "data": {
      "text/plain": [
       "'C:/Users/smoke/.conda/envs/Todoist'"
      ]
     },
     "execution_count": 68,
     "metadata": {},
     "output_type": "execute_result"
    }
   ],
   "source": [
    "str(env_path).replace('\\\\', '/')\n"
   ]
  },
  {
   "cell_type": "code",
   "execution_count": 63,
   "id": "173142c0-b63d-47c9-8df5-13da33129af0",
   "metadata": {
    "tags": []
   },
   "outputs": [],
   "source": [
    "env_manage_base = Path(r\"D:\\OneDrive - Queen's University\\Python\\Python Learning\\Environment Management\")\n",
    "code_workspace_template = env_manage_base / 'vscode settings templates' / 'TEMPLATE.code-workspace'\n"
   ]
  },
  {
   "cell_type": "code",
   "execution_count": 69,
   "id": "139c005b-b9a2-47c1-9f23-e82b017000e7",
   "metadata": {
    "tags": []
   },
   "outputs": [],
   "source": [
    "template = code_workspace_template.read_text()\n"
   ]
  },
  {
   "cell_type": "code",
   "execution_count": 70,
   "id": "7fd15970-4f01-4dc9-ac63-a4dfe741726e",
   "metadata": {
    "tags": []
   },
   "outputs": [],
   "source": [
    "template = template.replace('%env_path%', str(env_path).replace('\\\\', '/'))\n"
   ]
  },
  {
   "cell_type": "code",
   "execution_count": null,
   "id": "77004bda-4a17-4c94-bc08-8d3c4556f3d6",
   "metadata": {},
   "outputs": [],
   "source": []
  },
  {
   "cell_type": "raw",
   "id": "61b38ab3-26c5-4164-bc0d-1aa1ab92c7b6",
   "metadata": {},
   "source": [
    "        \"python.analysis.extraPaths\": [\n",
    "            \"${workspaceFolder}/src\",\n",
    "            \"${workspaceFolder}\",\n",
    "            \"../../sectionary package/src\"\n",
    "        ],\n",
    "        \"python.autoComplete.extraPaths\": [\n",
    "            \"${workspaceFolder}/src\",\n",
    "            \"${workspaceFolder}\",\n",
    "            \"../../sectionary package/src\"\n",
    "        ],\n"
   ]
  },
  {
   "cell_type": "code",
   "execution_count": 35,
   "id": "0ff20ccc-c66f-438e-bcdc-f7ec7941ad47",
   "metadata": {
    "tags": []
   },
   "outputs": [],
   "source": [
    "project_folder = Path(r\"D:\\OneDrive - Queen's University\\Python\\Projects\\ToDoIst Projects\\Turkey\")\n",
    "\n",
    "env_folder = add_folder(project_folder, 'environment')\n",
    "source_folder = add_folder(project_folder, 'src')\n",
    "\n",
    "project_drive = project_folder.drive\n"
   ]
  },
  {
   "cell_type": "code",
   "execution_count": 43,
   "id": "0a1fe6de-5d9a-4ff2-8055-c34ce3359daa",
   "metadata": {
    "tags": []
   },
   "outputs": [],
   "source": [
    "sectionary_path = project_folder / '..' / '..' / 'sectionary package' / 'src'\n",
    "sectionary_path = sectionary_path.resolve()\n"
   ]
  },
  {
   "cell_type": "code",
   "execution_count": 43,
   "id": "9fda7e4d-de0a-4541-a73c-104c18a2e8fd",
   "metadata": {
    "tags": []
   },
   "outputs": [],
   "source": [
    "path_dict = {\n",
    "    'WORKSPACE_FOLDER': f'\"{project_folder}\"',\n",
    "    'SOURCE_FOLDER': f'\"{source_folder}\"',\n",
    "    'SECTIONARY_FOLDER': f'\"{sectionary_path}\"'\n",
    "    }\n"
   ]
  },
  {
   "cell_type": "raw",
   "id": "e7ce5bb2-6350-402c-90dc-52bf8109a9c5",
   "metadata": {},
   "source": [
    "        \"python.analysis.extraPaths\": \"%analysis.extraPaths%\",\n",
    "        \"python.autoComplete.extraPaths\": \"%autoComplete.extraPaths%\",\n"
   ]
  },
  {
   "cell_type": "code",
   "execution_count": null,
   "id": "6be6595c-ec29-4a80-9d08-cc81dc6f1519",
   "metadata": {},
   "outputs": [],
   "source": [
    "template.replace('%analysis.extraPaths%', str(text))\n"
   ]
  },
  {
   "cell_type": "code",
   "execution_count": null,
   "id": "40a34ac3-dca1-4b50-ab03-9db5256964e4",
   "metadata": {},
   "outputs": [],
   "source": [
    "template.replace('%autoComplete.extraPaths%', str(text))\n"
   ]
  },
  {
   "cell_type": "raw",
   "id": "d6b907b8-f0dc-42ad-940e-f52bdb686e76",
   "metadata": {},
   "source": [
    "              \"env\": {\"PYTHONPATH\": \"${fileDirname};${workspaceFolder};${workspaceFolder}\\\\..\\\\..\\\\sectionary package\\\\src;${env:PYTHONPATH}\"\n"
   ]
  },
  {
   "cell_type": "raw",
   "id": "46fac944-b6b6-444f-a30a-b6ef7832a199",
   "metadata": {},
   "source": [
    "              \"env\": {\"PYTHONPATH\": \"%PYTHONPATH%\"}\n"
   ]
  },
  {
   "cell_type": "raw",
   "id": "ebdb2c27-3f88-4157-a249-cd5d53d00626",
   "metadata": {},
   "source": [
    "            \"PYTHONPATH\": \"${fileDirname};${workspaceFolder};${workspaceFolder}/../../sectionary package/src;${env:PYTHONPATH}\"\n"
   ]
  },
  {
   "cell_type": "raw",
   "id": "8e530ddf-fb18-474a-8cdc-b3cb7a98d7e1",
   "metadata": {},
   "source": [
    "            \"PYTHONPATH\": \"%PYTHONPATH%\"\n"
   ]
  },
  {
   "cell_type": "raw",
   "id": "b506b6ca-b780-45f7-b350-651755d80eb1",
   "metadata": {},
   "source": [
    "\"PYTHONPATH\": \"${fileDirname};${workspaceFolder};${workspaceFolder}/../../sectionary package/src;${env:PYTHONPATH}\",\n",
    "\"env\": {\"PYTHONPATH\": \"${fileDirname};${workspaceFolder};${workspaceFolder}\\\\..\\\\..\\\\sectionary package\\\\src;${env:PYTHONPATH}\"\n"
   ]
  },
  {
   "cell_type": "raw",
   "id": "82395918-00d9-462d-89ca-eb73596cc6e4",
   "metadata": {},
   "source": [
    "            \"PythonShell\": {\n",
    "                \"path\": \"C:/ProgramData/Anaconda3/envs/plan_check_tools/python.exe\",\n"
   ]
  },
  {
   "cell_type": "markdown",
   "id": "e8d170ec-5fc4-4093-92bf-e1daab0843f7",
   "metadata": {
    "tags": []
   },
   "source": [
    "# Misc Reference"
   ]
  },
  {
   "cell_type": "raw",
   "id": "58e40b21-e28c-4f64-b2f3-ea4a3b80b5f1",
   "metadata": {},
   "source": [
    "########## Spyder Launch ############\n",
    "C:\\ProgramData\\Anaconda3\\pythonw.exe C:\\ProgramData\\Anaconda3\\cwp.py C:\\ProgramData\\Anaconda3\\envs\\Standard C:\\ProgramData\\Anaconda3\\envs\\Standard\\pythonw.exe C:\\ProgramData\\Anaconda3\\envs\\Standard\\Scripts\\spyder-script.py\n",
    "\n",
    "########## Jupyter Lab Launch ############\n",
    "C:\\ProgramData\\Anaconda3\\python.exe C:\\ProgramData\\Anaconda3\\cwp.py C:\\ProgramData\\Anaconda3\\envs\\Standard C:\\ProgramData\\Anaconda3\\envs\\Standard\\pythonw.exe C:\\ProgramData\\Anaconda3\\envs\\\\Standard\\Scripts\\jupyter-lab-script.py \"D:\\OneDrive - Queen's University\\Python\\Projects\"\n",
    "\n",
    "\"D:\\OneDrive - Queen's University\\Python\\Projects\"\n",
    "%ALLUSERSPROFILE%\\Anaconda3\\Menu\\jupyter.ico\n",
    "%ALLUSERSPROFILE%\\Anaconda3\\envs\\Standard\\Scripts\\spyder.ico\n"
   ]
  }
 ],
 "metadata": {
  "kernelspec": {
   "display_name": "Python 3 (ipykernel)",
   "language": "python",
   "name": "python3"
  },
  "language_info": {
   "codemirror_mode": {
    "name": "ipython",
    "version": 3
   },
   "file_extension": ".py",
   "mimetype": "text/x-python",
   "name": "python",
   "nbconvert_exporter": "python",
   "pygments_lexer": "ipython3",
   "version": "3.8.10"
  },
  "toc-autonumbering": false,
  "toc-showcode": false,
  "toc-showmarkdowntxt": false
 },
 "nbformat": 4,
 "nbformat_minor": 5
}
