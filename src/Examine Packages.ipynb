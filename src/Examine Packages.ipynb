{
 "cells": [
  {
   "cell_type": "code",
   "execution_count": null,
   "metadata": {},
   "outputs": [],
   "source": [
    "env_storage_path = Path(r'C:\\temp\\envs')\n"
   ]
  },
  {
   "cell_type": "code",
   "execution_count": null,
   "metadata": {},
   "outputs": [],
   "source": [
    "all_pkgs = []\n",
    "for json_file in env_storage_path.glob('*.json'):\n",
    "    json_txt = json_file.read_text()\n",
    "    env_info = json.loads(json_txt)\n",
    "    pkgs = env_info.get('dependencies')\n",
    "    if pkgs:\n",
    "        clean_pkgs = [pkg.split('=',1)[0] for pkg in pkgs]\n",
    "        all_pkgs.extend(clean_pkgs)\n",
    "\n",
    "all_pkgs_list = '\\n'.join(set(all_pkgs))\n",
    "a = env_storage_path / 'All_Packages.txt'\n",
    "a.write_text(all_pkgs_list)\n"
   ]
  }
 ],
 "metadata": {
  "language_info": {
   "name": "python"
  }
 },
 "nbformat": 4,
 "nbformat_minor": 2
}
